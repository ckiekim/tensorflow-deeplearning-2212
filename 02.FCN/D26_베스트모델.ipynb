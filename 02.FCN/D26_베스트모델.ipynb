{
  "nbformat": 4,
  "nbformat_minor": 0,
  "metadata": {
    "colab": {
      "provenance": []
    },
    "kernelspec": {
      "name": "python3",
      "display_name": "Python 3"
    },
    "language_info": {
      "name": "python"
    }
  },
  "cells": [
    {
      "cell_type": "markdown",
      "source": [
        "# 베스트 모델\n",
        "### - 이진 분류: 유방암 예측 사례"
      ],
      "metadata": {
        "id": "GuNkwiGsBqxt"
      }
    },
    {
      "cell_type": "code",
      "execution_count": 1,
      "metadata": {
        "id": "QjXKSwppBjo0"
      },
      "outputs": [],
      "source": [
        "import numpy as np\n",
        "import matplotlib as plt"
      ]
    },
    {
      "cell_type": "markdown",
      "source": [
        "- 데이터 준비"
      ],
      "metadata": {
        "id": "_PrCdNqnB4Jk"
      }
    },
    {
      "cell_type": "code",
      "source": [
        "from sklearn.datasets import load_breast_cancer\n",
        "cancer = load_breast_cancer()"
      ],
      "metadata": {
        "id": "3DwTzXY0B248"
      },
      "execution_count": 2,
      "outputs": []
    },
    {
      "cell_type": "code",
      "source": [
        "from sklearn.preprocessing import StandardScaler\n",
        "scaler = StandardScaler()\n",
        "cancer_std = scaler.fit_transform(cancer.data)"
      ],
      "metadata": {
        "id": "gXdj9xs4CIH8"
      },
      "execution_count": 3,
      "outputs": []
    },
    {
      "cell_type": "code",
      "source": [
        "from sklearn.model_selection import train_test_split\n",
        "X_train, X_test, y_train, y_test = train_test_split(\n",
        "    cancer_std, cancer.target, stratify=cancer.target, test_size=0.2, random_state=2022\n",
        ")"
      ],
      "metadata": {
        "id": "5H4Dsl3eCLZ7"
      },
      "execution_count": 4,
      "outputs": []
    },
    {
      "cell_type": "markdown",
      "source": [
        "### 1. 베스트 모델 저장하고 불러오기"
      ],
      "metadata": {
        "id": "TMnWN9L4CWp7"
      }
    },
    {
      "cell_type": "markdown",
      "source": [
        "- 모델 정의"
      ],
      "metadata": {
        "id": "YbmLS686FDfi"
      }
    },
    {
      "cell_type": "code",
      "source": [
        "from tensorflow.keras.models import Sequential\n",
        "from tensorflow.keras.layers import Dense"
      ],
      "metadata": {
        "id": "aiGCKjnNFCoN"
      },
      "execution_count": 5,
      "outputs": []
    },
    {
      "cell_type": "code",
      "source": [
        "model = Sequential([\n",
        "    Dense(100, input_dim=30, activation='relu'),\n",
        "    Dense(24, activation='relu'),\n",
        "    Dense(1, activation='sigmoid')\n",
        "])\n",
        "model.summary()"
      ],
      "metadata": {
        "colab": {
          "base_uri": "https://localhost:8080/"
        },
        "id": "sopehhZSCPLD",
        "outputId": "6e8462b8-08f0-4b76-8e27-6144b924f319"
      },
      "execution_count": 6,
      "outputs": [
        {
          "output_type": "stream",
          "name": "stdout",
          "text": [
            "Model: \"sequential\"\n",
            "_________________________________________________________________\n",
            " Layer (type)                Output Shape              Param #   \n",
            "=================================================================\n",
            " dense (Dense)               (None, 100)               3100      \n",
            "                                                                 \n",
            " dense_1 (Dense)             (None, 24)                2424      \n",
            "                                                                 \n",
            " dense_2 (Dense)             (None, 1)                 25        \n",
            "                                                                 \n",
            "=================================================================\n",
            "Total params: 5,549\n",
            "Trainable params: 5,549\n",
            "Non-trainable params: 0\n",
            "_________________________________________________________________\n"
          ]
        }
      ]
    },
    {
      "cell_type": "code",
      "source": [
        "# model compile\n",
        "model.compile('adam', 'binary_crossentropy', ['accuracy'])"
      ],
      "metadata": {
        "id": "fSczNmGeFLRL"
      },
      "execution_count": 7,
      "outputs": []
    },
    {
      "cell_type": "markdown",
      "source": [
        "- Callback 설정 - 베스트 모델 저장"
      ],
      "metadata": {
        "id": "hWqjZLidFPqj"
      }
    },
    {
      "cell_type": "code",
      "source": [
        "from tensorflow.keras.callbacks import ModelCheckpoint\n",
        "\n",
        "model_path = 'best_model.h5'\n",
        "mc = ModelCheckpoint(\n",
        "    filepath=model_path,                # 저장할 파일 이름\n",
        "    monitor='val_loss',                 # validation dataset의 loss값 기준\n",
        "    verbose=1,                          # 화면에 잔뜩 표시\n",
        "    save_best_only=True                 # best model만 저장\n",
        ")"
      ],
      "metadata": {
        "id": "qgM6vp1gFgbl"
      },
      "execution_count": 8,
      "outputs": []
    },
    {
      "cell_type": "markdown",
      "source": [
        "- 모델 학습"
      ],
      "metadata": {
        "id": "KGFRGBPIGZ0e"
      }
    },
    {
      "cell_type": "code",
      "source": [
        "hist = model.fit(X_train, y_train, validation_split=0.2, verbose=1,\n",
        "                 epochs=100, batch_size=50,\n",
        "                 callbacks=[mc])"
      ],
      "metadata": {
        "colab": {
          "base_uri": "https://localhost:8080/"
        },
        "id": "7UFS0_MJGWzD",
        "outputId": "052ed7b4-dc63-4657-9813-8098dda19a86"
      },
      "execution_count": 9,
      "outputs": [
        {
          "output_type": "stream",
          "name": "stdout",
          "text": [
            "Epoch 1/100\n",
            "1/8 [==>...........................] - ETA: 8s - loss: 0.6184 - accuracy: 0.7400\n",
            "Epoch 1: val_loss improved from inf to 0.40904, saving model to best_model.h5\n",
            "8/8 [==============================] - 2s 78ms/step - loss: 0.5098 - accuracy: 0.8379 - val_loss: 0.4090 - val_accuracy: 0.8791\n",
            "Epoch 2/100\n",
            "1/8 [==>...........................] - ETA: 0s - loss: 0.3775 - accuracy: 0.9400\n",
            "Epoch 2: val_loss improved from 0.40904 to 0.30125, saving model to best_model.h5\n",
            "8/8 [==============================] - 0s 31ms/step - loss: 0.3335 - accuracy: 0.9148 - val_loss: 0.3013 - val_accuracy: 0.8901\n",
            "Epoch 3/100\n",
            "1/8 [==>...........................] - ETA: 0s - loss: 0.2911 - accuracy: 0.9400\n",
            "Epoch 3: val_loss improved from 0.30125 to 0.24189, saving model to best_model.h5\n",
            "8/8 [==============================] - 0s 15ms/step - loss: 0.2409 - accuracy: 0.9258 - val_loss: 0.2419 - val_accuracy: 0.9011\n",
            "Epoch 4/100\n",
            "1/8 [==>...........................] - ETA: 0s - loss: 0.2555 - accuracy: 0.8800\n",
            "Epoch 4: val_loss improved from 0.24189 to 0.20691, saving model to best_model.h5\n",
            "8/8 [==============================] - 0s 18ms/step - loss: 0.1847 - accuracy: 0.9368 - val_loss: 0.2069 - val_accuracy: 0.9121\n",
            "Epoch 5/100\n",
            "7/8 [=========================>....] - ETA: 0s - loss: 0.1493 - accuracy: 0.9457\n",
            "Epoch 5: val_loss improved from 0.20691 to 0.18274, saving model to best_model.h5\n",
            "8/8 [==============================] - 0s 27ms/step - loss: 0.1491 - accuracy: 0.9451 - val_loss: 0.1827 - val_accuracy: 0.9341\n",
            "Epoch 6/100\n",
            "1/8 [==>...........................] - ETA: 0s - loss: 0.0954 - accuracy: 0.9600\n",
            "Epoch 6: val_loss improved from 0.18274 to 0.16599, saving model to best_model.h5\n",
            "8/8 [==============================] - 0s 33ms/step - loss: 0.1245 - accuracy: 0.9643 - val_loss: 0.1660 - val_accuracy: 0.9451\n",
            "Epoch 7/100\n",
            "7/8 [=========================>....] - ETA: 0s - loss: 0.1085 - accuracy: 0.9714\n",
            "Epoch 7: val_loss improved from 0.16599 to 0.15620, saving model to best_model.h5\n",
            "8/8 [==============================] - 0s 17ms/step - loss: 0.1070 - accuracy: 0.9725 - val_loss: 0.1562 - val_accuracy: 0.9341\n",
            "Epoch 8/100\n",
            "6/8 [=====================>........] - ETA: 0s - loss: 0.0878 - accuracy: 0.9800\n",
            "Epoch 8: val_loss improved from 0.15620 to 0.15040, saving model to best_model.h5\n",
            "8/8 [==============================] - 0s 29ms/step - loss: 0.0940 - accuracy: 0.9780 - val_loss: 0.1504 - val_accuracy: 0.9341\n",
            "Epoch 9/100\n",
            "1/8 [==>...........................] - ETA: 0s - loss: 0.1867 - accuracy: 0.9000\n",
            "Epoch 9: val_loss improved from 0.15040 to 0.14808, saving model to best_model.h5\n",
            "8/8 [==============================] - 0s 20ms/step - loss: 0.0849 - accuracy: 0.9780 - val_loss: 0.1481 - val_accuracy: 0.9451\n",
            "Epoch 10/100\n",
            "1/8 [==>...........................] - ETA: 0s - loss: 0.0715 - accuracy: 0.9800\n",
            "Epoch 10: val_loss improved from 0.14808 to 0.14640, saving model to best_model.h5\n",
            "8/8 [==============================] - 0s 15ms/step - loss: 0.0768 - accuracy: 0.9780 - val_loss: 0.1464 - val_accuracy: 0.9560\n",
            "Epoch 11/100\n",
            "1/8 [==>...........................] - ETA: 0s - loss: 0.0799 - accuracy: 0.9400\n",
            "Epoch 11: val_loss improved from 0.14640 to 0.14483, saving model to best_model.h5\n",
            "8/8 [==============================] - 0s 17ms/step - loss: 0.0707 - accuracy: 0.9780 - val_loss: 0.1448 - val_accuracy: 0.9560\n",
            "Epoch 12/100\n",
            "1/8 [==>...........................] - ETA: 0s - loss: 0.0867 - accuracy: 0.9600\n",
            "Epoch 12: val_loss improved from 0.14483 to 0.14345, saving model to best_model.h5\n",
            "8/8 [==============================] - 0s 17ms/step - loss: 0.0657 - accuracy: 0.9808 - val_loss: 0.1435 - val_accuracy: 0.9560\n",
            "Epoch 13/100\n",
            "7/8 [=========================>....] - ETA: 0s - loss: 0.0631 - accuracy: 0.9800\n",
            "Epoch 13: val_loss did not improve from 0.14345\n",
            "8/8 [==============================] - 0s 15ms/step - loss: 0.0613 - accuracy: 0.9808 - val_loss: 0.1441 - val_accuracy: 0.9560\n",
            "Epoch 14/100\n",
            "8/8 [==============================] - ETA: 0s - loss: 0.0574 - accuracy: 0.9808\n",
            "Epoch 14: val_loss did not improve from 0.14345\n",
            "8/8 [==============================] - 0s 19ms/step - loss: 0.0574 - accuracy: 0.9808 - val_loss: 0.1456 - val_accuracy: 0.9560\n",
            "Epoch 15/100\n",
            "6/8 [=====================>........] - ETA: 0s - loss: 0.0560 - accuracy: 0.9800\n",
            "Epoch 15: val_loss did not improve from 0.14345\n",
            "8/8 [==============================] - 0s 16ms/step - loss: 0.0540 - accuracy: 0.9808 - val_loss: 0.1466 - val_accuracy: 0.9560\n",
            "Epoch 16/100\n",
            "1/8 [==>...........................] - ETA: 0s - loss: 0.0340 - accuracy: 0.9800\n",
            "Epoch 16: val_loss did not improve from 0.14345\n",
            "8/8 [==============================] - 0s 14ms/step - loss: 0.0509 - accuracy: 0.9808 - val_loss: 0.1471 - val_accuracy: 0.9560\n",
            "Epoch 17/100\n",
            "1/8 [==>...........................] - ETA: 0s - loss: 0.0540 - accuracy: 0.9600\n",
            "Epoch 17: val_loss did not improve from 0.14345\n",
            "8/8 [==============================] - 0s 13ms/step - loss: 0.0476 - accuracy: 0.9835 - val_loss: 0.1479 - val_accuracy: 0.9560\n",
            "Epoch 18/100\n",
            "1/8 [==>...........................] - ETA: 0s - loss: 0.0389 - accuracy: 0.9800\n",
            "Epoch 18: val_loss did not improve from 0.14345\n",
            "8/8 [==============================] - 0s 15ms/step - loss: 0.0454 - accuracy: 0.9835 - val_loss: 0.1502 - val_accuracy: 0.9451\n",
            "Epoch 19/100\n",
            "1/8 [==>...........................] - ETA: 0s - loss: 0.0666 - accuracy: 0.9600\n",
            "Epoch 19: val_loss did not improve from 0.14345\n",
            "8/8 [==============================] - 0s 11ms/step - loss: 0.0431 - accuracy: 0.9835 - val_loss: 0.1530 - val_accuracy: 0.9451\n",
            "Epoch 20/100\n",
            "1/8 [==>...........................] - ETA: 0s - loss: 0.0130 - accuracy: 1.0000\n",
            "Epoch 20: val_loss did not improve from 0.14345\n",
            "8/8 [==============================] - 0s 19ms/step - loss: 0.0409 - accuracy: 0.9835 - val_loss: 0.1545 - val_accuracy: 0.9451\n",
            "Epoch 21/100\n",
            "8/8 [==============================] - ETA: 0s - loss: 0.0401 - accuracy: 0.9835\n",
            "Epoch 21: val_loss did not improve from 0.14345\n",
            "8/8 [==============================] - 0s 13ms/step - loss: 0.0401 - accuracy: 0.9835 - val_loss: 0.1552 - val_accuracy: 0.9560\n",
            "Epoch 22/100\n",
            "1/8 [==>...........................] - ETA: 0s - loss: 0.0284 - accuracy: 1.0000\n",
            "Epoch 22: val_loss did not improve from 0.14345\n",
            "8/8 [==============================] - 0s 15ms/step - loss: 0.0370 - accuracy: 0.9863 - val_loss: 0.1588 - val_accuracy: 0.9451\n",
            "Epoch 23/100\n",
            "1/8 [==>...........................] - ETA: 0s - loss: 0.0485 - accuracy: 0.9800\n",
            "Epoch 23: val_loss did not improve from 0.14345\n",
            "8/8 [==============================] - 0s 15ms/step - loss: 0.0345 - accuracy: 0.9863 - val_loss: 0.1619 - val_accuracy: 0.9451\n",
            "Epoch 24/100\n",
            "1/8 [==>...........................] - ETA: 0s - loss: 0.0289 - accuracy: 1.0000\n",
            "Epoch 24: val_loss did not improve from 0.14345\n",
            "8/8 [==============================] - 0s 11ms/step - loss: 0.0332 - accuracy: 0.9863 - val_loss: 0.1641 - val_accuracy: 0.9451\n",
            "Epoch 25/100\n",
            "1/8 [==>...........................] - ETA: 0s - loss: 0.0644 - accuracy: 0.9600\n",
            "Epoch 25: val_loss did not improve from 0.14345\n",
            "8/8 [==============================] - 0s 12ms/step - loss: 0.0313 - accuracy: 0.9863 - val_loss: 0.1665 - val_accuracy: 0.9451\n",
            "Epoch 26/100\n",
            "1/8 [==>...........................] - ETA: 0s - loss: 0.0138 - accuracy: 1.0000\n",
            "Epoch 26: val_loss did not improve from 0.14345\n",
            "8/8 [==============================] - 0s 13ms/step - loss: 0.0297 - accuracy: 0.9863 - val_loss: 0.1751 - val_accuracy: 0.9451\n",
            "Epoch 27/100\n",
            "8/8 [==============================] - ETA: 0s - loss: 0.0284 - accuracy: 0.9890\n",
            "Epoch 27: val_loss did not improve from 0.14345\n",
            "8/8 [==============================] - 0s 19ms/step - loss: 0.0284 - accuracy: 0.9890 - val_loss: 0.1766 - val_accuracy: 0.9451\n",
            "Epoch 28/100\n",
            "1/8 [==>...........................] - ETA: 0s - loss: 0.0113 - accuracy: 1.0000\n",
            "Epoch 28: val_loss did not improve from 0.14345\n",
            "8/8 [==============================] - 0s 13ms/step - loss: 0.0269 - accuracy: 0.9890 - val_loss: 0.1762 - val_accuracy: 0.9451\n",
            "Epoch 29/100\n",
            "1/8 [==>...........................] - ETA: 0s - loss: 0.0328 - accuracy: 1.0000\n",
            "Epoch 29: val_loss did not improve from 0.14345\n",
            "8/8 [==============================] - 0s 13ms/step - loss: 0.0251 - accuracy: 0.9945 - val_loss: 0.1755 - val_accuracy: 0.9451\n",
            "Epoch 30/100\n",
            "1/8 [==>...........................] - ETA: 0s - loss: 0.0343 - accuracy: 1.0000\n",
            "Epoch 30: val_loss did not improve from 0.14345\n",
            "8/8 [==============================] - 0s 12ms/step - loss: 0.0238 - accuracy: 0.9945 - val_loss: 0.1778 - val_accuracy: 0.9451\n",
            "Epoch 31/100\n",
            "1/8 [==>...........................] - ETA: 0s - loss: 0.0348 - accuracy: 0.9800\n",
            "Epoch 31: val_loss did not improve from 0.14345\n",
            "8/8 [==============================] - 0s 13ms/step - loss: 0.0224 - accuracy: 0.9945 - val_loss: 0.1805 - val_accuracy: 0.9451\n",
            "Epoch 32/100\n",
            "1/8 [==>...........................] - ETA: 0s - loss: 0.0127 - accuracy: 1.0000\n",
            "Epoch 32: val_loss did not improve from 0.14345\n",
            "8/8 [==============================] - 0s 14ms/step - loss: 0.0212 - accuracy: 0.9945 - val_loss: 0.1817 - val_accuracy: 0.9451\n",
            "Epoch 33/100\n",
            "8/8 [==============================] - ETA: 0s - loss: 0.0203 - accuracy: 0.9945\n",
            "Epoch 33: val_loss did not improve from 0.14345\n",
            "8/8 [==============================] - 0s 19ms/step - loss: 0.0203 - accuracy: 0.9945 - val_loss: 0.1838 - val_accuracy: 0.9451\n",
            "Epoch 34/100\n",
            "1/8 [==>...........................] - ETA: 0s - loss: 0.0086 - accuracy: 1.0000\n",
            "Epoch 34: val_loss did not improve from 0.14345\n",
            "8/8 [==============================] - 0s 14ms/step - loss: 0.0195 - accuracy: 0.9945 - val_loss: 0.1881 - val_accuracy: 0.9451\n",
            "Epoch 35/100\n",
            "7/8 [=========================>....] - ETA: 0s - loss: 0.0187 - accuracy: 0.9971\n",
            "Epoch 35: val_loss did not improve from 0.14345\n",
            "8/8 [==============================] - 0s 19ms/step - loss: 0.0183 - accuracy: 0.9973 - val_loss: 0.1924 - val_accuracy: 0.9451\n",
            "Epoch 36/100\n",
            "6/8 [=====================>........] - ETA: 0s - loss: 0.0159 - accuracy: 0.9967\n",
            "Epoch 36: val_loss did not improve from 0.14345\n",
            "8/8 [==============================] - 0s 32ms/step - loss: 0.0173 - accuracy: 0.9973 - val_loss: 0.1952 - val_accuracy: 0.9451\n",
            "Epoch 37/100\n",
            "1/8 [==>...........................] - ETA: 0s - loss: 0.0266 - accuracy: 1.0000\n",
            "Epoch 37: val_loss did not improve from 0.14345\n",
            "8/8 [==============================] - 0s 17ms/step - loss: 0.0166 - accuracy: 1.0000 - val_loss: 0.1975 - val_accuracy: 0.9451\n",
            "Epoch 38/100\n",
            "8/8 [==============================] - ETA: 0s - loss: 0.0157 - accuracy: 1.0000\n",
            "Epoch 38: val_loss did not improve from 0.14345\n",
            "8/8 [==============================] - 0s 17ms/step - loss: 0.0157 - accuracy: 1.0000 - val_loss: 0.2015 - val_accuracy: 0.9451\n",
            "Epoch 39/100\n",
            "7/8 [=========================>....] - ETA: 0s - loss: 0.0157 - accuracy: 1.0000\n",
            "Epoch 39: val_loss did not improve from 0.14345\n",
            "8/8 [==============================] - 0s 15ms/step - loss: 0.0153 - accuracy: 1.0000 - val_loss: 0.2015 - val_accuracy: 0.9451\n",
            "Epoch 40/100\n",
            "1/8 [==>...........................] - ETA: 0s - loss: 0.0102 - accuracy: 1.0000\n",
            "Epoch 40: val_loss did not improve from 0.14345\n",
            "8/8 [==============================] - 0s 14ms/step - loss: 0.0141 - accuracy: 1.0000 - val_loss: 0.2014 - val_accuracy: 0.9451\n",
            "Epoch 41/100\n",
            "1/8 [==>...........................] - ETA: 0s - loss: 0.0296 - accuracy: 1.0000\n",
            "Epoch 41: val_loss did not improve from 0.14345\n",
            "8/8 [==============================] - 0s 13ms/step - loss: 0.0131 - accuracy: 1.0000 - val_loss: 0.2055 - val_accuracy: 0.9451\n",
            "Epoch 42/100\n",
            "1/8 [==>...........................] - ETA: 0s - loss: 0.0101 - accuracy: 1.0000\n",
            "Epoch 42: val_loss did not improve from 0.14345\n",
            "8/8 [==============================] - 0s 15ms/step - loss: 0.0127 - accuracy: 1.0000 - val_loss: 0.2089 - val_accuracy: 0.9451\n",
            "Epoch 43/100\n",
            "1/8 [==>...........................] - ETA: 0s - loss: 0.0131 - accuracy: 1.0000\n",
            "Epoch 43: val_loss did not improve from 0.14345\n",
            "8/8 [==============================] - 0s 17ms/step - loss: 0.0116 - accuracy: 1.0000 - val_loss: 0.2193 - val_accuracy: 0.9451\n",
            "Epoch 44/100\n",
            "1/8 [==>...........................] - ETA: 0s - loss: 0.0057 - accuracy: 1.0000\n",
            "Epoch 44: val_loss did not improve from 0.14345\n",
            "8/8 [==============================] - 0s 11ms/step - loss: 0.0117 - accuracy: 1.0000 - val_loss: 0.2204 - val_accuracy: 0.9451\n",
            "Epoch 45/100\n",
            "7/8 [=========================>....] - ETA: 0s - loss: 0.0110 - accuracy: 1.0000\n",
            "Epoch 45: val_loss did not improve from 0.14345\n",
            "8/8 [==============================] - 0s 14ms/step - loss: 0.0107 - accuracy: 1.0000 - val_loss: 0.2166 - val_accuracy: 0.9451\n",
            "Epoch 46/100\n",
            "6/8 [=====================>........] - ETA: 0s - loss: 0.0112 - accuracy: 1.0000\n",
            "Epoch 46: val_loss did not improve from 0.14345\n",
            "8/8 [==============================] - 0s 22ms/step - loss: 0.0099 - accuracy: 1.0000 - val_loss: 0.2150 - val_accuracy: 0.9451\n",
            "Epoch 47/100\n",
            "1/8 [==>...........................] - ETA: 0s - loss: 0.0022 - accuracy: 1.0000\n",
            "Epoch 47: val_loss did not improve from 0.14345\n",
            "8/8 [==============================] - 0s 20ms/step - loss: 0.0094 - accuracy: 1.0000 - val_loss: 0.2156 - val_accuracy: 0.9451\n",
            "Epoch 48/100\n",
            "6/8 [=====================>........] - ETA: 0s - loss: 0.0101 - accuracy: 1.0000\n",
            "Epoch 48: val_loss did not improve from 0.14345\n",
            "8/8 [==============================] - 0s 22ms/step - loss: 0.0090 - accuracy: 1.0000 - val_loss: 0.2163 - val_accuracy: 0.9451\n",
            "Epoch 49/100\n",
            "1/8 [==>...........................] - ETA: 0s - loss: 0.0079 - accuracy: 1.0000\n",
            "Epoch 49: val_loss did not improve from 0.14345\n",
            "8/8 [==============================] - 0s 11ms/step - loss: 0.0087 - accuracy: 1.0000 - val_loss: 0.2186 - val_accuracy: 0.9451\n",
            "Epoch 50/100\n",
            "1/8 [==>...........................] - ETA: 0s - loss: 0.0096 - accuracy: 1.0000\n",
            "Epoch 50: val_loss did not improve from 0.14345\n",
            "8/8 [==============================] - 0s 11ms/step - loss: 0.0084 - accuracy: 1.0000 - val_loss: 0.2251 - val_accuracy: 0.9451\n",
            "Epoch 51/100\n",
            "1/8 [==>...........................] - ETA: 0s - loss: 0.0158 - accuracy: 1.0000\n",
            "Epoch 51: val_loss did not improve from 0.14345\n",
            "8/8 [==============================] - 0s 10ms/step - loss: 0.0078 - accuracy: 1.0000 - val_loss: 0.2261 - val_accuracy: 0.9451\n",
            "Epoch 52/100\n",
            "1/8 [==>...........................] - ETA: 0s - loss: 0.0075 - accuracy: 1.0000\n",
            "Epoch 52: val_loss did not improve from 0.14345\n",
            "8/8 [==============================] - 0s 15ms/step - loss: 0.0072 - accuracy: 1.0000 - val_loss: 0.2256 - val_accuracy: 0.9451\n",
            "Epoch 53/100\n",
            "1/8 [==>...........................] - ETA: 0s - loss: 0.0047 - accuracy: 1.0000\n",
            "Epoch 53: val_loss did not improve from 0.14345\n",
            "8/8 [==============================] - 0s 9ms/step - loss: 0.0070 - accuracy: 1.0000 - val_loss: 0.2276 - val_accuracy: 0.9451\n",
            "Epoch 54/100\n",
            "1/8 [==>...........................] - ETA: 0s - loss: 0.0127 - accuracy: 1.0000\n",
            "Epoch 54: val_loss did not improve from 0.14345\n",
            "8/8 [==============================] - 0s 19ms/step - loss: 0.0068 - accuracy: 1.0000 - val_loss: 0.2288 - val_accuracy: 0.9451\n",
            "Epoch 55/100\n",
            "1/8 [==>...........................] - ETA: 0s - loss: 0.0125 - accuracy: 1.0000\n",
            "Epoch 55: val_loss did not improve from 0.14345\n",
            "8/8 [==============================] - 0s 14ms/step - loss: 0.0065 - accuracy: 1.0000 - val_loss: 0.2351 - val_accuracy: 0.9451\n",
            "Epoch 56/100\n",
            "1/8 [==>...........................] - ETA: 0s - loss: 0.0041 - accuracy: 1.0000\n",
            "Epoch 56: val_loss did not improve from 0.14345\n",
            "8/8 [==============================] - 0s 23ms/step - loss: 0.0061 - accuracy: 1.0000 - val_loss: 0.2365 - val_accuracy: 0.9451\n",
            "Epoch 57/100\n",
            "7/8 [=========================>....] - ETA: 0s - loss: 0.0058 - accuracy: 1.0000\n",
            "Epoch 57: val_loss did not improve from 0.14345\n",
            "8/8 [==============================] - 0s 20ms/step - loss: 0.0058 - accuracy: 1.0000 - val_loss: 0.2361 - val_accuracy: 0.9451\n",
            "Epoch 58/100\n",
            "1/8 [==>...........................] - ETA: 0s - loss: 0.0080 - accuracy: 1.0000\n",
            "Epoch 58: val_loss did not improve from 0.14345\n",
            "8/8 [==============================] - 0s 16ms/step - loss: 0.0056 - accuracy: 1.0000 - val_loss: 0.2359 - val_accuracy: 0.9451\n",
            "Epoch 59/100\n",
            "1/8 [==>...........................] - ETA: 0s - loss: 0.0059 - accuracy: 1.0000\n",
            "Epoch 59: val_loss did not improve from 0.14345\n",
            "8/8 [==============================] - 0s 13ms/step - loss: 0.0052 - accuracy: 1.0000 - val_loss: 0.2361 - val_accuracy: 0.9451\n",
            "Epoch 60/100\n",
            "8/8 [==============================] - ETA: 0s - loss: 0.0049 - accuracy: 1.0000\n",
            "Epoch 60: val_loss did not improve from 0.14345\n",
            "8/8 [==============================] - 0s 17ms/step - loss: 0.0049 - accuracy: 1.0000 - val_loss: 0.2403 - val_accuracy: 0.9451\n",
            "Epoch 61/100\n",
            "1/8 [==>...........................] - ETA: 0s - loss: 0.0029 - accuracy: 1.0000\n",
            "Epoch 61: val_loss did not improve from 0.14345\n",
            "8/8 [==============================] - 0s 13ms/step - loss: 0.0048 - accuracy: 1.0000 - val_loss: 0.2420 - val_accuracy: 0.9451\n",
            "Epoch 62/100\n",
            "8/8 [==============================] - ETA: 0s - loss: 0.0046 - accuracy: 1.0000\n",
            "Epoch 62: val_loss did not improve from 0.14345\n",
            "8/8 [==============================] - 0s 20ms/step - loss: 0.0046 - accuracy: 1.0000 - val_loss: 0.2420 - val_accuracy: 0.9451\n",
            "Epoch 63/100\n",
            "1/8 [==>...........................] - ETA: 0s - loss: 0.0029 - accuracy: 1.0000\n",
            "Epoch 63: val_loss did not improve from 0.14345\n",
            "8/8 [==============================] - 0s 21ms/step - loss: 0.0044 - accuracy: 1.0000 - val_loss: 0.2429 - val_accuracy: 0.9451\n",
            "Epoch 64/100\n",
            "1/8 [==>...........................] - ETA: 0s - loss: 0.0041 - accuracy: 1.0000\n",
            "Epoch 64: val_loss did not improve from 0.14345\n",
            "8/8 [==============================] - 0s 11ms/step - loss: 0.0042 - accuracy: 1.0000 - val_loss: 0.2443 - val_accuracy: 0.9451\n",
            "Epoch 65/100\n",
            "8/8 [==============================] - ETA: 0s - loss: 0.0041 - accuracy: 1.0000\n",
            "Epoch 65: val_loss did not improve from 0.14345\n",
            "8/8 [==============================] - 0s 15ms/step - loss: 0.0041 - accuracy: 1.0000 - val_loss: 0.2481 - val_accuracy: 0.9451\n",
            "Epoch 66/100\n",
            "1/8 [==>...........................] - ETA: 0s - loss: 0.0052 - accuracy: 1.0000\n",
            "Epoch 66: val_loss did not improve from 0.14345\n",
            "8/8 [==============================] - 0s 11ms/step - loss: 0.0038 - accuracy: 1.0000 - val_loss: 0.2509 - val_accuracy: 0.9451\n",
            "Epoch 67/100\n",
            "1/8 [==>...........................] - ETA: 0s - loss: 0.0016 - accuracy: 1.0000\n",
            "Epoch 67: val_loss did not improve from 0.14345\n",
            "8/8 [==============================] - 0s 12ms/step - loss: 0.0036 - accuracy: 1.0000 - val_loss: 0.2479 - val_accuracy: 0.9451\n",
            "Epoch 68/100\n",
            "6/8 [=====================>........] - ETA: 0s - loss: 0.0036 - accuracy: 1.0000    \n",
            "Epoch 68: val_loss did not improve from 0.14345\n",
            "8/8 [==============================] - 0s 24ms/step - loss: 0.0035 - accuracy: 1.0000 - val_loss: 0.2482 - val_accuracy: 0.9451\n",
            "Epoch 69/100\n",
            "7/8 [=========================>....] - ETA: 0s - loss: 0.0035 - accuracy: 1.0000\n",
            "Epoch 69: val_loss did not improve from 0.14345\n",
            "8/8 [==============================] - 0s 19ms/step - loss: 0.0034 - accuracy: 1.0000 - val_loss: 0.2474 - val_accuracy: 0.9451\n",
            "Epoch 70/100\n",
            "1/8 [==>...........................] - ETA: 0s - loss: 0.0013 - accuracy: 1.0000\n",
            "Epoch 70: val_loss did not improve from 0.14345\n",
            "8/8 [==============================] - 0s 13ms/step - loss: 0.0032 - accuracy: 1.0000 - val_loss: 0.2467 - val_accuracy: 0.9451\n",
            "Epoch 71/100\n",
            "1/8 [==>...........................] - ETA: 0s - loss: 0.0022 - accuracy: 1.0000\n",
            "Epoch 71: val_loss did not improve from 0.14345\n",
            "8/8 [==============================] - 0s 13ms/step - loss: 0.0031 - accuracy: 1.0000 - val_loss: 0.2441 - val_accuracy: 0.9451\n",
            "Epoch 72/100\n",
            "1/8 [==>...........................] - ETA: 0s - loss: 0.0036 - accuracy: 1.0000\n",
            "Epoch 72: val_loss did not improve from 0.14345\n",
            "8/8 [==============================] - 0s 13ms/step - loss: 0.0030 - accuracy: 1.0000 - val_loss: 0.2451 - val_accuracy: 0.9451\n",
            "Epoch 73/100\n",
            "1/8 [==>...........................] - ETA: 0s - loss: 0.0028 - accuracy: 1.0000\n",
            "Epoch 73: val_loss did not improve from 0.14345\n",
            "8/8 [==============================] - 0s 16ms/step - loss: 0.0028 - accuracy: 1.0000 - val_loss: 0.2451 - val_accuracy: 0.9451\n",
            "Epoch 74/100\n",
            "1/8 [==>...........................] - ETA: 0s - loss: 0.0027 - accuracy: 1.0000\n",
            "Epoch 74: val_loss did not improve from 0.14345\n",
            "8/8 [==============================] - 0s 20ms/step - loss: 0.0027 - accuracy: 1.0000 - val_loss: 0.2487 - val_accuracy: 0.9451\n",
            "Epoch 75/100\n",
            "1/8 [==>...........................] - ETA: 0s - loss: 0.0041 - accuracy: 1.0000\n",
            "Epoch 75: val_loss did not improve from 0.14345\n",
            "8/8 [==============================] - 0s 12ms/step - loss: 0.0027 - accuracy: 1.0000 - val_loss: 0.2508 - val_accuracy: 0.9451\n",
            "Epoch 76/100\n",
            "6/8 [=====================>........] - ETA: 0s - loss: 0.0027 - accuracy: 1.0000\n",
            "Epoch 76: val_loss did not improve from 0.14345\n",
            "8/8 [==============================] - 0s 21ms/step - loss: 0.0025 - accuracy: 1.0000 - val_loss: 0.2499 - val_accuracy: 0.9451\n",
            "Epoch 77/100\n",
            "1/8 [==>...........................] - ETA: 0s - loss: 0.0020 - accuracy: 1.0000\n",
            "Epoch 77: val_loss did not improve from 0.14345\n",
            "8/8 [==============================] - 0s 15ms/step - loss: 0.0024 - accuracy: 1.0000 - val_loss: 0.2513 - val_accuracy: 0.9451\n",
            "Epoch 78/100\n",
            "6/8 [=====================>........] - ETA: 0s - loss: 0.0027 - accuracy: 1.0000\n",
            "Epoch 78: val_loss did not improve from 0.14345\n",
            "8/8 [==============================] - 0s 17ms/step - loss: 0.0023 - accuracy: 1.0000 - val_loss: 0.2549 - val_accuracy: 0.9451\n",
            "Epoch 79/100\n",
            "8/8 [==============================] - ETA: 0s - loss: 0.0022 - accuracy: 1.0000\n",
            "Epoch 79: val_loss did not improve from 0.14345\n",
            "8/8 [==============================] - 0s 15ms/step - loss: 0.0022 - accuracy: 1.0000 - val_loss: 0.2555 - val_accuracy: 0.9451\n",
            "Epoch 80/100\n",
            "1/8 [==>...........................] - ETA: 0s - loss: 5.4448e-04 - accuracy: 1.0000\n",
            "Epoch 80: val_loss did not improve from 0.14345\n",
            "8/8 [==============================] - 0s 12ms/step - loss: 0.0021 - accuracy: 1.0000 - val_loss: 0.2569 - val_accuracy: 0.9451\n",
            "Epoch 81/100\n",
            "1/8 [==>...........................] - ETA: 0s - loss: 7.0823e-04 - accuracy: 1.0000\n",
            "Epoch 81: val_loss did not improve from 0.14345\n",
            "8/8 [==============================] - 0s 12ms/step - loss: 0.0021 - accuracy: 1.0000 - val_loss: 0.2642 - val_accuracy: 0.9451\n",
            "Epoch 82/100\n",
            "7/8 [=========================>....] - ETA: 0s - loss: 0.0021 - accuracy: 1.0000\n",
            "Epoch 82: val_loss did not improve from 0.14345\n",
            "8/8 [==============================] - 0s 16ms/step - loss: 0.0020 - accuracy: 1.0000 - val_loss: 0.2665 - val_accuracy: 0.9451\n",
            "Epoch 83/100\n",
            "5/8 [=================>............] - ETA: 0s - loss: 0.0019 - accuracy: 1.0000    \n",
            "Epoch 83: val_loss did not improve from 0.14345\n",
            "8/8 [==============================] - 0s 32ms/step - loss: 0.0019 - accuracy: 1.0000 - val_loss: 0.2663 - val_accuracy: 0.9451\n",
            "Epoch 84/100\n",
            "7/8 [=========================>....] - ETA: 0s - loss: 0.0019 - accuracy: 1.0000\n",
            "Epoch 84: val_loss did not improve from 0.14345\n",
            "8/8 [==============================] - 0s 22ms/step - loss: 0.0018 - accuracy: 1.0000 - val_loss: 0.2675 - val_accuracy: 0.9451\n",
            "Epoch 85/100\n",
            "1/8 [==>...........................] - ETA: 0s - loss: 0.0035 - accuracy: 1.0000\n",
            "Epoch 85: val_loss did not improve from 0.14345\n",
            "8/8 [==============================] - 0s 14ms/step - loss: 0.0018 - accuracy: 1.0000 - val_loss: 0.2688 - val_accuracy: 0.9451\n",
            "Epoch 86/100\n",
            "1/8 [==>...........................] - ETA: 0s - loss: 7.7689e-04 - accuracy: 1.0000\n",
            "Epoch 86: val_loss did not improve from 0.14345\n",
            "8/8 [==============================] - 0s 14ms/step - loss: 0.0017 - accuracy: 1.0000 - val_loss: 0.2686 - val_accuracy: 0.9451\n",
            "Epoch 87/100\n",
            "7/8 [=========================>....] - ETA: 0s - loss: 0.0017 - accuracy: 1.0000    \n",
            "Epoch 87: val_loss did not improve from 0.14345\n",
            "8/8 [==============================] - 0s 17ms/step - loss: 0.0016 - accuracy: 1.0000 - val_loss: 0.2678 - val_accuracy: 0.9451\n",
            "Epoch 88/100\n",
            "8/8 [==============================] - ETA: 0s - loss: 0.0016 - accuracy: 1.0000\n",
            "Epoch 88: val_loss did not improve from 0.14345\n",
            "8/8 [==============================] - 0s 15ms/step - loss: 0.0016 - accuracy: 1.0000 - val_loss: 0.2684 - val_accuracy: 0.9451\n",
            "Epoch 89/100\n",
            "5/8 [=================>............] - ETA: 0s - loss: 0.0013 - accuracy: 1.0000    \n",
            "Epoch 89: val_loss did not improve from 0.14345\n",
            "8/8 [==============================] - 0s 17ms/step - loss: 0.0015 - accuracy: 1.0000 - val_loss: 0.2699 - val_accuracy: 0.9451\n",
            "Epoch 90/100\n",
            "8/8 [==============================] - ETA: 0s - loss: 0.0015 - accuracy: 1.0000    \n",
            "Epoch 90: val_loss did not improve from 0.14345\n",
            "8/8 [==============================] - 0s 21ms/step - loss: 0.0015 - accuracy: 1.0000 - val_loss: 0.2712 - val_accuracy: 0.9451\n",
            "Epoch 91/100\n",
            "7/8 [=========================>....] - ETA: 0s - loss: 0.0015 - accuracy: 1.0000\n",
            "Epoch 91: val_loss did not improve from 0.14345\n",
            "8/8 [==============================] - 0s 18ms/step - loss: 0.0014 - accuracy: 1.0000 - val_loss: 0.2725 - val_accuracy: 0.9451\n",
            "Epoch 92/100\n",
            "6/8 [=====================>........] - ETA: 0s - loss: 0.0014 - accuracy: 1.0000\n",
            "Epoch 92: val_loss did not improve from 0.14345\n",
            "8/8 [==============================] - 0s 21ms/step - loss: 0.0014 - accuracy: 1.0000 - val_loss: 0.2740 - val_accuracy: 0.9451\n",
            "Epoch 93/100\n",
            "6/8 [=====================>........] - ETA: 0s - loss: 0.0011 - accuracy: 1.0000    \n",
            "Epoch 93: val_loss did not improve from 0.14345\n",
            "8/8 [==============================] - 0s 26ms/step - loss: 0.0013 - accuracy: 1.0000 - val_loss: 0.2737 - val_accuracy: 0.9451\n",
            "Epoch 94/100\n",
            "5/8 [=================>............] - ETA: 0s - loss: 9.8658e-04 - accuracy: 1.0000\n",
            "Epoch 94: val_loss did not improve from 0.14345\n",
            "8/8 [==============================] - 0s 21ms/step - loss: 0.0013 - accuracy: 1.0000 - val_loss: 0.2729 - val_accuracy: 0.9451\n",
            "Epoch 95/100\n",
            "8/8 [==============================] - ETA: 0s - loss: 0.0013 - accuracy: 1.0000    \n",
            "Epoch 95: val_loss did not improve from 0.14345\n",
            "8/8 [==============================] - 0s 17ms/step - loss: 0.0013 - accuracy: 1.0000 - val_loss: 0.2772 - val_accuracy: 0.9451\n",
            "Epoch 96/100\n",
            "1/8 [==>...........................] - ETA: 0s - loss: 0.0014 - accuracy: 1.0000\n",
            "Epoch 96: val_loss did not improve from 0.14345\n",
            "8/8 [==============================] - 0s 14ms/step - loss: 0.0012 - accuracy: 1.0000 - val_loss: 0.2789 - val_accuracy: 0.9451\n",
            "Epoch 97/100\n",
            "1/8 [==>...........................] - ETA: 0s - loss: 8.1874e-04 - accuracy: 1.0000\n",
            "Epoch 97: val_loss did not improve from 0.14345\n",
            "8/8 [==============================] - 0s 10ms/step - loss: 0.0012 - accuracy: 1.0000 - val_loss: 0.2802 - val_accuracy: 0.9451\n",
            "Epoch 98/100\n",
            "1/8 [==>...........................] - ETA: 0s - loss: 5.1045e-04 - accuracy: 1.0000\n",
            "Epoch 98: val_loss did not improve from 0.14345\n",
            "8/8 [==============================] - 0s 14ms/step - loss: 0.0012 - accuracy: 1.0000 - val_loss: 0.2802 - val_accuracy: 0.9451\n",
            "Epoch 99/100\n",
            "1/8 [==>...........................] - ETA: 0s - loss: 7.0317e-04 - accuracy: 1.0000\n",
            "Epoch 99: val_loss did not improve from 0.14345\n",
            "8/8 [==============================] - 0s 15ms/step - loss: 0.0011 - accuracy: 1.0000 - val_loss: 0.2800 - val_accuracy: 0.9451\n",
            "Epoch 100/100\n",
            "1/8 [==>...........................] - ETA: 0s - loss: 4.9219e-04 - accuracy: 1.0000\n",
            "Epoch 100: val_loss did not improve from 0.14345\n",
            "8/8 [==============================] - 0s 12ms/step - loss: 0.0011 - accuracy: 1.0000 - val_loss: 0.2803 - val_accuracy: 0.9451\n"
          ]
        }
      ]
    },
    {
      "cell_type": "markdown",
      "source": [
        "- 베스트 모델 불러오기"
      ],
      "metadata": {
        "id": "dC1sbs8HHkl6"
      }
    },
    {
      "cell_type": "code",
      "source": [
        "from tensorflow.keras.models import load_model\n",
        "\n",
        "best_model = load_model(model_path)"
      ],
      "metadata": {
        "id": "K_GSJgaYG3dt"
      },
      "execution_count": 10,
      "outputs": []
    },
    {
      "cell_type": "markdown",
      "source": [
        "- 베스트 모델로 평가"
      ],
      "metadata": {
        "id": "jPmn9SyYH180"
      }
    },
    {
      "cell_type": "code",
      "source": [
        "best_model.evaluate(X_test, y_test)"
      ],
      "metadata": {
        "colab": {
          "base_uri": "https://localhost:8080/"
        },
        "id": "QUZS5f65Hzy6",
        "outputId": "8ca96ebe-7772-4c74-c5db-504fde20631a"
      },
      "execution_count": 11,
      "outputs": [
        {
          "output_type": "stream",
          "name": "stdout",
          "text": [
            "4/4 [==============================] - 0s 5ms/step - loss: 0.0346 - accuracy: 0.9912\n"
          ]
        },
        {
          "output_type": "execute_result",
          "data": {
            "text/plain": [
              "[0.034577008336782455, 0.9912280440330505]"
            ]
          },
          "metadata": {},
          "execution_count": 11
        }
      ]
    },
    {
      "cell_type": "markdown",
      "source": [
        "- 모델 훈련 시각화"
      ],
      "metadata": {
        "id": "SOUuaXOkIn2R"
      }
    },
    {
      "cell_type": "code",
      "source": [
        "import matplotlib.pyplot as plt\n",
        "\n",
        "y_acc = hist.history['accuracy']\n",
        "y_vloss = hist.history['val_loss']\n",
        "xs = np.arange(1, len(y_acc) + 1)\n",
        "\n",
        "plt.figure(figsize=(12,8))\n",
        "plt.plot(xs, y_acc, label='train accuracy')\n",
        "plt.plot(xs, y_vloss, label='validation loss')\n",
        "plt.legend()\n",
        "plt.grid()\n",
        "plt.ylim([0,1.1])\n",
        "plt.xlabel('Epoch')\n",
        "plt.show()"
      ],
      "metadata": {
        "colab": {
          "base_uri": "https://localhost:8080/",
          "height": 497
        },
        "id": "jrtXtRGmIm4E",
        "outputId": "dd31804a-33ef-46d8-ec63-81b2facb8a77"
      },
      "execution_count": 12,
      "outputs": [
        {
          "output_type": "display_data",
          "data": {
            "text/plain": [
              "<Figure size 864x576 with 1 Axes>"
            ],
            "image/png": "[encoded data removed]"
          },
          "metadata": {
            "needs_background": "light"
          }
        }
      ]
    },
    {
      "cell_type": "markdown",
      "source": [
        "### 2. 베스트 모델 저장하고 조기 종료하기"
      ],
      "metadata": {
        "id": "zopNg5LNId5T"
      }
    },
    {
      "cell_type": "markdown",
      "source": [
        "- Dropout layer 추가"
      ],
      "metadata": {
        "id": "wvZ7C675JSJx"
      }
    },
    {
      "cell_type": "code",
      "source": [
        "from tensorflow.keras.layers import Dropout\n",
        "\n",
        "model2 = Sequential([\n",
        "    Dense(100, input_dim=30, activation='relu'),\n",
        "    Dense(24, activation='relu'),\n",
        "    Dropout(0.5),\n",
        "    Dense(1, activation='sigmoid')\n",
        "])\n",
        "model2.summary()"
      ],
      "metadata": {
        "colab": {
          "base_uri": "https://localhost:8080/"
        },
        "id": "LZDmUI2zIBNR",
        "outputId": "9d0edb05-a6d9-43da-c571-59cee62da545"
      },
      "execution_count": 13,
      "outputs": [
        {
          "output_type": "stream",
          "name": "stdout",
          "text": [
            "Model: \"sequential_1\"\n",
            "_________________________________________________________________\n",
            " Layer (type)                Output Shape              Param #   \n",
            "=================================================================\n",
            " dense_3 (Dense)             (None, 100)               3100      \n",
            "                                                                 \n",
            " dense_4 (Dense)             (None, 24)                2424      \n",
            "                                                                 \n",
            " dropout (Dropout)           (None, 24)                0         \n",
            "                                                                 \n",
            " dense_5 (Dense)             (None, 1)                 25        \n",
            "                                                                 \n",
            "=================================================================\n",
            "Total params: 5,549\n",
            "Trainable params: 5,549\n",
            "Non-trainable params: 0\n",
            "_________________________________________________________________\n"
          ]
        }
      ]
    },
    {
      "cell_type": "code",
      "source": [
        "# model compile\n",
        "model2.compile('adam', 'binary_crossentropy', ['accuracy'])"
      ],
      "metadata": {
        "id": "gF6b8v6_J5ay"
      },
      "execution_count": 14,
      "outputs": []
    },
    {
      "cell_type": "markdown",
      "source": [
        "- 조기 종료 조건 설정"
      ],
      "metadata": {
        "id": "FqsAESTWKOYc"
      }
    },
    {
      "cell_type": "code",
      "source": [
        "from tensorflow.keras.callbacks import EarlyStopping\n",
        "\n",
        "es = EarlyStopping(\n",
        "    monitor='val_loss',\n",
        "    patience=20                     # 20 epoch 동안 val_loss가 좋아지지 않으면 강제 종료\n",
        ")"
      ],
      "metadata": {
        "id": "BHTPl36FKMOB"
      },
      "execution_count": 15,
      "outputs": []
    },
    {
      "cell_type": "code",
      "source": [
        "model_path2 = 'best_model2.h5'\n",
        "mc2 = ModelCheckpoint(filepath=model_path2, monitor='val_loss', verbose=1,\n",
        "                      save_best_only=True)"
      ],
      "metadata": {
        "id": "Dk4O1_ppLPyK"
      },
      "execution_count": 16,
      "outputs": []
    },
    {
      "cell_type": "code",
      "source": [
        "hist2 = model2.fit(X_train, y_train, validation_split=0.2,\n",
        "                   verbose=1, epochs=100, batch_size=50,\n",
        "                   callbacks=[mc, es])"
      ],
      "metadata": {
        "colab": {
          "base_uri": "https://localhost:8080/"
        },
        "id": "oK_7XDz1Kwya",
        "outputId": "6c3cf17e-f9a7-4ad2-ac28-04f592e9ae36"
      },
      "execution_count": 17,
      "outputs": [
        {
          "output_type": "stream",
          "name": "stdout",
          "text": [
            "Epoch 1/100\n",
            "1/8 [==>...........................] - ETA: 3s - loss: 0.6625 - accuracy: 0.6600\n",
            "Epoch 1: val_loss did not improve from 0.14345\n",
            "8/8 [==============================] - 1s 29ms/step - loss: 0.6031 - accuracy: 0.6676 - val_loss: 0.4573 - val_accuracy: 0.8901\n",
            "Epoch 2/100\n",
            "1/8 [==>...........................] - ETA: 0s - loss: 0.5179 - accuracy: 0.7800\n",
            "Epoch 2: val_loss did not improve from 0.14345\n",
            "8/8 [==============================] - 0s 7ms/step - loss: 0.4716 - accuracy: 0.8269 - val_loss: 0.3414 - val_accuracy: 0.9231\n",
            "Epoch 3/100\n",
            "1/8 [==>...........................] - ETA: 0s - loss: 0.3655 - accuracy: 0.9000\n",
            "Epoch 3: val_loss did not improve from 0.14345\n",
            "8/8 [==============================] - 0s 8ms/step - loss: 0.3501 - accuracy: 0.9066 - val_loss: 0.2686 - val_accuracy: 0.9231\n",
            "Epoch 4/100\n",
            "1/8 [==>...........................] - ETA: 0s - loss: 0.3271 - accuracy: 0.8400\n",
            "Epoch 4: val_loss did not improve from 0.14345\n",
            "8/8 [==============================] - 0s 6ms/step - loss: 0.2749 - accuracy: 0.9176 - val_loss: 0.2198 - val_accuracy: 0.9341\n",
            "Epoch 5/100\n",
            "1/8 [==>...........................] - ETA: 0s - loss: 0.2029 - accuracy: 0.9200\n",
            "Epoch 5: val_loss did not improve from 0.14345\n",
            "8/8 [==============================] - 0s 9ms/step - loss: 0.2340 - accuracy: 0.9286 - val_loss: 0.1869 - val_accuracy: 0.9451\n",
            "Epoch 6/100\n",
            "1/8 [==>...........................] - ETA: 0s - loss: 0.2302 - accuracy: 0.9000\n",
            "Epoch 6: val_loss did not improve from 0.14345\n",
            "8/8 [==============================] - 0s 6ms/step - loss: 0.1885 - accuracy: 0.9478 - val_loss: 0.1636 - val_accuracy: 0.9451\n",
            "Epoch 7/100\n",
            "1/8 [==>...........................] - ETA: 0s - loss: 0.1444 - accuracy: 0.9800\n",
            "Epoch 7: val_loss did not improve from 0.14345\n",
            "8/8 [==============================] - 0s 7ms/step - loss: 0.1752 - accuracy: 0.9478 - val_loss: 0.1475 - val_accuracy: 0.9560\n",
            "Epoch 8/100\n",
            "1/8 [==>...........................] - ETA: 0s - loss: 0.1609 - accuracy: 0.9400\n",
            "Epoch 8: val_loss improved from 0.14345 to 0.13748, saving model to best_model.h5\n",
            "8/8 [==============================] - 0s 12ms/step - loss: 0.1506 - accuracy: 0.9560 - val_loss: 0.1375 - val_accuracy: 0.9560\n",
            "Epoch 9/100\n",
            "1/8 [==>...........................] - ETA: 0s - loss: 0.2577 - accuracy: 0.9000\n",
            "Epoch 9: val_loss improved from 0.13748 to 0.12979, saving model to best_model.h5\n",
            "8/8 [==============================] - 0s 9ms/step - loss: 0.1461 - accuracy: 0.9478 - val_loss: 0.1298 - val_accuracy: 0.9670\n",
            "Epoch 10/100\n",
            "1/8 [==>...........................] - ETA: 0s - loss: 0.1003 - accuracy: 0.9800\n",
            "Epoch 10: val_loss improved from 0.12979 to 0.12390, saving model to best_model.h5\n",
            "8/8 [==============================] - 0s 9ms/step - loss: 0.1133 - accuracy: 0.9725 - val_loss: 0.1239 - val_accuracy: 0.9560\n",
            "Epoch 11/100\n",
            "1/8 [==>...........................] - ETA: 0s - loss: 0.1099 - accuracy: 0.9600\n",
            "Epoch 11: val_loss improved from 0.12390 to 0.11915, saving model to best_model.h5\n",
            "8/8 [==============================] - 0s 9ms/step - loss: 0.1236 - accuracy: 0.9643 - val_loss: 0.1192 - val_accuracy: 0.9560\n",
            "Epoch 12/100\n",
            "1/8 [==>...........................] - ETA: 0s - loss: 0.0664 - accuracy: 1.0000\n",
            "Epoch 12: val_loss improved from 0.11915 to 0.11601, saving model to best_model.h5\n",
            "8/8 [==============================] - 0s 13ms/step - loss: 0.1058 - accuracy: 0.9698 - val_loss: 0.1160 - val_accuracy: 0.9560\n",
            "Epoch 13/100\n",
            "1/8 [==>...........................] - ETA: 0s - loss: 0.1191 - accuracy: 0.9600\n",
            "Epoch 13: val_loss improved from 0.11601 to 0.11364, saving model to best_model.h5\n",
            "8/8 [==============================] - 0s 10ms/step - loss: 0.0989 - accuracy: 0.9780 - val_loss: 0.1136 - val_accuracy: 0.9560\n",
            "Epoch 14/100\n",
            "1/8 [==>...........................] - ETA: 0s - loss: 0.1672 - accuracy: 0.9600\n",
            "Epoch 14: val_loss improved from 0.11364 to 0.11212, saving model to best_model.h5\n",
            "8/8 [==============================] - 0s 10ms/step - loss: 0.0903 - accuracy: 0.9725 - val_loss: 0.1121 - val_accuracy: 0.9560\n",
            "Epoch 15/100\n",
            "1/8 [==>...........................] - ETA: 0s - loss: 0.0543 - accuracy: 1.0000\n",
            "Epoch 15: val_loss improved from 0.11212 to 0.11195, saving model to best_model.h5\n",
            "8/8 [==============================] - 0s 9ms/step - loss: 0.0804 - accuracy: 0.9808 - val_loss: 0.1120 - val_accuracy: 0.9451\n",
            "Epoch 16/100\n",
            "1/8 [==>...........................] - ETA: 0s - loss: 0.0516 - accuracy: 0.9800\n",
            "Epoch 16: val_loss did not improve from 0.11195\n",
            "8/8 [==============================] - 0s 7ms/step - loss: 0.0815 - accuracy: 0.9753 - val_loss: 0.1127 - val_accuracy: 0.9451\n",
            "Epoch 17/100\n",
            "1/8 [==>...........................] - ETA: 0s - loss: 0.0573 - accuracy: 0.9800\n",
            "Epoch 17: val_loss did not improve from 0.11195\n",
            "8/8 [==============================] - 0s 7ms/step - loss: 0.0713 - accuracy: 0.9780 - val_loss: 0.1120 - val_accuracy: 0.9451\n",
            "Epoch 18/100\n",
            "1/8 [==>...........................] - ETA: 0s - loss: 0.1355 - accuracy: 0.9200\n",
            "Epoch 18: val_loss improved from 0.11195 to 0.11078, saving model to best_model.h5\n",
            "8/8 [==============================] - 0s 13ms/step - loss: 0.0710 - accuracy: 0.9725 - val_loss: 0.1108 - val_accuracy: 0.9451\n",
            "Epoch 19/100\n",
            "1/8 [==>...........................] - ETA: 0s - loss: 0.0197 - accuracy: 1.0000\n",
            "Epoch 19: val_loss improved from 0.11078 to 0.11011, saving model to best_model.h5\n",
            "8/8 [==============================] - 0s 13ms/step - loss: 0.0687 - accuracy: 0.9780 - val_loss: 0.1101 - val_accuracy: 0.9451\n",
            "Epoch 20/100\n",
            "1/8 [==>...........................] - ETA: 0s - loss: 0.0936 - accuracy: 0.9800\n",
            "Epoch 20: val_loss did not improve from 0.11011\n",
            "8/8 [==============================] - 0s 7ms/step - loss: 0.0694 - accuracy: 0.9835 - val_loss: 0.1102 - val_accuracy: 0.9451\n",
            "Epoch 21/100\n",
            "1/8 [==>...........................] - ETA: 0s - loss: 0.0380 - accuracy: 1.0000\n",
            "Epoch 21: val_loss improved from 0.11011 to 0.10985, saving model to best_model.h5\n",
            "8/8 [==============================] - 0s 9ms/step - loss: 0.0659 - accuracy: 0.9863 - val_loss: 0.1098 - val_accuracy: 0.9451\n",
            "Epoch 22/100\n",
            "1/8 [==>...........................] - ETA: 0s - loss: 0.0271 - accuracy: 1.0000\n",
            "Epoch 22: val_loss improved from 0.10985 to 0.10944, saving model to best_model.h5\n",
            "8/8 [==============================] - 0s 9ms/step - loss: 0.0655 - accuracy: 0.9753 - val_loss: 0.1094 - val_accuracy: 0.9451\n",
            "Epoch 23/100\n",
            "1/8 [==>...........................] - ETA: 0s - loss: 0.1061 - accuracy: 0.9800\n",
            "Epoch 23: val_loss did not improve from 0.10944\n",
            "8/8 [==============================] - 0s 6ms/step - loss: 0.0579 - accuracy: 0.9835 - val_loss: 0.1101 - val_accuracy: 0.9560\n",
            "Epoch 24/100\n",
            "1/8 [==>...........................] - ETA: 0s - loss: 0.0332 - accuracy: 1.0000\n",
            "Epoch 24: val_loss did not improve from 0.10944\n",
            "8/8 [==============================] - 0s 6ms/step - loss: 0.0504 - accuracy: 0.9863 - val_loss: 0.1140 - val_accuracy: 0.9560\n",
            "Epoch 25/100\n",
            "1/8 [==>...........................] - ETA: 0s - loss: 0.0480 - accuracy: 1.0000\n",
            "Epoch 25: val_loss did not improve from 0.10944\n",
            "8/8 [==============================] - 0s 6ms/step - loss: 0.0586 - accuracy: 0.9835 - val_loss: 0.1155 - val_accuracy: 0.9560\n",
            "Epoch 26/100\n",
            "1/8 [==>...........................] - ETA: 0s - loss: 0.0498 - accuracy: 0.9600\n",
            "Epoch 26: val_loss did not improve from 0.10944\n",
            "8/8 [==============================] - 0s 6ms/step - loss: 0.0588 - accuracy: 0.9835 - val_loss: 0.1152 - val_accuracy: 0.9560\n",
            "Epoch 27/100\n",
            "1/8 [==>...........................] - ETA: 0s - loss: 0.0358 - accuracy: 0.9800\n",
            "Epoch 27: val_loss did not improve from 0.10944\n",
            "8/8 [==============================] - 0s 8ms/step - loss: 0.0486 - accuracy: 0.9890 - val_loss: 0.1154 - val_accuracy: 0.9560\n",
            "Epoch 28/100\n",
            "1/8 [==>...........................] - ETA: 0s - loss: 0.1086 - accuracy: 0.9600\n",
            "Epoch 28: val_loss did not improve from 0.10944\n",
            "8/8 [==============================] - 0s 6ms/step - loss: 0.0408 - accuracy: 0.9890 - val_loss: 0.1158 - val_accuracy: 0.9560\n",
            "Epoch 29/100\n",
            "1/8 [==>...........................] - ETA: 0s - loss: 0.0113 - accuracy: 1.0000\n",
            "Epoch 29: val_loss did not improve from 0.10944\n",
            "8/8 [==============================] - 0s 8ms/step - loss: 0.0442 - accuracy: 0.9835 - val_loss: 0.1179 - val_accuracy: 0.9560\n",
            "Epoch 30/100\n",
            "1/8 [==>...........................] - ETA: 0s - loss: 0.0150 - accuracy: 1.0000\n",
            "Epoch 30: val_loss did not improve from 0.10944\n",
            "8/8 [==============================] - 0s 7ms/step - loss: 0.0421 - accuracy: 0.9918 - val_loss: 0.1184 - val_accuracy: 0.9560\n",
            "Epoch 31/100\n",
            "1/8 [==>...........................] - ETA: 0s - loss: 0.0502 - accuracy: 0.9800\n",
            "Epoch 31: val_loss did not improve from 0.10944\n",
            "8/8 [==============================] - 0s 7ms/step - loss: 0.0435 - accuracy: 0.9918 - val_loss: 0.1198 - val_accuracy: 0.9560\n",
            "Epoch 32/100\n",
            "1/8 [==>...........................] - ETA: 0s - loss: 0.0216 - accuracy: 1.0000\n",
            "Epoch 32: val_loss did not improve from 0.10944\n",
            "8/8 [==============================] - 0s 6ms/step - loss: 0.0428 - accuracy: 0.9918 - val_loss: 0.1256 - val_accuracy: 0.9560\n",
            "Epoch 33/100\n",
            "1/8 [==>...........................] - ETA: 0s - loss: 0.0211 - accuracy: 1.0000\n",
            "Epoch 33: val_loss did not improve from 0.10944\n",
            "8/8 [==============================] - 0s 7ms/step - loss: 0.0397 - accuracy: 0.9863 - val_loss: 0.1285 - val_accuracy: 0.9560\n",
            "Epoch 34/100\n",
            "1/8 [==>...........................] - ETA: 0s - loss: 0.0070 - accuracy: 1.0000\n",
            "Epoch 34: val_loss did not improve from 0.10944\n",
            "8/8 [==============================] - 0s 7ms/step - loss: 0.0403 - accuracy: 0.9863 - val_loss: 0.1298 - val_accuracy: 0.9560\n",
            "Epoch 35/100\n",
            "1/8 [==>...........................] - ETA: 0s - loss: 0.0313 - accuracy: 1.0000\n",
            "Epoch 35: val_loss did not improve from 0.10944\n",
            "8/8 [==============================] - 0s 6ms/step - loss: 0.0380 - accuracy: 0.9945 - val_loss: 0.1306 - val_accuracy: 0.9560\n",
            "Epoch 36/100\n",
            "1/8 [==>...........................] - ETA: 0s - loss: 0.0360 - accuracy: 1.0000\n",
            "Epoch 36: val_loss did not improve from 0.10944\n",
            "8/8 [==============================] - 0s 7ms/step - loss: 0.0359 - accuracy: 0.9890 - val_loss: 0.1338 - val_accuracy: 0.9560\n",
            "Epoch 37/100\n",
            "1/8 [==>...........................] - ETA: 0s - loss: 0.0142 - accuracy: 1.0000\n",
            "Epoch 37: val_loss did not improve from 0.10944\n",
            "8/8 [==============================] - 0s 6ms/step - loss: 0.0308 - accuracy: 0.9945 - val_loss: 0.1369 - val_accuracy: 0.9670\n",
            "Epoch 38/100\n",
            "1/8 [==>...........................] - ETA: 0s - loss: 0.0597 - accuracy: 0.9600\n",
            "Epoch 38: val_loss did not improve from 0.10944\n",
            "8/8 [==============================] - 0s 7ms/step - loss: 0.0361 - accuracy: 0.9890 - val_loss: 0.1392 - val_accuracy: 0.9670\n",
            "Epoch 39/100\n",
            "1/8 [==>...........................] - ETA: 0s - loss: 0.0059 - accuracy: 1.0000\n",
            "Epoch 39: val_loss did not improve from 0.10944\n",
            "8/8 [==============================] - 0s 6ms/step - loss: 0.0288 - accuracy: 0.9918 - val_loss: 0.1419 - val_accuracy: 0.9670\n",
            "Epoch 40/100\n",
            "1/8 [==>...........................] - ETA: 0s - loss: 0.0321 - accuracy: 1.0000\n",
            "Epoch 40: val_loss did not improve from 0.10944\n",
            "8/8 [==============================] - 0s 9ms/step - loss: 0.0284 - accuracy: 0.9973 - val_loss: 0.1427 - val_accuracy: 0.9670\n",
            "Epoch 41/100\n",
            "1/8 [==>...........................] - ETA: 0s - loss: 0.0542 - accuracy: 0.9800\n",
            "Epoch 41: val_loss did not improve from 0.10944\n",
            "8/8 [==============================] - 0s 7ms/step - loss: 0.0264 - accuracy: 0.9945 - val_loss: 0.1415 - val_accuracy: 0.9670\n",
            "Epoch 42/100\n",
            "1/8 [==>...........................] - ETA: 0s - loss: 0.0111 - accuracy: 1.0000\n",
            "Epoch 42: val_loss did not improve from 0.10944\n",
            "8/8 [==============================] - 0s 6ms/step - loss: 0.0264 - accuracy: 0.9973 - val_loss: 0.1434 - val_accuracy: 0.9560\n"
          ]
        }
      ]
    },
    {
      "cell_type": "code",
      "source": [
        "best_model2 = load_model(model_path2)\n",
        "best_model2.evaluate(X_train, y_train)"
      ],
      "metadata": {
        "colab": {
          "base_uri": "https://localhost:8080/"
        },
        "id": "yYFiuxQPLpQq",
        "outputId": "b0116335-5888-41de-a280-d310de67662a"
      },
      "execution_count": 18,
      "outputs": [
        {
          "output_type": "stream",
          "name": "stdout",
          "text": [
            "15/15 [==============================] - 0s 5ms/step - loss: 0.0574 - accuracy: 0.9802\n"
          ]
        },
        {
          "output_type": "execute_result",
          "data": {
            "text/plain": [
              "[0.05743720009922981, 0.9802197813987732]"
            ]
          },
          "metadata": {},
          "execution_count": 18
        }
      ]
    },
    {
      "cell_type": "code",
      "source": [],
      "metadata": {
        "id": "e5Tz8vOYMwRp"
      },
      "execution_count": null,
      "outputs": []
    }
  ]
}