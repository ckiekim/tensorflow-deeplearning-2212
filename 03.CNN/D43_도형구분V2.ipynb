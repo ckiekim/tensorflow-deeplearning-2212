{
  "nbformat": 4,
  "nbformat_minor": 0,
  "metadata": {
    "colab": {
      "provenance": []
    },
    "kernelspec": {
      "name": "python3",
      "display_name": "Python 3"
    },
    "language_info": {
      "name": "python"
    }
  },
  "cells": [
    {
      "cell_type": "markdown",
      "source": [
        "# 원, 삼각형, 사각형 구분하기 Ver.2\n",
        "- 어려운 문제를 데이터 부풀리기 없이 풀기\n",
        "- V1에서 사용한 모델"
      ],
      "metadata": {
        "id": "KAx-Lu2QOvb9"
      }
    },
    {
      "cell_type": "code",
      "execution_count": 1,
      "metadata": {
        "colab": {
          "base_uri": "https://localhost:8080/",
          "height": 78
        },
        "id": "sOk_y6Z9Ofdr",
        "outputId": "e6e62ae4-0248-4c6c-8c82-d50cb3779406"
      },
      "outputs": [
        {
          "output_type": "display_data",
          "data": {
            "text/plain": [
              "<IPython.core.display.HTML object>"
            ],
            "text/html": [
              "\n",
              "     <input type=\"file\" id=\"files-68258258-6a06-4a49-9cf4-a414a79c0e6c\" name=\"files[]\" multiple disabled\n",
              "        style=\"border:none\" />\n",
              "     <output id=\"result-68258258-6a06-4a49-9cf4-a414a79c0e6c\">\n",
              "      Upload widget is only available when the cell has been executed in the\n",
              "      current browser session. Please rerun this cell to enable.\n",
              "      </output>\n",
              "      <script>// Copyright 2017 Google LLC\n",
              "//\n",
              "// Licensed under the Apache License, Version 2.0 (the \"License\");\n",
              "// you may not use this file except in compliance with the License.\n",
              "// You may obtain a copy of the License at\n",
              "//\n",
              "//      http://www.apache.org/licenses/LICENSE-2.0\n",
              "//\n",
              "// Unless required by applicable law or agreed to in writing, software\n",
              "// distributed under the License is distributed on an \"AS IS\" BASIS,\n",
              "// WITHOUT WARRANTIES OR CONDITIONS OF ANY KIND, either express or implied.\n",
              "// See the License for the specific language governing permissions and\n",
              "// limitations under the License.\n",
              "\n",
              "/**\n",
              " * @fileoverview Helpers for google.colab Python module.\n",
              " */\n",
              "(function(scope) {\n",
              "function span(text, styleAttributes = {}) {\n",
              "  const element = document.createElement('span');\n",
              "  element.textContent = text;\n",
              "  for (const key of Object.keys(styleAttributes)) {\n",
              "    element.style[key] = styleAttributes[key];\n",
              "  }\n",
              "  return element;\n",
              "}\n",
              "\n",
              "// Max number of bytes which will be uploaded at a time.\n",
              "const MAX_PAYLOAD_SIZE = 100 * 1024;\n",
              "\n",
              "function _uploadFiles(inputId, outputId) {\n",
              "  const steps = uploadFilesStep(inputId, outputId);\n",
              "  const outputElement = document.getElementById(outputId);\n",
              "  // Cache steps on the outputElement to make it available for the next call\n",
              "  // to uploadFilesContinue from Python.\n",
              "  outputElement.steps = steps;\n",
              "\n",
              "  return _uploadFilesContinue(outputId);\n",
              "}\n",
              "\n",
              "// This is roughly an async generator (not supported in the browser yet),\n",
              "// where there are multiple asynchronous steps and the Python side is going\n",
              "// to poll for completion of each step.\n",
              "// This uses a Promise to block the python side on completion of each step,\n",
              "// then passes the result of the previous step as the input to the next step.\n",
              "function _uploadFilesContinue(outputId) {\n",
              "  const outputElement = document.getElementById(outputId);\n",
              "  const steps = outputElement.steps;\n",
              "\n",
              "  const next = steps.next(outputElement.lastPromiseValue);\n",
              "  return Promise.resolve(next.value.promise).then((value) => {\n",
              "    // Cache the last promise value to make it available to the next\n",
              "    // step of the generator.\n",
              "    outputElement.lastPromiseValue = value;\n",
              "    return next.value.response;\n",
              "  });\n",
              "}\n",
              "\n",
              "/**\n",
              " * Generator function which is called between each async step of the upload\n",
              " * process.\n",
              " * @param {string} inputId Element ID of the input file picker element.\n",
              " * @param {string} outputId Element ID of the output display.\n",
              " * @return {!Iterable<!Object>} Iterable of next steps.\n",
              " */\n",
              "function* uploadFilesStep(inputId, outputId) {\n",
              "  const inputElement = document.getElementById(inputId);\n",
              "  inputElement.disabled = false;\n",
              "\n",
              "  const outputElement = document.getElementById(outputId);\n",
              "  outputElement.innerHTML = '';\n",
              "\n",
              "  const pickedPromise = new Promise((resolve) => {\n",
              "    inputElement.addEventListener('change', (e) => {\n",
              "      resolve(e.target.files);\n",
              "    });\n",
              "  });\n",
              "\n",
              "  const cancel = document.createElement('button');\n",
              "  inputElement.parentElement.appendChild(cancel);\n",
              "  cancel.textContent = 'Cancel upload';\n",
              "  const cancelPromise = new Promise((resolve) => {\n",
              "    cancel.onclick = () => {\n",
              "      resolve(null);\n",
              "    };\n",
              "  });\n",
              "\n",
              "  // Wait for the user to pick the files.\n",
              "  const files = yield {\n",
              "    promise: Promise.race([pickedPromise, cancelPromise]),\n",
              "    response: {\n",
              "      action: 'starting',\n",
              "    }\n",
              "  };\n",
              "\n",
              "  cancel.remove();\n",
              "\n",
              "  // Disable the input element since further picks are not allowed.\n",
              "  inputElement.disabled = true;\n",
              "\n",
              "  if (!files) {\n",
              "    return {\n",
              "      response: {\n",
              "        action: 'complete',\n",
              "      }\n",
              "    };\n",
              "  }\n",
              "\n",
              "  for (const file of files) {\n",
              "    const li = document.createElement('li');\n",
              "    li.append(span(file.name, {fontWeight: 'bold'}));\n",
              "    li.append(span(\n",
              "        `(${file.type || 'n/a'}) - ${file.size} bytes, ` +\n",
              "        `last modified: ${\n",
              "            file.lastModifiedDate ? file.lastModifiedDate.toLocaleDateString() :\n",
              "                                    'n/a'} - `));\n",
              "    const percent = span('0% done');\n",
              "    li.appendChild(percent);\n",
              "\n",
              "    outputElement.appendChild(li);\n",
              "\n",
              "    const fileDataPromise = new Promise((resolve) => {\n",
              "      const reader = new FileReader();\n",
              "      reader.onload = (e) => {\n",
              "        resolve(e.target.result);\n",
              "      };\n",
              "      reader.readAsArrayBuffer(file);\n",
              "    });\n",
              "    // Wait for the data to be ready.\n",
              "    let fileData = yield {\n",
              "      promise: fileDataPromise,\n",
              "      response: {\n",
              "        action: 'continue',\n",
              "      }\n",
              "    };\n",
              "\n",
              "    // Use a chunked sending to avoid message size limits. See b/62115660.\n",
              "    let position = 0;\n",
              "    do {\n",
              "      const length = Math.min(fileData.byteLength - position, MAX_PAYLOAD_SIZE);\n",
              "      const chunk = new Uint8Array(fileData, position, length);\n",
              "      position += length;\n",
              "\n",
              "      const base64 = btoa(String.fromCharCode.apply(null, chunk));\n",
              "      yield {\n",
              "        response: {\n",
              "          action: 'append',\n",
              "          file: file.name,\n",
              "          data: base64,\n",
              "        },\n",
              "      };\n",
              "\n",
              "      let percentDone = fileData.byteLength === 0 ?\n",
              "          100 :\n",
              "          Math.round((position / fileData.byteLength) * 100);\n",
              "      percent.textContent = `${percentDone}% done`;\n",
              "\n",
              "    } while (position < fileData.byteLength);\n",
              "  }\n",
              "\n",
              "  // All done.\n",
              "  yield {\n",
              "    response: {\n",
              "      action: 'complete',\n",
              "    }\n",
              "  };\n",
              "}\n",
              "\n",
              "scope.google = scope.google || {};\n",
              "scope.google.colab = scope.google.colab || {};\n",
              "scope.google.colab._files = {\n",
              "  _uploadFiles,\n",
              "  _uploadFilesContinue,\n",
              "};\n",
              "})(self);\n",
              "</script> "
            ]
          },
          "metadata": {}
        },
        {
          "output_type": "stream",
          "name": "stdout",
          "text": [
            "Saving hard_handwriting_shape.zip to hard_handwriting_shape.zip\n"
          ]
        }
      ],
      "source": [
        "from google.colab import files\n",
        "up = files.upload()"
      ]
    },
    {
      "cell_type": "code",
      "source": [
        "!unzip hard_handwriting_shape.zip -d . > /dev/null"
      ],
      "metadata": {
        "id": "D1-_fRTXPRK1"
      },
      "execution_count": 2,
      "outputs": []
    },
    {
      "cell_type": "code",
      "source": [
        "from PIL import Image\n",
        "from glob import glob\n",
        "import matplotlib.pyplot as plt"
      ],
      "metadata": {
        "id": "e96drT9JPdfD"
      },
      "execution_count": 3,
      "outputs": []
    },
    {
      "cell_type": "code",
      "source": [
        "# Train dataset\n",
        "shapes = ['circle', 'triangle', 'rectangle']\n",
        "for shape in shapes:\n",
        "    dir_name = f'hard_handwriting_shape/train/{shape}'\n",
        "    plt.figure(figsize=(12,1))\n",
        "    for i, fname in enumerate(glob(f'{dir_name}/*.png')):\n",
        "        img = Image.open(fname)\n",
        "        plt.subplot(1, 15, i+1)\n",
        "        plt.imshow(img)\n",
        "        plt.xticks([]), plt.yticks([])\n",
        "    plt.show()"
      ],
      "metadata": {
        "colab": {
          "base_uri": "https://localhost:8080/",
          "height": 182
        },
        "id": "A9bRqkkWPqiD",
        "outputId": "841cfeb9-7db5-41b9-cf08-95d832cd1bf7"
      },
      "execution_count": 4,
      "outputs": [
        {
          "output_type": "display_data",
          "data": {
            "text/plain": [
              "<Figure size 864x72 with 15 Axes>"
            ],
            "image/png": "[encoded data removed]"
          },
          "metadata": {}
        },
        {
          "output_type": "display_data",
          "data": {
            "text/plain": [
              "<Figure size 864x72 with 15 Axes>"
            ],
            "image/png": "[encoded data removed]"
          },
          "metadata": {}
        },
        {
          "output_type": "display_data",
          "data": {
            "text/plain": [
              "<Figure size 864x72 with 15 Axes>"
            ],
            "image/png": "[encoded data removed]"
          },
          "metadata": {}
        }
      ]
    },
    {
      "cell_type": "code",
      "source": [
        "# Test dataset\n",
        "shapes = ['circle', 'triangle', 'rectangle']\n",
        "for shape in shapes:\n",
        "    dir_name = f'hard_handwriting_shape/test/{shape}'\n",
        "    plt.figure(figsize=(4,1))\n",
        "    for i, fname in enumerate(glob(f'{dir_name}/*.png')):\n",
        "        img = Image.open(fname)\n",
        "        plt.subplot(1, 5, i+1)\n",
        "        plt.imshow(img)\n",
        "        plt.xticks([]), plt.yticks([])\n",
        "    plt.show()"
      ],
      "metadata": {
        "colab": {
          "base_uri": "https://localhost:8080/",
          "height": 185
        },
        "id": "HzyHuLIMP4_b",
        "outputId": "f9bb056d-0ff1-486d-b062-5f3a44a86b62"
      },
      "execution_count": 5,
      "outputs": [
        {
          "output_type": "display_data",
          "data": {
            "text/plain": [
              "<Figure size 288x72 with 5 Axes>"
            ],
            "image/png": "[encoded data removed]"
          },
          "metadata": {}
        },
        {
          "output_type": "display_data",
          "data": {
            "text/plain": [
              "<Figure size 288x72 with 5 Axes>"
            ],
            "image/png": "[encoded data removed]"
          },
          "metadata": {}
        },
        {
          "output_type": "display_data",
          "data": {
            "text/plain": [
              "<Figure size 288x72 with 5 Axes>"
            ],
            "image/png": "[encoded data removed]"
          },
          "metadata": {}
        }
      ]
    },
    {
      "cell_type": "markdown",
      "source": [
        "- 데이터셋 생성"
      ],
      "metadata": {
        "id": "wl5ANkJkQSi3"
      }
    },
    {
      "cell_type": "code",
      "source": [
        "from tensorflow.keras.preprocessing.image import ImageDataGenerator\n",
        "\n",
        "train_datagen = ImageDataGenerator(rescale=1/255.)\n",
        "train_data_generator = train_datagen.flow_from_directory(\n",
        "    'hard_handwriting_shape/train', target_size=(24,24), batch_size=3, class_mode='categorical'\n",
        ")"
      ],
      "metadata": {
        "colab": {
          "base_uri": "https://localhost:8080/"
        },
        "id": "5vtD3WcmQKXr",
        "outputId": "6849cf63-aaa1-4ede-df17-185d0054b143"
      },
      "execution_count": 6,
      "outputs": [
        {
          "output_type": "stream",
          "name": "stdout",
          "text": [
            "Found 45 images belonging to 3 classes.\n"
          ]
        }
      ]
    },
    {
      "cell_type": "code",
      "source": [
        "test_datagen = ImageDataGenerator(rescale=1/255.)\n",
        "test_data_generator = test_datagen.flow_from_directory(\n",
        "    'hard_handwriting_shape/test', target_size=(24,24), batch_size=3, class_mode='categorical'\n",
        ")"
      ],
      "metadata": {
        "colab": {
          "base_uri": "https://localhost:8080/"
        },
        "id": "IDqGd_KNQfJb",
        "outputId": "ab4bf157-6e36-42df-e242-4e1623c39bfe"
      },
      "execution_count": 8,
      "outputs": [
        {
          "output_type": "stream",
          "name": "stdout",
          "text": [
            "Found 15 images belonging to 3 classes.\n"
          ]
        }
      ]
    },
    {
      "cell_type": "markdown",
      "source": [
        "- 모델 정의/설정/학습/평가"
      ],
      "metadata": {
        "id": "CmREZ6d_QstW"
      }
    },
    {
      "cell_type": "code",
      "source": [
        "import numpy as np\n",
        "import tensorflow as tf\n",
        "seed = 2023\n",
        "np.random.seed(seed)\n",
        "tf.random.set_seed(seed)"
      ],
      "metadata": {
        "id": "00UGjGQ1QlRU"
      },
      "execution_count": 9,
      "outputs": []
    },
    {
      "cell_type": "code",
      "source": [
        "from tensorflow.keras.models import Sequential\n",
        "from tensorflow.keras.layers import Conv2D, MaxPooling2D, Flatten, Dense"
      ],
      "metadata": {
        "id": "P4S--UvuQ2Qj"
      },
      "execution_count": 10,
      "outputs": []
    },
    {
      "cell_type": "code",
      "source": [
        "model = Sequential([ \n",
        "    Conv2D(32, (3,3), input_shape=(24,24,3), activation='relu'),\n",
        "    Conv2D(64, (3,3), activation='relu'),\n",
        "    MaxPooling2D(),\n",
        "    Flatten(),\n",
        "    Dense(128, activation='relu'),\n",
        "    Dense(3, activation='softmax')\n",
        "])\n",
        "model.summary()"
      ],
      "metadata": {
        "colab": {
          "base_uri": "https://localhost:8080/"
        },
        "id": "1VgPBJKNQ5Zb",
        "outputId": "763a2322-31fd-4c9a-bedd-e12609d37a5b"
      },
      "execution_count": 11,
      "outputs": [
        {
          "output_type": "stream",
          "name": "stdout",
          "text": [
            "Model: \"sequential\"\n",
            "_________________________________________________________________\n",
            " Layer (type)                Output Shape              Param #   \n",
            "=================================================================\n",
            " conv2d (Conv2D)             (None, 22, 22, 32)        896       \n",
            "                                                                 \n",
            " conv2d_1 (Conv2D)           (None, 20, 20, 64)        18496     \n",
            "                                                                 \n",
            " max_pooling2d (MaxPooling2D  (None, 10, 10, 64)       0         \n",
            " )                                                               \n",
            "                                                                 \n",
            " flatten (Flatten)           (None, 6400)              0         \n",
            "                                                                 \n",
            " dense (Dense)               (None, 128)               819328    \n",
            "                                                                 \n",
            " dense_1 (Dense)             (None, 3)                 387       \n",
            "                                                                 \n",
            "=================================================================\n",
            "Total params: 839,107\n",
            "Trainable params: 839,107\n",
            "Non-trainable params: 0\n",
            "_________________________________________________________________\n"
          ]
        }
      ]
    },
    {
      "cell_type": "code",
      "source": [
        "model.compile('adam', 'categorical_crossentropy', ['accuracy'])"
      ],
      "metadata": {
        "id": "aiSrEElbQ-rD"
      },
      "execution_count": 12,
      "outputs": []
    },
    {
      "cell_type": "code",
      "source": [
        "model.fit(\n",
        "    train_data_generator, steps_per_epoch=15, epochs=50,\n",
        "    validation_data=test_data_generator, validation_steps=5\n",
        ")"
      ],
      "metadata": {
        "colab": {
          "base_uri": "https://localhost:8080/"
        },
        "id": "kLaJl7asREez",
        "outputId": "e13389d9-24ce-4de8-b322-c85d352c153d"
      },
      "execution_count": 13,
      "outputs": [
        {
          "output_type": "stream",
          "name": "stdout",
          "text": [
            "Epoch 1/50\n",
            "15/15 [==============================] - 1s 34ms/step - loss: 0.6941 - accuracy: 0.7111 - val_loss: 2.0384 - val_accuracy: 0.3333\n",
            "Epoch 2/50\n",
            "15/15 [==============================] - 0s 25ms/step - loss: 0.0726 - accuracy: 1.0000 - val_loss: 3.4238 - val_accuracy: 0.4000\n",
            "Epoch 3/50\n",
            "15/15 [==============================] - 0s 20ms/step - loss: 0.0025 - accuracy: 1.0000 - val_loss: 4.6411 - val_accuracy: 0.4000\n",
            "Epoch 4/50\n",
            "15/15 [==============================] - 0s 22ms/step - loss: 4.9436e-04 - accuracy: 1.0000 - val_loss: 5.1559 - val_accuracy: 0.3333\n",
            "Epoch 5/50\n",
            "15/15 [==============================] - 0s 23ms/step - loss: 1.7470e-04 - accuracy: 1.0000 - val_loss: 5.3770 - val_accuracy: 0.3333\n",
            "Epoch 6/50\n",
            "15/15 [==============================] - 0s 22ms/step - loss: 1.5061e-04 - accuracy: 1.0000 - val_loss: 5.4965 - val_accuracy: 0.3333\n",
            "Epoch 7/50\n",
            "15/15 [==============================] - 0s 24ms/step - loss: 1.2813e-04 - accuracy: 1.0000 - val_loss: 5.5842 - val_accuracy: 0.3333\n",
            "Epoch 8/50\n",
            "15/15 [==============================] - 0s 21ms/step - loss: 1.1277e-04 - accuracy: 1.0000 - val_loss: 5.6630 - val_accuracy: 0.3333\n",
            "Epoch 9/50\n",
            "15/15 [==============================] - 0s 22ms/step - loss: 1.0166e-04 - accuracy: 1.0000 - val_loss: 5.7392 - val_accuracy: 0.3333\n",
            "Epoch 10/50\n",
            "15/15 [==============================] - 0s 23ms/step - loss: 9.1802e-05 - accuracy: 1.0000 - val_loss: 5.8095 - val_accuracy: 0.3333\n",
            "Epoch 11/50\n",
            "15/15 [==============================] - 0s 24ms/step - loss: 8.1485e-05 - accuracy: 1.0000 - val_loss: 5.8873 - val_accuracy: 0.3333\n",
            "Epoch 12/50\n",
            "15/15 [==============================] - 0s 24ms/step - loss: 7.4144e-05 - accuracy: 1.0000 - val_loss: 5.9481 - val_accuracy: 0.3333\n",
            "Epoch 13/50\n",
            "15/15 [==============================] - 0s 21ms/step - loss: 6.8762e-05 - accuracy: 1.0000 - val_loss: 6.0224 - val_accuracy: 0.3333\n",
            "Epoch 14/50\n",
            "15/15 [==============================] - 0s 21ms/step - loss: 6.1225e-05 - accuracy: 1.0000 - val_loss: 6.0733 - val_accuracy: 0.3333\n",
            "Epoch 15/50\n",
            "15/15 [==============================] - 0s 21ms/step - loss: 5.5178e-05 - accuracy: 1.0000 - val_loss: 6.1365 - val_accuracy: 0.3333\n",
            "Epoch 16/50\n",
            "15/15 [==============================] - 0s 23ms/step - loss: 5.0419e-05 - accuracy: 1.0000 - val_loss: 6.1948 - val_accuracy: 0.3333\n",
            "Epoch 17/50\n",
            "15/15 [==============================] - 0s 20ms/step - loss: 4.5031e-05 - accuracy: 1.0000 - val_loss: 6.2503 - val_accuracy: 0.3333\n",
            "Epoch 18/50\n",
            "15/15 [==============================] - 0s 23ms/step - loss: 4.0714e-05 - accuracy: 1.0000 - val_loss: 6.2992 - val_accuracy: 0.3333\n",
            "Epoch 19/50\n",
            "15/15 [==============================] - 0s 24ms/step - loss: 3.6523e-05 - accuracy: 1.0000 - val_loss: 6.3663 - val_accuracy: 0.3333\n",
            "Epoch 20/50\n",
            "15/15 [==============================] - 0s 22ms/step - loss: 3.2754e-05 - accuracy: 1.0000 - val_loss: 6.4458 - val_accuracy: 0.3333\n",
            "Epoch 21/50\n",
            "15/15 [==============================] - 0s 23ms/step - loss: 2.8145e-05 - accuracy: 1.0000 - val_loss: 6.5240 - val_accuracy: 0.3333\n",
            "Epoch 22/50\n",
            "15/15 [==============================] - 0s 23ms/step - loss: 2.5255e-05 - accuracy: 1.0000 - val_loss: 6.5626 - val_accuracy: 0.3333\n",
            "Epoch 23/50\n",
            "15/15 [==============================] - 0s 22ms/step - loss: 2.2577e-05 - accuracy: 1.0000 - val_loss: 6.5876 - val_accuracy: 0.3333\n",
            "Epoch 24/50\n",
            "15/15 [==============================] - 0s 21ms/step - loss: 2.0241e-05 - accuracy: 1.0000 - val_loss: 6.6256 - val_accuracy: 0.3333\n",
            "Epoch 25/50\n",
            "15/15 [==============================] - 0s 21ms/step - loss: 1.8342e-05 - accuracy: 1.0000 - val_loss: 6.6706 - val_accuracy: 0.3333\n",
            "Epoch 26/50\n",
            "15/15 [==============================] - 0s 22ms/step - loss: 1.6631e-05 - accuracy: 1.0000 - val_loss: 6.7020 - val_accuracy: 0.3333\n",
            "Epoch 27/50\n",
            "15/15 [==============================] - 0s 24ms/step - loss: 1.4898e-05 - accuracy: 1.0000 - val_loss: 6.7391 - val_accuracy: 0.3333\n",
            "Epoch 28/50\n",
            "15/15 [==============================] - 0s 23ms/step - loss: 1.3359e-05 - accuracy: 1.0000 - val_loss: 6.7730 - val_accuracy: 0.3333\n",
            "Epoch 29/50\n",
            "15/15 [==============================] - 0s 23ms/step - loss: 1.2278e-05 - accuracy: 1.0000 - val_loss: 6.8038 - val_accuracy: 0.3333\n",
            "Epoch 30/50\n",
            "15/15 [==============================] - 0s 21ms/step - loss: 1.1012e-05 - accuracy: 1.0000 - val_loss: 6.8377 - val_accuracy: 0.3333\n",
            "Epoch 31/50\n",
            "15/15 [==============================] - 0s 21ms/step - loss: 9.9869e-06 - accuracy: 1.0000 - val_loss: 6.8736 - val_accuracy: 0.3333\n",
            "Epoch 32/50\n",
            "15/15 [==============================] - 0s 21ms/step - loss: 8.9909e-06 - accuracy: 1.0000 - val_loss: 6.9079 - val_accuracy: 0.3333\n",
            "Epoch 33/50\n",
            "15/15 [==============================] - 0s 22ms/step - loss: 8.0611e-06 - accuracy: 1.0000 - val_loss: 6.9328 - val_accuracy: 0.3333\n",
            "Epoch 34/50\n",
            "15/15 [==============================] - 0s 21ms/step - loss: 7.3220e-06 - accuracy: 1.0000 - val_loss: 6.9653 - val_accuracy: 0.3333\n",
            "Epoch 35/50\n",
            "15/15 [==============================] - 0s 22ms/step - loss: 6.6677e-06 - accuracy: 1.0000 - val_loss: 6.9958 - val_accuracy: 0.3333\n",
            "Epoch 36/50\n",
            "15/15 [==============================] - 0s 22ms/step - loss: 6.0399e-06 - accuracy: 1.0000 - val_loss: 7.0211 - val_accuracy: 0.3333\n",
            "Epoch 37/50\n",
            "15/15 [==============================] - 0s 21ms/step - loss: 5.6611e-06 - accuracy: 1.0000 - val_loss: 7.0476 - val_accuracy: 0.3333\n",
            "Epoch 38/50\n",
            "15/15 [==============================] - 0s 22ms/step - loss: 5.1895e-06 - accuracy: 1.0000 - val_loss: 7.0663 - val_accuracy: 0.3333\n",
            "Epoch 39/50\n",
            "15/15 [==============================] - 0s 24ms/step - loss: 4.8637e-06 - accuracy: 1.0000 - val_loss: 7.0731 - val_accuracy: 0.3333\n",
            "Epoch 40/50\n",
            "15/15 [==============================] - 0s 21ms/step - loss: 4.4796e-06 - accuracy: 1.0000 - val_loss: 7.0857 - val_accuracy: 0.3333\n",
            "Epoch 41/50\n",
            "15/15 [==============================] - 0s 21ms/step - loss: 4.1908e-06 - accuracy: 1.0000 - val_loss: 7.0968 - val_accuracy: 0.3333\n",
            "Epoch 42/50\n",
            "15/15 [==============================] - 0s 23ms/step - loss: 3.9233e-06 - accuracy: 1.0000 - val_loss: 7.1129 - val_accuracy: 0.3333\n",
            "Epoch 43/50\n",
            "15/15 [==============================] - 0s 22ms/step - loss: 3.6875e-06 - accuracy: 1.0000 - val_loss: 7.1238 - val_accuracy: 0.3333\n",
            "Epoch 44/50\n",
            "15/15 [==============================] - 0s 21ms/step - loss: 3.4809e-06 - accuracy: 1.0000 - val_loss: 7.1338 - val_accuracy: 0.3333\n",
            "Epoch 45/50\n",
            "15/15 [==============================] - 0s 21ms/step - loss: 3.2504e-06 - accuracy: 1.0000 - val_loss: 7.1474 - val_accuracy: 0.3333\n",
            "Epoch 46/50\n",
            "15/15 [==============================] - 0s 23ms/step - loss: 3.0809e-06 - accuracy: 1.0000 - val_loss: 7.1595 - val_accuracy: 0.3333\n",
            "Epoch 47/50\n",
            "15/15 [==============================] - 0s 20ms/step - loss: 2.9272e-06 - accuracy: 1.0000 - val_loss: 7.1706 - val_accuracy: 0.3333\n",
            "Epoch 48/50\n",
            "15/15 [==============================] - 0s 24ms/step - loss: 2.7868e-06 - accuracy: 1.0000 - val_loss: 7.1759 - val_accuracy: 0.3333\n",
            "Epoch 49/50\n",
            "15/15 [==============================] - 0s 22ms/step - loss: 2.5855e-06 - accuracy: 1.0000 - val_loss: 7.1858 - val_accuracy: 0.3333\n",
            "Epoch 50/50\n",
            "15/15 [==============================] - 0s 20ms/step - loss: 2.4742e-06 - accuracy: 1.0000 - val_loss: 7.1976 - val_accuracy: 0.3333\n"
          ]
        },
        {
          "output_type": "execute_result",
          "data": {
            "text/plain": [
              "<keras.callbacks.History at 0x7fcb113bfe50>"
            ]
          },
          "metadata": {},
          "execution_count": 13
        }
      ]
    },
    {
      "cell_type": "code",
      "source": [
        "model.evaluate(test_data_generator)"
      ],
      "metadata": {
        "colab": {
          "base_uri": "https://localhost:8080/"
        },
        "id": "2XY5LNgWRXTE",
        "outputId": "99d053fe-991b-44d8-838f-649b87d21fbd"
      },
      "execution_count": 14,
      "outputs": [
        {
          "output_type": "stream",
          "name": "stdout",
          "text": [
            "5/5 [==============================] - 0s 11ms/step - loss: 7.1976 - accuracy: 0.3333\n"
          ]
        },
        {
          "output_type": "execute_result",
          "data": {
            "text/plain": [
              "[7.19764518737793, 0.3333333432674408]"
            ]
          },
          "metadata": {},
          "execution_count": 14
        }
      ]
    },
    {
      "cell_type": "code",
      "source": [],
      "metadata": {
        "id": "SH2H91jDRjAc"
      },
      "execution_count": null,
      "outputs": []
    }
  ]
}