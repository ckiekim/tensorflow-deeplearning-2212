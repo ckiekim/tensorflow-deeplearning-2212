{
  "nbformat": 4,
  "nbformat_minor": 0,
  "metadata": {
    "colab": {
      "provenance": []
    },
    "kernelspec": {
      "name": "python3",
      "display_name": "Python 3"
    },
    "language_info": {
      "name": "python"
    },
    "accelerator": "GPU",
    "gpuClass": "standard"
  },
  "cells": [
    {
      "cell_type": "markdown",
      "source": [
        "# MNIST 손글씨 - CNN v4\n",
        "- 1 Conv2D layer\n",
        "- 1 MaxPooling2D layer\n",
        "- 1 Conv2D layer\n",
        "- 1 MaxPooling2D layer\n",
        "- 1 Dropout(0.25) layer\n",
        "- 1 FCN layer\n",
        "- 1 Dropout(0.5) layer\n",
        "- 1 Output layer"
      ],
      "metadata": {
        "id": "F3RuGTntsOIq"
      }
    },
    {
      "cell_type": "code",
      "execution_count": 1,
      "metadata": {
        "id": "LX1LaZbqsHvm"
      },
      "outputs": [],
      "source": [
        "import numpy as np\n",
        "import pandas as pd\n",
        "import matplotlib.pyplot as plt\n",
        "seed = 2023\n",
        "np.random.seed(seed)"
      ]
    },
    {
      "cell_type": "markdown",
      "source": [
        "- 데이터 전처리"
      ],
      "metadata": {
        "id": "c1f-7UTZsqGi"
      }
    },
    {
      "cell_type": "code",
      "source": [
        "from tensorflow.keras.datasets import mnist\n",
        "(X_train, y_train), (X_test, y_test) = mnist.load_data()\n",
        "X_train.shape, y_train.shape, X_test.shape, y_test.shape"
      ],
      "metadata": {
        "colab": {
          "base_uri": "https://localhost:8080/"
        },
        "id": "rshKVrtfsntL",
        "outputId": "737e4621-e281-4e0d-899b-cb78ef56545b"
      },
      "execution_count": 2,
      "outputs": [
        {
          "output_type": "stream",
          "name": "stdout",
          "text": [
            "Downloading data from https://storage.googleapis.com/tensorflow/tf-keras-datasets/mnist.npz\n",
            "11490434/11490434 [==============================] - 2s 0us/step\n"
          ]
        },
        {
          "output_type": "execute_result",
          "data": {
            "text/plain": [
              "((60000, 28, 28), (60000,), (10000, 28, 28), (10000,))"
            ]
          },
          "metadata": {},
          "execution_count": 2
        }
      ]
    },
    {
      "cell_type": "code",
      "source": [
        "# X data: 0 ~ 1 사이의 값으로 정규화 및 이미지 차원 변경(2차원 -> 3차원)\n",
        "X_train = X_train.reshape(-1, 28, 28, 1) / 255.\n",
        "X_test = X_test.reshape(-1, 28, 28, 1) / 255. \n",
        "X_train.shape, X_test.shape"
      ],
      "metadata": {
        "colab": {
          "base_uri": "https://localhost:8080/"
        },
        "id": "XUmZNr6ssvBy",
        "outputId": "6a981455-7ee8-41c9-bcbf-ae9aeb93c493"
      },
      "execution_count": 3,
      "outputs": [
        {
          "output_type": "execute_result",
          "data": {
            "text/plain": [
              "((60000, 28, 28, 1), (10000, 28, 28, 1))"
            ]
          },
          "metadata": {},
          "execution_count": 3
        }
      ]
    },
    {
      "cell_type": "code",
      "source": [
        "# One-hot encoding\n",
        "from tensorflow.keras.utils import to_categorical\n",
        "\n",
        "Y_train = to_categorical(y_train)\n",
        "Y_test = to_categorical(y_test)\n",
        "Y_train.shape, Y_test.shape"
      ],
      "metadata": {
        "colab": {
          "base_uri": "https://localhost:8080/"
        },
        "id": "ntpoN5sOtPkr",
        "outputId": "f8b96c12-f51c-4eff-a386-c2fd55702614"
      },
      "execution_count": 4,
      "outputs": [
        {
          "output_type": "execute_result",
          "data": {
            "text/plain": [
              "((60000, 10), (10000, 10))"
            ]
          },
          "metadata": {},
          "execution_count": 4
        }
      ]
    },
    {
      "cell_type": "markdown",
      "source": [
        "## 모델 정의/설정/학습/평가"
      ],
      "metadata": {
        "id": "oTKjT8zLwRqz"
      }
    },
    {
      "cell_type": "code",
      "source": [
        "from tensorflow.keras.models import Sequential, load_model\n",
        "from tensorflow.keras.layers import Dense, Conv2D, Flatten, MaxPooling2D, Dropout\n",
        "from tensorflow.keras.callbacks import ModelCheckpoint, EarlyStopping"
      ],
      "metadata": {
        "id": "RxdW6PM1wOYV"
      },
      "execution_count": 5,
      "outputs": []
    },
    {
      "cell_type": "code",
      "source": [
        "model = Sequential([ \n",
        "    Conv2D(32, kernel_size=(3,3), input_shape=(28,28,1), activation='relu'),\n",
        "    MaxPooling2D(),                 # MaxPooling2D(pool_size=(2,2))\n",
        "    Conv2D(64, (3,3), activation='relu'),\n",
        "    MaxPooling2D(),                 # MaxPooling2D(pool_size=(2,2))\n",
        "    Dropout(0.25),\n",
        "    Flatten(),\n",
        "    Dense(512, activation='relu'),\n",
        "    Dropout(0.5),\n",
        "    Dense(10, activation='softmax')\n",
        "])\n",
        "model.summary()"
      ],
      "metadata": {
        "colab": {
          "base_uri": "https://localhost:8080/"
        },
        "id": "xaPVi87uwkwb",
        "outputId": "ab1c1742-20af-4ef6-b0f0-71d19a1dcde9"
      },
      "execution_count": 6,
      "outputs": [
        {
          "output_type": "stream",
          "name": "stdout",
          "text": [
            "Model: \"sequential\"\n",
            "_________________________________________________________________\n",
            " Layer (type)                Output Shape              Param #   \n",
            "=================================================================\n",
            " conv2d (Conv2D)             (None, 26, 26, 32)        320       \n",
            "                                                                 \n",
            " max_pooling2d (MaxPooling2D  (None, 13, 13, 32)       0         \n",
            " )                                                               \n",
            "                                                                 \n",
            " conv2d_1 (Conv2D)           (None, 11, 11, 64)        18496     \n",
            "                                                                 \n",
            " max_pooling2d_1 (MaxPooling  (None, 5, 5, 64)         0         \n",
            " 2D)                                                             \n",
            "                                                                 \n",
            " dropout (Dropout)           (None, 5, 5, 64)          0         \n",
            "                                                                 \n",
            " flatten (Flatten)           (None, 1600)              0         \n",
            "                                                                 \n",
            " dense (Dense)               (None, 512)               819712    \n",
            "                                                                 \n",
            " dropout_1 (Dropout)         (None, 512)               0         \n",
            "                                                                 \n",
            " dense_1 (Dense)             (None, 10)                5130      \n",
            "                                                                 \n",
            "=================================================================\n",
            "Total params: 843,658\n",
            "Trainable params: 843,658\n",
            "Non-trainable params: 0\n",
            "_________________________________________________________________\n"
          ]
        }
      ]
    },
    {
      "cell_type": "code",
      "source": [
        "model.compile('adam', 'categorical_crossentropy', ['accuracy'])"
      ],
      "metadata": {
        "id": "CHKUwojMxgT1"
      },
      "execution_count": 7,
      "outputs": []
    },
    {
      "cell_type": "code",
      "source": [
        "model_path = 'best_model.h5'\n",
        "mc = ModelCheckpoint(filepath=model_path, verbose=1, save_best_only=True)\n",
        "es = EarlyStopping(monitor='val_loss', patience=10)\n",
        "hist = model.fit(X_train, Y_train, validation_split=0.2,\n",
        "                   epochs=100, batch_size=200, \n",
        "                   callbacks=[mc, es])"
      ],
      "metadata": {
        "colab": {
          "base_uri": "https://localhost:8080/"
        },
        "id": "Z3g6fiVNznoH",
        "outputId": "5764e97d-c318-4b38-ff0c-494a0d589a0e"
      },
      "execution_count": 8,
      "outputs": [
        {
          "output_type": "stream",
          "name": "stdout",
          "text": [
            "Epoch 1/100\n",
            "234/240 [============================>.] - ETA: 0s - loss: 0.3031 - accuracy: 0.9082\n",
            "Epoch 1: val_loss improved from inf to 0.07552, saving model to best_model.h5\n",
            "240/240 [==============================] - 12s 10ms/step - loss: 0.2988 - accuracy: 0.9096 - val_loss: 0.0755 - val_accuracy: 0.9783\n",
            "Epoch 2/100\n",
            "240/240 [==============================] - ETA: 0s - loss: 0.0829 - accuracy: 0.9740\n",
            "Epoch 2: val_loss improved from 0.07552 to 0.05482, saving model to best_model.h5\n",
            "240/240 [==============================] - 2s 8ms/step - loss: 0.0829 - accuracy: 0.9740 - val_loss: 0.0548 - val_accuracy: 0.9850\n",
            "Epoch 3/100\n",
            "238/240 [============================>.] - ETA: 0s - loss: 0.0604 - accuracy: 0.9811\n",
            "Epoch 3: val_loss improved from 0.05482 to 0.04336, saving model to best_model.h5\n",
            "240/240 [==============================] - 2s 8ms/step - loss: 0.0606 - accuracy: 0.9811 - val_loss: 0.0434 - val_accuracy: 0.9877\n",
            "Epoch 4/100\n",
            "238/240 [============================>.] - ETA: 0s - loss: 0.0499 - accuracy: 0.9844\n",
            "Epoch 4: val_loss improved from 0.04336 to 0.03574, saving model to best_model.h5\n",
            "240/240 [==============================] - 2s 8ms/step - loss: 0.0498 - accuracy: 0.9844 - val_loss: 0.0357 - val_accuracy: 0.9899\n",
            "Epoch 5/100\n",
            "238/240 [============================>.] - ETA: 0s - loss: 0.0408 - accuracy: 0.9870\n",
            "Epoch 5: val_loss improved from 0.03574 to 0.03488, saving model to best_model.h5\n",
            "240/240 [==============================] - 2s 7ms/step - loss: 0.0407 - accuracy: 0.9871 - val_loss: 0.0349 - val_accuracy: 0.9902\n",
            "Epoch 6/100\n",
            "235/240 [============================>.] - ETA: 0s - loss: 0.0358 - accuracy: 0.9884\n",
            "Epoch 6: val_loss improved from 0.03488 to 0.03230, saving model to best_model.h5\n",
            "240/240 [==============================] - 2s 8ms/step - loss: 0.0358 - accuracy: 0.9884 - val_loss: 0.0323 - val_accuracy: 0.9910\n",
            "Epoch 7/100\n",
            "233/240 [============================>.] - ETA: 0s - loss: 0.0316 - accuracy: 0.9900\n",
            "Epoch 7: val_loss did not improve from 0.03230\n",
            "240/240 [==============================] - 2s 7ms/step - loss: 0.0312 - accuracy: 0.9901 - val_loss: 0.0359 - val_accuracy: 0.9902\n",
            "Epoch 8/100\n",
            "240/240 [==============================] - ETA: 0s - loss: 0.0283 - accuracy: 0.9909\n",
            "Epoch 8: val_loss did not improve from 0.03230\n",
            "240/240 [==============================] - 2s 8ms/step - loss: 0.0283 - accuracy: 0.9909 - val_loss: 0.0333 - val_accuracy: 0.9904\n",
            "Epoch 9/100\n",
            "238/240 [============================>.] - ETA: 0s - loss: 0.0265 - accuracy: 0.9915\n",
            "Epoch 9: val_loss improved from 0.03230 to 0.03111, saving model to best_model.h5\n",
            "240/240 [==============================] - 2s 7ms/step - loss: 0.0265 - accuracy: 0.9915 - val_loss: 0.0311 - val_accuracy: 0.9912\n",
            "Epoch 10/100\n",
            "238/240 [============================>.] - ETA: 0s - loss: 0.0216 - accuracy: 0.9934\n",
            "Epoch 10: val_loss improved from 0.03111 to 0.03050, saving model to best_model.h5\n",
            "240/240 [==============================] - 2s 7ms/step - loss: 0.0215 - accuracy: 0.9934 - val_loss: 0.0305 - val_accuracy: 0.9911\n",
            "Epoch 11/100\n",
            "239/240 [============================>.] - ETA: 0s - loss: 0.0190 - accuracy: 0.9936\n",
            "Epoch 11: val_loss did not improve from 0.03050\n",
            "240/240 [==============================] - 2s 7ms/step - loss: 0.0190 - accuracy: 0.9936 - val_loss: 0.0331 - val_accuracy: 0.9916\n",
            "Epoch 12/100\n",
            "240/240 [==============================] - ETA: 0s - loss: 0.0199 - accuracy: 0.9934\n",
            "Epoch 12: val_loss did not improve from 0.03050\n",
            "240/240 [==============================] - 2s 7ms/step - loss: 0.0199 - accuracy: 0.9934 - val_loss: 0.0328 - val_accuracy: 0.9916\n",
            "Epoch 13/100\n",
            "239/240 [============================>.] - ETA: 0s - loss: 0.0171 - accuracy: 0.9943\n",
            "Epoch 13: val_loss improved from 0.03050 to 0.03009, saving model to best_model.h5\n",
            "240/240 [==============================] - 2s 8ms/step - loss: 0.0171 - accuracy: 0.9943 - val_loss: 0.0301 - val_accuracy: 0.9922\n",
            "Epoch 14/100\n",
            "239/240 [============================>.] - ETA: 0s - loss: 0.0167 - accuracy: 0.9945\n",
            "Epoch 14: val_loss did not improve from 0.03009\n",
            "240/240 [==============================] - 2s 8ms/step - loss: 0.0167 - accuracy: 0.9946 - val_loss: 0.0336 - val_accuracy: 0.9907\n",
            "Epoch 15/100\n",
            "238/240 [============================>.] - ETA: 0s - loss: 0.0159 - accuracy: 0.9946\n",
            "Epoch 15: val_loss did not improve from 0.03009\n",
            "240/240 [==============================] - 2s 7ms/step - loss: 0.0159 - accuracy: 0.9947 - val_loss: 0.0305 - val_accuracy: 0.9924\n",
            "Epoch 16/100\n",
            "240/240 [==============================] - ETA: 0s - loss: 0.0150 - accuracy: 0.9950\n",
            "Epoch 16: val_loss improved from 0.03009 to 0.02844, saving model to best_model.h5\n",
            "240/240 [==============================] - 2s 8ms/step - loss: 0.0150 - accuracy: 0.9950 - val_loss: 0.0284 - val_accuracy: 0.9927\n",
            "Epoch 17/100\n",
            "239/240 [============================>.] - ETA: 0s - loss: 0.0140 - accuracy: 0.9954\n",
            "Epoch 17: val_loss did not improve from 0.02844\n",
            "240/240 [==============================] - 2s 7ms/step - loss: 0.0140 - accuracy: 0.9954 - val_loss: 0.0313 - val_accuracy: 0.9906\n",
            "Epoch 18/100\n",
            "232/240 [============================>.] - ETA: 0s - loss: 0.0123 - accuracy: 0.9959\n",
            "Epoch 18: val_loss did not improve from 0.02844\n",
            "240/240 [==============================] - 2s 7ms/step - loss: 0.0120 - accuracy: 0.9960 - val_loss: 0.0300 - val_accuracy: 0.9918\n",
            "Epoch 19/100\n",
            "235/240 [============================>.] - ETA: 0s - loss: 0.0124 - accuracy: 0.9956\n",
            "Epoch 19: val_loss did not improve from 0.02844\n",
            "240/240 [==============================] - 2s 7ms/step - loss: 0.0124 - accuracy: 0.9956 - val_loss: 0.0305 - val_accuracy: 0.9923\n",
            "Epoch 20/100\n",
            "235/240 [============================>.] - ETA: 0s - loss: 0.0118 - accuracy: 0.9958\n",
            "Epoch 20: val_loss did not improve from 0.02844\n",
            "240/240 [==============================] - 2s 9ms/step - loss: 0.0118 - accuracy: 0.9958 - val_loss: 0.0317 - val_accuracy: 0.9924\n",
            "Epoch 21/100\n",
            "240/240 [==============================] - ETA: 0s - loss: 0.0116 - accuracy: 0.9960\n",
            "Epoch 21: val_loss did not improve from 0.02844\n",
            "240/240 [==============================] - 2s 9ms/step - loss: 0.0116 - accuracy: 0.9960 - val_loss: 0.0315 - val_accuracy: 0.9920\n",
            "Epoch 22/100\n",
            "239/240 [============================>.] - ETA: 0s - loss: 0.0109 - accuracy: 0.9962\n",
            "Epoch 22: val_loss did not improve from 0.02844\n",
            "240/240 [==============================] - 2s 8ms/step - loss: 0.0110 - accuracy: 0.9962 - val_loss: 0.0310 - val_accuracy: 0.9923\n",
            "Epoch 23/100\n",
            "237/240 [============================>.] - ETA: 0s - loss: 0.0099 - accuracy: 0.9964\n",
            "Epoch 23: val_loss did not improve from 0.02844\n",
            "240/240 [==============================] - 2s 9ms/step - loss: 0.0099 - accuracy: 0.9965 - val_loss: 0.0302 - val_accuracy: 0.9932\n",
            "Epoch 24/100\n",
            "233/240 [============================>.] - ETA: 0s - loss: 0.0087 - accuracy: 0.9969\n",
            "Epoch 24: val_loss did not improve from 0.02844\n",
            "240/240 [==============================] - 2s 7ms/step - loss: 0.0086 - accuracy: 0.9969 - val_loss: 0.0341 - val_accuracy: 0.9926\n",
            "Epoch 25/100\n",
            "236/240 [============================>.] - ETA: 0s - loss: 0.0088 - accuracy: 0.9967\n",
            "Epoch 25: val_loss did not improve from 0.02844\n",
            "240/240 [==============================] - 2s 7ms/step - loss: 0.0087 - accuracy: 0.9967 - val_loss: 0.0286 - val_accuracy: 0.9937\n",
            "Epoch 26/100\n",
            "236/240 [============================>.] - ETA: 0s - loss: 0.0098 - accuracy: 0.9967\n",
            "Epoch 26: val_loss did not improve from 0.02844\n",
            "240/240 [==============================] - 2s 7ms/step - loss: 0.0098 - accuracy: 0.9967 - val_loss: 0.0336 - val_accuracy: 0.9920\n"
          ]
        }
      ]
    },
    {
      "cell_type": "code",
      "source": [
        "best_model = load_model(model_path)\n",
        "best_model.evaluate(X_test, Y_test)"
      ],
      "metadata": {
        "colab": {
          "base_uri": "https://localhost:8080/"
        },
        "id": "PZJGZ377z5Gl",
        "outputId": "4428974f-e6fb-4980-8c1c-3c831608ed67"
      },
      "execution_count": 9,
      "outputs": [
        {
          "output_type": "stream",
          "name": "stdout",
          "text": [
            "313/313 [==============================] - 1s 3ms/step - loss: 0.0231 - accuracy: 0.9927\n"
          ]
        },
        {
          "output_type": "execute_result",
          "data": {
            "text/plain": [
              "[0.02311073988676071, 0.9926999807357788]"
            ]
          },
          "metadata": {},
          "execution_count": 9
        }
      ]
    },
    {
      "cell_type": "markdown",
      "source": [
        "- 시각화"
      ],
      "metadata": {
        "id": "UAdOX8uV1TId"
      }
    },
    {
      "cell_type": "code",
      "source": [
        "y_acc = hist.history['accuracy']\n",
        "y_vloss = hist.history['val_loss']\n",
        "xs = np.arange(1, len(y_acc)+1)\n",
        "plt.figure(figsize=(12,8))\n",
        "plt.plot(xs, y_acc, label='train accuracy')\n",
        "plt.plot(xs, y_vloss, label='validation loss')\n",
        "plt.legend(), plt.grid()\n",
        "plt.ylim([0,1.2])\n",
        "plt.xlabel('Epoch')\n",
        "plt.show()"
      ],
      "metadata": {
        "colab": {
          "base_uri": "https://localhost:8080/",
          "height": 501
        },
        "id": "UsZDAJaZ1Il3",
        "outputId": "e5262771-ca52-46a2-fedb-41aed73621fc"
      },
      "execution_count": 10,
      "outputs": [
        {
          "output_type": "display_data",
          "data": {
            "text/plain": [
              "<Figure size 864x576 with 1 Axes>"
            ],
            "image/png": "[encoded data removed]"
          },
          "metadata": {
            "needs_background": "light"
          }
        }
      ]
    },
    {
      "cell_type": "code",
      "source": [],
      "metadata": {
        "id": "u6CwpYew1iXt"
      },
      "execution_count": 10,
      "outputs": []
    }
  ]
}