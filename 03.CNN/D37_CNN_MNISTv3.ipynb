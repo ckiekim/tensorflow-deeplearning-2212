{
  "nbformat": 4,
  "nbformat_minor": 0,
  "metadata": {
    "colab": {
      "provenance": []
    },
    "kernelspec": {
      "name": "python3",
      "display_name": "Python 3"
    },
    "language_info": {
      "name": "python"
    },
    "accelerator": "GPU",
    "gpuClass": "standard"
  },
  "cells": [
    {
      "cell_type": "markdown",
      "source": [
        "# MNIST 손글씨 - CNN v3\n",
        "- 2 Conv2D layers\n",
        "- 1 MaxPooling2D layer\n",
        "- 1 Dropout(0.25) layer\n",
        "- 1 FCN layer\n",
        "- 1 Dropout(0.5) layer\n",
        "- 1 Output layer"
      ],
      "metadata": {
        "id": "F3RuGTntsOIq"
      }
    },
    {
      "cell_type": "code",
      "execution_count": 1,
      "metadata": {
        "id": "LX1LaZbqsHvm"
      },
      "outputs": [],
      "source": [
        "import numpy as np\n",
        "import pandas as pd\n",
        "import matplotlib.pyplot as plt\n",
        "seed = 2023\n",
        "np.random.seed(seed)"
      ]
    },
    {
      "cell_type": "markdown",
      "source": [
        "- 데이터 전처리"
      ],
      "metadata": {
        "id": "c1f-7UTZsqGi"
      }
    },
    {
      "cell_type": "code",
      "source": [
        "from tensorflow.keras.datasets import mnist\n",
        "(X_train, y_train), (X_test, y_test) = mnist.load_data()\n",
        "X_train.shape, y_train.shape, X_test.shape, y_test.shape"
      ],
      "metadata": {
        "colab": {
          "base_uri": "https://localhost:8080/"
        },
        "id": "rshKVrtfsntL",
        "outputId": "ed822ef1-8f79-4868-daff-c9340024c476"
      },
      "execution_count": 2,
      "outputs": [
        {
          "output_type": "stream",
          "name": "stdout",
          "text": [
            "Downloading data from https://storage.googleapis.com/tensorflow/tf-keras-datasets/mnist.npz\n",
            "11490434/11490434 [==============================] - 0s 0us/step\n"
          ]
        },
        {
          "output_type": "execute_result",
          "data": {
            "text/plain": [
              "((60000, 28, 28), (60000,), (10000, 28, 28), (10000,))"
            ]
          },
          "metadata": {},
          "execution_count": 2
        }
      ]
    },
    {
      "cell_type": "code",
      "source": [
        "# X data: 0 ~ 1 사이의 값으로 정규화 및 이미지 차원 변경(2차원 -> 3차원)\n",
        "X_train = X_train.reshape(-1, 28, 28, 1) / 255.\n",
        "X_test = X_test.reshape(-1, 28, 28, 1) / 255. \n",
        "X_train.shape, X_test.shape"
      ],
      "metadata": {
        "colab": {
          "base_uri": "https://localhost:8080/"
        },
        "id": "XUmZNr6ssvBy",
        "outputId": "87de2cd9-0e09-4107-e2f0-86aa4ca8801c"
      },
      "execution_count": 3,
      "outputs": [
        {
          "output_type": "execute_result",
          "data": {
            "text/plain": [
              "((60000, 28, 28, 1), (10000, 28, 28, 1))"
            ]
          },
          "metadata": {},
          "execution_count": 3
        }
      ]
    },
    {
      "cell_type": "code",
      "source": [
        "# One-hot encoding\n",
        "from tensorflow.keras.utils import to_categorical\n",
        "\n",
        "Y_train = to_categorical(y_train)\n",
        "Y_test = to_categorical(y_test)\n",
        "Y_train.shape, Y_test.shape"
      ],
      "metadata": {
        "colab": {
          "base_uri": "https://localhost:8080/"
        },
        "id": "ntpoN5sOtPkr",
        "outputId": "e3e25adf-c065-4f98-bf90-741070ae0d93"
      },
      "execution_count": 4,
      "outputs": [
        {
          "output_type": "execute_result",
          "data": {
            "text/plain": [
              "((60000, 10), (10000, 10))"
            ]
          },
          "metadata": {},
          "execution_count": 4
        }
      ]
    },
    {
      "cell_type": "markdown",
      "source": [
        "## 모델 정의/설정/학습/평가"
      ],
      "metadata": {
        "id": "oTKjT8zLwRqz"
      }
    },
    {
      "cell_type": "code",
      "source": [
        "from tensorflow.keras.models import Sequential, load_model\n",
        "from tensorflow.keras.layers import Dense, Conv2D, Flatten, MaxPooling2D, Dropout\n",
        "from tensorflow.keras.callbacks import ModelCheckpoint, EarlyStopping"
      ],
      "metadata": {
        "id": "RxdW6PM1wOYV"
      },
      "execution_count": 5,
      "outputs": []
    },
    {
      "cell_type": "code",
      "source": [
        "model = Sequential([ \n",
        "    Conv2D(32, kernel_size=(3,3), input_shape=(28,28,1), activation='relu'),\n",
        "    Conv2D(64, (3,3), activation='relu'),\n",
        "    MaxPooling2D(),                 # MaxPooling2D(pool_size=(2,2))\n",
        "    Dropout(0.25),\n",
        "    Flatten(),\n",
        "    Dense(512, activation='relu'),\n",
        "    Dropout(0.5),\n",
        "    Dense(10, activation='softmax')\n",
        "])\n",
        "model.summary()"
      ],
      "metadata": {
        "colab": {
          "base_uri": "https://localhost:8080/"
        },
        "id": "xaPVi87uwkwb",
        "outputId": "262e9271-50ab-43b9-bd5f-88e652d00faa"
      },
      "execution_count": 6,
      "outputs": [
        {
          "output_type": "stream",
          "name": "stdout",
          "text": [
            "Model: \"sequential\"\n",
            "_________________________________________________________________\n",
            " Layer (type)                Output Shape              Param #   \n",
            "=================================================================\n",
            " conv2d (Conv2D)             (None, 26, 26, 32)        320       \n",
            "                                                                 \n",
            " conv2d_1 (Conv2D)           (None, 24, 24, 64)        18496     \n",
            "                                                                 \n",
            " max_pooling2d (MaxPooling2D  (None, 12, 12, 64)       0         \n",
            " )                                                               \n",
            "                                                                 \n",
            " dropout (Dropout)           (None, 12, 12, 64)        0         \n",
            "                                                                 \n",
            " flatten (Flatten)           (None, 9216)              0         \n",
            "                                                                 \n",
            " dense (Dense)               (None, 512)               4719104   \n",
            "                                                                 \n",
            " dropout_1 (Dropout)         (None, 512)               0         \n",
            "                                                                 \n",
            " dense_1 (Dense)             (None, 10)                5130      \n",
            "                                                                 \n",
            "=================================================================\n",
            "Total params: 4,743,050\n",
            "Trainable params: 4,743,050\n",
            "Non-trainable params: 0\n",
            "_________________________________________________________________\n"
          ]
        }
      ]
    },
    {
      "cell_type": "code",
      "source": [
        "model.compile('adam', 'categorical_crossentropy', ['accuracy'])"
      ],
      "metadata": {
        "id": "CHKUwojMxgT1"
      },
      "execution_count": 7,
      "outputs": []
    },
    {
      "cell_type": "code",
      "source": [
        "model_path = 'best_model.h5'\n",
        "mc = ModelCheckpoint(filepath=model_path, verbose=1, save_best_only=True)\n",
        "es = EarlyStopping(monitor='val_loss', patience=10)\n",
        "hist = model.fit(X_train, Y_train, validation_split=0.2,\n",
        "                   epochs=100, batch_size=200, \n",
        "                   callbacks=[mc, es])"
      ],
      "metadata": {
        "colab": {
          "base_uri": "https://localhost:8080/"
        },
        "id": "Z3g6fiVNznoH",
        "outputId": "404baa07-9d9e-4caa-acd0-2a500050d64f"
      },
      "execution_count": 8,
      "outputs": [
        {
          "output_type": "stream",
          "name": "stdout",
          "text": [
            "Epoch 1/100\n",
            "237/240 [============================>.] - ETA: 0s - loss: 0.2172 - accuracy: 0.9329\n",
            "Epoch 1: val_loss improved from inf to 0.05867, saving model to best_model.h5\n",
            "240/240 [==============================] - 12s 15ms/step - loss: 0.2163 - accuracy: 0.9333 - val_loss: 0.0587 - val_accuracy: 0.9831\n",
            "Epoch 2/100\n",
            "236/240 [============================>.] - ETA: 0s - loss: 0.0611 - accuracy: 0.9811\n",
            "Epoch 2: val_loss improved from 0.05867 to 0.04304, saving model to best_model.h5\n",
            "240/240 [==============================] - 3s 14ms/step - loss: 0.0607 - accuracy: 0.9812 - val_loss: 0.0430 - val_accuracy: 0.9873\n",
            "Epoch 3/100\n",
            "239/240 [============================>.] - ETA: 0s - loss: 0.0426 - accuracy: 0.9861\n",
            "Epoch 3: val_loss improved from 0.04304 to 0.03955, saving model to best_model.h5\n",
            "240/240 [==============================] - 3s 14ms/step - loss: 0.0426 - accuracy: 0.9861 - val_loss: 0.0396 - val_accuracy: 0.9883\n",
            "Epoch 4/100\n",
            "239/240 [============================>.] - ETA: 0s - loss: 0.0340 - accuracy: 0.9896\n",
            "Epoch 4: val_loss improved from 0.03955 to 0.03867, saving model to best_model.h5\n",
            "240/240 [==============================] - 3s 14ms/step - loss: 0.0341 - accuracy: 0.9896 - val_loss: 0.0387 - val_accuracy: 0.9887\n",
            "Epoch 5/100\n",
            "238/240 [============================>.] - ETA: 0s - loss: 0.0277 - accuracy: 0.9908\n",
            "Epoch 5: val_loss improved from 0.03867 to 0.03744, saving model to best_model.h5\n",
            "240/240 [==============================] - 3s 14ms/step - loss: 0.0277 - accuracy: 0.9908 - val_loss: 0.0374 - val_accuracy: 0.9895\n",
            "Epoch 6/100\n",
            "240/240 [==============================] - ETA: 0s - loss: 0.0204 - accuracy: 0.9932\n",
            "Epoch 6: val_loss improved from 0.03744 to 0.03245, saving model to best_model.h5\n",
            "240/240 [==============================] - 3s 14ms/step - loss: 0.0204 - accuracy: 0.9932 - val_loss: 0.0325 - val_accuracy: 0.9919\n",
            "Epoch 7/100\n",
            "237/240 [============================>.] - ETA: 0s - loss: 0.0192 - accuracy: 0.9934\n",
            "Epoch 7: val_loss did not improve from 0.03245\n",
            "240/240 [==============================] - 3s 13ms/step - loss: 0.0192 - accuracy: 0.9934 - val_loss: 0.0326 - val_accuracy: 0.9924\n",
            "Epoch 8/100\n",
            "240/240 [==============================] - ETA: 0s - loss: 0.0146 - accuracy: 0.9951\n",
            "Epoch 8: val_loss did not improve from 0.03245\n",
            "240/240 [==============================] - 3s 14ms/step - loss: 0.0146 - accuracy: 0.9951 - val_loss: 0.0363 - val_accuracy: 0.9901\n",
            "Epoch 9/100\n",
            "237/240 [============================>.] - ETA: 0s - loss: 0.0124 - accuracy: 0.9957\n",
            "Epoch 9: val_loss did not improve from 0.03245\n",
            "240/240 [==============================] - 3s 14ms/step - loss: 0.0126 - accuracy: 0.9956 - val_loss: 0.0332 - val_accuracy: 0.9922\n",
            "Epoch 10/100\n",
            "237/240 [============================>.] - ETA: 0s - loss: 0.0146 - accuracy: 0.9950\n",
            "Epoch 10: val_loss did not improve from 0.03245\n",
            "240/240 [==============================] - 3s 13ms/step - loss: 0.0148 - accuracy: 0.9949 - val_loss: 0.0361 - val_accuracy: 0.9917\n",
            "Epoch 11/100\n",
            "239/240 [============================>.] - ETA: 0s - loss: 0.0108 - accuracy: 0.9965\n",
            "Epoch 11: val_loss did not improve from 0.03245\n",
            "240/240 [==============================] - 3s 14ms/step - loss: 0.0108 - accuracy: 0.9965 - val_loss: 0.0352 - val_accuracy: 0.9914\n",
            "Epoch 12/100\n",
            "239/240 [============================>.] - ETA: 0s - loss: 0.0113 - accuracy: 0.9960\n",
            "Epoch 12: val_loss did not improve from 0.03245\n",
            "240/240 [==============================] - 3s 14ms/step - loss: 0.0113 - accuracy: 0.9960 - val_loss: 0.0369 - val_accuracy: 0.9908\n",
            "Epoch 13/100\n",
            "238/240 [============================>.] - ETA: 0s - loss: 0.0107 - accuracy: 0.9961\n",
            "Epoch 13: val_loss did not improve from 0.03245\n",
            "240/240 [==============================] - 3s 14ms/step - loss: 0.0107 - accuracy: 0.9960 - val_loss: 0.0370 - val_accuracy: 0.9911\n",
            "Epoch 14/100\n",
            "239/240 [============================>.] - ETA: 0s - loss: 0.0096 - accuracy: 0.9968\n",
            "Epoch 14: val_loss did not improve from 0.03245\n",
            "240/240 [==============================] - 4s 15ms/step - loss: 0.0096 - accuracy: 0.9968 - val_loss: 0.0380 - val_accuracy: 0.9899\n",
            "Epoch 15/100\n",
            "237/240 [============================>.] - ETA: 0s - loss: 0.0065 - accuracy: 0.9979\n",
            "Epoch 15: val_loss did not improve from 0.03245\n",
            "240/240 [==============================] - 3s 14ms/step - loss: 0.0065 - accuracy: 0.9979 - val_loss: 0.0383 - val_accuracy: 0.9910\n",
            "Epoch 16/100\n",
            "238/240 [============================>.] - ETA: 0s - loss: 0.0089 - accuracy: 0.9968\n",
            "Epoch 16: val_loss did not improve from 0.03245\n",
            "240/240 [==============================] - 3s 14ms/step - loss: 0.0092 - accuracy: 0.9968 - val_loss: 0.0405 - val_accuracy: 0.9907\n"
          ]
        }
      ]
    },
    {
      "cell_type": "code",
      "source": [
        "best_model = load_model(model_path)\n",
        "best_model.evaluate(X_test, Y_test)"
      ],
      "metadata": {
        "colab": {
          "base_uri": "https://localhost:8080/"
        },
        "id": "PZJGZ377z5Gl",
        "outputId": "7cbd0f6c-4b7c-4740-ff76-00152d0f6ea4"
      },
      "execution_count": 9,
      "outputs": [
        {
          "output_type": "stream",
          "name": "stdout",
          "text": [
            "313/313 [==============================] - 1s 3ms/step - loss: 0.0248 - accuracy: 0.9917\n"
          ]
        },
        {
          "output_type": "execute_result",
          "data": {
            "text/plain": [
              "[0.024831971153616905, 0.9916999936103821]"
            ]
          },
          "metadata": {},
          "execution_count": 9
        }
      ]
    },
    {
      "cell_type": "markdown",
      "source": [
        "- 시각화"
      ],
      "metadata": {
        "id": "UAdOX8uV1TId"
      }
    },
    {
      "cell_type": "code",
      "source": [
        "y_acc = hist.history['accuracy']\n",
        "y_vloss = hist.history['val_loss']\n",
        "xs = np.arange(1, len(y_acc)+1)\n",
        "plt.figure(figsize=(12,8))\n",
        "plt.plot(xs, y_acc, label='train accuracy')\n",
        "plt.plot(xs, y_vloss, label='validation loss')\n",
        "plt.legend(), plt.grid()\n",
        "plt.ylim([0,1.2])\n",
        "plt.xlabel('Epoch')\n",
        "plt.show()"
      ],
      "metadata": {
        "colab": {
          "base_uri": "https://localhost:8080/",
          "height": 501
        },
        "id": "UsZDAJaZ1Il3",
        "outputId": "52ef5407-370a-4e3f-d050-e471174942d5"
      },
      "execution_count": 10,
      "outputs": [
        {
          "output_type": "display_data",
          "data": {
            "text/plain": [
              "<Figure size 864x576 with 1 Axes>"
            ],
            "image/png": "[encoded data removed]"
          },
          "metadata": {
            "needs_background": "light"
          }
        }
      ]
    },
    {
      "cell_type": "code",
      "source": [],
      "metadata": {
        "id": "u6CwpYew1iXt"
      },
      "execution_count": 10,
      "outputs": []
    }
  ]
}