{
  "nbformat": 4,
  "nbformat_minor": 0,
  "metadata": {
    "colab": {
      "provenance": []
    },
    "kernelspec": {
      "name": "python3",
      "display_name": "Python 3"
    },
    "language_info": {
      "name": "python"
    },
    "accelerator": "GPU",
    "gpuClass": "standard"
  },
  "cells": [
    {
      "cell_type": "markdown",
      "source": [
        "# MNIST 손글씨 - CNN v1\n",
        "- 2 Conv2D layers\n",
        "- 1 FCN layer\n",
        "- 1 Output layer"
      ],
      "metadata": {
        "id": "F3RuGTntsOIq"
      }
    },
    {
      "cell_type": "code",
      "execution_count": 1,
      "metadata": {
        "id": "LX1LaZbqsHvm"
      },
      "outputs": [],
      "source": [
        "import numpy as np\n",
        "import pandas as pd\n",
        "import matplotlib.pyplot as plt\n",
        "seed = 2023\n",
        "np.random.seed(seed)"
      ]
    },
    {
      "cell_type": "markdown",
      "source": [
        "- 데이터 전처리"
      ],
      "metadata": {
        "id": "c1f-7UTZsqGi"
      }
    },
    {
      "cell_type": "code",
      "source": [
        "from tensorflow.keras.datasets import mnist\n",
        "(X_train, y_train), (X_test, y_test) = mnist.load_data()\n",
        "X_train.shape, y_train.shape, X_test.shape, y_test.shape"
      ],
      "metadata": {
        "colab": {
          "base_uri": "https://localhost:8080/"
        },
        "id": "rshKVrtfsntL",
        "outputId": "a8116985-ad4b-4cec-c7c2-228895d4cdd2"
      },
      "execution_count": 2,
      "outputs": [
        {
          "output_type": "stream",
          "name": "stdout",
          "text": [
            "Downloading data from https://storage.googleapis.com/tensorflow/tf-keras-datasets/mnist.npz\n",
            "11490434/11490434 [==============================] - 2s 0us/step\n"
          ]
        },
        {
          "output_type": "execute_result",
          "data": {
            "text/plain": [
              "((60000, 28, 28), (60000,), (10000, 28, 28), (10000,))"
            ]
          },
          "metadata": {},
          "execution_count": 2
        }
      ]
    },
    {
      "cell_type": "code",
      "source": [
        "# X data: 0 ~ 1 사이의 값으로 정규화 및 이미지 차원 변경(2차원 -> 3차원)\n",
        "X_train = X_train.reshape(-1, 28, 28, 1) / 255.\n",
        "X_test = X_test.reshape(-1, 28, 28, 1) / 255. \n",
        "X_train.shape, X_test.shape"
      ],
      "metadata": {
        "colab": {
          "base_uri": "https://localhost:8080/"
        },
        "id": "XUmZNr6ssvBy",
        "outputId": "a0f60dc7-4f07-4fcf-ad26-6ed5a7ed26dd"
      },
      "execution_count": 3,
      "outputs": [
        {
          "output_type": "execute_result",
          "data": {
            "text/plain": [
              "((60000, 28, 28, 1), (10000, 28, 28, 1))"
            ]
          },
          "metadata": {},
          "execution_count": 3
        }
      ]
    },
    {
      "cell_type": "code",
      "source": [
        "# One-hot encoding\n",
        "from tensorflow.keras.utils import to_categorical\n",
        "\n",
        "Y_train = to_categorical(y_train)\n",
        "Y_test = to_categorical(y_test)\n",
        "Y_train.shape, Y_test.shape"
      ],
      "metadata": {
        "colab": {
          "base_uri": "https://localhost:8080/"
        },
        "id": "ntpoN5sOtPkr",
        "outputId": "dc041c86-847e-4326-92ae-85cc0a251c98"
      },
      "execution_count": 4,
      "outputs": [
        {
          "output_type": "execute_result",
          "data": {
            "text/plain": [
              "((60000, 10), (10000, 10))"
            ]
          },
          "metadata": {},
          "execution_count": 4
        }
      ]
    },
    {
      "cell_type": "markdown",
      "source": [
        "## 모델 정의/설정/학습/평가"
      ],
      "metadata": {
        "id": "oTKjT8zLwRqz"
      }
    },
    {
      "cell_type": "code",
      "source": [
        "from tensorflow.keras.models import Sequential, load_model\n",
        "from tensorflow.keras.layers import Dense, Conv2D, Flatten\n",
        "from tensorflow.keras.callbacks import ModelCheckpoint, EarlyStopping"
      ],
      "metadata": {
        "id": "RxdW6PM1wOYV"
      },
      "execution_count": 5,
      "outputs": []
    },
    {
      "cell_type": "code",
      "source": [
        "model = Sequential([ \n",
        "    Conv2D(32, kernel_size=(3,3), input_shape=(28,28,1), activation='relu'),\n",
        "    Conv2D(64, (3,3), activation='relu'),\n",
        "    Flatten(),\n",
        "    Dense(512, activation='relu'),\n",
        "    Dense(10, activation='softmax')\n",
        "])\n",
        "model.summary()"
      ],
      "metadata": {
        "colab": {
          "base_uri": "https://localhost:8080/"
        },
        "id": "xaPVi87uwkwb",
        "outputId": "749df06c-1728-40a2-ddbf-39d65d243eab"
      },
      "execution_count": 6,
      "outputs": [
        {
          "output_type": "stream",
          "name": "stdout",
          "text": [
            "Model: \"sequential\"\n",
            "_________________________________________________________________\n",
            " Layer (type)                Output Shape              Param #   \n",
            "=================================================================\n",
            " conv2d (Conv2D)             (None, 26, 26, 32)        320       \n",
            "                                                                 \n",
            " conv2d_1 (Conv2D)           (None, 24, 24, 64)        18496     \n",
            "                                                                 \n",
            " flatten (Flatten)           (None, 36864)             0         \n",
            "                                                                 \n",
            " dense (Dense)               (None, 512)               18874880  \n",
            "                                                                 \n",
            " dense_1 (Dense)             (None, 10)                5130      \n",
            "                                                                 \n",
            "=================================================================\n",
            "Total params: 18,898,826\n",
            "Trainable params: 18,898,826\n",
            "Non-trainable params: 0\n",
            "_________________________________________________________________\n"
          ]
        }
      ]
    },
    {
      "cell_type": "code",
      "source": [
        "model.compile('adam', 'categorical_crossentropy', ['accuracy'])"
      ],
      "metadata": {
        "id": "CHKUwojMxgT1"
      },
      "execution_count": 7,
      "outputs": []
    },
    {
      "cell_type": "code",
      "source": [
        "model_path = 'best_model.h5'\n",
        "mc = ModelCheckpoint(filepath=model_path, verbose=1, save_best_only=True)\n",
        "es = EarlyStopping(monitor='val_loss', patience=10)\n",
        "hist = model.fit(X_train, Y_train, validation_split=0.2,\n",
        "                   epochs=100, batch_size=200, \n",
        "                   callbacks=[mc, es])"
      ],
      "metadata": {
        "colab": {
          "base_uri": "https://localhost:8080/"
        },
        "id": "Z3g6fiVNznoH",
        "outputId": "6573a414-a538-46f5-cf74-fb0d651ccc77"
      },
      "execution_count": 8,
      "outputs": [
        {
          "output_type": "stream",
          "name": "stdout",
          "text": [
            "Epoch 1/100\n",
            "240/240 [==============================] - ETA: 0s - loss: 0.1540 - accuracy: 0.9523\n",
            "Epoch 1: val_loss improved from inf to 0.05818, saving model to best_model.h5\n",
            "240/240 [==============================] - 14s 24ms/step - loss: 0.1540 - accuracy: 0.9523 - val_loss: 0.0582 - val_accuracy: 0.9833\n",
            "Epoch 2/100\n",
            "238/240 [============================>.] - ETA: 0s - loss: 0.0350 - accuracy: 0.9889\n",
            "Epoch 2: val_loss improved from 0.05818 to 0.04526, saving model to best_model.h5\n",
            "240/240 [==============================] - 5s 21ms/step - loss: 0.0352 - accuracy: 0.9889 - val_loss: 0.0453 - val_accuracy: 0.9867\n",
            "Epoch 3/100\n",
            "238/240 [============================>.] - ETA: 0s - loss: 0.0161 - accuracy: 0.9951\n",
            "Epoch 3: val_loss did not improve from 0.04526\n",
            "240/240 [==============================] - 5s 20ms/step - loss: 0.0161 - accuracy: 0.9950 - val_loss: 0.0578 - val_accuracy: 0.9831\n",
            "Epoch 4/100\n",
            "238/240 [============================>.] - ETA: 0s - loss: 0.0112 - accuracy: 0.9963\n",
            "Epoch 4: val_loss did not improve from 0.04526\n",
            "240/240 [==============================] - 5s 20ms/step - loss: 0.0111 - accuracy: 0.9963 - val_loss: 0.0612 - val_accuracy: 0.9844\n",
            "Epoch 5/100\n",
            "238/240 [============================>.] - ETA: 0s - loss: 0.0070 - accuracy: 0.9976\n",
            "Epoch 5: val_loss did not improve from 0.04526\n",
            "240/240 [==============================] - 5s 21ms/step - loss: 0.0069 - accuracy: 0.9976 - val_loss: 0.0605 - val_accuracy: 0.9858\n",
            "Epoch 6/100\n",
            "238/240 [============================>.] - ETA: 0s - loss: 0.0052 - accuracy: 0.9983\n",
            "Epoch 6: val_loss did not improve from 0.04526\n",
            "240/240 [==============================] - 5s 20ms/step - loss: 0.0052 - accuracy: 0.9983 - val_loss: 0.0584 - val_accuracy: 0.9875\n",
            "Epoch 7/100\n",
            "238/240 [============================>.] - ETA: 0s - loss: 0.0058 - accuracy: 0.9979\n",
            "Epoch 7: val_loss did not improve from 0.04526\n",
            "240/240 [==============================] - 5s 21ms/step - loss: 0.0057 - accuracy: 0.9979 - val_loss: 0.0543 - val_accuracy: 0.9886\n",
            "Epoch 8/100\n",
            "238/240 [============================>.] - ETA: 0s - loss: 0.0071 - accuracy: 0.9976\n",
            "Epoch 8: val_loss did not improve from 0.04526\n",
            "240/240 [==============================] - 5s 19ms/step - loss: 0.0073 - accuracy: 0.9976 - val_loss: 0.0588 - val_accuracy: 0.9856\n",
            "Epoch 9/100\n",
            "238/240 [============================>.] - ETA: 0s - loss: 0.0023 - accuracy: 0.9993\n",
            "Epoch 9: val_loss did not improve from 0.04526\n",
            "240/240 [==============================] - 5s 21ms/step - loss: 0.0023 - accuracy: 0.9993 - val_loss: 0.0706 - val_accuracy: 0.9847\n",
            "Epoch 10/100\n",
            "238/240 [============================>.] - ETA: 0s - loss: 0.0024 - accuracy: 0.9992\n",
            "Epoch 10: val_loss did not improve from 0.04526\n",
            "240/240 [==============================] - 5s 19ms/step - loss: 0.0024 - accuracy: 0.9992 - val_loss: 0.0540 - val_accuracy: 0.9880\n",
            "Epoch 11/100\n",
            "238/240 [============================>.] - ETA: 0s - loss: 0.0033 - accuracy: 0.9988\n",
            "Epoch 11: val_loss did not improve from 0.04526\n",
            "240/240 [==============================] - 5s 21ms/step - loss: 0.0033 - accuracy: 0.9988 - val_loss: 0.0648 - val_accuracy: 0.9862\n",
            "Epoch 12/100\n",
            "238/240 [============================>.] - ETA: 0s - loss: 0.0033 - accuracy: 0.9991\n",
            "Epoch 12: val_loss did not improve from 0.04526\n",
            "240/240 [==============================] - 5s 21ms/step - loss: 0.0032 - accuracy: 0.9991 - val_loss: 0.0690 - val_accuracy: 0.9877\n"
          ]
        }
      ]
    },
    {
      "cell_type": "code",
      "source": [
        "best_model = load_model(model_path)\n",
        "best_model.evaluate(X_test, Y_test)"
      ],
      "metadata": {
        "colab": {
          "base_uri": "https://localhost:8080/"
        },
        "id": "PZJGZ377z5Gl",
        "outputId": "3bf60b0a-ca0e-41ba-d948-49d6872dd4e3"
      },
      "execution_count": 9,
      "outputs": [
        {
          "output_type": "stream",
          "name": "stdout",
          "text": [
            "313/313 [==============================] - 1s 3ms/step - loss: 0.0398 - accuracy: 0.9868\n"
          ]
        },
        {
          "output_type": "execute_result",
          "data": {
            "text/plain": [
              "[0.03981805965304375, 0.9868000149726868]"
            ]
          },
          "metadata": {},
          "execution_count": 9
        }
      ]
    },
    {
      "cell_type": "markdown",
      "source": [
        "- 시각화"
      ],
      "metadata": {
        "id": "UAdOX8uV1TId"
      }
    },
    {
      "cell_type": "code",
      "source": [
        "y_acc = hist.history['accuracy']\n",
        "y_vloss = hist.history['val_loss']\n",
        "xs = np.arange(1, len(y_acc)+1)\n",
        "plt.figure(figsize=(12,8))\n",
        "plt.plot(xs, y_acc, label='train accuracy')\n",
        "plt.plot(xs, y_vloss, label='validation loss')\n",
        "plt.legend(), plt.grid()\n",
        "plt.ylim([0,1.2])\n",
        "plt.xlabel('Epoch')\n",
        "plt.show()"
      ],
      "metadata": {
        "colab": {
          "base_uri": "https://localhost:8080/",
          "height": 501
        },
        "id": "UsZDAJaZ1Il3",
        "outputId": "c7b91892-e071-4072-b17b-f6de98d7943a"
      },
      "execution_count": 10,
      "outputs": [
        {
          "output_type": "display_data",
          "data": {
            "text/plain": [
              "<Figure size 864x576 with 1 Axes>"
            ],
            "image/png": "[encoded data removed]"
          },
          "metadata": {
            "needs_background": "light"
          }
        }
      ]
    },
    {
      "cell_type": "code",
      "source": [],
      "metadata": {
        "id": "u6CwpYew1iXt"
      },
      "execution_count": 10,
      "outputs": []
    }
  ]
}