{
  "nbformat": 4,
  "nbformat_minor": 0,
  "metadata": {
    "colab": {
      "provenance": []
    },
    "kernelspec": {
      "name": "python3",
      "display_name": "Python 3"
    },
    "language_info": {
      "name": "python"
    },
    "accelerator": "GPU",
    "gpuClass": "standard"
  },
  "cells": [
    {
      "cell_type": "markdown",
      "source": [
        "# Fashion MNIST CNN\n",
        "- 1 Conv2D layer\n",
        "- 1 MaxPooling2D layer\n",
        "- 1 Conv2D layer\n",
        "- 1 MaxPooling2D layer\n",
        "- 1 Dropout(0.25) layer\n",
        "- 1 FCN layer\n",
        "- 1 Dropout(0.5) layer\n",
        "- 1 Output layer"
      ],
      "metadata": {
        "id": "H--R0Jyh_F-i"
      }
    },
    {
      "cell_type": "code",
      "execution_count": 1,
      "metadata": {
        "id": "-twjnhAC_AFP"
      },
      "outputs": [],
      "source": [
        "import numpy as np\n",
        "import pandas as pd\n",
        "import matplotlib.pyplot as plt\n",
        "seed = 2023\n",
        "np.random.seed(seed)"
      ]
    },
    {
      "cell_type": "markdown",
      "source": [
        "- 데이터 전처리"
      ],
      "metadata": {
        "id": "20yl9ap6_dj1"
      }
    },
    {
      "cell_type": "code",
      "source": [
        "from tensorflow.keras.datasets import fashion_mnist\n",
        "(X_train, y_train), (X_test, y_test) = fashion_mnist.load_data()\n",
        "X_train.shape, y_train.shape, X_test.shape, y_test.shape"
      ],
      "metadata": {
        "colab": {
          "base_uri": "https://localhost:8080/"
        },
        "id": "MEBm2BPW_V18",
        "outputId": "094c1f66-0d67-4fa1-89c4-3580f1505082"
      },
      "execution_count": 2,
      "outputs": [
        {
          "output_type": "stream",
          "name": "stdout",
          "text": [
            "Downloading data from https://storage.googleapis.com/tensorflow/tf-keras-datasets/train-labels-idx1-ubyte.gz\n",
            "29515/29515 [==============================] - 0s 0us/step\n",
            "Downloading data from https://storage.googleapis.com/tensorflow/tf-keras-datasets/train-images-idx3-ubyte.gz\n",
            "26421880/26421880 [==============================] - 2s 0us/step\n",
            "Downloading data from https://storage.googleapis.com/tensorflow/tf-keras-datasets/t10k-labels-idx1-ubyte.gz\n",
            "5148/5148 [==============================] - 0s 0us/step\n",
            "Downloading data from https://storage.googleapis.com/tensorflow/tf-keras-datasets/t10k-images-idx3-ubyte.gz\n",
            "4422102/4422102 [==============================] - 0s 0us/step\n"
          ]
        },
        {
          "output_type": "execute_result",
          "data": {
            "text/plain": [
              "((60000, 28, 28), (60000,), (10000, 28, 28), (10000,))"
            ]
          },
          "metadata": {},
          "execution_count": 2
        }
      ]
    },
    {
      "cell_type": "code",
      "source": [
        "plt.imshow(X_train[0], cmap='Greys');"
      ],
      "metadata": {
        "colab": {
          "base_uri": "https://localhost:8080/",
          "height": 265
        },
        "id": "u0dpfO2g_20L",
        "outputId": "629e00d5-afbb-4712-8fb3-25b3d784ed16"
      },
      "execution_count": 3,
      "outputs": [
        {
          "output_type": "display_data",
          "data": {
            "text/plain": [
              "<Figure size 432x288 with 1 Axes>"
            ],
            "image/png": "[encoded data removed]"
          },
          "metadata": {
            "needs_background": "light"
          }
        }
      ]
    },
    {
      "cell_type": "code",
      "source": [
        "class_names = ['T-shirt/top', 'Trouser', 'Pullover', 'Dress', 'Coat',\n",
        "               'Sandal', 'Shirt', 'Sneaker', 'Bag', 'Ankle boot']"
      ],
      "metadata": {
        "id": "Btq2HxTpADVq"
      },
      "execution_count": 4,
      "outputs": []
    },
    {
      "cell_type": "code",
      "source": [
        "plt.figure(figsize=(13,5))\n",
        "for i in range(1, 11):\n",
        "    plt.subplot(2, 5, i)\n",
        "    plt.imshow(X_train[i], cmap='Greys')\n",
        "    plt.title(class_names[y_train[i]])\n",
        "    plt.xticks([]), plt.yticks([])\n",
        "plt.show()"
      ],
      "metadata": {
        "colab": {
          "base_uri": "https://localhost:8080/",
          "height": 322
        },
        "id": "8SNmEReOAKYb",
        "outputId": "c7a0eacf-6241-40c7-80b5-09aefb9555ba"
      },
      "execution_count": 5,
      "outputs": [
        {
          "output_type": "display_data",
          "data": {
            "text/plain": [
              "<Figure size 936x360 with 10 Axes>"
            ],
            "image/png": "[encoded data removed]"
          },
          "metadata": {}
        }
      ]
    },
    {
      "cell_type": "code",
      "source": [
        "# X data: 0 ~ 1 사이의 값으로 정규화 및 이미지 차원 변경(2차원 -> 3차원)\n",
        "X_train = X_train.reshape(-1, 28, 28, 1) / 255.\n",
        "X_test = X_test.reshape(-1, 28, 28, 1) / 255. \n",
        "X_train.shape, X_test.shape"
      ],
      "metadata": {
        "colab": {
          "base_uri": "https://localhost:8080/"
        },
        "id": "vF26350WA3qU",
        "outputId": "b55049f6-a145-4448-ef89-60215570d185"
      },
      "execution_count": 6,
      "outputs": [
        {
          "output_type": "execute_result",
          "data": {
            "text/plain": [
              "((60000, 28, 28, 1), (10000, 28, 28, 1))"
            ]
          },
          "metadata": {},
          "execution_count": 6
        }
      ]
    },
    {
      "cell_type": "code",
      "source": [
        "# One-hot encoding\n",
        "from tensorflow.keras.utils import to_categorical\n",
        "\n",
        "Y_train = to_categorical(y_train)\n",
        "Y_test = to_categorical(y_test)\n",
        "Y_train.shape, Y_test.shape"
      ],
      "metadata": {
        "colab": {
          "base_uri": "https://localhost:8080/"
        },
        "id": "T5AWlAlzBZkS",
        "outputId": "cb3dee04-f90e-485a-e4e0-309cc3de9bfe"
      },
      "execution_count": 7,
      "outputs": [
        {
          "output_type": "execute_result",
          "data": {
            "text/plain": [
              "((60000, 10), (10000, 10))"
            ]
          },
          "metadata": {},
          "execution_count": 7
        }
      ]
    },
    {
      "cell_type": "markdown",
      "source": [
        "## 모델 정의/설정/학습/평가"
      ],
      "metadata": {
        "id": "-W2w1imNBfSH"
      }
    },
    {
      "cell_type": "code",
      "source": [
        "from tensorflow.keras.models import Sequential, load_model\n",
        "from tensorflow.keras.layers import Dense, Conv2D, Flatten, MaxPooling2D, Dropout\n",
        "from tensorflow.keras.callbacks import ModelCheckpoint, EarlyStopping"
      ],
      "metadata": {
        "id": "NNgGhlkPBc3s"
      },
      "execution_count": 8,
      "outputs": []
    },
    {
      "cell_type": "code",
      "source": [
        "model = Sequential([ \n",
        "    Conv2D(32, kernel_size=(3,3), input_shape=(28,28,1), activation='relu'),\n",
        "    MaxPooling2D(),\n",
        "    Conv2D(64, (3,3), activation='relu'),\n",
        "    MaxPooling2D(),\n",
        "    Dropout(0.25),\n",
        "    Flatten(),\n",
        "    Dense(512, activation='relu'),\n",
        "    Dropout(0.5),\n",
        "    Dense(10, activation='softmax')\n",
        "])\n",
        "model.summary()"
      ],
      "metadata": {
        "colab": {
          "base_uri": "https://localhost:8080/"
        },
        "id": "aN6QGVm1Bndk",
        "outputId": "c803b881-7ee3-466b-e159-670f943ace6a"
      },
      "execution_count": 9,
      "outputs": [
        {
          "output_type": "stream",
          "name": "stdout",
          "text": [
            "Model: \"sequential\"\n",
            "_________________________________________________________________\n",
            " Layer (type)                Output Shape              Param #   \n",
            "=================================================================\n",
            " conv2d (Conv2D)             (None, 26, 26, 32)        320       \n",
            "                                                                 \n",
            " max_pooling2d (MaxPooling2D  (None, 13, 13, 32)       0         \n",
            " )                                                               \n",
            "                                                                 \n",
            " conv2d_1 (Conv2D)           (None, 11, 11, 64)        18496     \n",
            "                                                                 \n",
            " max_pooling2d_1 (MaxPooling  (None, 5, 5, 64)         0         \n",
            " 2D)                                                             \n",
            "                                                                 \n",
            " dropout (Dropout)           (None, 5, 5, 64)          0         \n",
            "                                                                 \n",
            " flatten (Flatten)           (None, 1600)              0         \n",
            "                                                                 \n",
            " dense (Dense)               (None, 512)               819712    \n",
            "                                                                 \n",
            " dropout_1 (Dropout)         (None, 512)               0         \n",
            "                                                                 \n",
            " dense_1 (Dense)             (None, 10)                5130      \n",
            "                                                                 \n",
            "=================================================================\n",
            "Total params: 843,658\n",
            "Trainable params: 843,658\n",
            "Non-trainable params: 0\n",
            "_________________________________________________________________\n"
          ]
        }
      ]
    },
    {
      "cell_type": "code",
      "source": [
        "model.compile('adam', 'categorical_crossentropy', ['accuracy'])"
      ],
      "metadata": {
        "id": "1lC8NnB0Bttj"
      },
      "execution_count": 10,
      "outputs": []
    },
    {
      "cell_type": "code",
      "source": [
        "model_path = 'best_model.h5'\n",
        "mc = ModelCheckpoint(filepath=model_path, verbose=1, save_best_only=True)\n",
        "es = EarlyStopping(monitor='val_loss', patience=10)\n",
        "hist = model.fit(X_train, Y_train, validation_split=0.2,\n",
        "                   epochs=100, batch_size=200, \n",
        "                   callbacks=[mc, es])"
      ],
      "metadata": {
        "colab": {
          "base_uri": "https://localhost:8080/"
        },
        "id": "JRZHsooLB1ZD",
        "outputId": "2f9b1e36-e114-4712-8abf-8c5d1f37eeda"
      },
      "execution_count": 11,
      "outputs": [
        {
          "output_type": "stream",
          "name": "stdout",
          "text": [
            "Epoch 1/100\n",
            "234/240 [============================>.] - ETA: 0s - loss: 0.6416 - accuracy: 0.7663\n",
            "Epoch 1: val_loss improved from inf to 0.39879, saving model to best_model.h5\n",
            "240/240 [==============================] - 11s 9ms/step - loss: 0.6353 - accuracy: 0.7686 - val_loss: 0.3988 - val_accuracy: 0.8542\n",
            "Epoch 2/100\n",
            "232/240 [============================>.] - ETA: 0s - loss: 0.4088 - accuracy: 0.8528\n",
            "Epoch 2: val_loss improved from 0.39879 to 0.34128, saving model to best_model.h5\n",
            "240/240 [==============================] - 2s 7ms/step - loss: 0.4084 - accuracy: 0.8529 - val_loss: 0.3413 - val_accuracy: 0.8786\n",
            "Epoch 3/100\n",
            "236/240 [============================>.] - ETA: 0s - loss: 0.3513 - accuracy: 0.8719\n",
            "Epoch 3: val_loss improved from 0.34128 to 0.30517, saving model to best_model.h5\n",
            "240/240 [==============================] - 2s 7ms/step - loss: 0.3509 - accuracy: 0.8721 - val_loss: 0.3052 - val_accuracy: 0.8896\n",
            "Epoch 4/100\n",
            "234/240 [============================>.] - ETA: 0s - loss: 0.3181 - accuracy: 0.8842\n",
            "Epoch 4: val_loss improved from 0.30517 to 0.28829, saving model to best_model.h5\n",
            "240/240 [==============================] - 2s 8ms/step - loss: 0.3176 - accuracy: 0.8842 - val_loss: 0.2883 - val_accuracy: 0.8928\n",
            "Epoch 5/100\n",
            "239/240 [============================>.] - ETA: 0s - loss: 0.2942 - accuracy: 0.8914\n",
            "Epoch 5: val_loss improved from 0.28829 to 0.27896, saving model to best_model.h5\n",
            "240/240 [==============================] - 2s 7ms/step - loss: 0.2943 - accuracy: 0.8914 - val_loss: 0.2790 - val_accuracy: 0.8963\n",
            "Epoch 6/100\n",
            "240/240 [==============================] - ETA: 0s - loss: 0.2778 - accuracy: 0.8978\n",
            "Epoch 6: val_loss improved from 0.27896 to 0.26178, saving model to best_model.h5\n",
            "240/240 [==============================] - 2s 7ms/step - loss: 0.2778 - accuracy: 0.8978 - val_loss: 0.2618 - val_accuracy: 0.9038\n",
            "Epoch 7/100\n",
            "235/240 [============================>.] - ETA: 0s - loss: 0.2604 - accuracy: 0.9041\n",
            "Epoch 7: val_loss did not improve from 0.26178\n",
            "240/240 [==============================] - 2s 8ms/step - loss: 0.2602 - accuracy: 0.9043 - val_loss: 0.2682 - val_accuracy: 0.9005\n",
            "Epoch 8/100\n",
            "236/240 [============================>.] - ETA: 0s - loss: 0.2483 - accuracy: 0.9076\n",
            "Epoch 8: val_loss improved from 0.26178 to 0.24624, saving model to best_model.h5\n",
            "240/240 [==============================] - 2s 7ms/step - loss: 0.2485 - accuracy: 0.9076 - val_loss: 0.2462 - val_accuracy: 0.9101\n",
            "Epoch 9/100\n",
            "236/240 [============================>.] - ETA: 0s - loss: 0.2366 - accuracy: 0.9132\n",
            "Epoch 9: val_loss improved from 0.24624 to 0.23992, saving model to best_model.h5\n",
            "240/240 [==============================] - 2s 8ms/step - loss: 0.2361 - accuracy: 0.9133 - val_loss: 0.2399 - val_accuracy: 0.9118\n",
            "Epoch 10/100\n",
            "238/240 [============================>.] - ETA: 0s - loss: 0.2279 - accuracy: 0.9161\n",
            "Epoch 10: val_loss did not improve from 0.23992\n",
            "240/240 [==============================] - 2s 7ms/step - loss: 0.2278 - accuracy: 0.9159 - val_loss: 0.2450 - val_accuracy: 0.9106\n",
            "Epoch 11/100\n",
            "240/240 [==============================] - ETA: 0s - loss: 0.2148 - accuracy: 0.9212\n",
            "Epoch 11: val_loss improved from 0.23992 to 0.23577, saving model to best_model.h5\n",
            "240/240 [==============================] - 2s 7ms/step - loss: 0.2148 - accuracy: 0.9212 - val_loss: 0.2358 - val_accuracy: 0.9130\n",
            "Epoch 12/100\n",
            "238/240 [============================>.] - ETA: 0s - loss: 0.2033 - accuracy: 0.9231\n",
            "Epoch 12: val_loss did not improve from 0.23577\n",
            "240/240 [==============================] - 2s 7ms/step - loss: 0.2034 - accuracy: 0.9230 - val_loss: 0.2359 - val_accuracy: 0.9136\n",
            "Epoch 13/100\n",
            "238/240 [============================>.] - ETA: 0s - loss: 0.1970 - accuracy: 0.9261\n",
            "Epoch 13: val_loss improved from 0.23577 to 0.22484, saving model to best_model.h5\n",
            "240/240 [==============================] - 2s 7ms/step - loss: 0.1971 - accuracy: 0.9261 - val_loss: 0.2248 - val_accuracy: 0.9174\n",
            "Epoch 14/100\n",
            "236/240 [============================>.] - ETA: 0s - loss: 0.1900 - accuracy: 0.9282\n",
            "Epoch 14: val_loss did not improve from 0.22484\n",
            "240/240 [==============================] - 2s 7ms/step - loss: 0.1898 - accuracy: 0.9284 - val_loss: 0.2276 - val_accuracy: 0.9178\n",
            "Epoch 15/100\n",
            "238/240 [============================>.] - ETA: 0s - loss: 0.1823 - accuracy: 0.9319\n",
            "Epoch 15: val_loss did not improve from 0.22484\n",
            "240/240 [==============================] - 2s 7ms/step - loss: 0.1824 - accuracy: 0.9319 - val_loss: 0.2265 - val_accuracy: 0.9168\n",
            "Epoch 16/100\n",
            "235/240 [============================>.] - ETA: 0s - loss: 0.1747 - accuracy: 0.9341\n",
            "Epoch 16: val_loss improved from 0.22484 to 0.22093, saving model to best_model.h5\n",
            "240/240 [==============================] - 2s 7ms/step - loss: 0.1749 - accuracy: 0.9341 - val_loss: 0.2209 - val_accuracy: 0.9193\n",
            "Epoch 17/100\n",
            "239/240 [============================>.] - ETA: 0s - loss: 0.1691 - accuracy: 0.9370\n",
            "Epoch 17: val_loss improved from 0.22093 to 0.22068, saving model to best_model.h5\n",
            "240/240 [==============================] - 2s 8ms/step - loss: 0.1693 - accuracy: 0.9369 - val_loss: 0.2207 - val_accuracy: 0.9213\n",
            "Epoch 18/100\n",
            "239/240 [============================>.] - ETA: 0s - loss: 0.1628 - accuracy: 0.9398\n",
            "Epoch 18: val_loss improved from 0.22068 to 0.21945, saving model to best_model.h5\n",
            "240/240 [==============================] - 2s 7ms/step - loss: 0.1626 - accuracy: 0.9398 - val_loss: 0.2194 - val_accuracy: 0.9195\n",
            "Epoch 19/100\n",
            "238/240 [============================>.] - ETA: 0s - loss: 0.1574 - accuracy: 0.9406\n",
            "Epoch 19: val_loss improved from 0.21945 to 0.21856, saving model to best_model.h5\n",
            "240/240 [==============================] - 2s 8ms/step - loss: 0.1574 - accuracy: 0.9407 - val_loss: 0.2186 - val_accuracy: 0.9226\n",
            "Epoch 20/100\n",
            "238/240 [============================>.] - ETA: 0s - loss: 0.1505 - accuracy: 0.9437\n",
            "Epoch 20: val_loss did not improve from 0.21856\n",
            "240/240 [==============================] - 2s 7ms/step - loss: 0.1506 - accuracy: 0.9437 - val_loss: 0.2203 - val_accuracy: 0.9224\n",
            "Epoch 21/100\n",
            "239/240 [============================>.] - ETA: 0s - loss: 0.1435 - accuracy: 0.9462\n",
            "Epoch 21: val_loss did not improve from 0.21856\n",
            "240/240 [==============================] - 2s 7ms/step - loss: 0.1437 - accuracy: 0.9461 - val_loss: 0.2307 - val_accuracy: 0.9193\n",
            "Epoch 22/100\n",
            "234/240 [============================>.] - ETA: 0s - loss: 0.1383 - accuracy: 0.9486\n",
            "Epoch 22: val_loss did not improve from 0.21856\n",
            "240/240 [==============================] - 2s 7ms/step - loss: 0.1382 - accuracy: 0.9486 - val_loss: 0.2238 - val_accuracy: 0.9226\n",
            "Epoch 23/100\n",
            "236/240 [============================>.] - ETA: 0s - loss: 0.1320 - accuracy: 0.9488\n",
            "Epoch 23: val_loss did not improve from 0.21856\n",
            "240/240 [==============================] - 2s 7ms/step - loss: 0.1321 - accuracy: 0.9489 - val_loss: 0.2298 - val_accuracy: 0.9222\n",
            "Epoch 24/100\n",
            "235/240 [============================>.] - ETA: 0s - loss: 0.1319 - accuracy: 0.9499\n",
            "Epoch 24: val_loss did not improve from 0.21856\n",
            "240/240 [==============================] - 2s 9ms/step - loss: 0.1318 - accuracy: 0.9500 - val_loss: 0.2248 - val_accuracy: 0.9212\n",
            "Epoch 25/100\n",
            "236/240 [============================>.] - ETA: 0s - loss: 0.1253 - accuracy: 0.9517\n",
            "Epoch 25: val_loss did not improve from 0.21856\n",
            "240/240 [==============================] - 2s 8ms/step - loss: 0.1254 - accuracy: 0.9516 - val_loss: 0.2254 - val_accuracy: 0.9221\n",
            "Epoch 26/100\n",
            "239/240 [============================>.] - ETA: 0s - loss: 0.1206 - accuracy: 0.9551\n",
            "Epoch 26: val_loss did not improve from 0.21856\n",
            "240/240 [==============================] - 2s 7ms/step - loss: 0.1205 - accuracy: 0.9551 - val_loss: 0.2339 - val_accuracy: 0.9208\n",
            "Epoch 27/100\n",
            "238/240 [============================>.] - ETA: 0s - loss: 0.1189 - accuracy: 0.9546\n",
            "Epoch 27: val_loss did not improve from 0.21856\n",
            "240/240 [==============================] - 2s 7ms/step - loss: 0.1189 - accuracy: 0.9546 - val_loss: 0.2415 - val_accuracy: 0.9217\n",
            "Epoch 28/100\n",
            "238/240 [============================>.] - ETA: 0s - loss: 0.1134 - accuracy: 0.9576\n",
            "Epoch 28: val_loss did not improve from 0.21856\n",
            "240/240 [==============================] - 2s 7ms/step - loss: 0.1137 - accuracy: 0.9575 - val_loss: 0.2406 - val_accuracy: 0.9194\n",
            "Epoch 29/100\n",
            "236/240 [============================>.] - ETA: 0s - loss: 0.1105 - accuracy: 0.9589\n",
            "Epoch 29: val_loss did not improve from 0.21856\n",
            "240/240 [==============================] - 2s 7ms/step - loss: 0.1100 - accuracy: 0.9591 - val_loss: 0.2282 - val_accuracy: 0.9237\n"
          ]
        }
      ]
    },
    {
      "cell_type": "code",
      "source": [
        "best_model = load_model(model_path)\n",
        "best_model.evaluate(X_test, Y_test)"
      ],
      "metadata": {
        "colab": {
          "base_uri": "https://localhost:8080/"
        },
        "id": "NgYGa3A7B7R8",
        "outputId": "bab816a1-f312-4bdd-f96c-a93799fa0a30"
      },
      "execution_count": 12,
      "outputs": [
        {
          "output_type": "stream",
          "name": "stdout",
          "text": [
            "313/313 [==============================] - 1s 3ms/step - loss: 0.2341 - accuracy: 0.9153\n"
          ]
        },
        {
          "output_type": "execute_result",
          "data": {
            "text/plain": [
              "[0.23410910367965698, 0.9153000116348267]"
            ]
          },
          "metadata": {},
          "execution_count": 12
        }
      ]
    },
    {
      "cell_type": "markdown",
      "source": [
        "- 시각화"
      ],
      "metadata": {
        "id": "aiBtr8Z8DD10"
      }
    },
    {
      "cell_type": "code",
      "source": [
        "y_acc = hist.history['accuracy']\n",
        "y_vloss = hist.history['val_loss']\n",
        "xs = np.arange(1, len(y_acc)+1)\n",
        "plt.figure(figsize=(12,8))\n",
        "plt.plot(xs, y_acc, label='train accuracy')\n",
        "plt.plot(xs, y_vloss, label='validation loss')\n",
        "plt.legend(), plt.grid()\n",
        "plt.xlabel('Epoch')\n",
        "plt.show()"
      ],
      "metadata": {
        "colab": {
          "base_uri": "https://localhost:8080/",
          "height": 497
        },
        "id": "V1CnX4nfCq7s",
        "outputId": "3b8ced90-7210-4ffe-f06e-ee6cec046106"
      },
      "execution_count": 14,
      "outputs": [
        {
          "output_type": "display_data",
          "data": {
            "text/plain": [
              "<Figure size 864x576 with 1 Axes>"
            ],
            "image/png": "[encoded data removed]"
          },
          "metadata": {
            "needs_background": "light"
          }
        }
      ]
    },
    {
      "cell_type": "code",
      "source": [],
      "metadata": {
        "id": "HHrDg9kLDInk"
      },
      "execution_count": null,
      "outputs": []
    }
  ]
}