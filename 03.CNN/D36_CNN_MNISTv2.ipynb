{
  "nbformat": 4,
  "nbformat_minor": 0,
  "metadata": {
    "colab": {
      "provenance": []
    },
    "kernelspec": {
      "name": "python3",
      "display_name": "Python 3"
    },
    "language_info": {
      "name": "python"
    },
    "accelerator": "GPU",
    "gpuClass": "standard"
  },
  "cells": [
    {
      "cell_type": "markdown",
      "source": [
        "# MNIST 손글씨 - CNN v2\n",
        "- 2 Conv2D layers\n",
        "- 1 MaxPooling2D layer\n",
        "- 1 FCN layer\n",
        "- 1 Output layer"
      ],
      "metadata": {
        "id": "F3RuGTntsOIq"
      }
    },
    {
      "cell_type": "code",
      "execution_count": 1,
      "metadata": {
        "id": "LX1LaZbqsHvm"
      },
      "outputs": [],
      "source": [
        "import numpy as np\n",
        "import pandas as pd\n",
        "import matplotlib.pyplot as plt\n",
        "seed = 2023\n",
        "np.random.seed(seed)"
      ]
    },
    {
      "cell_type": "markdown",
      "source": [
        "- 데이터 전처리"
      ],
      "metadata": {
        "id": "c1f-7UTZsqGi"
      }
    },
    {
      "cell_type": "code",
      "source": [
        "from tensorflow.keras.datasets import mnist\n",
        "(X_train, y_train), (X_test, y_test) = mnist.load_data()\n",
        "X_train.shape, y_train.shape, X_test.shape, y_test.shape"
      ],
      "metadata": {
        "colab": {
          "base_uri": "https://localhost:8080/"
        },
        "id": "rshKVrtfsntL",
        "outputId": "1fe3fdfe-ba90-408e-efec-503c7ae2b715"
      },
      "execution_count": 2,
      "outputs": [
        {
          "output_type": "stream",
          "name": "stdout",
          "text": [
            "Downloading data from https://storage.googleapis.com/tensorflow/tf-keras-datasets/mnist.npz\n",
            "11490434/11490434 [==============================] - 0s 0us/step\n"
          ]
        },
        {
          "output_type": "execute_result",
          "data": {
            "text/plain": [
              "((60000, 28, 28), (60000,), (10000, 28, 28), (10000,))"
            ]
          },
          "metadata": {},
          "execution_count": 2
        }
      ]
    },
    {
      "cell_type": "code",
      "source": [
        "# X data: 0 ~ 1 사이의 값으로 정규화 및 이미지 차원 변경(2차원 -> 3차원)\n",
        "X_train = X_train.reshape(-1, 28, 28, 1) / 255.\n",
        "X_test = X_test.reshape(-1, 28, 28, 1) / 255. \n",
        "X_train.shape, X_test.shape"
      ],
      "metadata": {
        "colab": {
          "base_uri": "https://localhost:8080/"
        },
        "id": "XUmZNr6ssvBy",
        "outputId": "c51d1fc5-f5a2-49c3-8e8e-1ca9c55edf04"
      },
      "execution_count": 3,
      "outputs": [
        {
          "output_type": "execute_result",
          "data": {
            "text/plain": [
              "((60000, 28, 28, 1), (10000, 28, 28, 1))"
            ]
          },
          "metadata": {},
          "execution_count": 3
        }
      ]
    },
    {
      "cell_type": "code",
      "source": [
        "# One-hot encoding\n",
        "from tensorflow.keras.utils import to_categorical\n",
        "\n",
        "Y_train = to_categorical(y_train)\n",
        "Y_test = to_categorical(y_test)\n",
        "Y_train.shape, Y_test.shape"
      ],
      "metadata": {
        "colab": {
          "base_uri": "https://localhost:8080/"
        },
        "id": "ntpoN5sOtPkr",
        "outputId": "2444166c-08af-49b3-833a-9e6119ab55f5"
      },
      "execution_count": 4,
      "outputs": [
        {
          "output_type": "execute_result",
          "data": {
            "text/plain": [
              "((60000, 10), (10000, 10))"
            ]
          },
          "metadata": {},
          "execution_count": 4
        }
      ]
    },
    {
      "cell_type": "markdown",
      "source": [
        "## 모델 정의/설정/학습/평가"
      ],
      "metadata": {
        "id": "oTKjT8zLwRqz"
      }
    },
    {
      "cell_type": "code",
      "source": [
        "from tensorflow.keras.models import Sequential, load_model\n",
        "from tensorflow.keras.layers import Dense, Conv2D, Flatten, MaxPooling2D, Dropout\n",
        "from tensorflow.keras.callbacks import ModelCheckpoint, EarlyStopping"
      ],
      "metadata": {
        "id": "RxdW6PM1wOYV"
      },
      "execution_count": 5,
      "outputs": []
    },
    {
      "cell_type": "code",
      "source": [
        "model = Sequential([ \n",
        "    Conv2D(32, kernel_size=(3,3), input_shape=(28,28,1), activation='relu'),\n",
        "    Conv2D(64, (3,3), activation='relu'),\n",
        "    MaxPooling2D(),                 # MaxPooling2D(pool_size=(2,2))\n",
        "    Flatten(),\n",
        "    Dense(512, activation='relu'),\n",
        "    Dense(10, activation='softmax')\n",
        "])\n",
        "model.summary()"
      ],
      "metadata": {
        "colab": {
          "base_uri": "https://localhost:8080/"
        },
        "id": "xaPVi87uwkwb",
        "outputId": "82b66d44-759d-4d3f-fe63-07ec0604ca47"
      },
      "execution_count": 6,
      "outputs": [
        {
          "output_type": "stream",
          "name": "stdout",
          "text": [
            "Model: \"sequential\"\n",
            "_________________________________________________________________\n",
            " Layer (type)                Output Shape              Param #   \n",
            "=================================================================\n",
            " conv2d (Conv2D)             (None, 26, 26, 32)        320       \n",
            "                                                                 \n",
            " conv2d_1 (Conv2D)           (None, 24, 24, 64)        18496     \n",
            "                                                                 \n",
            " max_pooling2d (MaxPooling2D  (None, 12, 12, 64)       0         \n",
            " )                                                               \n",
            "                                                                 \n",
            " flatten (Flatten)           (None, 9216)              0         \n",
            "                                                                 \n",
            " dense (Dense)               (None, 512)               4719104   \n",
            "                                                                 \n",
            " dense_1 (Dense)             (None, 10)                5130      \n",
            "                                                                 \n",
            "=================================================================\n",
            "Total params: 4,743,050\n",
            "Trainable params: 4,743,050\n",
            "Non-trainable params: 0\n",
            "_________________________________________________________________\n"
          ]
        }
      ]
    },
    {
      "cell_type": "code",
      "source": [
        "model.compile('adam', 'categorical_crossentropy', ['accuracy'])"
      ],
      "metadata": {
        "id": "CHKUwojMxgT1"
      },
      "execution_count": 7,
      "outputs": []
    },
    {
      "cell_type": "code",
      "source": [
        "model_path = 'best_model.h5'\n",
        "mc = ModelCheckpoint(filepath=model_path, verbose=1, save_best_only=True)\n",
        "es = EarlyStopping(monitor='val_loss', patience=10)\n",
        "hist = model.fit(X_train, Y_train, validation_split=0.2,\n",
        "                   epochs=100, batch_size=200, \n",
        "                   callbacks=[mc, es])"
      ],
      "metadata": {
        "colab": {
          "base_uri": "https://localhost:8080/"
        },
        "id": "Z3g6fiVNznoH",
        "outputId": "5a0b92d8-f9f2-49d5-e968-2978747795ab"
      },
      "execution_count": 8,
      "outputs": [
        {
          "output_type": "stream",
          "name": "stdout",
          "text": [
            "Epoch 1/100\n",
            "238/240 [============================>.] - ETA: 0s - loss: 0.1772 - accuracy: 0.9485\n",
            "Epoch 1: val_loss improved from inf to 0.06374, saving model to best_model.h5\n",
            "240/240 [==============================] - 13s 15ms/step - loss: 0.1760 - accuracy: 0.9489 - val_loss: 0.0637 - val_accuracy: 0.9811\n",
            "Epoch 2/100\n",
            "238/240 [============================>.] - ETA: 0s - loss: 0.0456 - accuracy: 0.9855\n",
            "Epoch 2: val_loss improved from 0.06374 to 0.06058, saving model to best_model.h5\n",
            "240/240 [==============================] - 3s 14ms/step - loss: 0.0455 - accuracy: 0.9856 - val_loss: 0.0606 - val_accuracy: 0.9829\n",
            "Epoch 3/100\n",
            "239/240 [============================>.] - ETA: 0s - loss: 0.0280 - accuracy: 0.9914\n",
            "Epoch 3: val_loss improved from 0.06058 to 0.04902, saving model to best_model.h5\n",
            "240/240 [==============================] - 3s 14ms/step - loss: 0.0280 - accuracy: 0.9914 - val_loss: 0.0490 - val_accuracy: 0.9864\n",
            "Epoch 4/100\n",
            "239/240 [============================>.] - ETA: 0s - loss: 0.0156 - accuracy: 0.9949\n",
            "Epoch 4: val_loss improved from 0.04902 to 0.04197, saving model to best_model.h5\n",
            "240/240 [==============================] - 3s 14ms/step - loss: 0.0157 - accuracy: 0.9949 - val_loss: 0.0420 - val_accuracy: 0.9884\n",
            "Epoch 5/100\n",
            "237/240 [============================>.] - ETA: 0s - loss: 0.0102 - accuracy: 0.9966\n",
            "Epoch 5: val_loss did not improve from 0.04197\n",
            "240/240 [==============================] - 3s 13ms/step - loss: 0.0101 - accuracy: 0.9966 - val_loss: 0.0456 - val_accuracy: 0.9886\n",
            "Epoch 6/100\n",
            "238/240 [============================>.] - ETA: 0s - loss: 0.0083 - accuracy: 0.9972\n",
            "Epoch 6: val_loss did not improve from 0.04197\n",
            "240/240 [==============================] - 3s 13ms/step - loss: 0.0082 - accuracy: 0.9973 - val_loss: 0.0485 - val_accuracy: 0.9891\n",
            "Epoch 7/100\n",
            "239/240 [============================>.] - ETA: 0s - loss: 0.0076 - accuracy: 0.9976\n",
            "Epoch 7: val_loss did not improve from 0.04197\n",
            "240/240 [==============================] - 3s 13ms/step - loss: 0.0075 - accuracy: 0.9976 - val_loss: 0.0482 - val_accuracy: 0.9890\n",
            "Epoch 8/100\n",
            "238/240 [============================>.] - ETA: 0s - loss: 0.0046 - accuracy: 0.9987\n",
            "Epoch 8: val_loss did not improve from 0.04197\n",
            "240/240 [==============================] - 3s 13ms/step - loss: 0.0046 - accuracy: 0.9987 - val_loss: 0.0520 - val_accuracy: 0.9875\n",
            "Epoch 9/100\n",
            "238/240 [============================>.] - ETA: 0s - loss: 0.0037 - accuracy: 0.9988\n",
            "Epoch 9: val_loss did not improve from 0.04197\n",
            "240/240 [==============================] - 3s 13ms/step - loss: 0.0039 - accuracy: 0.9987 - val_loss: 0.0550 - val_accuracy: 0.9860\n",
            "Epoch 10/100\n",
            "237/240 [============================>.] - ETA: 0s - loss: 0.0046 - accuracy: 0.9985\n",
            "Epoch 10: val_loss did not improve from 0.04197\n",
            "240/240 [==============================] - 3s 13ms/step - loss: 0.0046 - accuracy: 0.9985 - val_loss: 0.0587 - val_accuracy: 0.9869\n",
            "Epoch 11/100\n",
            "238/240 [============================>.] - ETA: 0s - loss: 0.0030 - accuracy: 0.9990\n",
            "Epoch 11: val_loss did not improve from 0.04197\n",
            "240/240 [==============================] - 4s 15ms/step - loss: 0.0030 - accuracy: 0.9989 - val_loss: 0.0600 - val_accuracy: 0.9882\n",
            "Epoch 12/100\n",
            "239/240 [============================>.] - ETA: 0s - loss: 0.0062 - accuracy: 0.9979\n",
            "Epoch 12: val_loss did not improve from 0.04197\n",
            "240/240 [==============================] - 3s 13ms/step - loss: 0.0062 - accuracy: 0.9979 - val_loss: 0.0578 - val_accuracy: 0.9888\n",
            "Epoch 13/100\n",
            "238/240 [============================>.] - ETA: 0s - loss: 0.0053 - accuracy: 0.9982\n",
            "Epoch 13: val_loss did not improve from 0.04197\n",
            "240/240 [==============================] - 3s 13ms/step - loss: 0.0053 - accuracy: 0.9982 - val_loss: 0.0581 - val_accuracy: 0.9888\n",
            "Epoch 14/100\n",
            "240/240 [==============================] - ETA: 0s - loss: 0.0037 - accuracy: 0.9989\n",
            "Epoch 14: val_loss did not improve from 0.04197\n",
            "240/240 [==============================] - 3s 13ms/step - loss: 0.0037 - accuracy: 0.9989 - val_loss: 0.0541 - val_accuracy: 0.9898\n"
          ]
        }
      ]
    },
    {
      "cell_type": "code",
      "source": [
        "best_model = load_model(model_path)\n",
        "best_model.evaluate(X_test, Y_test)"
      ],
      "metadata": {
        "colab": {
          "base_uri": "https://localhost:8080/"
        },
        "id": "PZJGZ377z5Gl",
        "outputId": "043de704-0047-42d5-cab6-c02e7fb78150"
      },
      "execution_count": 9,
      "outputs": [
        {
          "output_type": "stream",
          "name": "stdout",
          "text": [
            "313/313 [==============================] - 1s 3ms/step - loss: 0.0337 - accuracy: 0.9894\n"
          ]
        },
        {
          "output_type": "execute_result",
          "data": {
            "text/plain": [
              "[0.033725056797266006, 0.9894000291824341]"
            ]
          },
          "metadata": {},
          "execution_count": 9
        }
      ]
    },
    {
      "cell_type": "markdown",
      "source": [
        "- 시각화"
      ],
      "metadata": {
        "id": "UAdOX8uV1TId"
      }
    },
    {
      "cell_type": "code",
      "source": [
        "y_acc = hist.history['accuracy']\n",
        "y_vloss = hist.history['val_loss']\n",
        "xs = np.arange(1, len(y_acc)+1)\n",
        "plt.figure(figsize=(12,8))\n",
        "plt.plot(xs, y_acc, label='train accuracy')\n",
        "plt.plot(xs, y_vloss, label='validation loss')\n",
        "plt.legend(), plt.grid()\n",
        "plt.ylim([0,1.2])\n",
        "plt.xlabel('Epoch')\n",
        "plt.show()"
      ],
      "metadata": {
        "colab": {
          "base_uri": "https://localhost:8080/",
          "height": 501
        },
        "id": "UsZDAJaZ1Il3",
        "outputId": "61710937-addb-4260-d515-c3ccdfb05255"
      },
      "execution_count": 10,
      "outputs": [
        {
          "output_type": "display_data",
          "data": {
            "text/plain": [
              "<Figure size 864x576 with 1 Axes>"
            ],
            "image/png": "[encoded data removed]"
          },
          "metadata": {
            "needs_background": "light"
          }
        }
      ]
    },
    {
      "cell_type": "code",
      "source": [],
      "metadata": {
        "id": "u6CwpYew1iXt"
      },
      "execution_count": 10,
      "outputs": []
    }
  ]
}