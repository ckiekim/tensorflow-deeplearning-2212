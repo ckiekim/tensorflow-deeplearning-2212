{
  "nbformat": 4,
  "nbformat_minor": 0,
  "metadata": {
    "colab": {
      "provenance": []
    },
    "kernelspec": {
      "name": "python3",
      "display_name": "Python 3"
    },
    "language_info": {
      "name": "python"
    }
  },
  "cells": [
    {
      "cell_type": "markdown",
      "source": [
        "# 원, 삼각형, 사각형 구분하기 Ver.1\n",
        "- 쉬운 문제를 이미지 부풀리기 없이 해결"
      ],
      "metadata": {
        "id": "82_BIDNN5i2K"
      }
    },
    {
      "cell_type": "code",
      "execution_count": 1,
      "metadata": {
        "colab": {
          "base_uri": "https://localhost:8080/",
          "height": 78
        },
        "id": "E624KuI_5aID",
        "outputId": "2c5f8e3a-17c5-4c31-aee3-e92ee4367bfd"
      },
      "outputs": [
        {
          "output_type": "display_data",
          "data": {
            "text/plain": [
              "<IPython.core.display.HTML object>"
            ],
            "text/html": [
              "\n",
              "     <input type=\"file\" id=\"files-a0e5110f-1dd4-4963-a0d7-045a6908d36b\" name=\"files[]\" multiple disabled\n",
              "        style=\"border:none\" />\n",
              "     <output id=\"result-a0e5110f-1dd4-4963-a0d7-045a6908d36b\">\n",
              "      Upload widget is only available when the cell has been executed in the\n",
              "      current browser session. Please rerun this cell to enable.\n",
              "      </output>\n",
              "      <script>// Copyright 2017 Google LLC\n",
              "//\n",
              "// Licensed under the Apache License, Version 2.0 (the \"License\");\n",
              "// you may not use this file except in compliance with the License.\n",
              "// You may obtain a copy of the License at\n",
              "//\n",
              "//      http://www.apache.org/licenses/LICENSE-2.0\n",
              "//\n",
              "// Unless required by applicable law or agreed to in writing, software\n",
              "// distributed under the License is distributed on an \"AS IS\" BASIS,\n",
              "// WITHOUT WARRANTIES OR CONDITIONS OF ANY KIND, either express or implied.\n",
              "// See the License for the specific language governing permissions and\n",
              "// limitations under the License.\n",
              "\n",
              "/**\n",
              " * @fileoverview Helpers for google.colab Python module.\n",
              " */\n",
              "(function(scope) {\n",
              "function span(text, styleAttributes = {}) {\n",
              "  const element = document.createElement('span');\n",
              "  element.textContent = text;\n",
              "  for (const key of Object.keys(styleAttributes)) {\n",
              "    element.style[key] = styleAttributes[key];\n",
              "  }\n",
              "  return element;\n",
              "}\n",
              "\n",
              "// Max number of bytes which will be uploaded at a time.\n",
              "const MAX_PAYLOAD_SIZE = 100 * 1024;\n",
              "\n",
              "function _uploadFiles(inputId, outputId) {\n",
              "  const steps = uploadFilesStep(inputId, outputId);\n",
              "  const outputElement = document.getElementById(outputId);\n",
              "  // Cache steps on the outputElement to make it available for the next call\n",
              "  // to uploadFilesContinue from Python.\n",
              "  outputElement.steps = steps;\n",
              "\n",
              "  return _uploadFilesContinue(outputId);\n",
              "}\n",
              "\n",
              "// This is roughly an async generator (not supported in the browser yet),\n",
              "// where there are multiple asynchronous steps and the Python side is going\n",
              "// to poll for completion of each step.\n",
              "// This uses a Promise to block the python side on completion of each step,\n",
              "// then passes the result of the previous step as the input to the next step.\n",
              "function _uploadFilesContinue(outputId) {\n",
              "  const outputElement = document.getElementById(outputId);\n",
              "  const steps = outputElement.steps;\n",
              "\n",
              "  const next = steps.next(outputElement.lastPromiseValue);\n",
              "  return Promise.resolve(next.value.promise).then((value) => {\n",
              "    // Cache the last promise value to make it available to the next\n",
              "    // step of the generator.\n",
              "    outputElement.lastPromiseValue = value;\n",
              "    return next.value.response;\n",
              "  });\n",
              "}\n",
              "\n",
              "/**\n",
              " * Generator function which is called between each async step of the upload\n",
              " * process.\n",
              " * @param {string} inputId Element ID of the input file picker element.\n",
              " * @param {string} outputId Element ID of the output display.\n",
              " * @return {!Iterable<!Object>} Iterable of next steps.\n",
              " */\n",
              "function* uploadFilesStep(inputId, outputId) {\n",
              "  const inputElement = document.getElementById(inputId);\n",
              "  inputElement.disabled = false;\n",
              "\n",
              "  const outputElement = document.getElementById(outputId);\n",
              "  outputElement.innerHTML = '';\n",
              "\n",
              "  const pickedPromise = new Promise((resolve) => {\n",
              "    inputElement.addEventListener('change', (e) => {\n",
              "      resolve(e.target.files);\n",
              "    });\n",
              "  });\n",
              "\n",
              "  const cancel = document.createElement('button');\n",
              "  inputElement.parentElement.appendChild(cancel);\n",
              "  cancel.textContent = 'Cancel upload';\n",
              "  const cancelPromise = new Promise((resolve) => {\n",
              "    cancel.onclick = () => {\n",
              "      resolve(null);\n",
              "    };\n",
              "  });\n",
              "\n",
              "  // Wait for the user to pick the files.\n",
              "  const files = yield {\n",
              "    promise: Promise.race([pickedPromise, cancelPromise]),\n",
              "    response: {\n",
              "      action: 'starting',\n",
              "    }\n",
              "  };\n",
              "\n",
              "  cancel.remove();\n",
              "\n",
              "  // Disable the input element since further picks are not allowed.\n",
              "  inputElement.disabled = true;\n",
              "\n",
              "  if (!files) {\n",
              "    return {\n",
              "      response: {\n",
              "        action: 'complete',\n",
              "      }\n",
              "    };\n",
              "  }\n",
              "\n",
              "  for (const file of files) {\n",
              "    const li = document.createElement('li');\n",
              "    li.append(span(file.name, {fontWeight: 'bold'}));\n",
              "    li.append(span(\n",
              "        `(${file.type || 'n/a'}) - ${file.size} bytes, ` +\n",
              "        `last modified: ${\n",
              "            file.lastModifiedDate ? file.lastModifiedDate.toLocaleDateString() :\n",
              "                                    'n/a'} - `));\n",
              "    const percent = span('0% done');\n",
              "    li.appendChild(percent);\n",
              "\n",
              "    outputElement.appendChild(li);\n",
              "\n",
              "    const fileDataPromise = new Promise((resolve) => {\n",
              "      const reader = new FileReader();\n",
              "      reader.onload = (e) => {\n",
              "        resolve(e.target.result);\n",
              "      };\n",
              "      reader.readAsArrayBuffer(file);\n",
              "    });\n",
              "    // Wait for the data to be ready.\n",
              "    let fileData = yield {\n",
              "      promise: fileDataPromise,\n",
              "      response: {\n",
              "        action: 'continue',\n",
              "      }\n",
              "    };\n",
              "\n",
              "    // Use a chunked sending to avoid message size limits. See b/62115660.\n",
              "    let position = 0;\n",
              "    do {\n",
              "      const length = Math.min(fileData.byteLength - position, MAX_PAYLOAD_SIZE);\n",
              "      const chunk = new Uint8Array(fileData, position, length);\n",
              "      position += length;\n",
              "\n",
              "      const base64 = btoa(String.fromCharCode.apply(null, chunk));\n",
              "      yield {\n",
              "        response: {\n",
              "          action: 'append',\n",
              "          file: file.name,\n",
              "          data: base64,\n",
              "        },\n",
              "      };\n",
              "\n",
              "      let percentDone = fileData.byteLength === 0 ?\n",
              "          100 :\n",
              "          Math.round((position / fileData.byteLength) * 100);\n",
              "      percent.textContent = `${percentDone}% done`;\n",
              "\n",
              "    } while (position < fileData.byteLength);\n",
              "  }\n",
              "\n",
              "  // All done.\n",
              "  yield {\n",
              "    response: {\n",
              "      action: 'complete',\n",
              "    }\n",
              "  };\n",
              "}\n",
              "\n",
              "scope.google = scope.google || {};\n",
              "scope.google.colab = scope.google.colab || {};\n",
              "scope.google.colab._files = {\n",
              "  _uploadFiles,\n",
              "  _uploadFilesContinue,\n",
              "};\n",
              "})(self);\n",
              "</script> "
            ]
          },
          "metadata": {}
        },
        {
          "output_type": "stream",
          "name": "stdout",
          "text": [
            "Saving handwriting_shape.zip to handwriting_shape.zip\n"
          ]
        }
      ],
      "source": [
        "from google.colab import files\n",
        "up = files.upload()"
      ]
    },
    {
      "cell_type": "code",
      "source": [
        "# Shell Escape, 개발도구에서 Shell 명령어를 사용할 때\n",
        "!unzip handwriting_shape.zip -d handwriting"
      ],
      "metadata": {
        "colab": {
          "base_uri": "https://localhost:8080/"
        },
        "id": "zhpFpoAq5vfS",
        "outputId": "95b218d1-6746-4e31-ca4a-a86ae3eb72a4"
      },
      "execution_count": 2,
      "outputs": [
        {
          "output_type": "stream",
          "name": "stdout",
          "text": [
            "Archive:  handwriting_shape.zip\n",
            "   creating: handwriting/handwriting_shape/test/\n",
            "   creating: handwriting/handwriting_shape/test/circle/\n",
            "  inflating: handwriting/handwriting_shape/test/circle/circle016.png  \n",
            "  inflating: handwriting/handwriting_shape/test/circle/circle017.png  \n",
            "  inflating: handwriting/handwriting_shape/test/circle/circle018.png  \n",
            "  inflating: handwriting/handwriting_shape/test/circle/circle019.png  \n",
            "  inflating: handwriting/handwriting_shape/test/circle/circle020.png  \n",
            "   creating: handwriting/handwriting_shape/test/rectangle/\n",
            "  inflating: handwriting/handwriting_shape/test/rectangle/rectangle016.png  \n",
            "  inflating: handwriting/handwriting_shape/test/rectangle/rectangle017.png  \n",
            "  inflating: handwriting/handwriting_shape/test/rectangle/rectangle018.png  \n",
            "  inflating: handwriting/handwriting_shape/test/rectangle/rectangle019.png  \n",
            "  inflating: handwriting/handwriting_shape/test/rectangle/rectangle020.png  \n",
            "   creating: handwriting/handwriting_shape/test/triangle/\n",
            "  inflating: handwriting/handwriting_shape/test/triangle/triangle016.png  \n",
            "  inflating: handwriting/handwriting_shape/test/triangle/triangle017.png  \n",
            "  inflating: handwriting/handwriting_shape/test/triangle/triangle018.png  \n",
            "  inflating: handwriting/handwriting_shape/test/triangle/triangle019.png  \n",
            "  inflating: handwriting/handwriting_shape/test/triangle/triangle020.png  \n",
            "   creating: handwriting/handwriting_shape/train/\n",
            "   creating: handwriting/handwriting_shape/train/circle/\n",
            "  inflating: handwriting/handwriting_shape/train/circle/circle001.png  \n",
            "  inflating: handwriting/handwriting_shape/train/circle/circle002.png  \n",
            "  inflating: handwriting/handwriting_shape/train/circle/circle003.png  \n",
            "  inflating: handwriting/handwriting_shape/train/circle/circle004.png  \n",
            "  inflating: handwriting/handwriting_shape/train/circle/circle005.png  \n",
            "  inflating: handwriting/handwriting_shape/train/circle/circle006.png  \n",
            "  inflating: handwriting/handwriting_shape/train/circle/circle007.png  \n",
            "  inflating: handwriting/handwriting_shape/train/circle/circle008.png  \n",
            "  inflating: handwriting/handwriting_shape/train/circle/circle009.png  \n",
            "  inflating: handwriting/handwriting_shape/train/circle/circle010.png  \n",
            "  inflating: handwriting/handwriting_shape/train/circle/circle011.png  \n",
            "  inflating: handwriting/handwriting_shape/train/circle/circle012.png  \n",
            "  inflating: handwriting/handwriting_shape/train/circle/circle013.png  \n",
            "  inflating: handwriting/handwriting_shape/train/circle/circle014.png  \n",
            "  inflating: handwriting/handwriting_shape/train/circle/circle015.png  \n",
            "   creating: handwriting/handwriting_shape/train/rectangle/\n",
            "  inflating: handwriting/handwriting_shape/train/rectangle/rectangle001.png  \n",
            "  inflating: handwriting/handwriting_shape/train/rectangle/rectangle002.png  \n",
            "  inflating: handwriting/handwriting_shape/train/rectangle/rectangle003.png  \n",
            "  inflating: handwriting/handwriting_shape/train/rectangle/rectangle004.png  \n",
            "  inflating: handwriting/handwriting_shape/train/rectangle/rectangle005.png  \n",
            "  inflating: handwriting/handwriting_shape/train/rectangle/rectangle006.png  \n",
            "  inflating: handwriting/handwriting_shape/train/rectangle/rectangle007.png  \n",
            "  inflating: handwriting/handwriting_shape/train/rectangle/rectangle008.png  \n",
            "  inflating: handwriting/handwriting_shape/train/rectangle/rectangle009.png  \n",
            "  inflating: handwriting/handwriting_shape/train/rectangle/rectangle010.png  \n",
            "  inflating: handwriting/handwriting_shape/train/rectangle/rectangle011.png  \n",
            "  inflating: handwriting/handwriting_shape/train/rectangle/rectangle012.png  \n",
            "  inflating: handwriting/handwriting_shape/train/rectangle/rectangle013.png  \n",
            "  inflating: handwriting/handwriting_shape/train/rectangle/rectangle014.png  \n",
            "  inflating: handwriting/handwriting_shape/train/rectangle/rectangle015.png  \n",
            "   creating: handwriting/handwriting_shape/train/triangle/\n",
            "  inflating: handwriting/handwriting_shape/train/triangle/triangle001.png  \n",
            "  inflating: handwriting/handwriting_shape/train/triangle/triangle002.png  \n",
            "  inflating: handwriting/handwriting_shape/train/triangle/triangle003.png  \n",
            "  inflating: handwriting/handwriting_shape/train/triangle/triangle004.png  \n",
            "  inflating: handwriting/handwriting_shape/train/triangle/triangle005.png  \n",
            "  inflating: handwriting/handwriting_shape/train/triangle/triangle006.png  \n",
            "  inflating: handwriting/handwriting_shape/train/triangle/triangle007.png  \n",
            "  inflating: handwriting/handwriting_shape/train/triangle/triangle008.png  \n",
            "  inflating: handwriting/handwriting_shape/train/triangle/triangle009.png  \n",
            "  inflating: handwriting/handwriting_shape/train/triangle/triangle010.png  \n",
            "  inflating: handwriting/handwriting_shape/train/triangle/triangle011.png  \n",
            "  inflating: handwriting/handwriting_shape/train/triangle/triangle012.png  \n",
            "  inflating: handwriting/handwriting_shape/train/triangle/triangle013.png  \n",
            "  inflating: handwriting/handwriting_shape/train/triangle/triangle014.png  \n",
            "  inflating: handwriting/handwriting_shape/train/triangle/triangle015.png  \n"
          ]
        }
      ]
    },
    {
      "cell_type": "code",
      "source": [
        "# 화면에 출력되는 내용과 에러 메시지를 쓰레기통 파일(/dev/null)로 보냄, 즉, 버림\n",
        "!unzip handwriting_shape.zip -d . > /dev/null 2>&1"
      ],
      "metadata": {
        "id": "HbV-4WgH6y9T"
      },
      "execution_count": 3,
      "outputs": []
    },
    {
      "cell_type": "code",
      "source": [
        "# 어떤 파일이 있는지 확인\n",
        "! ls -l"
      ],
      "metadata": {
        "colab": {
          "base_uri": "https://localhost:8080/"
        },
        "id": "f4A1xEDH8mmj",
        "outputId": "3584c54b-265e-4570-9df8-a15882245f18"
      },
      "execution_count": 4,
      "outputs": [
        {
          "output_type": "stream",
          "name": "stdout",
          "text": [
            "total 268\n",
            "drwxr-xr-x 3 root root   4096 Jan 14 01:35 handwriting\n",
            "drwxr-xr-x 4 root root   4096 Jan 14 01:43 handwriting_shape\n",
            "-rw-r--r-- 1 root root 259615 Jan 14 01:31 handwriting_shape.zip\n",
            "drwxr-xr-x 1 root root   4096 Jan  9 14:36 sample_data\n"
          ]
        }
      ]
    },
    {
      "cell_type": "code",
      "source": [
        "from PIL import Image\n",
        "import matplotlib.pyplot as plt"
      ],
      "metadata": {
        "id": "xWhKZjDr88Pi"
      },
      "execution_count": 7,
      "outputs": []
    },
    {
      "cell_type": "code",
      "source": [
        "filename = 'handwriting_shape/train/circle/circle001.png'\n",
        "img = Image.open(filename)\n",
        "plt.imshow(img)\n",
        "plt.xticks([]), plt.yticks([])\n",
        "plt.show()"
      ],
      "metadata": {
        "colab": {
          "base_uri": "https://localhost:8080/",
          "height": 252
        },
        "id": "DQYitP5KAzTN",
        "outputId": "2e3d647b-7b28-4ecb-a53d-b76b3a3d1799"
      },
      "execution_count": 9,
      "outputs": [
        {
          "output_type": "display_data",
          "data": {
            "text/plain": [
              "<Figure size 432x288 with 1 Axes>"
            ],
            "image/png": "[encoded data removed]"
          },
          "metadata": {}
        }
      ]
    },
    {
      "cell_type": "code",
      "source": [
        "from glob import glob\n",
        "glob('handwriting_shape/train/circle/*.png')"
      ],
      "metadata": {
        "colab": {
          "base_uri": "https://localhost:8080/"
        },
        "id": "wC8DTdg8BTws",
        "outputId": "c6f8912f-571d-4bbf-d769-700c2a5b4eb7"
      },
      "execution_count": 10,
      "outputs": [
        {
          "output_type": "execute_result",
          "data": {
            "text/plain": [
              "['handwriting_shape/train/circle/circle012.png',\n",
              " 'handwriting_shape/train/circle/circle014.png',\n",
              " 'handwriting_shape/train/circle/circle005.png',\n",
              " 'handwriting_shape/train/circle/circle006.png',\n",
              " 'handwriting_shape/train/circle/circle008.png',\n",
              " 'handwriting_shape/train/circle/circle011.png',\n",
              " 'handwriting_shape/train/circle/circle002.png',\n",
              " 'handwriting_shape/train/circle/circle013.png',\n",
              " 'handwriting_shape/train/circle/circle001.png',\n",
              " 'handwriting_shape/train/circle/circle004.png',\n",
              " 'handwriting_shape/train/circle/circle009.png',\n",
              " 'handwriting_shape/train/circle/circle003.png',\n",
              " 'handwriting_shape/train/circle/circle015.png',\n",
              " 'handwriting_shape/train/circle/circle010.png',\n",
              " 'handwriting_shape/train/circle/circle007.png']"
            ]
          },
          "metadata": {},
          "execution_count": 10
        }
      ]
    },
    {
      "cell_type": "code",
      "source": [
        "# Train dataset\n",
        "shapes = ['circle', 'triangle', 'rectangle']\n",
        "for shape in shapes:\n",
        "    dir_name = f'handwriting_shape/train/{shape}'\n",
        "    plt.figure(figsize=(12,1))\n",
        "    for i, fname in enumerate(glob(f'{dir_name}/*.png')):\n",
        "        img = Image.open(fname)\n",
        "        plt.subplot(1, 15, i+1)\n",
        "        plt.imshow(img)\n",
        "        plt.xticks([]), plt.yticks([])\n",
        "    plt.show()"
      ],
      "metadata": {
        "colab": {
          "base_uri": "https://localhost:8080/",
          "height": 182
        },
        "id": "QKCJWSBcCGxf",
        "outputId": "8813d899-b155-4647-fdd3-04b8ce038083"
      },
      "execution_count": 12,
      "outputs": [
        {
          "output_type": "display_data",
          "data": {
            "text/plain": [
              "<Figure size 864x72 with 15 Axes>"
            ],
            "image/png": "[encoded data removed]"
          },
          "metadata": {}
        },
        {
          "output_type": "display_data",
          "data": {
            "text/plain": [
              "<Figure size 864x72 with 15 Axes>"
            ],
            "image/png": "[encoded data removed]"
          },
          "metadata": {}
        },
        {
          "output_type": "display_data",
          "data": {
            "text/plain": [
              "<Figure size 864x72 with 15 Axes>"
            ],
            "image/png": "[encoded data removed]"
          },
          "metadata": {}
        }
      ]
    },
    {
      "cell_type": "code",
      "source": [
        "# Test dataset\n",
        "shapes = ['circle', 'triangle', 'rectangle']\n",
        "for shape in shapes:\n",
        "    dir_name = f'handwriting_shape/test/{shape}'\n",
        "    plt.figure(figsize=(4,1))\n",
        "    for i, fname in enumerate(glob(f'{dir_name}/*.png')):\n",
        "        img = Image.open(fname)\n",
        "        plt.subplot(1, 5, i+1)\n",
        "        plt.imshow(img)\n",
        "        plt.xticks([]), plt.yticks([])\n",
        "    plt.show()"
      ],
      "metadata": {
        "colab": {
          "base_uri": "https://localhost:8080/",
          "height": 185
        },
        "id": "wzmnYkhXDsOZ",
        "outputId": "9cea10ba-840a-4b15-d160-cbd79d3088c7"
      },
      "execution_count": 13,
      "outputs": [
        {
          "output_type": "display_data",
          "data": {
            "text/plain": [
              "<Figure size 288x72 with 5 Axes>"
            ],
            "image/png": "[encoded data removed]"
          },
          "metadata": {}
        },
        {
          "output_type": "display_data",
          "data": {
            "text/plain": [
              "<Figure size 288x72 with 5 Axes>"
            ],
            "image/png": "[encoded data removed]"
          },
          "metadata": {}
        },
        {
          "output_type": "display_data",
          "data": {
            "text/plain": [
              "<Figure size 288x72 with 5 Axes>"
            ],
            "image/png": "[encoded data removed]"
          },
          "metadata": {}
        }
      ]
    },
    {
      "cell_type": "markdown",
      "source": [
        "- OpenCV 로 읽는 경우"
      ],
      "metadata": {
        "id": "uN2rwyoyEN0o"
      }
    },
    {
      "cell_type": "code",
      "source": [
        "import cv2\n",
        "img = cv2.imread(filename)[:,:,::-1]    # BGR color로 읽으니까 RGB로 바꿔줘야 함\n",
        "plt.imshow(img)\n",
        "plt.xticks([]), plt.yticks([])\n",
        "plt.show()"
      ],
      "metadata": {
        "colab": {
          "base_uri": "https://localhost:8080/",
          "height": 252
        },
        "id": "bAdHc-JmD8rV",
        "outputId": "5c847f3f-fa06-4e17-fddc-9fce88addd7e"
      },
      "execution_count": 14,
      "outputs": [
        {
          "output_type": "display_data",
          "data": {
            "text/plain": [
              "<Figure size 432x288 with 1 Axes>"
            ],
            "image/png": "[encoded data removed]"
          },
          "metadata": {}
        }
      ]
    },
    {
      "cell_type": "code",
      "source": [
        "img.shape"
      ],
      "metadata": {
        "colab": {
          "base_uri": "https://localhost:8080/"
        },
        "id": "R7T8eW0REfQW",
        "outputId": "ddf6cb65-7ed5-431e-816a-04b9f59248c8"
      },
      "execution_count": 15,
      "outputs": [
        {
          "output_type": "execute_result",
          "data": {
            "text/plain": [
              "(24, 24, 3)"
            ]
          },
          "metadata": {},
          "execution_count": 15
        }
      ]
    },
    {
      "cell_type": "markdown",
      "source": [
        "- 데이터셋 생성"
      ],
      "metadata": {
        "id": "YT9At2P0FLW3"
      }
    },
    {
      "cell_type": "code",
      "source": [
        "from tensorflow.keras.preprocessing.image import ImageDataGenerator\n",
        "\n",
        "train_datagen = ImageDataGenerator(rescale=1/255.)\n",
        "train_data_generator = train_datagen.flow_from_directory(\n",
        "    'handwriting_shape/train', target_size=(24,24), batch_size=3, class_mode='categorical'\n",
        ")"
      ],
      "metadata": {
        "colab": {
          "base_uri": "https://localhost:8080/"
        },
        "id": "6eKaZEijFA2-",
        "outputId": "9ba2bda0-dd3f-413c-be72-acb4c80d3d91"
      },
      "execution_count": 16,
      "outputs": [
        {
          "output_type": "stream",
          "name": "stdout",
          "text": [
            "Found 45 images belonging to 3 classes.\n"
          ]
        }
      ]
    },
    {
      "cell_type": "code",
      "source": [
        "train_data_generator.labels"
      ],
      "metadata": {
        "colab": {
          "base_uri": "https://localhost:8080/"
        },
        "id": "vF-71cTfGwZq",
        "outputId": "becf32aa-8707-4c9c-c1b4-fb1495db2020"
      },
      "execution_count": 17,
      "outputs": [
        {
          "output_type": "execute_result",
          "data": {
            "text/plain": [
              "array([0, 0, 0, 0, 0, 0, 0, 0, 0, 0, 0, 0, 0, 0, 0, 1, 1, 1, 1, 1, 1, 1,\n",
              "       1, 1, 1, 1, 1, 1, 1, 1, 2, 2, 2, 2, 2, 2, 2, 2, 2, 2, 2, 2, 2, 2,\n",
              "       2], dtype=int32)"
            ]
          },
          "metadata": {},
          "execution_count": 17
        }
      ]
    },
    {
      "cell_type": "code",
      "source": [
        "train_data_generator.filenames[0]"
      ],
      "metadata": {
        "colab": {
          "base_uri": "https://localhost:8080/",
          "height": 36
        },
        "id": "VyAGvss4G3EQ",
        "outputId": "99af2f79-26c5-4f60-927f-e1607204fa66"
      },
      "execution_count": 18,
      "outputs": [
        {
          "output_type": "execute_result",
          "data": {
            "text/plain": [
              "'circle/circle001.png'"
            ],
            "application/vnd.google.colaboratory.intrinsic+json": {
              "type": "string"
            }
          },
          "metadata": {},
          "execution_count": 18
        }
      ]
    },
    {
      "cell_type": "code",
      "source": [
        "test_datagen = ImageDataGenerator(rescale=1/255.)\n",
        "test_data_generator = test_datagen.flow_from_directory(\n",
        "    'handwriting_shape/test', target_size=(24,24), batch_size=3, class_mode='categorical'\n",
        ")"
      ],
      "metadata": {
        "colab": {
          "base_uri": "https://localhost:8080/"
        },
        "id": "rzN24T3cHQAw",
        "outputId": "4e822570-3ecb-49a6-f01d-6c8226b6c00f"
      },
      "execution_count": 24,
      "outputs": [
        {
          "output_type": "stream",
          "name": "stdout",
          "text": [
            "Found 15 images belonging to 3 classes.\n"
          ]
        }
      ]
    },
    {
      "cell_type": "markdown",
      "source": [
        "- 모델 정의/설정/학습/평가"
      ],
      "metadata": {
        "id": "ZPeoGv0oIoBY"
      }
    },
    {
      "cell_type": "code",
      "source": [
        "import numpy as np\n",
        "import tensorflow as tf\n",
        "seed = 2023\n",
        "np.random.seed(seed)\n",
        "tf.random.set_seed(seed)"
      ],
      "metadata": {
        "id": "OSGs-0VUIr0J"
      },
      "execution_count": 19,
      "outputs": []
    },
    {
      "cell_type": "code",
      "source": [
        "from tensorflow.keras.models import Sequential\n",
        "from tensorflow.keras.layers import Conv2D, MaxPooling2D, Flatten, Dense"
      ],
      "metadata": {
        "id": "0FFp5eMBI7eJ"
      },
      "execution_count": 20,
      "outputs": []
    },
    {
      "cell_type": "code",
      "source": [
        "model = Sequential([ \n",
        "    Conv2D(32, (3,3), input_shape=(24,24,3), activation='relu'),\n",
        "    Conv2D(64, (3,3), activation='relu'),\n",
        "    MaxPooling2D(),\n",
        "    Flatten(),\n",
        "    Dense(128, activation='relu'),\n",
        "    Dense(3, activation='softmax')\n",
        "])\n",
        "model.summary()"
      ],
      "metadata": {
        "colab": {
          "base_uri": "https://localhost:8080/"
        },
        "id": "ZLrMNyYPJLdw",
        "outputId": "1bb630c2-c7e1-4175-e786-083290d8c213"
      },
      "execution_count": 21,
      "outputs": [
        {
          "output_type": "stream",
          "name": "stdout",
          "text": [
            "Model: \"sequential\"\n",
            "_________________________________________________________________\n",
            " Layer (type)                Output Shape              Param #   \n",
            "=================================================================\n",
            " conv2d (Conv2D)             (None, 22, 22, 32)        896       \n",
            "                                                                 \n",
            " conv2d_1 (Conv2D)           (None, 20, 20, 64)        18496     \n",
            "                                                                 \n",
            " max_pooling2d (MaxPooling2D  (None, 10, 10, 64)       0         \n",
            " )                                                               \n",
            "                                                                 \n",
            " flatten (Flatten)           (None, 6400)              0         \n",
            "                                                                 \n",
            " dense (Dense)               (None, 128)               819328    \n",
            "                                                                 \n",
            " dense_1 (Dense)             (None, 3)                 387       \n",
            "                                                                 \n",
            "=================================================================\n",
            "Total params: 839,107\n",
            "Trainable params: 839,107\n",
            "Non-trainable params: 0\n",
            "_________________________________________________________________\n"
          ]
        }
      ]
    },
    {
      "cell_type": "code",
      "source": [
        "model.compile('adam', 'categorical_crossentropy', ['accuracy'])"
      ],
      "metadata": {
        "id": "eXcwx225JyDB"
      },
      "execution_count": 22,
      "outputs": []
    },
    {
      "cell_type": "code",
      "source": [
        "model.fit(\n",
        "    train_data_generator,       # X, y\n",
        "    steps_per_epoch=15,         # 총 데이터수 / batch_size, 45 / 3 ==> 15\n",
        "    epochs=50,\n",
        "    validation_data=test_data_generator,\n",
        "    validation_steps=5          # 총 테스트 데이터수 / batch_size\n",
        ")"
      ],
      "metadata": {
        "colab": {
          "base_uri": "https://localhost:8080/"
        },
        "id": "Izd58CqkKD-I",
        "outputId": "05a7b2d8-afb9-4345-d8ce-cb4dfa10dcd4"
      },
      "execution_count": 25,
      "outputs": [
        {
          "output_type": "stream",
          "name": "stdout",
          "text": [
            "Epoch 1/50\n",
            "15/15 [==============================] - 1s 31ms/step - loss: 0.9329 - accuracy: 0.7111 - val_loss: 0.4702 - val_accuracy: 0.8000\n",
            "Epoch 2/50\n",
            "15/15 [==============================] - 0s 20ms/step - loss: 0.1003 - accuracy: 1.0000 - val_loss: 0.0355 - val_accuracy: 1.0000\n",
            "Epoch 3/50\n",
            "15/15 [==============================] - 0s 20ms/step - loss: 0.0077 - accuracy: 1.0000 - val_loss: 0.0078 - val_accuracy: 1.0000\n",
            "Epoch 4/50\n",
            "15/15 [==============================] - 0s 18ms/step - loss: 0.0050 - accuracy: 1.0000 - val_loss: 0.0031 - val_accuracy: 1.0000\n",
            "Epoch 5/50\n",
            "15/15 [==============================] - 0s 17ms/step - loss: 1.7858e-04 - accuracy: 1.0000 - val_loss: 0.0027 - val_accuracy: 1.0000\n",
            "Epoch 6/50\n",
            "15/15 [==============================] - 0s 17ms/step - loss: 1.7469e-04 - accuracy: 1.0000 - val_loss: 0.0025 - val_accuracy: 1.0000\n",
            "Epoch 7/50\n",
            "15/15 [==============================] - 0s 18ms/step - loss: 1.4273e-04 - accuracy: 1.0000 - val_loss: 0.0023 - val_accuracy: 1.0000\n",
            "Epoch 8/50\n",
            "15/15 [==============================] - 0s 17ms/step - loss: 1.2375e-04 - accuracy: 1.0000 - val_loss: 0.0022 - val_accuracy: 1.0000\n",
            "Epoch 9/50\n",
            "15/15 [==============================] - 0s 18ms/step - loss: 1.0598e-04 - accuracy: 1.0000 - val_loss: 0.0020 - val_accuracy: 1.0000\n",
            "Epoch 10/50\n",
            "15/15 [==============================] - 0s 18ms/step - loss: 9.4127e-05 - accuracy: 1.0000 - val_loss: 0.0019 - val_accuracy: 1.0000\n",
            "Epoch 11/50\n",
            "15/15 [==============================] - 0s 19ms/step - loss: 8.6225e-05 - accuracy: 1.0000 - val_loss: 0.0019 - val_accuracy: 1.0000\n",
            "Epoch 12/50\n",
            "15/15 [==============================] - 0s 19ms/step - loss: 7.7592e-05 - accuracy: 1.0000 - val_loss: 0.0018 - val_accuracy: 1.0000\n",
            "Epoch 13/50\n",
            "15/15 [==============================] - 0s 21ms/step - loss: 7.1093e-05 - accuracy: 1.0000 - val_loss: 0.0017 - val_accuracy: 1.0000\n",
            "Epoch 14/50\n",
            "15/15 [==============================] - 0s 17ms/step - loss: 6.4792e-05 - accuracy: 1.0000 - val_loss: 0.0016 - val_accuracy: 1.0000\n",
            "Epoch 15/50\n",
            "15/15 [==============================] - 0s 22ms/step - loss: 5.9720e-05 - accuracy: 1.0000 - val_loss: 0.0016 - val_accuracy: 1.0000\n",
            "Epoch 16/50\n",
            "15/15 [==============================] - 0s 17ms/step - loss: 5.5504e-05 - accuracy: 1.0000 - val_loss: 0.0015 - val_accuracy: 1.0000\n",
            "Epoch 17/50\n",
            "15/15 [==============================] - 0s 17ms/step - loss: 5.1131e-05 - accuracy: 1.0000 - val_loss: 0.0015 - val_accuracy: 1.0000\n",
            "Epoch 18/50\n",
            "15/15 [==============================] - 0s 19ms/step - loss: 4.7515e-05 - accuracy: 1.0000 - val_loss: 0.0014 - val_accuracy: 1.0000\n",
            "Epoch 19/50\n",
            "15/15 [==============================] - 0s 17ms/step - loss: 4.3164e-05 - accuracy: 1.0000 - val_loss: 0.0014 - val_accuracy: 1.0000\n",
            "Epoch 20/50\n",
            "15/15 [==============================] - 0s 17ms/step - loss: 4.0096e-05 - accuracy: 1.0000 - val_loss: 0.0013 - val_accuracy: 1.0000\n",
            "Epoch 21/50\n",
            "15/15 [==============================] - 0s 19ms/step - loss: 3.7241e-05 - accuracy: 1.0000 - val_loss: 0.0013 - val_accuracy: 1.0000\n",
            "Epoch 22/50\n",
            "15/15 [==============================] - 0s 18ms/step - loss: 3.4089e-05 - accuracy: 1.0000 - val_loss: 0.0013 - val_accuracy: 1.0000\n",
            "Epoch 23/50\n",
            "15/15 [==============================] - 0s 19ms/step - loss: 3.1702e-05 - accuracy: 1.0000 - val_loss: 0.0012 - val_accuracy: 1.0000\n",
            "Epoch 24/50\n",
            "15/15 [==============================] - 0s 19ms/step - loss: 2.9689e-05 - accuracy: 1.0000 - val_loss: 0.0012 - val_accuracy: 1.0000\n",
            "Epoch 25/50\n",
            "15/15 [==============================] - 0s 19ms/step - loss: 2.7380e-05 - accuracy: 1.0000 - val_loss: 0.0012 - val_accuracy: 1.0000\n",
            "Epoch 26/50\n",
            "15/15 [==============================] - 0s 20ms/step - loss: 2.5692e-05 - accuracy: 1.0000 - val_loss: 0.0011 - val_accuracy: 1.0000\n",
            "Epoch 27/50\n",
            "15/15 [==============================] - 0s 18ms/step - loss: 2.3785e-05 - accuracy: 1.0000 - val_loss: 0.0011 - val_accuracy: 1.0000\n",
            "Epoch 28/50\n",
            "15/15 [==============================] - 0s 17ms/step - loss: 2.2249e-05 - accuracy: 1.0000 - val_loss: 0.0011 - val_accuracy: 1.0000\n",
            "Epoch 29/50\n",
            "15/15 [==============================] - 0s 17ms/step - loss: 2.0842e-05 - accuracy: 1.0000 - val_loss: 0.0011 - val_accuracy: 1.0000\n",
            "Epoch 30/50\n",
            "15/15 [==============================] - 0s 18ms/step - loss: 1.9348e-05 - accuracy: 1.0000 - val_loss: 0.0011 - val_accuracy: 1.0000\n",
            "Epoch 31/50\n",
            "15/15 [==============================] - 0s 17ms/step - loss: 1.8175e-05 - accuracy: 1.0000 - val_loss: 0.0010 - val_accuracy: 1.0000\n",
            "Epoch 32/50\n",
            "15/15 [==============================] - 0s 20ms/step - loss: 1.7285e-05 - accuracy: 1.0000 - val_loss: 0.0010 - val_accuracy: 1.0000\n",
            "Epoch 33/50\n",
            "15/15 [==============================] - 0s 17ms/step - loss: 1.5982e-05 - accuracy: 1.0000 - val_loss: 9.9687e-04 - val_accuracy: 1.0000\n",
            "Epoch 34/50\n",
            "15/15 [==============================] - 0s 18ms/step - loss: 1.5174e-05 - accuracy: 1.0000 - val_loss: 0.0010 - val_accuracy: 1.0000\n",
            "Epoch 35/50\n",
            "15/15 [==============================] - 0s 18ms/step - loss: 1.4191e-05 - accuracy: 1.0000 - val_loss: 9.9795e-04 - val_accuracy: 1.0000\n",
            "Epoch 36/50\n",
            "15/15 [==============================] - 0s 17ms/step - loss: 1.3635e-05 - accuracy: 1.0000 - val_loss: 9.5533e-04 - val_accuracy: 1.0000\n",
            "Epoch 37/50\n",
            "15/15 [==============================] - 0s 18ms/step - loss: 1.2543e-05 - accuracy: 1.0000 - val_loss: 9.6163e-04 - val_accuracy: 1.0000\n",
            "Epoch 38/50\n",
            "15/15 [==============================] - 0s 19ms/step - loss: 1.2080e-05 - accuracy: 1.0000 - val_loss: 9.3748e-04 - val_accuracy: 1.0000\n",
            "Epoch 39/50\n",
            "15/15 [==============================] - 0s 17ms/step - loss: 1.1176e-05 - accuracy: 1.0000 - val_loss: 9.2606e-04 - val_accuracy: 1.0000\n",
            "Epoch 40/50\n",
            "15/15 [==============================] - 0s 17ms/step - loss: 1.0400e-05 - accuracy: 1.0000 - val_loss: 9.1753e-04 - val_accuracy: 1.0000\n",
            "Epoch 41/50\n",
            "15/15 [==============================] - 0s 20ms/step - loss: 9.7352e-06 - accuracy: 1.0000 - val_loss: 9.0155e-04 - val_accuracy: 1.0000\n",
            "Epoch 42/50\n",
            "15/15 [==============================] - 0s 19ms/step - loss: 8.9935e-06 - accuracy: 1.0000 - val_loss: 8.8305e-04 - val_accuracy: 1.0000\n",
            "Epoch 43/50\n",
            "15/15 [==============================] - 0s 19ms/step - loss: 8.3604e-06 - accuracy: 1.0000 - val_loss: 8.9628e-04 - val_accuracy: 1.0000\n",
            "Epoch 44/50\n",
            "15/15 [==============================] - 0s 20ms/step - loss: 7.8306e-06 - accuracy: 1.0000 - val_loss: 8.7480e-04 - val_accuracy: 1.0000\n",
            "Epoch 45/50\n",
            "15/15 [==============================] - 0s 18ms/step - loss: 7.3538e-06 - accuracy: 1.0000 - val_loss: 8.8213e-04 - val_accuracy: 1.0000\n",
            "Epoch 46/50\n",
            "15/15 [==============================] - 0s 18ms/step - loss: 6.8823e-06 - accuracy: 1.0000 - val_loss: 8.4646e-04 - val_accuracy: 1.0000\n",
            "Epoch 47/50\n",
            "15/15 [==============================] - 0s 17ms/step - loss: 6.4902e-06 - accuracy: 1.0000 - val_loss: 8.3181e-04 - val_accuracy: 1.0000\n",
            "Epoch 48/50\n",
            "15/15 [==============================] - 0s 20ms/step - loss: 6.0796e-06 - accuracy: 1.0000 - val_loss: 8.2145e-04 - val_accuracy: 1.0000\n",
            "Epoch 49/50\n",
            "15/15 [==============================] - 0s 20ms/step - loss: 5.7591e-06 - accuracy: 1.0000 - val_loss: 8.3282e-04 - val_accuracy: 1.0000\n",
            "Epoch 50/50\n",
            "15/15 [==============================] - 0s 19ms/step - loss: 5.5498e-06 - accuracy: 1.0000 - val_loss: 7.9425e-04 - val_accuracy: 1.0000\n"
          ]
        },
        {
          "output_type": "execute_result",
          "data": {
            "text/plain": [
              "<keras.callbacks.History at 0x7f14604ef730>"
            ]
          },
          "metadata": {},
          "execution_count": 25
        }
      ]
    },
    {
      "cell_type": "code",
      "source": [
        "model.evaluate(test_data_generator)"
      ],
      "metadata": {
        "colab": {
          "base_uri": "https://localhost:8080/"
        },
        "id": "GB3alZIULVDz",
        "outputId": "930f8693-2424-4b3d-e2ea-0d1359ec3bab"
      },
      "execution_count": 26,
      "outputs": [
        {
          "output_type": "stream",
          "name": "stdout",
          "text": [
            "5/5 [==============================] - 0s 9ms/step - loss: 7.9425e-04 - accuracy: 1.0000\n"
          ]
        },
        {
          "output_type": "execute_result",
          "data": {
            "text/plain": [
              "[0.0007942462689243257, 1.0]"
            ]
          },
          "metadata": {},
          "execution_count": 26
        }
      ]
    },
    {
      "cell_type": "code",
      "source": [],
      "metadata": {
        "id": "-Mj_9JRRLnsS"
      },
      "execution_count": null,
      "outputs": []
    }
  ]
}