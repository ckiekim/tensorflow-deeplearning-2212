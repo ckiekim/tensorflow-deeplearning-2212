{
  "nbformat": 4,
  "nbformat_minor": 0,
  "metadata": {
    "colab": {
      "provenance": []
    },
    "kernelspec": {
      "name": "python3",
      "display_name": "Python 3"
    },
    "language_info": {
      "name": "python"
    },
    "accelerator": "GPU",
    "gpuClass": "standard"
  },
  "cells": [
    {
      "cell_type": "markdown",
      "source": [
        "#개, 고양이 분류 V3\n",
        "- 부분 데이터: 훈련 개, 고양이 각각 1000개, 테스트 각각 500개\n",
        "- 데이터 부풀리기 적용"
      ],
      "metadata": {
        "id": "cLbSJIoPPGEd"
      }
    },
    {
      "cell_type": "code",
      "execution_count": 1,
      "metadata": {
        "colab": {
          "base_uri": "https://localhost:8080/"
        },
        "id": "MuQ_ADFxOvpV",
        "outputId": "aaaf2a21-bb80-4fd8-97fe-be735969f329"
      },
      "outputs": [
        {
          "output_type": "stream",
          "name": "stdout",
          "text": [
            "--2023-01-14 07:51:35--  https://storage.googleapis.com/mledu-datasets/cats_and_dogs_filtered.zip\n",
            "Resolving storage.googleapis.com (storage.googleapis.com)... 74.125.68.128, 74.125.24.128, 142.250.4.128, ...\n",
            "Connecting to storage.googleapis.com (storage.googleapis.com)|74.125.68.128|:443... connected.\n",
            "HTTP request sent, awaiting response... 200 OK\n",
            "Length: 68606236 (65M) [application/zip]\n",
            "Saving to: ‘cats_and_dogs_filtered.zip’\n",
            "\n",
            "cats_and_dogs_filte 100%[===================>]  65.43M  16.0MB/s    in 5.7s    \n",
            "\n",
            "2023-01-14 07:51:41 (11.5 MB/s) - ‘cats_and_dogs_filtered.zip’ saved [68606236/68606236]\n",
            "\n"
          ]
        }
      ],
      "source": [
        "!wget https://storage.googleapis.com/mledu-datasets/cats_and_dogs_filtered.zip"
      ]
    },
    {
      "cell_type": "code",
      "source": [
        "!unzip cats_and_dogs_filtered.zip > /dev/null"
      ],
      "metadata": {
        "id": "v7b9lYZfPQpz"
      },
      "execution_count": 2,
      "outputs": []
    },
    {
      "cell_type": "code",
      "source": [
        "import numpy as np\n",
        "import matplotlib.pyplot as plt\n",
        "import tensorflow as tf\n",
        "seed = 2023\n",
        "np.random.seed(seed)\n",
        "tf.random.set_seed(seed)"
      ],
      "metadata": {
        "id": "zzDpx8TIPYXx"
      },
      "execution_count": 3,
      "outputs": []
    },
    {
      "cell_type": "code",
      "source": [
        "train_dir = 'cats_and_dogs_filtered/train'\n",
        "validation_dir = 'cats_and_dogs_filtered/validation'\n",
        "train_cats_dir = 'cats_and_dogs_filtered/train/cats'\n",
        "train_dogs_dir = 'cats_and_dogs_filtered/train/dogs'\n",
        "validation_cats_dir = 'cats_and_dogs_filtered/validation/cats'\n",
        "validation_dogs_dir = 'cats_and_dogs_filtered/validation/dogs'"
      ],
      "metadata": {
        "id": "jtpCU5bbPcnJ"
      },
      "execution_count": 4,
      "outputs": []
    },
    {
      "cell_type": "markdown",
      "source": [
        "- 모델 구성"
      ],
      "metadata": {
        "id": "AG7C0YNdPrar"
      }
    },
    {
      "cell_type": "code",
      "source": [
        "from tensorflow.keras.models import Sequential, load_model\n",
        "from tensorflow.keras.layers import Dense, Conv2D, Flatten, MaxPooling2D\n",
        "from tensorflow.keras.callbacks import ModelCheckpoint, EarlyStopping"
      ],
      "metadata": {
        "id": "YQvKRozcPkbZ"
      },
      "execution_count": 5,
      "outputs": []
    },
    {
      "cell_type": "code",
      "source": [
        "model = Sequential([ \n",
        "    Conv2D(16, (3,3), input_shape=(150,150,3), activation='relu'),\n",
        "    MaxPooling2D(),\n",
        "    Conv2D(32, (3,3), activation='relu'),\n",
        "    MaxPooling2D(),\n",
        "    Conv2D(64, (3,3), activation='relu'),\n",
        "    MaxPooling2D(),\n",
        "    Flatten(),\n",
        "    Dense(512, activation='relu'),\n",
        "    Dense(1, activation='sigmoid')\n",
        "])\n",
        "model.summary()"
      ],
      "metadata": {
        "colab": {
          "base_uri": "https://localhost:8080/"
        },
        "id": "WfHRHdFTPvwZ",
        "outputId": "71d92e70-2759-4ab8-d61c-2d04761e652d"
      },
      "execution_count": 6,
      "outputs": [
        {
          "output_type": "stream",
          "name": "stdout",
          "text": [
            "Model: \"sequential\"\n",
            "_________________________________________________________________\n",
            " Layer (type)                Output Shape              Param #   \n",
            "=================================================================\n",
            " conv2d (Conv2D)             (None, 148, 148, 16)      448       \n",
            "                                                                 \n",
            " max_pooling2d (MaxPooling2D  (None, 74, 74, 16)       0         \n",
            " )                                                               \n",
            "                                                                 \n",
            " conv2d_1 (Conv2D)           (None, 72, 72, 32)        4640      \n",
            "                                                                 \n",
            " max_pooling2d_1 (MaxPooling  (None, 36, 36, 32)       0         \n",
            " 2D)                                                             \n",
            "                                                                 \n",
            " conv2d_2 (Conv2D)           (None, 34, 34, 64)        18496     \n",
            "                                                                 \n",
            " max_pooling2d_2 (MaxPooling  (None, 17, 17, 64)       0         \n",
            " 2D)                                                             \n",
            "                                                                 \n",
            " flatten (Flatten)           (None, 18496)             0         \n",
            "                                                                 \n",
            " dense (Dense)               (None, 512)               9470464   \n",
            "                                                                 \n",
            " dense_1 (Dense)             (None, 1)                 513       \n",
            "                                                                 \n",
            "=================================================================\n",
            "Total params: 9,494,561\n",
            "Trainable params: 9,494,561\n",
            "Non-trainable params: 0\n",
            "_________________________________________________________________\n"
          ]
        }
      ]
    },
    {
      "cell_type": "code",
      "source": [
        "from tensorflow.keras.optimizers import RMSprop\n",
        "\n",
        "model.compile(\n",
        "    optimizer=RMSprop(learning_rate=0.001, decay=1e-8),\n",
        "    loss='binary_crossentropy', metrics=['accuracy']\n",
        ")"
      ],
      "metadata": {
        "id": "F8j6ZK8wP0S5"
      },
      "execution_count": 7,
      "outputs": []
    },
    {
      "cell_type": "code",
      "source": [
        "model_path = 'best_model.h5'\n",
        "mc = ModelCheckpoint(model_path, save_best_only=True, verbose=1)\n",
        "es = EarlyStopping(patience=10)"
      ],
      "metadata": {
        "id": "aAru1vmQP6d0"
      },
      "execution_count": 8,
      "outputs": []
    },
    {
      "cell_type": "markdown",
      "source": [
        "- 데이터 부풀리기"
      ],
      "metadata": {
        "id": "x1LxLZP4QDOL"
      }
    },
    {
      "cell_type": "code",
      "source": [
        "from tensorflow.keras.preprocessing.image import ImageDataGenerator\n",
        "\n",
        "train_datagen = ImageDataGenerator(\n",
        "    rescale=1/255.,\n",
        "    rotation_range=15,          # randomly rotate image in the range 15 degree\n",
        "    width_shift_range=0.1,      # randomly shift images horizontally\n",
        "    height_shift_range=0.1,     # randomly shift images vertically\n",
        "    shear_range=0.5,            # 도형의 기울기\n",
        "    zoom_range=[0.8, 1.2],      # 0.8~1.2배 크기로 임의로 확대/축소\n",
        "    horizontal_flip=True,       # randomly flip images\n",
        "    vertical_flip=False,        # 뒤집지 않음\n",
        "    fill_mode='nearest'         # set mode for filling points outside the input boundaries\n",
        ")"
      ],
      "metadata": {
        "id": "D8FSvWPzP9Sx"
      },
      "execution_count": 9,
      "outputs": []
    },
    {
      "cell_type": "code",
      "source": [
        "train_generator = train_datagen.flow_from_directory(\n",
        "    train_dir, batch_size=20, class_mode='binary', target_size=(150,150)\n",
        ")"
      ],
      "metadata": {
        "colab": {
          "base_uri": "https://localhost:8080/"
        },
        "id": "Ki-CEO65QZ1q",
        "outputId": "1974a708-5aeb-42c4-b8a0-c65e8c0fb3a4"
      },
      "execution_count": 10,
      "outputs": [
        {
          "output_type": "stream",
          "name": "stdout",
          "text": [
            "Found 2000 images belonging to 2 classes.\n"
          ]
        }
      ]
    },
    {
      "cell_type": "code",
      "source": [
        "test_datagen = ImageDataGenerator(rescale=1/255.)\n",
        "test_generator = test_datagen.flow_from_directory(\n",
        "    validation_dir, batch_size=20, class_mode='binary', target_size=(150,150)\n",
        ")"
      ],
      "metadata": {
        "colab": {
          "base_uri": "https://localhost:8080/"
        },
        "id": "F0KN5jSCQeFj",
        "outputId": "dac2e0c5-f4cf-4284-d736-f3598fab590e"
      },
      "execution_count": 11,
      "outputs": [
        {
          "output_type": "stream",
          "name": "stdout",
          "text": [
            "Found 1000 images belonging to 2 classes.\n"
          ]
        }
      ]
    },
    {
      "cell_type": "code",
      "source": [
        "hist = model.fit(\n",
        "    train_generator,\n",
        "    validation_data=test_generator,\n",
        "    epochs=100,\n",
        "    steps_per_epoch=100,\n",
        "    validation_steps=50,\n",
        "    callbacks=[mc, es]\n",
        ")"
      ],
      "metadata": {
        "colab": {
          "base_uri": "https://localhost:8080/"
        },
        "id": "3EwUPP1yQkoa",
        "outputId": "37b76784-065f-40da-934a-97de91267895"
      },
      "execution_count": 12,
      "outputs": [
        {
          "output_type": "stream",
          "name": "stdout",
          "text": [
            "Epoch 1/100\n",
            "100/100 [==============================] - ETA: 0s - loss: 0.7301 - accuracy: 0.5750\n",
            "Epoch 1: val_loss improved from inf to 0.63881, saving model to best_model.h5\n",
            "100/100 [==============================] - 27s 185ms/step - loss: 0.7301 - accuracy: 0.5750 - val_loss: 0.6388 - val_accuracy: 0.6310\n",
            "Epoch 2/100\n",
            "100/100 [==============================] - ETA: 0s - loss: 0.6423 - accuracy: 0.6425\n",
            "Epoch 2: val_loss did not improve from 0.63881\n",
            "100/100 [==============================] - 19s 185ms/step - loss: 0.6423 - accuracy: 0.6425 - val_loss: 0.7134 - val_accuracy: 0.6090\n",
            "Epoch 3/100\n",
            "100/100 [==============================] - ETA: 0s - loss: 0.6051 - accuracy: 0.6775\n",
            "Epoch 3: val_loss did not improve from 0.63881\n",
            "100/100 [==============================] - 20s 195ms/step - loss: 0.6051 - accuracy: 0.6775 - val_loss: 0.6579 - val_accuracy: 0.6460\n",
            "Epoch 4/100\n",
            "100/100 [==============================] - ETA: 0s - loss: 0.5906 - accuracy: 0.6920\n",
            "Epoch 4: val_loss improved from 0.63881 to 0.59825, saving model to best_model.h5\n",
            "100/100 [==============================] - 18s 185ms/step - loss: 0.5906 - accuracy: 0.6920 - val_loss: 0.5983 - val_accuracy: 0.6850\n",
            "Epoch 5/100\n",
            "100/100 [==============================] - ETA: 0s - loss: 0.5748 - accuracy: 0.7060\n",
            "Epoch 5: val_loss improved from 0.59825 to 0.54825, saving model to best_model.h5\n",
            "100/100 [==============================] - 19s 188ms/step - loss: 0.5748 - accuracy: 0.7060 - val_loss: 0.5482 - val_accuracy: 0.7160\n",
            "Epoch 6/100\n",
            "100/100 [==============================] - ETA: 0s - loss: 0.5637 - accuracy: 0.7115\n",
            "Epoch 6: val_loss did not improve from 0.54825\n",
            "100/100 [==============================] - 18s 182ms/step - loss: 0.5637 - accuracy: 0.7115 - val_loss: 0.5579 - val_accuracy: 0.7110\n",
            "Epoch 7/100\n",
            "100/100 [==============================] - ETA: 0s - loss: 0.5495 - accuracy: 0.7285\n",
            "Epoch 7: val_loss did not improve from 0.54825\n",
            "100/100 [==============================] - 18s 180ms/step - loss: 0.5495 - accuracy: 0.7285 - val_loss: 0.5733 - val_accuracy: 0.7010\n",
            "Epoch 8/100\n",
            "100/100 [==============================] - ETA: 0s - loss: 0.5384 - accuracy: 0.7215\n",
            "Epoch 8: val_loss improved from 0.54825 to 0.52485, saving model to best_model.h5\n",
            "100/100 [==============================] - 19s 185ms/step - loss: 0.5384 - accuracy: 0.7215 - val_loss: 0.5249 - val_accuracy: 0.7410\n",
            "Epoch 9/100\n",
            "100/100 [==============================] - ETA: 0s - loss: 0.5404 - accuracy: 0.7345\n",
            "Epoch 9: val_loss improved from 0.52485 to 0.50516, saving model to best_model.h5\n",
            "100/100 [==============================] - 19s 186ms/step - loss: 0.5404 - accuracy: 0.7345 - val_loss: 0.5052 - val_accuracy: 0.7370\n",
            "Epoch 10/100\n",
            "100/100 [==============================] - ETA: 0s - loss: 0.5242 - accuracy: 0.7460\n",
            "Epoch 10: val_loss did not improve from 0.50516\n",
            "100/100 [==============================] - 20s 196ms/step - loss: 0.5242 - accuracy: 0.7460 - val_loss: 0.5502 - val_accuracy: 0.6950\n",
            "Epoch 11/100\n",
            "100/100 [==============================] - ETA: 0s - loss: 0.4996 - accuracy: 0.7610\n",
            "Epoch 11: val_loss did not improve from 0.50516\n",
            "100/100 [==============================] - 18s 182ms/step - loss: 0.4996 - accuracy: 0.7610 - val_loss: 0.5244 - val_accuracy: 0.7420\n",
            "Epoch 12/100\n",
            "100/100 [==============================] - ETA: 0s - loss: 0.4976 - accuracy: 0.7625\n",
            "Epoch 12: val_loss improved from 0.50516 to 0.47789, saving model to best_model.h5\n",
            "100/100 [==============================] - 19s 186ms/step - loss: 0.4976 - accuracy: 0.7625 - val_loss: 0.4779 - val_accuracy: 0.7670\n",
            "Epoch 13/100\n",
            "100/100 [==============================] - ETA: 0s - loss: 0.4871 - accuracy: 0.7715\n",
            "Epoch 13: val_loss did not improve from 0.47789\n",
            "100/100 [==============================] - 18s 183ms/step - loss: 0.4871 - accuracy: 0.7715 - val_loss: 0.6942 - val_accuracy: 0.6980\n",
            "Epoch 14/100\n",
            "100/100 [==============================] - ETA: 0s - loss: 0.4769 - accuracy: 0.7850\n",
            "Epoch 14: val_loss did not improve from 0.47789\n",
            "100/100 [==============================] - 18s 179ms/step - loss: 0.4769 - accuracy: 0.7850 - val_loss: 0.5166 - val_accuracy: 0.7390\n",
            "Epoch 15/100\n",
            "100/100 [==============================] - ETA: 0s - loss: 0.4798 - accuracy: 0.7700\n",
            "Epoch 15: val_loss did not improve from 0.47789\n",
            "100/100 [==============================] - 18s 184ms/step - loss: 0.4798 - accuracy: 0.7700 - val_loss: 0.6105 - val_accuracy: 0.7310\n",
            "Epoch 16/100\n",
            "100/100 [==============================] - ETA: 0s - loss: 0.4741 - accuracy: 0.7750\n",
            "Epoch 16: val_loss did not improve from 0.47789\n",
            "100/100 [==============================] - 18s 182ms/step - loss: 0.4741 - accuracy: 0.7750 - val_loss: 0.5031 - val_accuracy: 0.7650\n",
            "Epoch 17/100\n",
            "100/100 [==============================] - ETA: 0s - loss: 0.4507 - accuracy: 0.7965\n",
            "Epoch 17: val_loss improved from 0.47789 to 0.45588, saving model to best_model.h5\n",
            "100/100 [==============================] - 19s 193ms/step - loss: 0.4507 - accuracy: 0.7965 - val_loss: 0.4559 - val_accuracy: 0.7730\n",
            "Epoch 18/100\n",
            "100/100 [==============================] - ETA: 0s - loss: 0.4667 - accuracy: 0.7900\n",
            "Epoch 18: val_loss improved from 0.45588 to 0.45496, saving model to best_model.h5\n",
            "100/100 [==============================] - 18s 184ms/step - loss: 0.4667 - accuracy: 0.7900 - val_loss: 0.4550 - val_accuracy: 0.7800\n",
            "Epoch 19/100\n",
            "100/100 [==============================] - ETA: 0s - loss: 0.4413 - accuracy: 0.8015\n",
            "Epoch 19: val_loss did not improve from 0.45496\n",
            "100/100 [==============================] - 18s 182ms/step - loss: 0.4413 - accuracy: 0.8015 - val_loss: 0.5601 - val_accuracy: 0.7640\n",
            "Epoch 20/100\n",
            "100/100 [==============================] - ETA: 0s - loss: 0.4512 - accuracy: 0.7880\n",
            "Epoch 20: val_loss did not improve from 0.45496\n",
            "100/100 [==============================] - 18s 180ms/step - loss: 0.4512 - accuracy: 0.7880 - val_loss: 0.5286 - val_accuracy: 0.7770\n",
            "Epoch 21/100\n",
            "100/100 [==============================] - ETA: 0s - loss: 0.4325 - accuracy: 0.7980\n",
            "Epoch 21: val_loss did not improve from 0.45496\n",
            "100/100 [==============================] - 18s 182ms/step - loss: 0.4325 - accuracy: 0.7980 - val_loss: 0.4974 - val_accuracy: 0.7790\n",
            "Epoch 22/100\n",
            "100/100 [==============================] - ETA: 0s - loss: 0.4292 - accuracy: 0.8045\n",
            "Epoch 22: val_loss did not improve from 0.45496\n",
            "100/100 [==============================] - 18s 181ms/step - loss: 0.4292 - accuracy: 0.8045 - val_loss: 0.4793 - val_accuracy: 0.7710\n",
            "Epoch 23/100\n",
            "100/100 [==============================] - ETA: 0s - loss: 0.4376 - accuracy: 0.8005\n",
            "Epoch 23: val_loss did not improve from 0.45496\n",
            "100/100 [==============================] - 18s 181ms/step - loss: 0.4376 - accuracy: 0.8005 - val_loss: 0.4773 - val_accuracy: 0.7730\n",
            "Epoch 24/100\n",
            "100/100 [==============================] - ETA: 0s - loss: 0.4364 - accuracy: 0.8010\n",
            "Epoch 24: val_loss did not improve from 0.45496\n",
            "100/100 [==============================] - 18s 181ms/step - loss: 0.4364 - accuracy: 0.8010 - val_loss: 0.5256 - val_accuracy: 0.7480\n",
            "Epoch 25/100\n",
            "100/100 [==============================] - ETA: 0s - loss: 0.4153 - accuracy: 0.8115\n",
            "Epoch 25: val_loss did not improve from 0.45496\n",
            "100/100 [==============================] - 19s 192ms/step - loss: 0.4153 - accuracy: 0.8115 - val_loss: 0.4550 - val_accuracy: 0.7850\n",
            "Epoch 26/100\n",
            "100/100 [==============================] - ETA: 0s - loss: 0.4127 - accuracy: 0.8105\n",
            "Epoch 26: val_loss did not improve from 0.45496\n",
            "100/100 [==============================] - 18s 181ms/step - loss: 0.4127 - accuracy: 0.8105 - val_loss: 0.4664 - val_accuracy: 0.7980\n",
            "Epoch 27/100\n",
            "100/100 [==============================] - ETA: 0s - loss: 0.4213 - accuracy: 0.8160\n",
            "Epoch 27: val_loss improved from 0.45496 to 0.45161, saving model to best_model.h5\n",
            "100/100 [==============================] - 18s 179ms/step - loss: 0.4213 - accuracy: 0.8160 - val_loss: 0.4516 - val_accuracy: 0.7940\n",
            "Epoch 28/100\n",
            "100/100 [==============================] - ETA: 0s - loss: 0.4149 - accuracy: 0.8110\n",
            "Epoch 28: val_loss improved from 0.45161 to 0.43363, saving model to best_model.h5\n",
            "100/100 [==============================] - 18s 182ms/step - loss: 0.4149 - accuracy: 0.8110 - val_loss: 0.4336 - val_accuracy: 0.8060\n",
            "Epoch 29/100\n",
            "100/100 [==============================] - ETA: 0s - loss: 0.3931 - accuracy: 0.8205\n",
            "Epoch 29: val_loss did not improve from 0.43363\n",
            "100/100 [==============================] - 18s 178ms/step - loss: 0.3931 - accuracy: 0.8205 - val_loss: 0.4539 - val_accuracy: 0.8000\n",
            "Epoch 30/100\n",
            "100/100 [==============================] - ETA: 0s - loss: 0.4063 - accuracy: 0.8185\n",
            "Epoch 30: val_loss improved from 0.43363 to 0.42796, saving model to best_model.h5\n",
            "100/100 [==============================] - 18s 180ms/step - loss: 0.4063 - accuracy: 0.8185 - val_loss: 0.4280 - val_accuracy: 0.8030\n",
            "Epoch 31/100\n",
            "100/100 [==============================] - ETA: 0s - loss: 0.4109 - accuracy: 0.8200\n",
            "Epoch 31: val_loss improved from 0.42796 to 0.42098, saving model to best_model.h5\n",
            "100/100 [==============================] - 18s 181ms/step - loss: 0.4109 - accuracy: 0.8200 - val_loss: 0.4210 - val_accuracy: 0.8140\n",
            "Epoch 32/100\n",
            "100/100 [==============================] - ETA: 0s - loss: 0.3826 - accuracy: 0.8370\n",
            "Epoch 32: val_loss did not improve from 0.42098\n",
            "100/100 [==============================] - 19s 191ms/step - loss: 0.3826 - accuracy: 0.8370 - val_loss: 0.4617 - val_accuracy: 0.7840\n",
            "Epoch 33/100\n",
            "100/100 [==============================] - ETA: 0s - loss: 0.3876 - accuracy: 0.8300\n",
            "Epoch 33: val_loss did not improve from 0.42098\n",
            "100/100 [==============================] - 18s 179ms/step - loss: 0.3876 - accuracy: 0.8300 - val_loss: 0.4748 - val_accuracy: 0.8000\n",
            "Epoch 34/100\n",
            "100/100 [==============================] - ETA: 0s - loss: 0.3796 - accuracy: 0.8375\n",
            "Epoch 34: val_loss did not improve from 0.42098\n",
            "100/100 [==============================] - 18s 179ms/step - loss: 0.3796 - accuracy: 0.8375 - val_loss: 0.4657 - val_accuracy: 0.8000\n",
            "Epoch 35/100\n",
            "100/100 [==============================] - ETA: 0s - loss: 0.3717 - accuracy: 0.8350\n",
            "Epoch 35: val_loss did not improve from 0.42098\n",
            "100/100 [==============================] - 18s 181ms/step - loss: 0.3717 - accuracy: 0.8350 - val_loss: 0.9124 - val_accuracy: 0.7370\n",
            "Epoch 36/100\n",
            "100/100 [==============================] - ETA: 0s - loss: 0.3802 - accuracy: 0.8320\n",
            "Epoch 36: val_loss did not improve from 0.42098\n",
            "100/100 [==============================] - 18s 182ms/step - loss: 0.3802 - accuracy: 0.8320 - val_loss: 0.4515 - val_accuracy: 0.8120\n",
            "Epoch 37/100\n",
            "100/100 [==============================] - ETA: 0s - loss: 0.3887 - accuracy: 0.8340\n",
            "Epoch 37: val_loss improved from 0.42098 to 0.42051, saving model to best_model.h5\n",
            "100/100 [==============================] - 18s 182ms/step - loss: 0.3887 - accuracy: 0.8340 - val_loss: 0.4205 - val_accuracy: 0.8130\n",
            "Epoch 38/100\n",
            "100/100 [==============================] - ETA: 0s - loss: 0.3724 - accuracy: 0.8305\n",
            "Epoch 38: val_loss did not improve from 0.42051\n",
            "100/100 [==============================] - 18s 181ms/step - loss: 0.3724 - accuracy: 0.8305 - val_loss: 0.4539 - val_accuracy: 0.8020\n",
            "Epoch 39/100\n",
            "100/100 [==============================] - ETA: 0s - loss: 0.3724 - accuracy: 0.8240\n",
            "Epoch 39: val_loss did not improve from 0.42051\n",
            "100/100 [==============================] - 20s 203ms/step - loss: 0.3724 - accuracy: 0.8240 - val_loss: 0.4602 - val_accuracy: 0.7990\n",
            "Epoch 40/100\n",
            "100/100 [==============================] - ETA: 0s - loss: 0.3868 - accuracy: 0.8395\n",
            "Epoch 40: val_loss did not improve from 0.42051\n",
            "100/100 [==============================] - 18s 179ms/step - loss: 0.3868 - accuracy: 0.8395 - val_loss: 0.4915 - val_accuracy: 0.7860\n",
            "Epoch 41/100\n",
            "100/100 [==============================] - ETA: 0s - loss: 0.3486 - accuracy: 0.8490\n",
            "Epoch 41: val_loss did not improve from 0.42051\n",
            "100/100 [==============================] - 18s 179ms/step - loss: 0.3486 - accuracy: 0.8490 - val_loss: 0.4974 - val_accuracy: 0.8000\n",
            "Epoch 42/100\n",
            "100/100 [==============================] - ETA: 0s - loss: 0.3684 - accuracy: 0.8480\n",
            "Epoch 42: val_loss did not improve from 0.42051\n",
            "100/100 [==============================] - 18s 177ms/step - loss: 0.3684 - accuracy: 0.8480 - val_loss: 0.6210 - val_accuracy: 0.7620\n",
            "Epoch 43/100\n",
            "100/100 [==============================] - ETA: 0s - loss: 0.3674 - accuracy: 0.8340\n",
            "Epoch 43: val_loss did not improve from 0.42051\n",
            "100/100 [==============================] - 18s 178ms/step - loss: 0.3674 - accuracy: 0.8340 - val_loss: 0.4379 - val_accuracy: 0.8070\n",
            "Epoch 44/100\n",
            "100/100 [==============================] - ETA: 0s - loss: 0.3684 - accuracy: 0.8350\n",
            "Epoch 44: val_loss did not improve from 0.42051\n",
            "100/100 [==============================] - 18s 178ms/step - loss: 0.3684 - accuracy: 0.8350 - val_loss: 0.4368 - val_accuracy: 0.8070\n",
            "Epoch 45/100\n",
            "100/100 [==============================] - ETA: 0s - loss: 0.3588 - accuracy: 0.8505\n",
            "Epoch 45: val_loss did not improve from 0.42051\n",
            "100/100 [==============================] - 18s 176ms/step - loss: 0.3588 - accuracy: 0.8505 - val_loss: 0.5282 - val_accuracy: 0.7910\n",
            "Epoch 46/100\n",
            "100/100 [==============================] - ETA: 0s - loss: 0.3820 - accuracy: 0.8305\n",
            "Epoch 46: val_loss did not improve from 0.42051\n",
            "100/100 [==============================] - 18s 180ms/step - loss: 0.3820 - accuracy: 0.8305 - val_loss: 0.4602 - val_accuracy: 0.8070\n",
            "Epoch 47/100\n",
            "100/100 [==============================] - ETA: 0s - loss: 0.3370 - accuracy: 0.8560\n",
            "Epoch 47: val_loss did not improve from 0.42051\n",
            "100/100 [==============================] - 19s 187ms/step - loss: 0.3370 - accuracy: 0.8560 - val_loss: 0.4614 - val_accuracy: 0.8090\n"
          ]
        }
      ]
    },
    {
      "cell_type": "code",
      "source": [
        "best_model = load_model(model_path)\n",
        "best_model.evaluate(test_generator)"
      ],
      "metadata": {
        "colab": {
          "base_uri": "https://localhost:8080/"
        },
        "id": "wlNEv-7jURRG",
        "outputId": "93c67e41-edf6-46fe-d2d4-0c4e39960e55"
      },
      "execution_count": 13,
      "outputs": [
        {
          "output_type": "stream",
          "name": "stdout",
          "text": [
            "50/50 [==============================] - 3s 61ms/step - loss: 0.4205 - accuracy: 0.8130\n"
          ]
        },
        {
          "output_type": "execute_result",
          "data": {
            "text/plain": [
              "[0.42051056027412415, 0.8130000233650208]"
            ]
          },
          "metadata": {},
          "execution_count": 13
        }
      ]
    },
    {
      "cell_type": "markdown",
      "source": [
        "- 시각화"
      ],
      "metadata": {
        "id": "3JB9jNgdU44F"
      }
    },
    {
      "cell_type": "code",
      "source": [
        "y_acc = hist.history['accuracy']\n",
        "y_vloss = hist.history['val_loss']\n",
        "xs = np.arange(1, len(y_acc)+1)\n",
        "plt.figure(figsize=(12,8))\n",
        "plt.plot(xs, y_acc, label='train accuracy')\n",
        "plt.plot(xs, y_vloss, label='validation loss')\n",
        "plt.legend(), plt.grid()\n",
        "plt.xlabel('Epoch')\n",
        "plt.show()"
      ],
      "metadata": {
        "colab": {
          "base_uri": "https://localhost:8080/",
          "height": 497
        },
        "id": "urNzb-AxUU-M",
        "outputId": "1e088958-683f-430d-e5e5-27b11de5cf5b"
      },
      "execution_count": 14,
      "outputs": [
        {
          "output_type": "display_data",
          "data": {
            "text/plain": [
              "<Figure size 864x576 with 1 Axes>"
            ],
            "image/png": "[encoded data removed]"
          },
          "metadata": {
            "needs_background": "light"
          }
        }
      ]
    },
    {
      "cell_type": "code",
      "source": [],
      "metadata": {
        "id": "TzLOcxb3U6TL"
      },
      "execution_count": null,
      "outputs": []
    }
  ]
}