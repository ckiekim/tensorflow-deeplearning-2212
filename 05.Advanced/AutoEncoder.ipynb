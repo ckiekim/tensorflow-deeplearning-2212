{
  "cells": [
    {
      "attachments": {},
      "cell_type": "markdown",
      "metadata": {
        "id": "rwOvyt4WC84Z"
      },
      "source": [
        "# 오토인코더(Autoencoder, AE)\n",
        "- 입력을 저차원 잠재공간으로 인코딩한 후 디코딩하여 복원하는 네트워크  "
      ]
    },
    {
      "cell_type": "markdown",
      "metadata": {
        "id": "pBYkcHQYH8rA"
      },
      "source": [
        "## Fashon MNIST Dataset\n",
        "\n",
        "- 코드 참조 : https://www.tensorflow.org/tutorials/generative/autoencoder?hl=ko"
      ]
    },
    {
      "cell_type": "code",
      "execution_count": null,
      "metadata": {
        "id": "W_lTtOABILk0"
      },
      "outputs": [],
      "source": [
        "import numpy as np\n",
        "import matplotlib.pyplot as plt\n",
        "import tensorflow as tf\n",
        "from tensorflow.keras.datasets import fashion_mnist\n",
        "from tensorflow.keras.models import Model, Sequential\n",
        "from tensorflow.keras.layers import Dense, Flatten, Reshape\n",
        "from tensorflow.keras.losses import MeanSquaredError"
      ]
    },
    {
      "cell_type": "markdown",
      "metadata": {
        "id": "LeqN5A51IHmo"
      },
      "source": [
        "### 데이터 로드"
      ]
    },
    {
      "cell_type": "code",
      "execution_count": null,
      "metadata": {
        "colab": {
          "base_uri": "https://localhost:8080/"
        },
        "id": "CqQj97-0z9LL",
        "outputId": "22e4e112-9d56-42d7-9cbd-b9c62a162c9f"
      },
      "outputs": [],
      "source": [
        "(X_train, _), (X_test, _) = fashion_mnist.load_data()"
      ]
    },
    {
      "cell_type": "code",
      "execution_count": null,
      "metadata": {
        "colab": {
          "base_uri": "https://localhost:8080/"
        },
        "id": "Wh04_ujz3n4J",
        "outputId": "1d9a4e1e-7828-4b50-bd95-fe7104b6eb1e"
      },
      "outputs": [],
      "source": [
        "# 정규화\n",
        "X_train = X_train.astype(np.float32) / 255.\n",
        "X_test = X_test.astype('float32') / 255. \n",
        "X_train.shape, X_test.shape, np.min(X_train), np.max(X_train)"
      ]
    },
    {
      "cell_type": "markdown",
      "metadata": {
        "id": "ILnkElscIctE"
      },
      "source": [
        "### 모델 정의\n",
        "\n",
        "- 이미지를 64 차원 잠재 벡터로 압축하는 encoder 및 잠재 공간에서 원본 이미지를 재구성하는 decoder 라는 두 개의 Dense 레이어로 오토 encoder 정의\n",
        "\n",
        "- Keras Model Subclassing API를 사용"
      ]
    },
    {
      "cell_type": "code",
      "execution_count": null,
      "metadata": {
        "id": "DbEA2fM8H7Vu"
      },
      "outputs": [],
      "source": [
        "LATENT_DIM = 64\n",
        "\n",
        "class AutoEncoder(Model):\n",
        "    def __init__(self, latent_dim=LATENT_DIM):\n",
        "        super(AutoEncoder, self).__init__()\n",
        "        self.latent_dim = latent_dim\n",
        "        self.encoder = Sequential([Flatten(),\n",
        "                                   Dense(latent_dim, activation='relu')])\n",
        "        self.decoder = Sequential([Dense(784, activation='sigmoid'),\n",
        "                                   Reshape((28,28))])\n",
        "        \n",
        "    def call(self, x):\n",
        "        encoded = self.encoder(x)\n",
        "        decoded = self.decoder(encoded)\n",
        "        return decoded"
      ]
    },
    {
      "cell_type": "markdown",
      "metadata": {
        "id": "1xdzD61WI8Yh"
      },
      "source": [
        "### 모델 생성 및 컴파일"
      ]
    },
    {
      "cell_type": "code",
      "execution_count": null,
      "metadata": {
        "id": "-NtceXVnH7Iu"
      },
      "outputs": [],
      "source": [
        "ae = AutoEncoder(LATENT_DIM)\n",
        "ae.compile(optimizer='adam', loss=MeanSquaredError())"
      ]
    },
    {
      "cell_type": "markdown",
      "metadata": {
        "id": "B8vKj0ysJAfv"
      },
      "source": [
        "### 모델 학습\n",
        "- x_train 을 입력과 목표 모두로 사용하여 모델을 훈련\n",
        "\n",
        "- encoder 는 데이터 세트를 784 차원에서 잠재 공간으로 압축하는 방법을 배우고,  \n",
        "  decoder 는 원본 이미지를 재구성하는 방법을 배움"
      ]
    },
    {
      "cell_type": "code",
      "execution_count": null,
      "metadata": {},
      "outputs": [],
      "source": [
        "ae.summary()"
      ]
    },
    {
      "cell_type": "code",
      "execution_count": null,
      "metadata": {
        "colab": {
          "base_uri": "https://localhost:8080/"
        },
        "id": "pRqFa-SRz9LN",
        "outputId": "98a4fbdf-a275-4449-e357-448ae155a6e3"
      },
      "outputs": [],
      "source": [
        "ae.fit(X_train, X_train, epochs=30, validation_data=(X_test, X_test))"
      ]
    },
    {
      "cell_type": "markdown",
      "metadata": {
        "id": "zA7JfP8FJKlT"
      },
      "source": [
        "### 모델 테스트"
      ]
    },
    {
      "cell_type": "code",
      "execution_count": 8,
      "metadata": {
        "id": "uILZGymOJIBI"
      },
      "outputs": [],
      "source": [
        "encoded_imgs = ae.encoder(X_test).numpy()\n",
        "decoded_imgs = ae.decoder(encoded_imgs).numpy()"
      ]
    },
    {
      "cell_type": "code",
      "execution_count": null,
      "metadata": {
        "colab": {
          "base_uri": "https://localhost:8080/",
          "height": 241
        },
        "id": "4zu7QR659sZZ",
        "outputId": "0bc81fa7-8f83-4ce9-a22d-514901b13ed1"
      },
      "outputs": [],
      "source": [
        "plt.figure(figsize=(16,4))\n",
        "for i in range(10):\n",
        "    plt.subplot(2,10,i+1)\n",
        "    plt.imshow(X_test[i], cmap='gray')\n",
        "    plt.title('Org (28,28)')\n",
        "    plt.axis('off')\n",
        "\n",
        "    plt.subplot(2,10,i+11)\n",
        "    plt.imshow(decoded_imgs[i], cmap='gray')\n",
        "    plt.title('64 -> (28,28)')\n",
        "    plt.axis('off')  \n",
        "plt.show()  "
      ]
    },
    {
      "cell_type": "markdown",
      "metadata": {
        "id": "BOFigU6FACkb"
      },
      "source": [
        "- Latent dim: 100, Epoch: 30"
      ]
    },
    {
      "cell_type": "code",
      "execution_count": 10,
      "metadata": {
        "id": "qsLkHCi9-bYp"
      },
      "outputs": [],
      "source": [
        "ae2 = AutoEncoder(100)\n",
        "ae2.compile(optimizer='adam', loss=MeanSquaredError())"
      ]
    },
    {
      "cell_type": "code",
      "execution_count": null,
      "metadata": {
        "colab": {
          "base_uri": "https://localhost:8080/"
        },
        "id": "wFCicwKCB42e",
        "outputId": "71a31f70-7858-4e33-84f7-3590564c36a4"
      },
      "outputs": [],
      "source": [
        "ae2.fit(X_train, X_train, epochs=30, validation_data=(X_test, X_test))"
      ]
    },
    {
      "cell_type": "code",
      "execution_count": 12,
      "metadata": {
        "id": "IYhRYLFcB4yh"
      },
      "outputs": [],
      "source": [
        "encoded_imgs2 = ae2.encoder(X_test).numpy()\n",
        "decoded_imgs2 = ae2.decoder(encoded_imgs2).numpy()"
      ]
    },
    {
      "cell_type": "markdown",
      "metadata": {
        "id": "_q3VQOnwBlFn"
      },
      "source": [
        "- Latent dim: 40, Epoch: 30"
      ]
    },
    {
      "cell_type": "code",
      "execution_count": null,
      "metadata": {
        "colab": {
          "base_uri": "https://localhost:8080/"
        },
        "id": "GZuNNFH_ABZ-",
        "outputId": "873af4a0-c813-43da-c3cc-d6788a7679ee"
      },
      "outputs": [],
      "source": [
        "ae3 = AutoEncoder(40)\n",
        "ae3.compile(optimizer='adam', loss=MeanSquaredError())\n",
        "ae3.fit(X_train, X_train, epochs=30, validation_data=(X_test, X_test), verbose=1)"
      ]
    },
    {
      "cell_type": "code",
      "execution_count": 14,
      "metadata": {
        "id": "j1Ge9vdsC5Lf"
      },
      "outputs": [],
      "source": [
        "encoded_imgs3 = ae3.encoder(X_test).numpy()\n",
        "decoded_imgs3 = ae3.decoder(encoded_imgs3).numpy()"
      ]
    },
    {
      "attachments": {},
      "cell_type": "markdown",
      "metadata": {
        "id": "AoQ8YFamBr2G"
      },
      "source": [
        "- Latent dim: 64, Epoch: 50"
      ]
    },
    {
      "cell_type": "code",
      "execution_count": null,
      "metadata": {
        "colab": {
          "base_uri": "https://localhost:8080/"
        },
        "id": "WbV3A2_CABLi",
        "outputId": "fb715b2c-b51a-4c0a-d680-f08dffb71500"
      },
      "outputs": [],
      "source": [
        "ae4 = AutoEncoder(64)\n",
        "ae4.compile(optimizer='adam', loss=MeanSquaredError())\n",
        "ae4.fit(X_train, X_train, epochs=50, validation_data=(X_test, X_test), verbose=1)"
      ]
    },
    {
      "cell_type": "code",
      "execution_count": 16,
      "metadata": {
        "id": "Ihm7dNtADreW"
      },
      "outputs": [],
      "source": [
        "encoded_imgs4 = ae4.encoder(X_test).numpy()\n",
        "decoded_imgs4 = ae4.decoder(encoded_imgs4).numpy()"
      ]
    },
    {
      "cell_type": "markdown",
      "metadata": {
        "id": "rZjuPFkSEjwn"
      },
      "source": [
        "- 종합 비교"
      ]
    },
    {
      "cell_type": "code",
      "execution_count": null,
      "metadata": {
        "colab": {
          "base_uri": "https://localhost:8080/",
          "height": 572
        },
        "id": "n7Ydh69zElmM",
        "outputId": "a44a40c8-b8ac-41c9-900d-435bc2a2ddd2"
      },
      "outputs": [],
      "source": [
        "imgs = [X_test, decoded_imgs, decoded_imgs2, decoded_imgs3, decoded_imgs4]\n",
        "titles = ['Original','30, 64nodes','30, 100nodes','30, 40nodes','50, 64nodes']\n",
        "plt.figure(figsize=(16,10))\n",
        "for i, img in enumerate(imgs):\n",
        "    for k in range(10):\n",
        "        plt.subplot(5, 10, i*10 + k + 1)\n",
        "        plt.imshow(img[k], cmap='gray')\n",
        "        plt.title(titles[i]), plt.axis('off')\n",
        "plt.show()"
      ]
    },
    {
      "cell_type": "code",
      "execution_count": null,
      "metadata": {
        "id": "Osz77MplFsU4"
      },
      "outputs": [],
      "source": []
    }
  ],
  "metadata": {
    "accelerator": "GPU",
    "colab": {
      "machine_shape": "hm",
      "provenance": []
    },
    "kernelspec": {
      "display_name": "vsc",
      "language": "python",
      "name": "python3"
    },
    "language_info": {
      "codemirror_mode": {
        "name": "ipython",
        "version": 3
      },
      "file_extension": ".py",
      "mimetype": "text/x-python",
      "name": "python",
      "nbconvert_exporter": "python",
      "pygments_lexer": "ipython3",
      "version": "3.7.7"
    },
    "vscode": {
      "interpreter": {
        "hash": "46da089bfa23c3ae4ba452010c58d8a93e0381c3895c75127597ccfaa72e09c2"
      }
    }
  },
  "nbformat": 4,
  "nbformat_minor": 0
}
