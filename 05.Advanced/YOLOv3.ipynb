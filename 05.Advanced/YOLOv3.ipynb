{
  "cells": [
    {
      "cell_type": "markdown",
      "metadata": {
        "id": "ILz_CvOpujA-"
      },
      "source": [
        "# YOLO v3 TF2 GPU Colab\n",
        "- You only look once!!!"
      ]
    },
    {
      "cell_type": "markdown",
      "metadata": {
        "id": "FtzvyfkouxA4"
      },
      "source": [
        "### 1. Clone and install dependencies\n",
        "- 설치가 끝나면 '런타임 다시시작'하여야 함"
      ]
    },
    {
      "cell_type": "code",
      "execution_count": null,
      "metadata": {
        "colab": {
          "base_uri": "https://localhost:8080/"
        },
        "id": "TEGtJ_fkuYrd",
        "outputId": "dd3aab34-62a4-4972-c97a-42ed26841f88"
      },
      "outputs": [],
      "source": [
        "# 설치되어있는 tensorflow, keras 삭제\n",
        "!pip uninstall -y tensorflow keras"
      ]
    },
    {
      "cell_type": "code",
      "execution_count": null,
      "metadata": {
        "colab": {
          "base_uri": "https://localhost:8080/"
        },
        "id": "BPKG7C-rr1ll",
        "outputId": "54fe3a55-1bae-477a-df88-14a440993049"
      },
      "outputs": [],
      "source": [
        "!git clone https://github.com/zzh8829/yolov3-tf2"
      ]
    },
    {
      "cell_type": "code",
      "execution_count": null,
      "metadata": {
        "colab": {
          "base_uri": "https://localhost:8080/"
        },
        "id": "S_-WpshkwacX",
        "outputId": "78396cc5-0358-46f4-bd18-ab1e9668a8d8"
      },
      "outputs": [],
      "source": [
        "# yolov3-tf2로 이동\n",
        "%cd yolov3-tf2"
      ]
    },
    {
      "cell_type": "code",
      "execution_count": null,
      "metadata": {
        "colab": {
          "base_uri": "https://localhost:8080/"
        },
        "id": "QgMzg8qyxKyn",
        "outputId": "7f37d510-a29c-42fe-e3e8-18097b4bb478"
      },
      "outputs": [],
      "source": [
        "!pip install -r requirements-gpu.txt"
      ]
    },
    {
      "cell_type": "code",
      "execution_count": null,
      "metadata": {
        "colab": {
          "base_uri": "https://localhost:8080/",
          "height": 35
        },
        "id": "QO5lfIuCICkX",
        "outputId": "3b69e1e3-310c-48e4-d5aa-89dc3963b1d2"
      },
      "outputs": [],
      "source": [
        "import tensorflow as tf\n",
        "tf.__version__"
      ]
    },
    {
      "cell_type": "code",
      "execution_count": null,
      "metadata": {
        "colab": {
          "base_uri": "https://localhost:8080/"
        },
        "id": "cCwAXWVb0Pu2",
        "outputId": "88003513-089a-4523-c069-d3e723d4f6ed"
      },
      "outputs": [],
      "source": [
        "!pip install tensorflow==2.4.2"
      ]
    },
    {
      "cell_type": "code",
      "execution_count": null,
      "metadata": {
        "colab": {
          "base_uri": "https://localhost:8080/"
        },
        "id": "CogwbgQkxVDq",
        "outputId": "1cbf1653-3902-4c66-bc7a-46cde3f7e350"
      },
      "outputs": [],
      "source": [
        "!pip install keras==2.4.2"
      ]
    },
    {
      "cell_type": "code",
      "execution_count": null,
      "metadata": {
        "id": "Ew4RwLwIxxWS"
      },
      "outputs": [],
      "source": [
        "# 런타임 다시시작"
      ]
    },
    {
      "cell_type": "markdown",
      "metadata": {
        "id": "xyrhoolayBNE"
      },
      "source": [
        "### 2. Tensorflow2 version 확인"
      ]
    },
    {
      "cell_type": "code",
      "execution_count": null,
      "metadata": {
        "colab": {
          "base_uri": "https://localhost:8080/"
        },
        "id": "Gb1TNYx4x5Bs",
        "outputId": "6f2b4329-c86a-4ee7-c7ba-7a590dbf509c"
      },
      "outputs": [],
      "source": [
        "%cd yolov3-tf2/\n",
        "!ls"
      ]
    },
    {
      "cell_type": "code",
      "execution_count": null,
      "metadata": {
        "colab": {
          "base_uri": "https://localhost:8080/",
          "height": 35
        },
        "id": "N1O1ZGe6yYxq",
        "outputId": "17e8513d-c6fa-4d6b-bce0-1d00501b4e1a"
      },
      "outputs": [],
      "source": [
        "import tensorflow as tf\n",
        "tf.__version__"
      ]
    },
    {
      "cell_type": "markdown",
      "metadata": {
        "id": "IKzqFpuDykla"
      },
      "source": [
        "### 3. Darknet의 pretrained weight을 변환"
      ]
    },
    {
      "cell_type": "code",
      "execution_count": null,
      "metadata": {
        "colab": {
          "base_uri": "https://localhost:8080/"
        },
        "id": "eq3P0ExLydfM",
        "outputId": "3429c94f-6dd9-45f8-bf70-59a521fbcd51"
      },
      "outputs": [],
      "source": [
        "!wget https://pjreddie.com/media/files/yolov3.weights -O data/yolov3.weights"
      ]
    },
    {
      "cell_type": "code",
      "execution_count": null,
      "metadata": {
        "colab": {
          "base_uri": "https://localhost:8080/"
        },
        "id": "oofv_DHxy0dy",
        "outputId": "5431287c-74c6-434a-9672-409451bf5f28"
      },
      "outputs": [],
      "source": [
        "!python convert.py --weights ./data/yolov3.weights --output ./checkpoints/yolov3.tf"
      ]
    },
    {
      "cell_type": "markdown",
      "metadata": {
        "id": "OizLOPW61TLO"
      },
      "source": [
        "### 4. Initialize detector"
      ]
    },
    {
      "cell_type": "code",
      "execution_count": 6,
      "metadata": {
        "id": "TA7Y6Iwuy8-E"
      },
      "outputs": [],
      "source": [
        "import sys\n",
        "from absl import app, logging, flags\n",
        "from absl.flags import FLAGS\n",
        "import time\n",
        "import cv2\n",
        "import numpy as np\n",
        "import tensorflow as tf\n",
        "from yolov3_tf2.models import YoloV3, YoloV3Tiny\n",
        "from yolov3_tf2.dataset import transform_images, load_tfrecord_dataset\n",
        "from yolov3_tf2.utils import draw_outputs\n",
        "\n",
        "from tensorflow.keras.preprocessing import image\n",
        "import matplotlib.pyplot as plt\n",
        "from IPython.display import Image, display"
      ]
    },
    {
      "cell_type": "code",
      "execution_count": null,
      "metadata": {
        "colab": {
          "base_uri": "https://localhost:8080/"
        },
        "id": "2c97pi3n1X15",
        "outputId": "94f02117-fccf-4f96-e532-2f523c4f0242"
      },
      "outputs": [],
      "source": [
        "!ls -l checkpoints"
      ]
    },
    {
      "cell_type": "code",
      "execution_count": null,
      "metadata": {
        "colab": {
          "base_uri": "https://localhost:8080/"
        },
        "id": "7-CAt7PV1ixe",
        "outputId": "7eee6f0f-3fb5-412c-bfe0-9e9ee2cf6c37"
      },
      "outputs": [],
      "source": [
        "flags.DEFINE_string('classes', './data/coco.names', 'path to classes file')\n",
        "flags.DEFINE_string('weights', './checkpoints/yolov3.tf', 'path to weights file')\n",
        "flags.DEFINE_boolean('tiny', False, 'yolov3 or yolov3-tiny')\n",
        "flags.DEFINE_integer('size', 416, 'resize images to')\n",
        "flags.DEFINE_string('image', './data/girl.png', 'path to input image')\n",
        "flags.DEFINE_string('tfrecord', None, 'tfrecord instead of image')\n",
        "flags.DEFINE_string('output', './output.jpg', 'path to output image')\n",
        "flags.DEFINE_integer('num_classes', 80, 'number of classes in the model')\n",
        "\n",
        "app._run_init(['yolov3'], app.parse_flags_with_usage)\n",
        "\n",
        "#physical_devices = tf.config.experimental.list_physical_devices('GPU')\n",
        "#tf.config.experimental.set_memory_growth(physical_devices[0], True)"
      ]
    },
    {
      "cell_type": "markdown",
      "metadata": {
        "id": "cE8yTvIU6wdB"
      },
      "source": [
        "### 5. Detect Image"
      ]
    },
    {
      "cell_type": "code",
      "execution_count": null,
      "metadata": {
        "colab": {
          "base_uri": "https://localhost:8080/"
        },
        "id": "dcVB1Egy20lW",
        "outputId": "f22f1430-2fb6-4fa5-db6a-43d2d932e73e"
      },
      "outputs": [],
      "source": [
        "yolo = YoloV3(classes=FLAGS.num_classes)\n",
        "yolo.load_weights(FLAGS.weights).expect_partial()\n",
        "class_names = [c.strip() for c in open(FLAGS.classes).readlines()]\n",
        "for index, name in enumerate(class_names):\n",
        "    print(name, end=', ')\n",
        "    if (index+1) % 10 == 0:\n",
        "        print()"
      ]
    },
    {
      "cell_type": "code",
      "execution_count": null,
      "metadata": {
        "colab": {
          "base_uri": "https://localhost:8080/"
        },
        "id": "mzlktfTCXamX",
        "outputId": "641506f7-b29d-4ffd-f2c6-83a33d791790"
      },
      "outputs": [],
      "source": [
        "len(class_names)"
      ]
    },
    {
      "cell_type": "code",
      "execution_count": 11,
      "metadata": {
        "id": "syg5Mzli23X-"
      },
      "outputs": [],
      "source": [
        "def detector():\n",
        "    img_raw = tf.image.decode_image(open(FLAGS.image,'rb').read(), channels=3)\n",
        "    img = tf.expand_dims(img_raw, 0)\n",
        "    img = transform_images(img, FLAGS.size)\n",
        "\n",
        "    t1 = time.time()\n",
        "    boxes, scores, classes, nums = yolo(img)\n",
        "    t2 = time.time()\n",
        "    print(f'time: {t2 - t1}')\n",
        "\n",
        "    for i in range(nums[0]):\n",
        "        print(f'detections: {class_names[int(classes[0][i])]}, {np.array(scores[0][i])}, {np.array(boxes[0][i])}')\n",
        "\n",
        "    img = cv2.cvtColor(img_raw.numpy(), cv2.COLOR_RGB2BGR)\n",
        "    img = draw_outputs(img, (boxes, scores, classes, nums), class_names)\n",
        "\n",
        "    return img"
      ]
    },
    {
      "cell_type": "code",
      "execution_count": null,
      "metadata": {
        "colab": {
          "base_uri": "https://localhost:8080/",
          "height": 428
        },
        "id": "OembcmHl7Rld",
        "outputId": "044d3e3e-4629-49dd-8c2b-49d61a776caf"
      },
      "outputs": [],
      "source": [
        "FLAGS.image = 'data/girl.png'\n",
        "Image(filename=FLAGS.image, width=500)"
      ]
    },
    {
      "cell_type": "code",
      "execution_count": null,
      "metadata": {
        "colab": {
          "base_uri": "https://localhost:8080/",
          "height": 483
        },
        "id": "k7bg-jhG7YmR",
        "outputId": "1ac436f6-84ef-45dd-bcd5-168c88fdc0ba"
      },
      "outputs": [],
      "source": [
        "output = detector()\n",
        "display(Image(data=bytes(cv2.imencode('.jpg', output)[1]), width=500))"
      ]
    },
    {
      "cell_type": "code",
      "execution_count": null,
      "metadata": {
        "colab": {
          "base_uri": "https://localhost:8080/",
          "height": 550
        },
        "id": "G85K0Y7s7gHS",
        "outputId": "8a15db95-7df9-47e5-9589-84b6abc5b799"
      },
      "outputs": [],
      "source": [
        "FLAGS.image = 'data/meme.jpg'\n",
        "Image(filename=FLAGS.image, width=800)"
      ]
    },
    {
      "cell_type": "code",
      "execution_count": null,
      "metadata": {
        "colab": {
          "base_uri": "https://localhost:8080/",
          "height": 679
        },
        "id": "E3QfSRN37vcJ",
        "outputId": "97839553-8800-4293-c79f-c7a98cefa5da"
      },
      "outputs": [],
      "source": [
        "output = detector()\n",
        "display(Image(data=bytes(cv2.imencode('.jpg', output)[1]), width=800))"
      ]
    },
    {
      "cell_type": "code",
      "execution_count": null,
      "metadata": {
        "colab": {
          "base_uri": "https://localhost:8080/",
          "height": 542
        },
        "id": "zo3dPRHz8QPj",
        "outputId": "9d9973fe-801a-4dd6-89a0-b2f056e2aa54"
      },
      "outputs": [],
      "source": [
        "FLAGS.image = 'data/street.jpg'\n",
        "Image(filename=FLAGS.image, width=1000)"
      ]
    },
    {
      "cell_type": "code",
      "execution_count": null,
      "metadata": {
        "colab": {
          "base_uri": "https://localhost:8080/",
          "height": 762
        },
        "id": "EHgmHlhM7z4q",
        "outputId": "536dcb12-da0f-4bf3-b5de-275919ed9ea8"
      },
      "outputs": [],
      "source": [
        "output = detector()\n",
        "display(Image(data=bytes(cv2.imencode('.jpg', output)[1]), width=1000))"
      ]
    },
    {
      "cell_type": "code",
      "execution_count": null,
      "metadata": {
        "id": "SAYjTgdN8Jt9"
      },
      "outputs": [],
      "source": []
    }
  ],
  "metadata": {
    "accelerator": "GPU",
    "colab": {
      "provenance": []
    },
    "kernelspec": {
      "display_name": "Python 3",
      "name": "python3"
    },
    "language_info": {
      "name": "python"
    }
  },
  "nbformat": 4,
  "nbformat_minor": 0
}
