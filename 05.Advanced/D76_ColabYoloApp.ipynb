{
  "cells": [
    {
      "cell_type": "markdown",
      "metadata": {
        "id": "gaKdMwRc-uJo"
      },
      "source": [
        "# Project Template App - Ngrok, Colab and Yolo"
      ]
    },
    {
      "cell_type": "code",
      "execution_count": 1,
      "metadata": {
        "id": "Czut_Fdx-qO5"
      },
      "outputs": [],
      "source": [
        "!pip install flask-ngrok > /dev/null 2>&1\n",
        "!pip install pyngrok > /dev/null 2>&1"
      ]
    },
    {
      "cell_type": "code",
      "execution_count": 2,
      "metadata": {
        "colab": {
          "base_uri": "https://localhost:8080/"
        },
        "id": "XgCMECiH-6bI",
        "outputId": "dd1f234c-1859-4882-d71c-94da2ab2e8ce"
      },
      "outputs": [
        {
          "output_type": "stream",
          "name": "stdout",
          "text": [
            "Mounted at /content/drive\n"
          ]
        }
      ],
      "source": [
        "from google.colab import drive\n",
        "drive.mount('/content/drive')"
      ]
    },
    {
      "cell_type": "code",
      "execution_count": 3,
      "metadata": {
        "id": "n-u2Q4dr_U8f"
      },
      "outputs": [],
      "source": [
        "with open('drive/MyDrive/project/static/ngrok_auth.txt') as nf:\n",
        "    ngrok_auth = nf.read()"
      ]
    },
    {
      "cell_type": "code",
      "execution_count": 5,
      "metadata": {
        "colab": {
          "base_uri": "https://localhost:8080/"
        },
        "id": "rvxYjmh4AMhA",
        "outputId": "fbb2cc9a-ec2f-41f9-f821-02d9ca2e68b6"
      },
      "outputs": [
        {
          "output_type": "stream",
          "name": "stdout",
          "text": [
            "Authtoken saved to configuration file: /root/.ngrok2/ngrok.yml\n"
          ]
        }
      ],
      "source": [
        "!ngrok authtoken $ngrok_auth"
      ]
    },
    {
      "cell_type": "code",
      "execution_count": 6,
      "metadata": {
        "id": "xrixAn5pfArz"
      },
      "outputs": [],
      "source": [
        "!git clone https://github.com/ultralytics/yolov5 > /dev/null 2>&1"
      ]
    },
    {
      "cell_type": "code",
      "execution_count": 7,
      "metadata": {
        "colab": {
          "base_uri": "https://localhost:8080/"
        },
        "id": "BJ4WrWcXfArz",
        "outputId": "46fcebd3-89ad-4ddb-a759-2c9332337ee7"
      },
      "outputs": [
        {
          "output_type": "stream",
          "name": "stdout",
          "text": [
            "/content/yolov5\n"
          ]
        }
      ],
      "source": [
        "%cd yolov5\n",
        "!pip install -r requirements.txt > /dev/null 2>&1"
      ]
    },
    {
      "cell_type": "code",
      "execution_count": 8,
      "metadata": {
        "colab": {
          "base_uri": "https://localhost:8080/"
        },
        "id": "3J5VOy5_fAr0",
        "outputId": "d63ca665-7a7e-4525-dddd-e93c4df89ab9"
      },
      "outputs": [
        {
          "output_type": "stream",
          "name": "stdout",
          "text": [
            "/content\n"
          ]
        }
      ],
      "source": [
        "%cd /content\n",
        "!cp /content/drive/MyDrive/project/yolov5/runs/train/gun_yolov5s_results/weights/best.pt ."
      ]
    },
    {
      "cell_type": "markdown",
      "metadata": {
        "id": "rMAfkvTsAZ0u"
      },
      "source": [
        "### Web Server Code"
      ]
    },
    {
      "cell_type": "code",
      "execution_count": null,
      "metadata": {
        "colab": {
          "base_uri": "https://localhost:8080/"
        },
        "id": "1jBOBRDAAVE-",
        "outputId": "a3262aa0-f9c7-44b2-8533-13f4c90e54c8"
      },
      "outputs": [
        {
          "output_type": "stream",
          "name": "stdout",
          "text": [
            " * Serving Flask app \"__main__\" (lazy loading)\n",
            " * Environment: production\n",
            "\u001b[31m   WARNING: This is a development server. Do not use it in a production deployment.\u001b[0m\n",
            "\u001b[2m   Use a production WSGI server instead.\u001b[0m\n",
            " * Debug mode: off\n"
          ]
        },
        {
          "output_type": "stream",
          "name": "stderr",
          "text": [
            "INFO:werkzeug: * Running on http://127.0.0.1:5000/ (Press CTRL+C to quit)\n"
          ]
        },
        {
          "output_type": "stream",
          "name": "stdout",
          "text": [
            " * Running on http://6976-34-72-0-231.ngrok.io\n",
            " * Traffic stats available on http://127.0.0.1:4040\n"
          ]
        },
        {
          "output_type": "stream",
          "name": "stderr",
          "text": [
            "INFO:werkzeug:127.0.0.1 - - [11/Feb/2023 07:52:00] \"\u001b[37mGET / HTTP/1.1\u001b[0m\" 200 -\n",
            "INFO:werkzeug:127.0.0.1 - - [11/Feb/2023 07:52:00] \"\u001b[37mGET /static/img/logo.png HTTP/1.1\u001b[0m\" 200 -\n",
            "INFO:werkzeug:127.0.0.1 - - [11/Feb/2023 07:52:03] \"\u001b[37mGET /static/img/favicon.ico HTTP/1.1\u001b[0m\" 200 -\n",
            "INFO:werkzeug:127.0.0.1 - - [11/Feb/2023 07:52:09] \"\u001b[37mGET /yolo HTTP/1.1\u001b[0m\" 200 -\n",
            "ERROR:__main__:Exception on /yolo [POST]\n",
            "Traceback (most recent call last):\n",
            "  File \"/usr/local/lib/python3.8/dist-packages/flask/app.py\", line 2447, in wsgi_app\n",
            "    response = self.full_dispatch_request()\n",
            "  File \"/usr/local/lib/python3.8/dist-packages/flask/app.py\", line 1952, in full_dispatch_request\n",
            "    rv = self.handle_user_exception(e)\n",
            "  File \"/usr/local/lib/python3.8/dist-packages/flask/app.py\", line 1821, in handle_user_exception\n",
            "    reraise(exc_type, exc_value, tb)\n",
            "  File \"/usr/local/lib/python3.8/dist-packages/flask/_compat.py\", line 39, in reraise\n",
            "    raise value\n",
            "  File \"/usr/local/lib/python3.8/dist-packages/flask/app.py\", line 1950, in full_dispatch_request\n",
            "    rv = self.dispatch_request()\n",
            "  File \"/usr/local/lib/python3.8/dist-packages/flask/app.py\", line 1936, in dispatch_request\n",
            "    return self.view_functions[rule.endpoint](**req.view_args)\n",
            "  File \"<ipython-input-9-ffa2c4cedb71>\", line 65, in yolo\n",
            "    shutil.copy('/content/yolov5/runs/detect/exp/'+fname, res_file)\n",
            "  File \"/usr/lib/python3.8/shutil.py\", line 418, in copy\n",
            "    copyfile(src, dst, follow_symlinks=follow_symlinks)\n",
            "  File \"/usr/lib/python3.8/shutil.py\", line 264, in copyfile\n",
            "    with open(src, 'rb') as fsrc, open(dst, 'wb') as fdst:\n",
            "FileNotFoundError: [Errno 2] No such file or directory: '/content/yolov5/runs/detect/exp/pistol.jfif'\n",
            "INFO:werkzeug:127.0.0.1 - - [11/Feb/2023 07:53:59] \"\u001b[35m\u001b[1mPOST /yolo HTTP/1.1\u001b[0m\" 500 -\n",
            "INFO:werkzeug:127.0.0.1 - - [11/Feb/2023 07:53:59] \"\u001b[33mGET /favicon.ico HTTP/1.1\u001b[0m\" 404 -\n",
            "INFO:werkzeug:127.0.0.1 - - [11/Feb/2023 07:55:26] \"\u001b[37mPOST /yolo HTTP/1.1\u001b[0m\" 200 -\n",
            "INFO:werkzeug:127.0.0.1 - - [11/Feb/2023 07:55:26] \"\u001b[37mGET /static/upload/yolo_img.jpg?q=1676102126 HTTP/1.1\u001b[0m\" 200 -\n"
          ]
        }
      ],
      "source": [
        "from flask import Flask, render_template, request\n",
        "from flask_ngrok import run_with_ngrok\n",
        "import os, subprocess, shutil\n",
        "\n",
        "app = Flask(__name__, static_folder='/content/drive/MyDrive/project/static',\n",
        "                      template_folder='/content/drive/MyDrive/project/templates')\n",
        "run_with_ngrok(app)\n",
        "\n",
        "@app.route('/')\n",
        "def home():\n",
        "    menu = {'home':1, 'menu':0, 'yolo':0}\n",
        "    return render_template('index.html', menu=menu)\n",
        "\n",
        "@app.route('/menu', methods=['GET','POST'])\n",
        "def menu():\n",
        "    menu = {'home':0, 'menu':1, 'yolo':0}\n",
        "    if request.method == 'GET':\n",
        "        languages = [\n",
        "            {'disp':'영어', 'val':'en'},\n",
        "            {'disp':'일어', 'val':'jp'},\n",
        "            {'disp':'중국어', 'val':'cn'},\n",
        "            {'disp':'프랑스어', 'val':'fr'},\n",
        "            {'disp':'스페인어', 'val':'es'}\n",
        "        ]\n",
        "        return render_template('menu.html', menu=menu,\n",
        "                                options=languages)   # 서버에서 클라이언트로 정보 전달\n",
        "    else:\n",
        "        # 사용자가 입력한 정보를 서버가 읽음\n",
        "        index = request.form['index']\n",
        "        lang = request.form['lang']\n",
        "        lyrics = request.form['lyrics']\n",
        "        #print(lang, '\\n', index, '\\n', lyrics, sep='')\n",
        "        # 사용자가 입력한 파일을 읽어서 upload 디렉토리에 저장\n",
        "        f_image = request.files['image']\n",
        "        fname = f_image.filename                # 사용자가 입력한 파일 이름\n",
        "        filename = os.path.join(app.static_folder, 'upload/') + fname\n",
        "        f_image.save(filename)\n",
        "\n",
        "        # 모델 실행후 결과를 돌려줌\n",
        "        result = '독수리 (73.52%)'\n",
        "        mtime = int(os.stat(filename).st_mtime)\n",
        "        return render_template('menu_res.html', result=result, menu=menu,\n",
        "                                fname=fname, mtime=mtime)\n",
        "\n",
        "@app.route('/yolo', methods=['GET','POST'])\n",
        "def yolo():\n",
        "    menu = {'home':0, 'menu':0, 'yolo':1}\n",
        "    if request.method == 'GET':\n",
        "        return render_template('yolo.html', menu=menu)\n",
        "    else:\n",
        "        # 사용자가 입력한 파일을 읽어서 upload 디렉토리에 저장\n",
        "        f_image = request.files['image']\n",
        "        fname = f_image.filename                # 사용자가 입력한 파일 이름\n",
        "        filename = os.path.join(app.static_folder, 'upload/') + fname\n",
        "        f_image.save(filename)\n",
        "        fext = fname.split('.')[-1]\n",
        "\n",
        "        cmd = f'cd yolov5; python detect.py --weights ../best.pt --img 416 --conf 0.5 --source {filename}'\n",
        "        r = subprocess.run(cmd, shell=True, capture_output=True)\n",
        "        res_file = os.path.join(app.static_folder, 'upload/yolo_img.' + fext)\n",
        "        if os.path.exists('/content/yolov5/runs/detect/exp2'):\n",
        "            shutil.copy('/content/yolov5/runs/detect/exp2/'+fname, res_file)\n",
        "            shutil.rmtree('/content/yolov5/runs/detect/exp2')\n",
        "        else:\n",
        "            shutil.copy('/content/yolov5/runs/detect/exp/'+fname, res_file)\n",
        "\n",
        "        mtime = int(os.stat(res_file).st_mtime)\n",
        "        return render_template('yolo_res.html', menu=menu, fext=fext, mtime=mtime)\n",
        "\n",
        "if __name__ == '__main__':\n",
        "    app.run()"
      ]
    }
  ],
  "metadata": {
    "colab": {
      "provenance": []
    },
    "kernelspec": {
      "display_name": "Python 3.9.12 ('base')",
      "language": "python",
      "name": "python3"
    },
    "language_info": {
      "name": "python",
      "version": "3.9.12"
    },
    "vscode": {
      "interpreter": {
        "hash": "a077222d77dfe082b8f1dd562ad70e458ac2ab76993a0b248ab0476e32e9e8dd"
      }
    }
  },
  "nbformat": 4,
  "nbformat_minor": 0
}