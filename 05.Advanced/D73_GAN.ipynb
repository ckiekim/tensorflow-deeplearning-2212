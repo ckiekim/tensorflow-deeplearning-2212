{
  "cells": [
    {
      "cell_type": "markdown",
      "metadata": {
        "id": "PeLTZPP-sQ5x"
      },
      "source": [
        "# 적대적 생성 신경망(Generative Adversarial Networks, GAN)"
      ]
    },
    {
      "cell_type": "markdown",
      "metadata": {
        "id": "PiIV25ew2SDq"
      },
      "source": [
        "### GAN 생성자 네트워크"
      ]
    },
    {
      "cell_type": "code",
      "execution_count": 1,
      "metadata": {
        "id": "z-y52HdbXSkq",
        "vscode": {
          "languageId": "python"
        }
      },
      "outputs": [],
      "source": [
        "import numpy as np \n",
        "import tensorflow as tf\n",
        "from tensorflow.keras.layers import Input, Dense, LeakyReLU, Reshape, Conv2D, Conv2DTranspose, Flatten, Dropout\n",
        "from tensorflow.keras.models import Model\n",
        "from tensorflow.keras.optimizers import RMSprop"
      ]
    },
    {
      "cell_type": "code",
      "execution_count": 2,
      "metadata": {
        "id": "YkWJCAGF2o0r",
        "vscode": {
          "languageId": "python"
        }
      },
      "outputs": [],
      "source": [
        "latent_dim = 32\n",
        "height, width, channels = 32, 32, 3"
      ]
    },
    {
      "cell_type": "code",
      "execution_count": 3,
      "metadata": {
        "id": "HVp1CdYG2tu0",
        "vscode": {
          "languageId": "python"
        }
      },
      "outputs": [],
      "source": [
        "generator_input = Input(shape=(latent_dim,))"
      ]
    },
    {
      "cell_type": "code",
      "execution_count": 4,
      "metadata": {
        "id": "ZI2bVCCz2wgh",
        "vscode": {
          "languageId": "python"
        }
      },
      "outputs": [],
      "source": [
        "x = Dense(128 * 16 * 16)(generator_input)\n",
        "x = LeakyReLU()(x)\n",
        "x = Reshape((16, 16, 128))(x)\n",
        "\n",
        "x = Conv2D(256, 5, padding='same')(x)\n",
        "x = LeakyReLU()(x)\n",
        "\n",
        "x = Conv2DTranspose(256, 4, strides=2, padding='same')(x)\n",
        "x = LeakyReLU()(x)\n",
        "\n",
        "x = Conv2D(256, 5, padding='same')(x)\n",
        "x = LeakyReLU()(x)\n",
        "x = Conv2D(256, 5, padding='same')(x)\n",
        "x = LeakyReLU()(x)\n",
        "\n",
        "x = Conv2D(channels, 7, activation='tanh', padding='same')(x)"
      ]
    },
    {
      "cell_type": "code",
      "execution_count": 5,
      "metadata": {
        "colab": {
          "base_uri": "https://localhost:8080/"
        },
        "id": "ZXH3m1bG26mC",
        "outputId": "532aaa88-9859-4aeb-d674-db04deea664d",
        "vscode": {
          "languageId": "python"
        }
      },
      "outputs": [
        {
          "output_type": "stream",
          "name": "stdout",
          "text": [
            "Model: \"model\"\n",
            "_________________________________________________________________\n",
            " Layer (type)                Output Shape              Param #   \n",
            "=================================================================\n",
            " input_1 (InputLayer)        [(None, 32)]              0         \n",
            "                                                                 \n",
            " dense (Dense)               (None, 32768)             1081344   \n",
            "                                                                 \n",
            " leaky_re_lu (LeakyReLU)     (None, 32768)             0         \n",
            "                                                                 \n",
            " reshape (Reshape)           (None, 16, 16, 128)       0         \n",
            "                                                                 \n",
            " conv2d (Conv2D)             (None, 16, 16, 256)       819456    \n",
            "                                                                 \n",
            " leaky_re_lu_1 (LeakyReLU)   (None, 16, 16, 256)       0         \n",
            "                                                                 \n",
            " conv2d_transpose (Conv2DTra  (None, 32, 32, 256)      1048832   \n",
            " nspose)                                                         \n",
            "                                                                 \n",
            " leaky_re_lu_2 (LeakyReLU)   (None, 32, 32, 256)       0         \n",
            "                                                                 \n",
            " conv2d_1 (Conv2D)           (None, 32, 32, 256)       1638656   \n",
            "                                                                 \n",
            " leaky_re_lu_3 (LeakyReLU)   (None, 32, 32, 256)       0         \n",
            "                                                                 \n",
            " conv2d_2 (Conv2D)           (None, 32, 32, 256)       1638656   \n",
            "                                                                 \n",
            " leaky_re_lu_4 (LeakyReLU)   (None, 32, 32, 256)       0         \n",
            "                                                                 \n",
            " conv2d_3 (Conv2D)           (None, 32, 32, 3)         37635     \n",
            "                                                                 \n",
            "=================================================================\n",
            "Total params: 6,264,579\n",
            "Trainable params: 6,264,579\n",
            "Non-trainable params: 0\n",
            "_________________________________________________________________\n"
          ]
        }
      ],
      "source": [
        "generator = Model(generator_input, x)\n",
        "generator.summary()"
      ]
    },
    {
      "cell_type": "markdown",
      "metadata": {
        "id": "UnRjKuGy3By9"
      },
      "source": [
        "### GAN 판별자 네트워크\n"
      ]
    },
    {
      "cell_type": "code",
      "execution_count": 6,
      "metadata": {
        "id": "A0rd_EYq3Epn",
        "vscode": {
          "languageId": "python"
        }
      },
      "outputs": [],
      "source": [
        "discriminator_input = Input(shape=(height, width, channels))"
      ]
    },
    {
      "cell_type": "code",
      "execution_count": 7,
      "metadata": {
        "id": "pcJ8iXrO3BXO",
        "vscode": {
          "languageId": "python"
        }
      },
      "outputs": [],
      "source": [
        "x = Conv2D(128, 3)(discriminator_input)\n",
        "x = LeakyReLU()(x)\n",
        "x = Conv2D(128, 4, strides=2)(x)\n",
        "x = LeakyReLU()(x)\n",
        "x = Conv2D(128, 4, strides=2)(x)\n",
        "x = LeakyReLU()(x)\n",
        "x = Conv2D(128, 4, strides=2)(x)\n",
        "x = LeakyReLU()(x)\n",
        "x = Flatten()(x)\n",
        "x = Dropout(0.4)(x)\n",
        "x = Dense(1, activation='sigmoid')(x)"
      ]
    },
    {
      "cell_type": "code",
      "execution_count": 8,
      "metadata": {
        "colab": {
          "base_uri": "https://localhost:8080/"
        },
        "id": "QTOcKzW92-Nf",
        "outputId": "2b2e8af8-65ba-4c67-eb79-2dad5c35aff9",
        "vscode": {
          "languageId": "python"
        }
      },
      "outputs": [
        {
          "output_type": "stream",
          "name": "stdout",
          "text": [
            "Model: \"model_1\"\n",
            "_________________________________________________________________\n",
            " Layer (type)                Output Shape              Param #   \n",
            "=================================================================\n",
            " input_2 (InputLayer)        [(None, 32, 32, 3)]       0         \n",
            "                                                                 \n",
            " conv2d_4 (Conv2D)           (None, 30, 30, 128)       3584      \n",
            "                                                                 \n",
            " leaky_re_lu_5 (LeakyReLU)   (None, 30, 30, 128)       0         \n",
            "                                                                 \n",
            " conv2d_5 (Conv2D)           (None, 14, 14, 128)       262272    \n",
            "                                                                 \n",
            " leaky_re_lu_6 (LeakyReLU)   (None, 14, 14, 128)       0         \n",
            "                                                                 \n",
            " conv2d_6 (Conv2D)           (None, 6, 6, 128)         262272    \n",
            "                                                                 \n",
            " leaky_re_lu_7 (LeakyReLU)   (None, 6, 6, 128)         0         \n",
            "                                                                 \n",
            " conv2d_7 (Conv2D)           (None, 2, 2, 128)         262272    \n",
            "                                                                 \n",
            " leaky_re_lu_8 (LeakyReLU)   (None, 2, 2, 128)         0         \n",
            "                                                                 \n",
            " flatten (Flatten)           (None, 512)               0         \n",
            "                                                                 \n",
            " dropout (Dropout)           (None, 512)               0         \n",
            "                                                                 \n",
            " dense_1 (Dense)             (None, 1)                 513       \n",
            "                                                                 \n",
            "=================================================================\n",
            "Total params: 790,913\n",
            "Trainable params: 790,913\n",
            "Non-trainable params: 0\n",
            "_________________________________________________________________\n"
          ]
        }
      ],
      "source": [
        "discriminator = Model(discriminator_input, x)\n",
        "discriminator.summary()"
      ]
    },
    {
      "cell_type": "code",
      "execution_count": 10,
      "metadata": {
        "id": "H3zZbyx13TGi",
        "vscode": {
          "languageId": "python"
        }
      },
      "outputs": [],
      "source": [
        "discriminator_optimizer = RMSprop(learning_rate=0.0008, clipvalue=1.0, weight_decay=1e-8)\n",
        "discriminator.compile(optimizer=discriminator_optimizer, loss='binary_crossentropy')"
      ]
    },
    {
      "cell_type": "markdown",
      "metadata": {
        "id": "ayIotK_Q3iE7"
      },
      "source": [
        "### 적대적 네트워크"
      ]
    },
    {
      "cell_type": "code",
      "execution_count": 11,
      "metadata": {
        "id": "eerQWi8_3auo",
        "vscode": {
          "languageId": "python"
        }
      },
      "outputs": [],
      "source": [
        "discriminator.trainable = False\n",
        "\n",
        "gan_input = Input(shape=(latent_dim,))\n",
        "gan_output = discriminator(generator(gan_input))\n",
        "gan = Model(gan_input, gan_output)\n",
        "\n",
        "gan_optimizer = RMSprop(learning_rate=0.0004, clipvalue=1.0, weight_decay=1e-8)\n",
        "gan.compile(optimizer=gan_optimizer, loss='binary_crossentropy')"
      ]
    },
    {
      "cell_type": "markdown",
      "metadata": {
        "id": "oP5cjQs74G5Q"
      },
      "source": [
        "### GAN 훈련 구현"
      ]
    },
    {
      "cell_type": "code",
      "execution_count": 12,
      "metadata": {
        "id": "GimAaUDC4u-P",
        "vscode": {
          "languageId": "python"
        }
      },
      "outputs": [],
      "source": [
        "import os\n",
        "from tensorflow.keras.datasets import cifar10\n",
        "from tensorflow.keras.preprocessing import image"
      ]
    },
    {
      "cell_type": "markdown",
      "metadata": {
        "id": "MLrdG7a84yFE"
      },
      "source": [
        "- CIFAR10 데이터 로드"
      ]
    },
    {
      "cell_type": "code",
      "execution_count": 13,
      "metadata": {
        "id": "siDPaZ-J3nSk",
        "vscode": {
          "languageId": "python"
        },
        "colab": {
          "base_uri": "https://localhost:8080/"
        },
        "outputId": "d5d4deb8-5028-45f5-a35c-0140a747ac4c"
      },
      "outputs": [
        {
          "output_type": "stream",
          "name": "stdout",
          "text": [
            "Downloading data from https://www.cs.toronto.edu/~kriz/cifar-10-python.tar.gz\n",
            "170498071/170498071 [==============================] - 13s 0us/step\n"
          ]
        }
      ],
      "source": [
        "(x_train, y_train), (_, _) = cifar10.load_data()"
      ]
    },
    {
      "cell_type": "markdown",
      "metadata": {
        "id": "LgzNpE6O4-ik"
      },
      "source": [
        "- 개구리 이미지를 선택"
      ]
    },
    {
      "cell_type": "code",
      "execution_count": 14,
      "metadata": {
        "colab": {
          "base_uri": "https://localhost:8080/"
        },
        "id": "MBF8XEbj41ZU",
        "outputId": "cf9578fe-69ea-4a4f-d632-d920b06d6570",
        "vscode": {
          "languageId": "python"
        }
      },
      "outputs": [
        {
          "output_type": "execute_result",
          "data": {
            "text/plain": [
              "(5000, 32, 32, 3)"
            ]
          },
          "metadata": {},
          "execution_count": 14
        }
      ],
      "source": [
        "x_train = x_train[y_train.flatten() == 6]\n",
        "x_train.shape"
      ]
    },
    {
      "cell_type": "markdown",
      "metadata": {
        "id": "be7fKh6-5BMn"
      },
      "source": [
        "- 데이터 정규화"
      ]
    },
    {
      "cell_type": "code",
      "execution_count": 15,
      "metadata": {
        "id": "JI3Jz1SE49Mp",
        "vscode": {
          "languageId": "python"
        }
      },
      "outputs": [],
      "source": [
        "x_train = x_train.astype('float32') / 255."
      ]
    },
    {
      "cell_type": "code",
      "execution_count": 16,
      "metadata": {
        "id": "b12T22Sh5FQa",
        "vscode": {
          "languageId": "python"
        }
      },
      "outputs": [],
      "source": [
        "iterations = 20000\n",
        "batch_size = 20\n",
        "\n",
        "save_dir = './gan_images'\n",
        "if not os.path.exists(save_dir):\n",
        "    os.mkdir(save_dir)"
      ]
    },
    {
      "cell_type": "markdown",
      "metadata": {
        "id": "iIfCHuXQ7HOJ"
      },
      "source": [
        "- 학습\n",
        "    - 20000번 반복하는데 GPU version으로 약 50분 이상\n",
        " 소요됨"
      ]
    },
    {
      "cell_type": "code",
      "execution_count": 17,
      "metadata": {
        "colab": {
          "base_uri": "https://localhost:8080/"
        },
        "id": "puOujZ3F5D2f",
        "outputId": "b72b488e-6370-424e-b9f2-502cdd910e0b",
        "vscode": {
          "languageId": "python"
        }
      },
      "outputs": [
        {
          "output_type": "stream",
          "name": "stdout",
          "text": [
            "\n",
            "step: 500\n",
            "  discriminator loss: 0.6814966201782227\n",
            "  adversarial loss: 0.7930293679237366\n",
            "\n",
            "step: 1000\n",
            "  discriminator loss: 0.6900736093521118\n",
            "  adversarial loss: 0.7195833325386047\n",
            "\n",
            "step: 1500\n",
            "  discriminator loss: 0.694412112236023\n",
            "  adversarial loss: 0.6897554397583008\n",
            "\n",
            "step: 2000\n",
            "  discriminator loss: 0.6950809359550476\n",
            "  adversarial loss: 0.7223784923553467\n",
            "\n",
            "step: 2500\n",
            "  discriminator loss: 0.6887317895889282\n",
            "  adversarial loss: 0.7576156854629517\n",
            "\n",
            "step: 3000\n",
            "  discriminator loss: 0.6867880821228027\n",
            "  adversarial loss: 0.7223106622695923\n",
            "\n",
            "step: 3500\n",
            "  discriminator loss: 0.6967419981956482\n",
            "  adversarial loss: 0.7942267656326294\n",
            "\n",
            "step: 4000\n",
            "  discriminator loss: 0.6982589960098267\n",
            "  adversarial loss: 0.6953030228614807\n",
            "\n",
            "step: 4500\n",
            "  discriminator loss: 0.6946333050727844\n",
            "  adversarial loss: 0.7637540102005005\n",
            "\n",
            "step: 5000\n",
            "  discriminator loss: 0.6964350938796997\n",
            "  adversarial loss: 0.7099583148956299\n",
            "\n",
            "step: 5500\n",
            "  discriminator loss: 0.6955233216285706\n",
            "  adversarial loss: 0.7652574777603149\n",
            "\n",
            "step: 6000\n",
            "  discriminator loss: 0.698361337184906\n",
            "  adversarial loss: 0.739294707775116\n",
            "\n",
            "step: 6500\n",
            "  discriminator loss: 0.6995635032653809\n",
            "  adversarial loss: 0.7719780206680298\n",
            "\n",
            "step: 7000\n",
            "  discriminator loss: 0.6803742051124573\n",
            "  adversarial loss: 0.7808094024658203\n",
            "\n",
            "step: 7500\n",
            "  discriminator loss: 0.6875073313713074\n",
            "  adversarial loss: 0.7319263815879822\n",
            "\n",
            "step: 8000\n",
            "  discriminator loss: 0.7056187391281128\n",
            "  adversarial loss: 0.6990187764167786\n",
            "\n",
            "step: 8500\n",
            "  discriminator loss: 0.6829876899719238\n",
            "  adversarial loss: 0.7518600225448608\n",
            "\n",
            "step: 9000\n",
            "  discriminator loss: 0.6935726404190063\n",
            "  adversarial loss: 0.7576169371604919\n",
            "\n",
            "step: 9500\n",
            "  discriminator loss: 0.6967431902885437\n",
            "  adversarial loss: 0.7422513365745544\n",
            "\n",
            "step: 10000\n",
            "  discriminator loss: 0.7037407159805298\n",
            "  adversarial loss: 0.7489935159683228\n",
            "\n",
            "step: 10500\n",
            "  discriminator loss: 0.6966407895088196\n",
            "  adversarial loss: 0.7500303983688354\n",
            "\n",
            "step: 11000\n",
            "  discriminator loss: 0.68862384557724\n",
            "  adversarial loss: 0.7589038610458374\n",
            "\n",
            "step: 11500\n",
            "  discriminator loss: 0.6884589195251465\n",
            "  adversarial loss: 0.7407689690589905\n",
            "\n",
            "step: 12000\n",
            "  discriminator loss: 0.6992576122283936\n",
            "  adversarial loss: 0.7518130540847778\n",
            "\n",
            "step: 12500\n",
            "  discriminator loss: 0.6740156412124634\n",
            "  adversarial loss: 0.9324871897697449\n",
            "\n",
            "step: 13000\n",
            "  discriminator loss: 0.34278813004493713\n",
            "  adversarial loss: 75.87287139892578\n",
            "\n",
            "step: 13500\n",
            "  discriminator loss: 0.8943998217582703\n",
            "  adversarial loss: 1.2285301685333252\n",
            "\n",
            "step: 14000\n",
            "  discriminator loss: -0.21965797245502472\n",
            "  adversarial loss: 57.715843200683594\n",
            "\n",
            "step: 14500\n",
            "  discriminator loss: 0.5652226209640503\n",
            "  adversarial loss: 2.036719799041748\n",
            "\n",
            "step: 15000\n",
            "  discriminator loss: 1.6011359691619873\n",
            "  adversarial loss: 2.445510149002075\n",
            "\n",
            "step: 15500\n",
            "  discriminator loss: 0.6167997121810913\n",
            "  adversarial loss: 1.170256495475769\n",
            "\n",
            "step: 16000\n",
            "  discriminator loss: 0.7326278686523438\n",
            "  adversarial loss: 3.017467498779297\n",
            "\n",
            "step: 16500\n",
            "  discriminator loss: 0.04763282462954521\n",
            "  adversarial loss: 6.499331474304199\n",
            "\n",
            "step: 17000\n",
            "  discriminator loss: 0.1970711648464203\n",
            "  adversarial loss: 23.854034423828125\n",
            "\n",
            "step: 17500\n",
            "  discriminator loss: 1.699479103088379\n",
            "  adversarial loss: 11.71955680847168\n",
            "\n",
            "step: 18000\n",
            "  discriminator loss: 0.6656608581542969\n",
            "  adversarial loss: 0.5277764797210693\n",
            "\n",
            "step: 18500\n",
            "  discriminator loss: 0.5915579795837402\n",
            "  adversarial loss: 1.3143244981765747\n",
            "\n",
            "step: 19000\n",
            "  discriminator loss: -0.038199543952941895\n",
            "  adversarial loss: 14.646360397338867\n",
            "\n",
            "step: 19500\n",
            "  discriminator loss: 0.6383830904960632\n",
            "  adversarial loss: 1.569608211517334\n",
            "\n",
            "step: 20000\n",
            "  discriminator loss: 0.8225547671318054\n",
            "  adversarial loss: 1.7235746383666992\n"
          ]
        }
      ],
      "source": [
        "start = 1\n",
        "for step in range(1, iterations+1):\n",
        "    random_latent_vectors = np.random.normal(size=(batch_size, latent_dim))\n",
        "    generated_images = generator.predict(random_latent_vectors, verbose=0)\n",
        "\n",
        "    stop = start + batch_size\n",
        "    real_images = x_train[start:stop]\n",
        "    combined_images = np.concatenate([generated_images, real_images])\n",
        "\n",
        "    labels = np.concatenate([np.ones((batch_size, 1)), np.zeros((batch_size, 1))])\n",
        "    labels += 0.05 * np.random.random(labels.shape)\n",
        "\n",
        "    d_loss = discriminator.train_on_batch(combined_images, labels)\n",
        "\n",
        "    random_latent_vectors = np.random.normal(size=(batch_size, latent_dim))\n",
        "    misleading_targets = np.zeros((batch_size, 1))\n",
        "\n",
        "    a_loss = gan.train_on_batch(random_latent_vectors, misleading_targets)\n",
        "\n",
        "    start += batch_size\n",
        "    if start > len(x_train) - batch_size:\n",
        "        start = 0\n",
        "\n",
        "    if step % 500 == 0:\n",
        "        gan.save_weights('gan.h5')\n",
        "        print(f'\\nstep: {step}')\n",
        "        print(f'  discriminator loss: {d_loss}')\n",
        "        print(f'  adversarial loss: {a_loss}')\n",
        "\n",
        "        img = image.array_to_img(generated_images[0] * 255., scale=False)\n",
        "        img.save(os.path.join(save_dir, f'generated_frog{step}.png'))\n",
        "        img = image.array_to_img(real_images[0] * 255., scale=False)\n",
        "        img.save(os.path.join(save_dir, f'real_frog{step}.png'))"
      ]
    },
    {
      "cell_type": "markdown",
      "source": [
        "- 만든 이미지 확인"
      ],
      "metadata": {
        "id": "doZ21pyQDAkE"
      }
    },
    {
      "cell_type": "code",
      "execution_count": 18,
      "metadata": {
        "id": "L9r2Bfwk5iNf",
        "vscode": {
          "languageId": "python"
        }
      },
      "outputs": [],
      "source": [
        "import matplotlib.pyplot as plt\n",
        "from PIL import Image"
      ]
    },
    {
      "cell_type": "code",
      "source": [
        "plt.figure(figsize=(10,4))\n",
        "for i in range(10):\n",
        "    fname = 'gan_images/generated_frog' + str(i*1000 + 11000) + '.png'\n",
        "    img = Image.open(fname)\n",
        "    plt.subplot(2, 5, i+1)\n",
        "    plt.imshow(img)\n",
        "    plt.axis('off')\n",
        "plt.show()"
      ],
      "metadata": {
        "colab": {
          "base_uri": "https://localhost:8080/",
          "height": 246
        },
        "id": "VM_OpORhDIh0",
        "outputId": "0bc87dd1-1e27-4a78-91c3-8dfa6292a9ae"
      },
      "execution_count": 20,
      "outputs": [
        {
          "output_type": "display_data",
          "data": {
            "text/plain": [
              "<Figure size 720x288 with 10 Axes>"
            ],
            "image/png": "[encoded data removed]"
          },
          "metadata": {
            "needs_background": "light"
          }
        }
      ]
    },
    {
      "cell_type": "markdown",
      "metadata": {
        "id": "9I4J9HSI7Kco"
      },
      "source": [
        "- 이미지 생성을 통한 시각화\n"
      ]
    },
    {
      "cell_type": "code",
      "execution_count": 21,
      "metadata": {
        "id": "M6zPuYw97EHk",
        "vscode": {
          "languageId": "python"
        }
      },
      "outputs": [],
      "source": [
        "# 잠재 공간에서 랜덤한 포인트를 샘플링\n",
        "random_latent_vectors = np.random.normal(size=(10, latent_dim))"
      ]
    },
    {
      "cell_type": "code",
      "execution_count": 22,
      "metadata": {
        "id": "BHSY6hNU7AlE",
        "vscode": {
          "languageId": "python"
        },
        "colab": {
          "base_uri": "https://localhost:8080/"
        },
        "outputId": "ccfd7bc9-f710-4b17-88df-c95aed229622"
      },
      "outputs": [
        {
          "output_type": "stream",
          "name": "stdout",
          "text": [
            "1/1 [==============================] - 0s 399ms/step\n"
          ]
        },
        {
          "output_type": "execute_result",
          "data": {
            "text/plain": [
              "(10, 32, 32, 3)"
            ]
          },
          "metadata": {},
          "execution_count": 22
        }
      ],
      "source": [
        "# 가짜 이미지로 디코딩\n",
        "generated_images = generator.predict(random_latent_vectors)\n",
        "generated_images.shape"
      ]
    },
    {
      "cell_type": "code",
      "execution_count": 23,
      "metadata": {
        "id": "9gyn_d90--r0",
        "vscode": {
          "languageId": "python"
        },
        "colab": {
          "base_uri": "https://localhost:8080/",
          "height": 249
        },
        "outputId": "50d6d881-0c85-461c-ddd1-d53045624cca"
      },
      "outputs": [
        {
          "output_type": "display_data",
          "data": {
            "text/plain": [
              "<Figure size 720x288 with 10 Axes>"
            ],
            "image/png": "[encoded data removed]"
          },
          "metadata": {}
        }
      ],
      "source": [
        "plt.figure(figsize=(10,4))\n",
        "for i in range(generated_images.shape[0]):\n",
        "    plt.subplot(2, 5, i+1)\n",
        "    img = image.array_to_img(generated_images[i] * 255., scale=False)\n",
        "    plt.imshow(img)\n",
        "    plt.xticks([]), plt.yticks([])\n",
        "\n",
        "plt.show()"
      ]
    },
    {
      "cell_type": "code",
      "execution_count": null,
      "metadata": {
        "id": "taeZID8jGxmE",
        "vscode": {
          "languageId": "python"
        }
      },
      "outputs": [],
      "source": []
    }
  ],
  "metadata": {
    "accelerator": "GPU",
    "colab": {
      "provenance": []
    },
    "gpuClass": "standard",
    "kernelspec": {
      "display_name": "Python 3",
      "name": "python3"
    }
  },
  "nbformat": 4,
  "nbformat_minor": 0
}