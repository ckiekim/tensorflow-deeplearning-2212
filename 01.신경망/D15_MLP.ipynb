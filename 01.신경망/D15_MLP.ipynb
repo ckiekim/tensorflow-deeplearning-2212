{
  "nbformat": 4,
  "nbformat_minor": 0,
  "metadata": {
    "colab": {
      "provenance": []
    },
    "kernelspec": {
      "name": "python3",
      "display_name": "Python 3"
    },
    "language_info": {
      "name": "python"
    }
  },
  "cells": [
    {
      "cell_type": "markdown",
      "source": [
        "#5. Multi-Layer Perceptron"
      ],
      "metadata": {
        "id": "b2AanraOJi2a"
      }
    },
    {
      "cell_type": "code",
      "execution_count": 1,
      "metadata": {
        "id": "Yub7JNMpJftk"
      },
      "outputs": [],
      "source": [
        "import numpy as np"
      ]
    },
    {
      "cell_type": "code",
      "source": [
        "def and_gate(x1, x2):\n",
        "    weight = np.array([2, 2])\n",
        "    bias = -3\n",
        "    X = np.array([x1, x2])\n",
        "    sum = np.dot(weight, X) + bias\n",
        "    return 1 if sum > 0 else 0"
      ],
      "metadata": {
        "id": "2l2Ov1T9Jrx6"
      },
      "execution_count": 2,
      "outputs": []
    },
    {
      "cell_type": "code",
      "source": [
        "def or_gate(x1, x2):\n",
        "    weight = np.array([2, 2])\n",
        "    bias = -1\n",
        "    X = np.array([x1, x2])\n",
        "    sum = np.dot(weight, X) + bias\n",
        "    return 1 if sum > 0 else 0"
      ],
      "metadata": {
        "id": "5Xq2K1GQJyt9"
      },
      "execution_count": 3,
      "outputs": []
    },
    {
      "cell_type": "code",
      "source": [
        "def nand_gate(x1, x2):\n",
        "    weight = np.array([-2, -2])\n",
        "    bias = 3\n",
        "    X = np.array([x1, x2])\n",
        "    sum = np.dot(weight, X) + bias\n",
        "    return 1 if sum > 0 else 0"
      ],
      "metadata": {
        "id": "SKV2ybAOJ2HT"
      },
      "execution_count": 4,
      "outputs": []
    },
    {
      "cell_type": "markdown",
      "source": [
        "- MLP"
      ],
      "metadata": {
        "id": "nINZJ5ftJ_Dx"
      }
    },
    {
      "cell_type": "code",
      "source": [
        "n1 = []\n",
        "for x1, x2 in [(0,0), (0,1), (1,0), (1,1)]:\n",
        "    n1.append(nand_gate(x1, x2))\n",
        "n1"
      ],
      "metadata": {
        "colab": {
          "base_uri": "https://localhost:8080/"
        },
        "id": "HODTE0r9J50R",
        "outputId": "29ce334a-0cea-4755-bc07-c8b7678037c9"
      },
      "execution_count": 5,
      "outputs": [
        {
          "output_type": "execute_result",
          "data": {
            "text/plain": [
              "[1, 1, 1, 0]"
            ]
          },
          "metadata": {},
          "execution_count": 5
        }
      ]
    },
    {
      "cell_type": "code",
      "source": [
        "n2 = []\n",
        "for x1, x2 in [(0,0), (0,1), (1,0), (1,1)]:\n",
        "    n2.append(or_gate(x1, x2))\n",
        "n2"
      ],
      "metadata": {
        "colab": {
          "base_uri": "https://localhost:8080/"
        },
        "id": "gnrU2quoK-ox",
        "outputId": "ca621999-268f-4a10-c3e2-f1e6262f573a"
      },
      "execution_count": 6,
      "outputs": [
        {
          "output_type": "execute_result",
          "data": {
            "text/plain": [
              "[0, 1, 1, 1]"
            ]
          },
          "metadata": {},
          "execution_count": 6
        }
      ]
    },
    {
      "cell_type": "code",
      "source": [
        "list(zip(n1, n2))"
      ],
      "metadata": {
        "colab": {
          "base_uri": "https://localhost:8080/"
        },
        "id": "oqmArrsXLU4q",
        "outputId": "ddfbc965-134a-4fc5-af1b-ce91afd952e3"
      },
      "execution_count": 7,
      "outputs": [
        {
          "output_type": "execute_result",
          "data": {
            "text/plain": [
              "[(1, 0), (1, 1), (1, 1), (0, 1)]"
            ]
          },
          "metadata": {},
          "execution_count": 7
        }
      ]
    },
    {
      "cell_type": "code",
      "source": [
        "for x1, x2 in zip(n1, n2):\n",
        "    print(and_gate(x1, x2))"
      ],
      "metadata": {
        "colab": {
          "base_uri": "https://localhost:8080/"
        },
        "id": "S0V5nWQjLhKY",
        "outputId": "08b386b8-166c-437b-e660-532f8a55afad"
      },
      "execution_count": 8,
      "outputs": [
        {
          "output_type": "stream",
          "name": "stdout",
          "text": [
            "0\n",
            "1\n",
            "1\n",
            "0\n"
          ]
        }
      ]
    },
    {
      "cell_type": "markdown",
      "source": [
        "- XOR(eXclusive OR) gate"
      ],
      "metadata": {
        "id": "353W1ehaMCuj"
      }
    },
    {
      "cell_type": "code",
      "source": [
        "for x1, x2 in [(0,0), (0,1), (1,0), (1,1)]:\n",
        "    print(and_gate(nand_gate(x1,x2), or_gate(x1,x2)))"
      ],
      "metadata": {
        "colab": {
          "base_uri": "https://localhost:8080/"
        },
        "id": "bkH-hRoTLx1Q",
        "outputId": "2928a121-9734-41c8-e9c1-2b68007e4246"
      },
      "execution_count": 9,
      "outputs": [
        {
          "output_type": "stream",
          "name": "stdout",
          "text": [
            "0\n",
            "1\n",
            "1\n",
            "0\n"
          ]
        }
      ]
    },
    {
      "cell_type": "code",
      "source": [
        "def xor_gate(x1, x2):\n",
        "    return and_gate(nand_gate(x1,x2), or_gate(x1,x2))"
      ],
      "metadata": {
        "id": "fsUeVrBMMW1o"
      },
      "execution_count": 10,
      "outputs": []
    },
    {
      "cell_type": "markdown",
      "source": [
        "- 최종 결과"
      ],
      "metadata": {
        "id": "hLqMoU3jMn5w"
      }
    },
    {
      "cell_type": "code",
      "source": [
        "print('x1,x2\\tn1,n2\\ty')\n",
        "for x1, x2 in [(0,0), (0,1), (1,0), (1,1)]:\n",
        "    print(f'{x1:2d},{x2:2d}\\t{nand_gate(x1,x2):2d},{or_gate(x1,x2):2d}\\t{xor_gate(x1,x2)}')"
      ],
      "metadata": {
        "colab": {
          "base_uri": "https://localhost:8080/"
        },
        "id": "Pjf7K758MlGn",
        "outputId": "b6a0a031-163a-4b5e-8781-3e1bfe2b3bb6"
      },
      "execution_count": 12,
      "outputs": [
        {
          "output_type": "stream",
          "name": "stdout",
          "text": [
            "x1,x2\tn1,n2\ty\n",
            " 0, 0\t 1, 0\t0\n",
            " 0, 1\t 1, 1\t1\n",
            " 1, 0\t 1, 1\t1\n",
            " 1, 1\t 0, 1\t0\n"
          ]
        }
      ]
    },
    {
      "cell_type": "code",
      "source": [],
      "metadata": {
        "id": "K-q08XbcNQyB"
      },
      "execution_count": null,
      "outputs": []
    }
  ]
}