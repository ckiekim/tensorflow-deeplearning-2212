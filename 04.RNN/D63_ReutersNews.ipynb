{
  "nbformat": 4,
  "nbformat_minor": 0,
  "metadata": {
    "colab": {
      "provenance": []
    },
    "kernelspec": {
      "name": "python3",
      "display_name": "Python 3"
    },
    "language_info": {
      "name": "python"
    },
    "accelerator": "GPU",
    "gpuClass": "standard"
  },
  "cells": [
    {
      "cell_type": "markdown",
      "source": [
        "# Reuters News 다중 분류"
      ],
      "metadata": {
        "id": "s2CqKiKMwDfA"
      }
    },
    {
      "cell_type": "code",
      "execution_count": 1,
      "metadata": {
        "id": "RAQEhi-1v81J"
      },
      "outputs": [],
      "source": [
        "import numpy as np\n",
        "import tensorflow as tf\n",
        "seed = 2023\n",
        "np.random.seed(seed)\n",
        "tf.random.set_seed(seed)"
      ]
    },
    {
      "cell_type": "code",
      "source": [
        "import seaborn as sns\n",
        "import matplotlib.pyplot as plt\n",
        "from tensorflow.keras.datasets import reuters"
      ],
      "metadata": {
        "id": "27l8sffSwZow"
      },
      "execution_count": 2,
      "outputs": []
    },
    {
      "cell_type": "code",
      "source": [
        "(X_train, y_train), (X_test, y_test) = reuters.load_data()\n",
        "len(X_train), len(X_test)"
      ],
      "metadata": {
        "colab": {
          "base_uri": "https://localhost:8080/"
        },
        "id": "qr8Mt_jYwm8v",
        "outputId": "96457fac-c6e2-4b38-8b36-00bec90d3c13"
      },
      "execution_count": 3,
      "outputs": [
        {
          "output_type": "stream",
          "name": "stdout",
          "text": [
            "Downloading data from https://storage.googleapis.com/tensorflow/tf-keras-datasets/reuters.npz\n",
            "2110848/2110848 [==============================] - 0s 0us/step\n"
          ]
        },
        {
          "output_type": "execute_result",
          "data": {
            "text/plain": [
              "(8982, 2246)"
            ]
          },
          "metadata": {},
          "execution_count": 3
        }
      ]
    },
    {
      "cell_type": "code",
      "source": [
        "# 카테고리 갯수\n",
        "max(y_train) + 1"
      ],
      "metadata": {
        "colab": {
          "base_uri": "https://localhost:8080/"
        },
        "id": "5rwCy7nKwx9x",
        "outputId": "034ff207-a913-4764-e309-1d0a9b80e7c6"
      },
      "execution_count": 4,
      "outputs": [
        {
          "output_type": "execute_result",
          "data": {
            "text/plain": [
              "46"
            ]
          },
          "metadata": {},
          "execution_count": 4
        }
      ]
    },
    {
      "cell_type": "code",
      "source": [
        "# 첫번째 뉴스\n",
        "print(X_train[0])"
      ],
      "metadata": {
        "colab": {
          "base_uri": "https://localhost:8080/"
        },
        "id": "0AkHquukw_1o",
        "outputId": "5e06416c-b28b-4340-b234-ea8bf5d2fecc"
      },
      "execution_count": 5,
      "outputs": [
        {
          "output_type": "stream",
          "name": "stdout",
          "text": [
            "[1, 27595, 28842, 8, 43, 10, 447, 5, 25, 207, 270, 5, 3095, 111, 16, 369, 186, 90, 67, 7, 89, 5, 19, 102, 6, 19, 124, 15, 90, 67, 84, 22, 482, 26, 7, 48, 4, 49, 8, 864, 39, 209, 154, 6, 151, 6, 83, 11, 15, 22, 155, 11, 15, 7, 48, 9, 4579, 1005, 504, 6, 258, 6, 272, 11, 15, 22, 134, 44, 11, 15, 16, 8, 197, 1245, 90, 67, 52, 29, 209, 30, 32, 132, 6, 109, 15, 17, 12]\n"
          ]
        }
      ]
    },
    {
      "cell_type": "code",
      "source": [
        "type(reuters.get_word_index())"
      ],
      "metadata": {
        "colab": {
          "base_uri": "https://localhost:8080/"
        },
        "id": "AEKd9B2SxHzQ",
        "outputId": "0ba26951-89c1-466b-d8c2-02fa49824459"
      },
      "execution_count": 6,
      "outputs": [
        {
          "output_type": "stream",
          "name": "stdout",
          "text": [
            "Downloading data from https://storage.googleapis.com/tensorflow/tf-keras-datasets/reuters_word_index.json\n",
            "550378/550378 [==============================] - 0s 0us/step\n"
          ]
        },
        {
          "output_type": "execute_result",
          "data": {
            "text/plain": [
              "dict"
            ]
          },
          "metadata": {},
          "execution_count": 6
        }
      ]
    },
    {
      "cell_type": "code",
      "source": [
        "reuters.get_word_index()['the']"
      ],
      "metadata": {
        "colab": {
          "base_uri": "https://localhost:8080/"
        },
        "id": "FzcsMgzBxX5Y",
        "outputId": "fd644b0a-c8ce-473c-b8fa-89dd640472a9"
      },
      "execution_count": 7,
      "outputs": [
        {
          "output_type": "execute_result",
          "data": {
            "text/plain": [
              "1"
            ]
          },
          "metadata": {},
          "execution_count": 7
        }
      ]
    },
    {
      "cell_type": "code",
      "source": [
        "index_word = {}\n",
        "for key, value in reuters.get_word_index().items():\n",
        "    index_word[value] = key\n",
        "len(index_word)"
      ],
      "metadata": {
        "colab": {
          "base_uri": "https://localhost:8080/"
        },
        "id": "-i-2NM4jxkYw",
        "outputId": "343f7db2-bc4c-4ac4-8758-98d9a2016957"
      },
      "execution_count": 8,
      "outputs": [
        {
          "output_type": "execute_result",
          "data": {
            "text/plain": [
              "30979"
            ]
          },
          "metadata": {},
          "execution_count": 8
        }
      ]
    },
    {
      "cell_type": "code",
      "source": [
        "# 첫번째 기사 복원\n",
        "' '.join(index_word[index] for index in X_train[0])"
      ],
      "metadata": {
        "colab": {
          "base_uri": "https://localhost:8080/",
          "height": 75
        },
        "id": "0MJNQgiZyCIC",
        "outputId": "67f38b94-d437-40d8-93c4-9ba3d147a10d"
      },
      "execution_count": 9,
      "outputs": [
        {
          "output_type": "execute_result",
          "data": {
            "text/plain": [
              "'the wattie nondiscriminatory mln loss for plc said at only ended said commonwealth could 1 traders now april 0 a after said from 1985 and from foreign 000 april 0 prices its account year a but in this mln home an states earlier and rise and revs vs 000 its 16 vs 000 a but 3 psbr oils several and shareholders and dividend vs 000 its all 4 vs 000 1 mln agreed largely april 0 are 2 states will billion total and against 000 pct dlrs'"
            ],
            "application/vnd.google.colaboratory.intrinsic+json": {
              "type": "string"
            }
          },
          "metadata": {},
          "execution_count": 9
        }
      ]
    },
    {
      "cell_type": "code",
      "source": [
        "# 뉴스 기사의 최대/평균 길이\n",
        "max(len(s) for s in X_train), sum(map(len, X_train)) / len(X_train)"
      ],
      "metadata": {
        "colab": {
          "base_uri": "https://localhost:8080/"
        },
        "id": "WxtvXStKyaiB",
        "outputId": "2391bf7c-05af-4392-99d6-f26c239a3255"
      },
      "execution_count": 10,
      "outputs": [
        {
          "output_type": "execute_result",
          "data": {
            "text/plain": [
              "(2376, 145.5398574927633)"
            ]
          },
          "metadata": {},
          "execution_count": 10
        }
      ]
    },
    {
      "cell_type": "code",
      "source": [
        "# 뉴스 기사 단어수의 분포\n",
        "plt.hist([len(s) for s in X_train], bins=50)\n",
        "plt.xlabel('length of samples')\n",
        "plt.ylabel('number of samples')\n",
        "plt.show()"
      ],
      "metadata": {
        "colab": {
          "base_uri": "https://localhost:8080/",
          "height": 279
        },
        "id": "Q3psc6uFy6sp",
        "outputId": "226edd0a-579e-43f6-c878-3c8c24e884b8"
      },
      "execution_count": 11,
      "outputs": [
        {
          "output_type": "display_data",
          "data": {
            "text/plain": [
              "<Figure size 432x288 with 1 Axes>"
            ],
            "image/png": "[encoded data removed]"
          },
          "metadata": {
            "needs_background": "light"
          }
        }
      ]
    },
    {
      "cell_type": "code",
      "source": [
        "# 뉴스 그룹의 분포\n",
        "import warnings\n",
        "warnings.filterwarnings('ignore')\n",
        "plt.figure(figsize=(12,5))\n",
        "sns.countplot(y_train);"
      ],
      "metadata": {
        "colab": {
          "base_uri": "https://localhost:8080/",
          "height": 320
        },
        "id": "robc2V1azccB",
        "outputId": "0fef4f82-0fd1-4a04-f9ce-5128b8c68d00"
      },
      "execution_count": 12,
      "outputs": [
        {
          "output_type": "display_data",
          "data": {
            "text/plain": [
              "<Figure size 864x360 with 1 Axes>"
            ],
            "image/png": "[encoded data removed]"
          },
          "metadata": {
            "needs_background": "light"
          }
        }
      ]
    },
    {
      "cell_type": "markdown",
      "source": [
        "### LSTM으로 로이터 뉴스 분류\n",
        "- 문장 길이: 120 단어 (최대: 2,376)\n",
        "- 단어 빈도수: 빈도수 기준 3,000 단어 (총단어수: 30,979)"
      ],
      "metadata": {
        "id": "fANncA680L26"
      }
    },
    {
      "cell_type": "code",
      "source": [
        "max_words = 3000\n",
        "max_len = 120\n",
        "(X_train, y_train), (X_test, y_test) = reuters.load_data(\n",
        "    num_words=max_words, test_split=0.2\n",
        ")"
      ],
      "metadata": {
        "id": "zkhYgw-WzyqB"
      },
      "execution_count": 13,
      "outputs": []
    },
    {
      "cell_type": "code",
      "source": [
        "from tensorflow.keras.models import Sequential, load_model\n",
        "from tensorflow.keras.layers import Embedding, LSTM, Dense\n",
        "from tensorflow.keras.callbacks import ModelCheckpoint, EarlyStopping\n",
        "from tensorflow.keras.preprocessing.sequence import pad_sequences\n",
        "from tensorflow.keras.utils import to_categorical"
      ],
      "metadata": {
        "id": "1Ycbgd6v1NPS"
      },
      "execution_count": 14,
      "outputs": []
    },
    {
      "cell_type": "code",
      "source": [
        "X_train = pad_sequences(X_train, maxlen=max_len)\n",
        "X_test = pad_sequences(X_test, maxlen=max_len)\n",
        "Y_train = to_categorical(y_train)\n",
        "Y_test = to_categorical(y_test)\n",
        "X_train.shape, X_test.shape, Y_train.shape, Y_test.shape"
      ],
      "metadata": {
        "colab": {
          "base_uri": "https://localhost:8080/"
        },
        "id": "XqNV3max1yAq",
        "outputId": "2956c1a0-45af-4f48-fc7a-c3617c4c9750"
      },
      "execution_count": 15,
      "outputs": [
        {
          "output_type": "execute_result",
          "data": {
            "text/plain": [
              "((8982, 120), (2246, 120), (8982, 46), (2246, 46))"
            ]
          },
          "metadata": {},
          "execution_count": 15
        }
      ]
    },
    {
      "cell_type": "code",
      "source": [
        "model = Sequential([ \n",
        "    Embedding(max_words, 64, input_length=max_len),\n",
        "    LSTM(100),\n",
        "    Dense(46, activation='softmax')\n",
        "])\n",
        "model.summary()"
      ],
      "metadata": {
        "colab": {
          "base_uri": "https://localhost:8080/"
        },
        "id": "0Uc0nSST2TAq",
        "outputId": "c680cc2f-2d6a-471e-ff91-6d0425b9ddfc"
      },
      "execution_count": 16,
      "outputs": [
        {
          "output_type": "stream",
          "name": "stdout",
          "text": [
            "Model: \"sequential\"\n",
            "_________________________________________________________________\n",
            " Layer (type)                Output Shape              Param #   \n",
            "=================================================================\n",
            " embedding (Embedding)       (None, 120, 64)           192000    \n",
            "                                                                 \n",
            " lstm (LSTM)                 (None, 100)               66000     \n",
            "                                                                 \n",
            " dense (Dense)               (None, 46)                4646      \n",
            "                                                                 \n",
            "=================================================================\n",
            "Total params: 262,646\n",
            "Trainable params: 262,646\n",
            "Non-trainable params: 0\n",
            "_________________________________________________________________\n"
          ]
        }
      ]
    },
    {
      "cell_type": "code",
      "source": [
        "model.compile('adam', 'categorical_crossentropy', ['accuracy'])"
      ],
      "metadata": {
        "id": "9xPWyqzX2v-6"
      },
      "execution_count": 17,
      "outputs": []
    },
    {
      "cell_type": "code",
      "source": [
        "model_path = 'best_model.h5'\n",
        "mc = ModelCheckpoint(model_path, save_best_only=True, verbose=1)\n",
        "es = EarlyStopping(patience=10)"
      ],
      "metadata": {
        "id": "srZ4kafJ27T7"
      },
      "execution_count": 18,
      "outputs": []
    },
    {
      "cell_type": "code",
      "source": [
        "hist = model.fit(\n",
        "    X_train, Y_train, validation_split=0.2,\n",
        "    epochs=100, batch_size=128, callbacks=[mc, es]\n",
        ")"
      ],
      "metadata": {
        "colab": {
          "base_uri": "https://localhost:8080/"
        },
        "id": "aeqM6AFS3M-D",
        "outputId": "34748ed7-5478-4692-c451-0dde97472bd9"
      },
      "execution_count": 19,
      "outputs": [
        {
          "output_type": "stream",
          "name": "stdout",
          "text": [
            "Epoch 1/100\n",
            "56/57 [============================>.] - ETA: 0s - loss: 2.7488 - accuracy: 0.3468\n",
            "Epoch 1: val_loss improved from inf to 2.41875, saving model to best_model.h5\n",
            "57/57 [==============================] - 8s 27ms/step - loss: 2.7483 - accuracy: 0.3466 - val_loss: 2.4188 - val_accuracy: 0.3450\n",
            "Epoch 2/100\n",
            "53/57 [==========================>...] - ETA: 0s - loss: 2.3904 - accuracy: 0.3547\n",
            "Epoch 2: val_loss improved from 2.41875 to 2.31243, saving model to best_model.h5\n",
            "57/57 [==============================] - 1s 13ms/step - loss: 2.3789 - accuracy: 0.3559 - val_loss: 2.3124 - val_accuracy: 0.3450\n",
            "Epoch 3/100\n",
            "56/57 [============================>.] - ETA: 0s - loss: 2.1437 - accuracy: 0.4826\n",
            "Epoch 3: val_loss improved from 2.31243 to 2.04682, saving model to best_model.h5\n",
            "57/57 [==============================] - 1s 13ms/step - loss: 2.1430 - accuracy: 0.4827 - val_loss: 2.0468 - val_accuracy: 0.4825\n",
            "Epoch 4/100\n",
            "55/57 [===========================>..] - ETA: 0s - loss: 2.0324 - accuracy: 0.4915\n",
            "Epoch 4: val_loss improved from 2.04682 to 2.01919, saving model to best_model.h5\n",
            "57/57 [==============================] - 1s 13ms/step - loss: 2.0264 - accuracy: 0.4934 - val_loss: 2.0192 - val_accuracy: 0.4869\n",
            "Epoch 5/100\n",
            "55/57 [===========================>..] - ETA: 0s - loss: 1.8707 - accuracy: 0.5209\n",
            "Epoch 5: val_loss improved from 2.01919 to 1.72589, saving model to best_model.h5\n",
            "57/57 [==============================] - 1s 13ms/step - loss: 1.8704 - accuracy: 0.5208 - val_loss: 1.7259 - val_accuracy: 0.5515\n",
            "Epoch 6/100\n",
            "53/57 [==========================>...] - ETA: 0s - loss: 1.6840 - accuracy: 0.5647\n",
            "Epoch 6: val_loss improved from 1.72589 to 1.66850, saving model to best_model.h5\n",
            "57/57 [==============================] - 1s 13ms/step - loss: 1.6879 - accuracy: 0.5630 - val_loss: 1.6685 - val_accuracy: 0.5748\n",
            "Epoch 7/100\n",
            "55/57 [===========================>..] - ETA: 0s - loss: 1.6267 - accuracy: 0.5830\n",
            "Epoch 7: val_loss did not improve from 1.66850\n",
            "57/57 [==============================] - 1s 13ms/step - loss: 1.6253 - accuracy: 0.5833 - val_loss: 1.6939 - val_accuracy: 0.5598\n",
            "Epoch 8/100\n",
            "56/57 [============================>.] - ETA: 0s - loss: 1.6398 - accuracy: 0.5862\n",
            "Epoch 8: val_loss improved from 1.66850 to 1.65328, saving model to best_model.h5\n",
            "57/57 [==============================] - 1s 13ms/step - loss: 1.6398 - accuracy: 0.5862 - val_loss: 1.6533 - val_accuracy: 0.5815\n",
            "Epoch 9/100\n",
            "54/57 [===========================>..] - ETA: 0s - loss: 1.5344 - accuracy: 0.6188\n",
            "Epoch 9: val_loss improved from 1.65328 to 1.62047, saving model to best_model.h5\n",
            "57/57 [==============================] - 1s 15ms/step - loss: 1.5305 - accuracy: 0.6198 - val_loss: 1.6205 - val_accuracy: 0.6077\n",
            "Epoch 10/100\n",
            "55/57 [===========================>..] - ETA: 0s - loss: 1.4420 - accuracy: 0.6479\n",
            "Epoch 10: val_loss improved from 1.62047 to 1.49648, saving model to best_model.h5\n",
            "57/57 [==============================] - 1s 13ms/step - loss: 1.4395 - accuracy: 0.6482 - val_loss: 1.4965 - val_accuracy: 0.6422\n",
            "Epoch 11/100\n",
            "54/57 [===========================>..] - ETA: 0s - loss: 1.3998 - accuracy: 0.6564\n",
            "Epoch 11: val_loss did not improve from 1.49648\n",
            "57/57 [==============================] - 1s 13ms/step - loss: 1.3920 - accuracy: 0.6572 - val_loss: 1.5029 - val_accuracy: 0.6333\n",
            "Epoch 12/100\n",
            "53/57 [==========================>...] - ETA: 0s - loss: 1.2902 - accuracy: 0.6754\n",
            "Epoch 12: val_loss improved from 1.49648 to 1.42281, saving model to best_model.h5\n",
            "57/57 [==============================] - 1s 13ms/step - loss: 1.2867 - accuracy: 0.6759 - val_loss: 1.4228 - val_accuracy: 0.6539\n",
            "Epoch 13/100\n",
            "54/57 [===========================>..] - ETA: 0s - loss: 1.1884 - accuracy: 0.6995\n",
            "Epoch 13: val_loss improved from 1.42281 to 1.41444, saving model to best_model.h5\n",
            "57/57 [==============================] - 1s 13ms/step - loss: 1.1889 - accuracy: 0.6984 - val_loss: 1.4144 - val_accuracy: 0.6605\n",
            "Epoch 14/100\n",
            "56/57 [============================>.] - ETA: 0s - loss: 1.1022 - accuracy: 0.7160\n",
            "Epoch 14: val_loss improved from 1.41444 to 1.40495, saving model to best_model.h5\n",
            "57/57 [==============================] - 1s 15ms/step - loss: 1.1024 - accuracy: 0.7161 - val_loss: 1.4049 - val_accuracy: 0.6678\n",
            "Epoch 15/100\n",
            "56/57 [============================>.] - ETA: 0s - loss: 1.0450 - accuracy: 0.7317\n",
            "Epoch 15: val_loss improved from 1.40495 to 1.34324, saving model to best_model.h5\n",
            "57/57 [==============================] - 1s 22ms/step - loss: 1.0448 - accuracy: 0.7317 - val_loss: 1.3432 - val_accuracy: 0.6778\n",
            "Epoch 16/100\n",
            "55/57 [===========================>..] - ETA: 0s - loss: 0.9753 - accuracy: 0.7430\n",
            "Epoch 16: val_loss improved from 1.34324 to 1.33518, saving model to best_model.h5\n",
            "57/57 [==============================] - 2s 28ms/step - loss: 0.9764 - accuracy: 0.7424 - val_loss: 1.3352 - val_accuracy: 0.6806\n",
            "Epoch 17/100\n",
            "55/57 [===========================>..] - ETA: 0s - loss: 0.9163 - accuracy: 0.7700\n",
            "Epoch 17: val_loss improved from 1.33518 to 1.30446, saving model to best_model.h5\n",
            "57/57 [==============================] - 1s 20ms/step - loss: 0.9155 - accuracy: 0.7698 - val_loss: 1.3045 - val_accuracy: 0.6906\n",
            "Epoch 18/100\n",
            "53/57 [==========================>...] - ETA: 0s - loss: 0.8501 - accuracy: 0.7821\n",
            "Epoch 18: val_loss did not improve from 1.30446\n",
            "57/57 [==============================] - 1s 13ms/step - loss: 0.8506 - accuracy: 0.7833 - val_loss: 1.3076 - val_accuracy: 0.6917\n",
            "Epoch 19/100\n",
            "52/57 [==========================>...] - ETA: 0s - loss: 0.7872 - accuracy: 0.7988\n",
            "Epoch 19: val_loss did not improve from 1.30446\n",
            "57/57 [==============================] - 1s 12ms/step - loss: 0.7914 - accuracy: 0.7986 - val_loss: 1.3405 - val_accuracy: 0.6917\n",
            "Epoch 20/100\n",
            "56/57 [============================>.] - ETA: 0s - loss: 0.7496 - accuracy: 0.8083\n",
            "Epoch 20: val_loss did not improve from 1.30446\n",
            "57/57 [==============================] - 1s 12ms/step - loss: 0.7493 - accuracy: 0.8084 - val_loss: 1.3450 - val_accuracy: 0.6962\n",
            "Epoch 21/100\n",
            "54/57 [===========================>..] - ETA: 0s - loss: 0.7074 - accuracy: 0.8135\n",
            "Epoch 21: val_loss did not improve from 1.30446\n",
            "57/57 [==============================] - 1s 13ms/step - loss: 0.7090 - accuracy: 0.8132 - val_loss: 1.3542 - val_accuracy: 0.6928\n",
            "Epoch 22/100\n",
            "55/57 [===========================>..] - ETA: 0s - loss: 0.6558 - accuracy: 0.8324\n",
            "Epoch 22: val_loss did not improve from 1.30446\n",
            "57/57 [==============================] - 1s 12ms/step - loss: 0.6557 - accuracy: 0.8324 - val_loss: 1.3845 - val_accuracy: 0.7001\n",
            "Epoch 23/100\n",
            "57/57 [==============================] - ETA: 0s - loss: 0.6414 - accuracy: 0.8327\n",
            "Epoch 23: val_loss did not improve from 1.30446\n",
            "57/57 [==============================] - 1s 13ms/step - loss: 0.6414 - accuracy: 0.8327 - val_loss: 1.3926 - val_accuracy: 0.7062\n",
            "Epoch 24/100\n",
            "55/57 [===========================>..] - ETA: 0s - loss: 0.5925 - accuracy: 0.8486\n",
            "Epoch 24: val_loss did not improve from 1.30446\n",
            "57/57 [==============================] - 1s 13ms/step - loss: 0.5891 - accuracy: 0.8483 - val_loss: 1.4058 - val_accuracy: 0.7028\n",
            "Epoch 25/100\n",
            "56/57 [============================>.] - ETA: 0s - loss: 0.5508 - accuracy: 0.8567\n",
            "Epoch 25: val_loss did not improve from 1.30446\n",
            "57/57 [==============================] - 1s 13ms/step - loss: 0.5501 - accuracy: 0.8569 - val_loss: 1.4166 - val_accuracy: 0.7001\n",
            "Epoch 26/100\n",
            "55/57 [===========================>..] - ETA: 0s - loss: 0.4980 - accuracy: 0.8750\n",
            "Epoch 26: val_loss did not improve from 1.30446\n",
            "57/57 [==============================] - 1s 12ms/step - loss: 0.4966 - accuracy: 0.8750 - val_loss: 1.4442 - val_accuracy: 0.6845\n",
            "Epoch 27/100\n",
            "55/57 [===========================>..] - ETA: 0s - loss: 0.4634 - accuracy: 0.8857\n",
            "Epoch 27: val_loss did not improve from 1.30446\n",
            "57/57 [==============================] - 1s 13ms/step - loss: 0.4636 - accuracy: 0.8857 - val_loss: 1.4765 - val_accuracy: 0.7084\n"
          ]
        }
      ]
    },
    {
      "cell_type": "code",
      "source": [
        "best_model = load_model(model_path)\n",
        "best_model.evaluate(X_test, Y_test)"
      ],
      "metadata": {
        "colab": {
          "base_uri": "https://localhost:8080/"
        },
        "id": "aStWZKj03hRD",
        "outputId": "4691b8d6-3b6e-4ea2-eabc-8a71445a34b8"
      },
      "execution_count": 20,
      "outputs": [
        {
          "output_type": "stream",
          "name": "stdout",
          "text": [
            "71/71 [==============================] - 1s 6ms/step - loss: 1.3742 - accuracy: 0.6665\n"
          ]
        },
        {
          "output_type": "execute_result",
          "data": {
            "text/plain": [
              "[1.3742092847824097, 0.6665182709693909]"
            ]
          },
          "metadata": {},
          "execution_count": 20
        }
      ]
    },
    {
      "cell_type": "markdown",
      "source": [
        "- 시각화"
      ],
      "metadata": {
        "id": "vvV5w1oB4XiE"
      }
    },
    {
      "cell_type": "code",
      "source": [
        "y_acc = hist.history['accuracy']\n",
        "y_vloss = hist.history['val_loss']\n",
        "xs = np.arange(1, len(y_acc)+1)"
      ],
      "metadata": {
        "id": "XdEISRV54J9k"
      },
      "execution_count": 22,
      "outputs": []
    },
    {
      "cell_type": "code",
      "source": [
        "plt.figure(figsize=(12,8))\n",
        "plt.plot(xs, y_acc, label='accuracy')\n",
        "plt.plot(xs, y_vloss, label='val_loss')\n",
        "plt.legend(), plt.grid()\n",
        "plt.xlabel('Epoch')\n",
        "plt.show()"
      ],
      "metadata": {
        "colab": {
          "base_uri": "https://localhost:8080/",
          "height": 497
        },
        "id": "nLgqhA7Y4eK0",
        "outputId": "da84b8dc-4096-4176-c74d-5bc70e5b72d2"
      },
      "execution_count": 24,
      "outputs": [
        {
          "output_type": "display_data",
          "data": {
            "text/plain": [
              "<Figure size 864x576 with 1 Axes>"
            ],
            "image/png": "[encoded data removed]"
          },
          "metadata": {
            "needs_background": "light"
          }
        }
      ]
    },
    {
      "cell_type": "markdown",
      "source": [
        "### 다음의 각 케이스로 연습\n",
        "- LSTM, GRU, SimpleRNN\n",
        "- 문장 길이: 100, 120, 150\n",
        "- 최대 단어: 1000, 3000, 10000\n",
        "- Embedding vector 차원: 48, 64, 100\n",
        "- Unit 갯수: 80, 100, 150"
      ],
      "metadata": {
        "id": "2eWyUYMa5VS1"
      }
    },
    {
      "cell_type": "code",
      "source": [],
      "metadata": {
        "id": "Gtn6hboF4m4b"
      },
      "execution_count": null,
      "outputs": []
    }
  ]
}