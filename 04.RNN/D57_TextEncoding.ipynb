{
  "nbformat": 4,
  "nbformat_minor": 0,
  "metadata": {
    "colab": {
      "provenance": []
    },
    "kernelspec": {
      "name": "python3",
      "display_name": "Python 3"
    },
    "language_info": {
      "name": "python"
    }
  },
  "cells": [
    {
      "cell_type": "markdown",
      "source": [
        "# 텍스트 인코딩\n",
        "<pre>\n",
        "경마장에 있는 말이 뛰고 있다\n",
        "그의 말이 법이다\n",
        "가는 말이 고와야 오는 말이 곱다\n",
        "</pre>"
      ],
      "metadata": {
        "id": "BYF23yBezlk-"
      }
    },
    {
      "cell_type": "code",
      "execution_count": 1,
      "metadata": {
        "id": "thk6KbtczaaQ"
      },
      "outputs": [],
      "source": [
        "text = '''경마장에 있는 말이 뛰고 있다\n",
        "그의 말이 법이다\n",
        "가는 말이 고와야 오는 말이 곱다'''"
      ]
    },
    {
      "cell_type": "markdown",
      "source": [
        "### Bag of Words (Scikit-Learn)"
      ],
      "metadata": {
        "id": "L24pQMSB0IB-"
      }
    },
    {
      "cell_type": "markdown",
      "source": [
        "- CountVectorizer"
      ],
      "metadata": {
        "id": "0cSU7yu10PT-"
      }
    },
    {
      "cell_type": "code",
      "source": [
        "from sklearn.feature_extraction.text import CountVectorizer\n",
        "\n",
        "cvect = CountVectorizer()\n",
        "cvect.fit([text])"
      ],
      "metadata": {
        "colab": {
          "base_uri": "https://localhost:8080/"
        },
        "id": "100Lagr10DsH",
        "outputId": "ecc462ac-7eb7-4d34-83b6-ad682025c64b"
      },
      "execution_count": 2,
      "outputs": [
        {
          "output_type": "execute_result",
          "data": {
            "text/plain": [
              "CountVectorizer()"
            ]
          },
          "metadata": {},
          "execution_count": 2
        }
      ]
    },
    {
      "cell_type": "code",
      "source": [
        "cvect.vocabulary_"
      ],
      "metadata": {
        "colab": {
          "base_uri": "https://localhost:8080/"
        },
        "id": "3nLFgVqi0fqX",
        "outputId": "e94eb448-aa71-4df6-9ffb-5e5626794d2c"
      },
      "execution_count": 3,
      "outputs": [
        {
          "output_type": "execute_result",
          "data": {
            "text/plain": [
              "{'경마장에': 1,\n",
              " '있는': 9,\n",
              " '말이': 6,\n",
              " '뛰고': 5,\n",
              " '있다': 10,\n",
              " '그의': 4,\n",
              " '법이다': 7,\n",
              " '가는': 0,\n",
              " '고와야': 2,\n",
              " '오는': 8,\n",
              " '곱다': 3}"
            ]
          },
          "metadata": {},
          "execution_count": 3
        }
      ]
    },
    {
      "cell_type": "code",
      "source": [
        "cvect.transform(['가는 말이 고와야 오는 말이 곱다']).toarray()"
      ],
      "metadata": {
        "colab": {
          "base_uri": "https://localhost:8080/"
        },
        "id": "ucjV78ol0pN2",
        "outputId": "fb73457f-bffd-4c85-cdbd-b43a7fe06f39"
      },
      "execution_count": 4,
      "outputs": [
        {
          "output_type": "execute_result",
          "data": {
            "text/plain": [
              "array([[1, 0, 1, 1, 0, 0, 2, 0, 1, 0, 0]])"
            ]
          },
          "metadata": {},
          "execution_count": 4
        }
      ]
    },
    {
      "cell_type": "markdown",
      "source": [
        "- TfidfVectorizer"
      ],
      "metadata": {
        "id": "lbqhahoo6Ssx"
      }
    },
    {
      "cell_type": "code",
      "source": [
        "from sklearn.feature_extraction.text import TfidfVectorizer\n",
        "\n",
        "tvect = TfidfVectorizer()\n",
        "tvect.fit([text])"
      ],
      "metadata": {
        "colab": {
          "base_uri": "https://localhost:8080/"
        },
        "id": "1EdQMP5f09Qe",
        "outputId": "591db57c-8eca-4030-b256-ced675346b6e"
      },
      "execution_count": 5,
      "outputs": [
        {
          "output_type": "execute_result",
          "data": {
            "text/plain": [
              "TfidfVectorizer()"
            ]
          },
          "metadata": {},
          "execution_count": 5
        }
      ]
    },
    {
      "cell_type": "code",
      "source": [
        "tvect.vocabulary_"
      ],
      "metadata": {
        "colab": {
          "base_uri": "https://localhost:8080/"
        },
        "id": "btyApUro6j16",
        "outputId": "07dc2d18-ff8c-4c6b-c746-1572e03e52cb"
      },
      "execution_count": 6,
      "outputs": [
        {
          "output_type": "execute_result",
          "data": {
            "text/plain": [
              "{'경마장에': 1,\n",
              " '있는': 9,\n",
              " '말이': 6,\n",
              " '뛰고': 5,\n",
              " '있다': 10,\n",
              " '그의': 4,\n",
              " '법이다': 7,\n",
              " '가는': 0,\n",
              " '고와야': 2,\n",
              " '오는': 8,\n",
              " '곱다': 3}"
            ]
          },
          "metadata": {},
          "execution_count": 6
        }
      ]
    },
    {
      "cell_type": "code",
      "source": [
        "tvect.transform(['가는 말이 고와야 오는 말이 곱다']).toarray()"
      ],
      "metadata": {
        "colab": {
          "base_uri": "https://localhost:8080/"
        },
        "id": "Hvx02hBi6pOZ",
        "outputId": "71ed5e7b-f937-47b9-ef01-59bacf4fc96e"
      },
      "execution_count": 7,
      "outputs": [
        {
          "output_type": "execute_result",
          "data": {
            "text/plain": [
              "array([[0.35355339, 0.        , 0.35355339, 0.35355339, 0.        ,\n",
              "        0.        , 0.70710678, 0.        , 0.35355339, 0.        ,\n",
              "        0.        ]])"
            ]
          },
          "metadata": {},
          "execution_count": 7
        }
      ]
    },
    {
      "cell_type": "markdown",
      "source": [
        "- N-gram"
      ],
      "metadata": {
        "id": "OIcHiATK72HE"
      }
    },
    {
      "cell_type": "code",
      "source": [
        "cvect2 = CountVectorizer(ngram_range=(1,2))\n",
        "cvect2.fit([text])"
      ],
      "metadata": {
        "colab": {
          "base_uri": "https://localhost:8080/"
        },
        "id": "99EZ1VTU68Up",
        "outputId": "07173010-5225-4742-e65a-8c13aae10f77"
      },
      "execution_count": 9,
      "outputs": [
        {
          "output_type": "execute_result",
          "data": {
            "text/plain": [
              "CountVectorizer(ngram_range=(1, 2))"
            ]
          },
          "metadata": {},
          "execution_count": 9
        }
      ]
    },
    {
      "cell_type": "code",
      "source": [
        "cvect2.vocabulary_"
      ],
      "metadata": {
        "colab": {
          "base_uri": "https://localhost:8080/"
        },
        "id": "8JGh7_2M8IYR",
        "outputId": "d2687a61-03ea-427e-c01e-aa0366c36512"
      },
      "execution_count": 10,
      "outputs": [
        {
          "output_type": "execute_result",
          "data": {
            "text/plain": [
              "{'경마장에': 2,\n",
              " '있는': 20,\n",
              " '말이': 11,\n",
              " '뛰고': 9,\n",
              " '있다': 22,\n",
              " '그의': 7,\n",
              " '법이다': 16,\n",
              " '가는': 0,\n",
              " '고와야': 4,\n",
              " '오는': 18,\n",
              " '곱다': 6,\n",
              " '경마장에 있는': 3,\n",
              " '있는 말이': 21,\n",
              " '말이 뛰고': 14,\n",
              " '뛰고 있다': 10,\n",
              " '있다 그의': 23,\n",
              " '그의 말이': 8,\n",
              " '말이 법이다': 15,\n",
              " '법이다 가는': 17,\n",
              " '가는 말이': 1,\n",
              " '말이 고와야': 12,\n",
              " '고와야 오는': 5,\n",
              " '오는 말이': 19,\n",
              " '말이 곱다': 13}"
            ]
          },
          "metadata": {},
          "execution_count": 10
        }
      ]
    },
    {
      "cell_type": "code",
      "source": [
        "cvect2.transform(['가는 말이 고와야 오는 말이 곱다']).toarray()"
      ],
      "metadata": {
        "colab": {
          "base_uri": "https://localhost:8080/"
        },
        "id": "IZN9VgKw8NKR",
        "outputId": "0f859312-2fdc-4684-e05e-8fb1290db653"
      },
      "execution_count": 11,
      "outputs": [
        {
          "output_type": "execute_result",
          "data": {
            "text/plain": [
              "array([[1, 1, 0, 0, 1, 1, 1, 0, 0, 0, 0, 2, 1, 1, 0, 0, 0, 0, 1, 1, 0, 0,\n",
              "        0, 0]])"
            ]
          },
          "metadata": {},
          "execution_count": 11
        }
      ]
    },
    {
      "cell_type": "markdown",
      "source": [
        "### Keras encoding"
      ],
      "metadata": {
        "id": "G0Kl2rge8ufW"
      }
    },
    {
      "cell_type": "code",
      "source": [
        "from tensorflow.keras.preprocessing.text import Tokenizer\n",
        "from tensorflow.keras.preprocessing.sequence import pad_sequences"
      ],
      "metadata": {
        "id": "h7LB6hsK8bl6"
      },
      "execution_count": 12,
      "outputs": []
    },
    {
      "cell_type": "markdown",
      "source": [
        "- 단어 집합 생성\n",
        "    - 단어 순서가 가나다 순서가 아니고, 많이 나온 단어 순\n",
        "    - 인덱스 0이 없음"
      ],
      "metadata": {
        "id": "oTsjqOPw9GGk"
      }
    },
    {
      "cell_type": "code",
      "source": [
        "t = Tokenizer()\n",
        "t.fit_on_texts([text])"
      ],
      "metadata": {
        "id": "Q7wBeKo-89Ba"
      },
      "execution_count": 13,
      "outputs": []
    },
    {
      "cell_type": "code",
      "source": [
        "t.index_word"
      ],
      "metadata": {
        "colab": {
          "base_uri": "https://localhost:8080/"
        },
        "id": "N4FXYBwJ9Zt6",
        "outputId": "21423128-9c76-42f1-b03f-4181b5c2bb7b"
      },
      "execution_count": 14,
      "outputs": [
        {
          "output_type": "execute_result",
          "data": {
            "text/plain": [
              "{1: '말이',\n",
              " 2: '경마장에',\n",
              " 3: '있는',\n",
              " 4: '뛰고',\n",
              " 5: '있다',\n",
              " 6: '그의',\n",
              " 7: '법이다',\n",
              " 8: '가는',\n",
              " 9: '고와야',\n",
              " 10: '오는',\n",
              " 11: '곱다'}"
            ]
          },
          "metadata": {},
          "execution_count": 14
        }
      ]
    },
    {
      "cell_type": "markdown",
      "source": [
        "- 단어 집합 크기: 전체 갯수에 1을 더한 값"
      ],
      "metadata": {
        "id": "yxF55Dv494Cy"
      }
    },
    {
      "cell_type": "code",
      "source": [
        "vocab_size = len(t.index_word) + 1\n",
        "vocab_size"
      ],
      "metadata": {
        "colab": {
          "base_uri": "https://localhost:8080/"
        },
        "id": "tRxbmId99gAK",
        "outputId": "d73a8066-5c07-4ce8-ddcf-acf26efa3799"
      },
      "execution_count": 15,
      "outputs": [
        {
          "output_type": "execute_result",
          "data": {
            "text/plain": [
              "12"
            ]
          },
          "metadata": {},
          "execution_count": 15
        }
      ]
    },
    {
      "cell_type": "markdown",
      "source": [
        "- 문장을 인코딩(숫자로 표현)"
      ],
      "metadata": {
        "id": "W1AdhnFZ-MfS"
      }
    },
    {
      "cell_type": "code",
      "source": [
        "t.texts_to_sequences(['그의 말이 법이다'])"
      ],
      "metadata": {
        "colab": {
          "base_uri": "https://localhost:8080/"
        },
        "id": "OqpJTR_S-J0z",
        "outputId": "ca055900-fea1-470f-f8d7-e36ec5d01bd9"
      },
      "execution_count": 16,
      "outputs": [
        {
          "output_type": "execute_result",
          "data": {
            "text/plain": [
              "[[6, 1, 7]]"
            ]
          },
          "metadata": {},
          "execution_count": 16
        }
      ]
    },
    {
      "cell_type": "code",
      "source": [
        "sequences = []\n",
        "for sentence in text.split('\\n'):\n",
        "    encoded = t.texts_to_sequences([sentence])[0]\n",
        "    sequences.append(encoded)\n",
        "print(sequences)"
      ],
      "metadata": {
        "colab": {
          "base_uri": "https://localhost:8080/"
        },
        "id": "QtQPGjcI-Yh0",
        "outputId": "9fbc5cdd-e03d-47ea-a7a9-dc3f0e51b0a1"
      },
      "execution_count": 17,
      "outputs": [
        {
          "output_type": "stream",
          "name": "stdout",
          "text": [
            "[[2, 3, 1, 4, 5], [6, 1, 7], [8, 1, 9, 10, 1, 11]]\n"
          ]
        }
      ]
    },
    {
      "cell_type": "code",
      "source": [
        "max_len = max(len(seq) for seq in sequences)\n",
        "max_len"
      ],
      "metadata": {
        "colab": {
          "base_uri": "https://localhost:8080/"
        },
        "id": "KnpDSEjC-8I8",
        "outputId": "2483abe8-f476-41d6-a8fa-a05dc88722c4"
      },
      "execution_count": 18,
      "outputs": [
        {
          "output_type": "execute_result",
          "data": {
            "text/plain": [
              "6"
            ]
          },
          "metadata": {},
          "execution_count": 18
        }
      ]
    },
    {
      "cell_type": "markdown",
      "source": [
        "- Padding\n",
        "    - RNN에서 사용될 경우에 길이가 같아야 됨\n",
        "    - 전체 샘플 길이를 max_len에 맞춰 주어야 함\n",
        "    - 필요한 갯수만큼 0을 추가\n",
        "    - pre option을 주면 앞쪽을 채움(default)"
      ],
      "metadata": {
        "id": "eqyh5z4u_WjL"
      }
    },
    {
      "cell_type": "code",
      "source": [
        "pad_seq = pad_sequences(sequences, maxlen=max_len)\n",
        "pad_seq"
      ],
      "metadata": {
        "colab": {
          "base_uri": "https://localhost:8080/"
        },
        "id": "ghn3KB75_OTU",
        "outputId": "a5f6f303-4e24-4287-a490-077882c5acee"
      },
      "execution_count": 19,
      "outputs": [
        {
          "output_type": "execute_result",
          "data": {
            "text/plain": [
              "array([[ 0,  2,  3,  1,  4,  5],\n",
              "       [ 0,  0,  0,  6,  1,  7],\n",
              "       [ 8,  1,  9, 10,  1, 11]], dtype=int32)"
            ]
          },
          "metadata": {},
          "execution_count": 19
        }
      ]
    },
    {
      "cell_type": "code",
      "source": [
        "pad_sequences(sequences, maxlen=max_len, padding='post')"
      ],
      "metadata": {
        "colab": {
          "base_uri": "https://localhost:8080/"
        },
        "id": "WCRHJTWeAIDs",
        "outputId": "df99d2a5-b67c-4d30-95fb-46443db53679"
      },
      "execution_count": 20,
      "outputs": [
        {
          "output_type": "execute_result",
          "data": {
            "text/plain": [
              "array([[ 2,  3,  1,  4,  5,  0],\n",
              "       [ 6,  1,  7,  0,  0,  0],\n",
              "       [ 8,  1,  9, 10,  1, 11]], dtype=int32)"
            ]
          },
          "metadata": {},
          "execution_count": 20
        }
      ]
    },
    {
      "cell_type": "code",
      "source": [],
      "metadata": {
        "id": "DMhZpeVvAeVE"
      },
      "execution_count": null,
      "outputs": []
    }
  ]
}