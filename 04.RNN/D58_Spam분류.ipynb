{
  "nbformat": 4,
  "nbformat_minor": 0,
  "metadata": {
    "colab": {
      "provenance": []
    },
    "kernelspec": {
      "name": "python3",
      "display_name": "Python 3"
    },
    "language_info": {
      "name": "python"
    }
  },
  "cells": [
    {
      "cell_type": "markdown",
      "source": [
        "# SimpleRNN을 이용한 SMS Spam 분류\n",
        "<pre>\n",
        "캐글 데이터: https://www.kaggle.com/uciml/sms-spam-collection-dataset\n",
        "\"https://raw.githubusercontent.com/ukairia777/tensorflow-nlp-tutorial/main/10.%20RNN%20Text%20Classification/dataset/spam.csv\" \n",
        "</pre>"
      ],
      "metadata": {
        "id": "cOFz2xg6EiK3"
      }
    },
    {
      "cell_type": "code",
      "execution_count": 1,
      "metadata": {
        "colab": {
          "base_uri": "https://localhost:8080/",
          "height": 143
        },
        "id": "nlnXqWuuEcmN",
        "outputId": "5c8c2204-bd72-48e3-c215-7e61d6464b87"
      },
      "outputs": [
        {
          "output_type": "execute_result",
          "data": {
            "text/plain": [
              "     v1                                                 v2 Unnamed: 2  \\\n",
              "0   ham  Go until jurong point, crazy.. Available only ...        NaN   \n",
              "1   ham                      Ok lar... Joking wif u oni...        NaN   \n",
              "2  spam  Free entry in 2 a wkly comp to win FA Cup fina...        NaN   \n",
              "\n",
              "  Unnamed: 3 Unnamed: 4  \n",
              "0        NaN        NaN  \n",
              "1        NaN        NaN  \n",
              "2        NaN        NaN  "
            ],
            "text/html": [
              "\n",
              "  <div id=\"df-ad73c88e-c29b-4c5d-8e04-1c5066b111a3\">\n",
              "    <div class=\"colab-df-container\">\n",
              "      <div>\n",
              "<style scoped>\n",
              "    .dataframe tbody tr th:only-of-type {\n",
              "        vertical-align: middle;\n",
              "    }\n",
              "\n",
              "    .dataframe tbody tr th {\n",
              "        vertical-align: top;\n",
              "    }\n",
              "\n",
              "    .dataframe thead th {\n",
              "        text-align: right;\n",
              "    }\n",
              "</style>\n",
              "<table border=\"1\" class=\"dataframe\">\n",
              "  <thead>\n",
              "    <tr style=\"text-align: right;\">\n",
              "      <th></th>\n",
              "      <th>v1</th>\n",
              "      <th>v2</th>\n",
              "      <th>Unnamed: 2</th>\n",
              "      <th>Unnamed: 3</th>\n",
              "      <th>Unnamed: 4</th>\n",
              "    </tr>\n",
              "  </thead>\n",
              "  <tbody>\n",
              "    <tr>\n",
              "      <th>0</th>\n",
              "      <td>ham</td>\n",
              "      <td>Go until jurong point, crazy.. Available only ...</td>\n",
              "      <td>NaN</td>\n",
              "      <td>NaN</td>\n",
              "      <td>NaN</td>\n",
              "    </tr>\n",
              "    <tr>\n",
              "      <th>1</th>\n",
              "      <td>ham</td>\n",
              "      <td>Ok lar... Joking wif u oni...</td>\n",
              "      <td>NaN</td>\n",
              "      <td>NaN</td>\n",
              "      <td>NaN</td>\n",
              "    </tr>\n",
              "    <tr>\n",
              "      <th>2</th>\n",
              "      <td>spam</td>\n",
              "      <td>Free entry in 2 a wkly comp to win FA Cup fina...</td>\n",
              "      <td>NaN</td>\n",
              "      <td>NaN</td>\n",
              "      <td>NaN</td>\n",
              "    </tr>\n",
              "  </tbody>\n",
              "</table>\n",
              "</div>\n",
              "      <button class=\"colab-df-convert\" onclick=\"convertToInteractive('df-ad73c88e-c29b-4c5d-8e04-1c5066b111a3')\"\n",
              "              title=\"Convert this dataframe to an interactive table.\"\n",
              "              style=\"display:none;\">\n",
              "        \n",
              "  <svg xmlns=\"http://www.w3.org/2000/svg\" height=\"24px\"viewBox=\"0 0 24 24\"\n",
              "       width=\"24px\">\n",
              "    <path d=\"M0 0h24v24H0V0z\" fill=\"none\"/>\n",
              "    <path d=\"M18.56 5.44l.94 2.06.94-2.06 2.06-.94-2.06-.94-.94-2.06-.94 2.06-2.06.94zm-11 1L8.5 8.5l.94-2.06 2.06-.94-2.06-.94L8.5 2.5l-.94 2.06-2.06.94zm10 10l.94 2.06.94-2.06 2.06-.94-2.06-.94-.94-2.06-.94 2.06-2.06.94z\"/><path d=\"M17.41 7.96l-1.37-1.37c-.4-.4-.92-.59-1.43-.59-.52 0-1.04.2-1.43.59L10.3 9.45l-7.72 7.72c-.78.78-.78 2.05 0 2.83L4 21.41c.39.39.9.59 1.41.59.51 0 1.02-.2 1.41-.59l7.78-7.78 2.81-2.81c.8-.78.8-2.07 0-2.86zM5.41 20L4 18.59l7.72-7.72 1.47 1.35L5.41 20z\"/>\n",
              "  </svg>\n",
              "      </button>\n",
              "      \n",
              "  <style>\n",
              "    .colab-df-container {\n",
              "      display:flex;\n",
              "      flex-wrap:wrap;\n",
              "      gap: 12px;\n",
              "    }\n",
              "\n",
              "    .colab-df-convert {\n",
              "      background-color: #E8F0FE;\n",
              "      border: none;\n",
              "      border-radius: 50%;\n",
              "      cursor: pointer;\n",
              "      display: none;\n",
              "      fill: #1967D2;\n",
              "      height: 32px;\n",
              "      padding: 0 0 0 0;\n",
              "      width: 32px;\n",
              "    }\n",
              "\n",
              "    .colab-df-convert:hover {\n",
              "      background-color: #E2EBFA;\n",
              "      box-shadow: 0px 1px 2px rgba(60, 64, 67, 0.3), 0px 1px 3px 1px rgba(60, 64, 67, 0.15);\n",
              "      fill: #174EA6;\n",
              "    }\n",
              "\n",
              "    [theme=dark] .colab-df-convert {\n",
              "      background-color: #3B4455;\n",
              "      fill: #D2E3FC;\n",
              "    }\n",
              "\n",
              "    [theme=dark] .colab-df-convert:hover {\n",
              "      background-color: #434B5C;\n",
              "      box-shadow: 0px 1px 3px 1px rgba(0, 0, 0, 0.15);\n",
              "      filter: drop-shadow(0px 1px 2px rgba(0, 0, 0, 0.3));\n",
              "      fill: #FFFFFF;\n",
              "    }\n",
              "  </style>\n",
              "\n",
              "      <script>\n",
              "        const buttonEl =\n",
              "          document.querySelector('#df-ad73c88e-c29b-4c5d-8e04-1c5066b111a3 button.colab-df-convert');\n",
              "        buttonEl.style.display =\n",
              "          google.colab.kernel.accessAllowed ? 'block' : 'none';\n",
              "\n",
              "        async function convertToInteractive(key) {\n",
              "          const element = document.querySelector('#df-ad73c88e-c29b-4c5d-8e04-1c5066b111a3');\n",
              "          const dataTable =\n",
              "            await google.colab.kernel.invokeFunction('convertToInteractive',\n",
              "                                                     [key], {});\n",
              "          if (!dataTable) return;\n",
              "\n",
              "          const docLinkHtml = 'Like what you see? Visit the ' +\n",
              "            '<a target=\"_blank\" href=https://colab.research.google.com/notebooks/data_table.ipynb>data table notebook</a>'\n",
              "            + ' to learn more about interactive tables.';\n",
              "          element.innerHTML = '';\n",
              "          dataTable['output_type'] = 'display_data';\n",
              "          await google.colab.output.renderOutput(dataTable, element);\n",
              "          const docLink = document.createElement('div');\n",
              "          docLink.innerHTML = docLinkHtml;\n",
              "          element.appendChild(docLink);\n",
              "        }\n",
              "      </script>\n",
              "    </div>\n",
              "  </div>\n",
              "  "
            ]
          },
          "metadata": {},
          "execution_count": 1
        }
      ],
      "source": [
        "import pandas as pd\n",
        "url = 'https://raw.githubusercontent.com/ukairia777/tensorflow-nlp-tutorial/main/10.%20RNN%20Text%20Classification/dataset/spam.csv'\n",
        "df = pd.read_csv(url, encoding='latin1')\n",
        "df.head(3)"
      ]
    },
    {
      "cell_type": "code",
      "source": [
        "df.shape"
      ],
      "metadata": {
        "colab": {
          "base_uri": "https://localhost:8080/"
        },
        "id": "1zdGiHVCFKM3",
        "outputId": "4e287ca2-27ab-4789-d289-93c4f67c965e"
      },
      "execution_count": 2,
      "outputs": [
        {
          "output_type": "execute_result",
          "data": {
            "text/plain": [
              "(5572, 5)"
            ]
          },
          "metadata": {},
          "execution_count": 2
        }
      ]
    },
    {
      "cell_type": "markdown",
      "source": [
        "### 데이터 전처리"
      ],
      "metadata": {
        "id": "sJbpU_UtFivi"
      }
    },
    {
      "cell_type": "code",
      "source": [
        "# 결측열 제거\n",
        "df = df[['v1', 'v2']]       # Selection\n",
        "# df = df.drop(columns=['Unnamed: 2','Unnamed: 3','Unnamed: 4'])\n",
        "# df.drop(columns=['Unnamed: 2','Unnamed: 3','Unnamed: 4'], inplace=True)\n",
        "df.head(3)"
      ],
      "metadata": {
        "colab": {
          "base_uri": "https://localhost:8080/",
          "height": 143
        },
        "id": "02l70LmPFZRm",
        "outputId": "9f85cf22-cffd-4364-e532-980196a74b3a"
      },
      "execution_count": 3,
      "outputs": [
        {
          "output_type": "execute_result",
          "data": {
            "text/plain": [
              "     v1                                                 v2\n",
              "0   ham  Go until jurong point, crazy.. Available only ...\n",
              "1   ham                      Ok lar... Joking wif u oni...\n",
              "2  spam  Free entry in 2 a wkly comp to win FA Cup fina..."
            ],
            "text/html": [
              "\n",
              "  <div id=\"df-2d30e8a7-d0d7-4b95-8e61-a6df99a88cee\">\n",
              "    <div class=\"colab-df-container\">\n",
              "      <div>\n",
              "<style scoped>\n",
              "    .dataframe tbody tr th:only-of-type {\n",
              "        vertical-align: middle;\n",
              "    }\n",
              "\n",
              "    .dataframe tbody tr th {\n",
              "        vertical-align: top;\n",
              "    }\n",
              "\n",
              "    .dataframe thead th {\n",
              "        text-align: right;\n",
              "    }\n",
              "</style>\n",
              "<table border=\"1\" class=\"dataframe\">\n",
              "  <thead>\n",
              "    <tr style=\"text-align: right;\">\n",
              "      <th></th>\n",
              "      <th>v1</th>\n",
              "      <th>v2</th>\n",
              "    </tr>\n",
              "  </thead>\n",
              "  <tbody>\n",
              "    <tr>\n",
              "      <th>0</th>\n",
              "      <td>ham</td>\n",
              "      <td>Go until jurong point, crazy.. Available only ...</td>\n",
              "    </tr>\n",
              "    <tr>\n",
              "      <th>1</th>\n",
              "      <td>ham</td>\n",
              "      <td>Ok lar... Joking wif u oni...</td>\n",
              "    </tr>\n",
              "    <tr>\n",
              "      <th>2</th>\n",
              "      <td>spam</td>\n",
              "      <td>Free entry in 2 a wkly comp to win FA Cup fina...</td>\n",
              "    </tr>\n",
              "  </tbody>\n",
              "</table>\n",
              "</div>\n",
              "      <button class=\"colab-df-convert\" onclick=\"convertToInteractive('df-2d30e8a7-d0d7-4b95-8e61-a6df99a88cee')\"\n",
              "              title=\"Convert this dataframe to an interactive table.\"\n",
              "              style=\"display:none;\">\n",
              "        \n",
              "  <svg xmlns=\"http://www.w3.org/2000/svg\" height=\"24px\"viewBox=\"0 0 24 24\"\n",
              "       width=\"24px\">\n",
              "    <path d=\"M0 0h24v24H0V0z\" fill=\"none\"/>\n",
              "    <path d=\"M18.56 5.44l.94 2.06.94-2.06 2.06-.94-2.06-.94-.94-2.06-.94 2.06-2.06.94zm-11 1L8.5 8.5l.94-2.06 2.06-.94-2.06-.94L8.5 2.5l-.94 2.06-2.06.94zm10 10l.94 2.06.94-2.06 2.06-.94-2.06-.94-.94-2.06-.94 2.06-2.06.94z\"/><path d=\"M17.41 7.96l-1.37-1.37c-.4-.4-.92-.59-1.43-.59-.52 0-1.04.2-1.43.59L10.3 9.45l-7.72 7.72c-.78.78-.78 2.05 0 2.83L4 21.41c.39.39.9.59 1.41.59.51 0 1.02-.2 1.41-.59l7.78-7.78 2.81-2.81c.8-.78.8-2.07 0-2.86zM5.41 20L4 18.59l7.72-7.72 1.47 1.35L5.41 20z\"/>\n",
              "  </svg>\n",
              "      </button>\n",
              "      \n",
              "  <style>\n",
              "    .colab-df-container {\n",
              "      display:flex;\n",
              "      flex-wrap:wrap;\n",
              "      gap: 12px;\n",
              "    }\n",
              "\n",
              "    .colab-df-convert {\n",
              "      background-color: #E8F0FE;\n",
              "      border: none;\n",
              "      border-radius: 50%;\n",
              "      cursor: pointer;\n",
              "      display: none;\n",
              "      fill: #1967D2;\n",
              "      height: 32px;\n",
              "      padding: 0 0 0 0;\n",
              "      width: 32px;\n",
              "    }\n",
              "\n",
              "    .colab-df-convert:hover {\n",
              "      background-color: #E2EBFA;\n",
              "      box-shadow: 0px 1px 2px rgba(60, 64, 67, 0.3), 0px 1px 3px 1px rgba(60, 64, 67, 0.15);\n",
              "      fill: #174EA6;\n",
              "    }\n",
              "\n",
              "    [theme=dark] .colab-df-convert {\n",
              "      background-color: #3B4455;\n",
              "      fill: #D2E3FC;\n",
              "    }\n",
              "\n",
              "    [theme=dark] .colab-df-convert:hover {\n",
              "      background-color: #434B5C;\n",
              "      box-shadow: 0px 1px 3px 1px rgba(0, 0, 0, 0.15);\n",
              "      filter: drop-shadow(0px 1px 2px rgba(0, 0, 0, 0.3));\n",
              "      fill: #FFFFFF;\n",
              "    }\n",
              "  </style>\n",
              "\n",
              "      <script>\n",
              "        const buttonEl =\n",
              "          document.querySelector('#df-2d30e8a7-d0d7-4b95-8e61-a6df99a88cee button.colab-df-convert');\n",
              "        buttonEl.style.display =\n",
              "          google.colab.kernel.accessAllowed ? 'block' : 'none';\n",
              "\n",
              "        async function convertToInteractive(key) {\n",
              "          const element = document.querySelector('#df-2d30e8a7-d0d7-4b95-8e61-a6df99a88cee');\n",
              "          const dataTable =\n",
              "            await google.colab.kernel.invokeFunction('convertToInteractive',\n",
              "                                                     [key], {});\n",
              "          if (!dataTable) return;\n",
              "\n",
              "          const docLinkHtml = 'Like what you see? Visit the ' +\n",
              "            '<a target=\"_blank\" href=https://colab.research.google.com/notebooks/data_table.ipynb>data table notebook</a>'\n",
              "            + ' to learn more about interactive tables.';\n",
              "          element.innerHTML = '';\n",
              "          dataTable['output_type'] = 'display_data';\n",
              "          await google.colab.output.renderOutput(dataTable, element);\n",
              "          const docLink = document.createElement('div');\n",
              "          docLink.innerHTML = docLinkHtml;\n",
              "          element.appendChild(docLink);\n",
              "        }\n",
              "      </script>\n",
              "    </div>\n",
              "  </div>\n",
              "  "
            ]
          },
          "metadata": {},
          "execution_count": 3
        }
      ]
    },
    {
      "cell_type": "code",
      "source": [
        "# 결측치 확인\n",
        "df.isna().sum()"
      ],
      "metadata": {
        "colab": {
          "base_uri": "https://localhost:8080/"
        },
        "id": "Rt0k6vdGF9Yv",
        "outputId": "61a72098-4778-4f86-b1d2-248d0c019b42"
      },
      "execution_count": 4,
      "outputs": [
        {
          "output_type": "execute_result",
          "data": {
            "text/plain": [
              "v1    0\n",
              "v2    0\n",
              "dtype: int64"
            ]
          },
          "metadata": {},
          "execution_count": 4
        }
      ]
    },
    {
      "cell_type": "code",
      "source": [
        "# 중복 데이터 확인후 제거\n",
        "df.v2.nunique()"
      ],
      "metadata": {
        "colab": {
          "base_uri": "https://localhost:8080/"
        },
        "id": "-fdco8QcGjoG",
        "outputId": "c4887145-c032-4aba-e37d-e659885456a0"
      },
      "execution_count": 5,
      "outputs": [
        {
          "output_type": "execute_result",
          "data": {
            "text/plain": [
              "5169"
            ]
          },
          "metadata": {},
          "execution_count": 5
        }
      ]
    },
    {
      "cell_type": "code",
      "source": [
        "df.drop_duplicates(subset=['v2'], inplace=True)\n",
        "df.shape"
      ],
      "metadata": {
        "colab": {
          "base_uri": "https://localhost:8080/"
        },
        "id": "_kpyDyBLJvFg",
        "outputId": "4d7ffa54-8f1a-4cf6-bcb2-2a3a2152491c"
      },
      "execution_count": 6,
      "outputs": [
        {
          "output_type": "execute_result",
          "data": {
            "text/plain": [
              "(5169, 2)"
            ]
          },
          "metadata": {},
          "execution_count": 6
        }
      ]
    },
    {
      "cell_type": "code",
      "source": [
        "# Label Encoding: ['ham', 'spam'] --> [0, 1]\n",
        "df.v1 = df.v1.replace(['ham','spam'], [0,1])\n",
        "df.head(3)"
      ],
      "metadata": {
        "colab": {
          "base_uri": "https://localhost:8080/",
          "height": 143
        },
        "id": "3Lk7oHtXKACI",
        "outputId": "ed07f044-ea1a-4ff9-9572-e49ee6832d08"
      },
      "execution_count": 7,
      "outputs": [
        {
          "output_type": "execute_result",
          "data": {
            "text/plain": [
              "   v1                                                 v2\n",
              "0   0  Go until jurong point, crazy.. Available only ...\n",
              "1   0                      Ok lar... Joking wif u oni...\n",
              "2   1  Free entry in 2 a wkly comp to win FA Cup fina..."
            ],
            "text/html": [
              "\n",
              "  <div id=\"df-93cf29eb-0bfb-4d6a-958e-f83d4c2c84f7\">\n",
              "    <div class=\"colab-df-container\">\n",
              "      <div>\n",
              "<style scoped>\n",
              "    .dataframe tbody tr th:only-of-type {\n",
              "        vertical-align: middle;\n",
              "    }\n",
              "\n",
              "    .dataframe tbody tr th {\n",
              "        vertical-align: top;\n",
              "    }\n",
              "\n",
              "    .dataframe thead th {\n",
              "        text-align: right;\n",
              "    }\n",
              "</style>\n",
              "<table border=\"1\" class=\"dataframe\">\n",
              "  <thead>\n",
              "    <tr style=\"text-align: right;\">\n",
              "      <th></th>\n",
              "      <th>v1</th>\n",
              "      <th>v2</th>\n",
              "    </tr>\n",
              "  </thead>\n",
              "  <tbody>\n",
              "    <tr>\n",
              "      <th>0</th>\n",
              "      <td>0</td>\n",
              "      <td>Go until jurong point, crazy.. Available only ...</td>\n",
              "    </tr>\n",
              "    <tr>\n",
              "      <th>1</th>\n",
              "      <td>0</td>\n",
              "      <td>Ok lar... Joking wif u oni...</td>\n",
              "    </tr>\n",
              "    <tr>\n",
              "      <th>2</th>\n",
              "      <td>1</td>\n",
              "      <td>Free entry in 2 a wkly comp to win FA Cup fina...</td>\n",
              "    </tr>\n",
              "  </tbody>\n",
              "</table>\n",
              "</div>\n",
              "      <button class=\"colab-df-convert\" onclick=\"convertToInteractive('df-93cf29eb-0bfb-4d6a-958e-f83d4c2c84f7')\"\n",
              "              title=\"Convert this dataframe to an interactive table.\"\n",
              "              style=\"display:none;\">\n",
              "        \n",
              "  <svg xmlns=\"http://www.w3.org/2000/svg\" height=\"24px\"viewBox=\"0 0 24 24\"\n",
              "       width=\"24px\">\n",
              "    <path d=\"M0 0h24v24H0V0z\" fill=\"none\"/>\n",
              "    <path d=\"M18.56 5.44l.94 2.06.94-2.06 2.06-.94-2.06-.94-.94-2.06-.94 2.06-2.06.94zm-11 1L8.5 8.5l.94-2.06 2.06-.94-2.06-.94L8.5 2.5l-.94 2.06-2.06.94zm10 10l.94 2.06.94-2.06 2.06-.94-2.06-.94-.94-2.06-.94 2.06-2.06.94z\"/><path d=\"M17.41 7.96l-1.37-1.37c-.4-.4-.92-.59-1.43-.59-.52 0-1.04.2-1.43.59L10.3 9.45l-7.72 7.72c-.78.78-.78 2.05 0 2.83L4 21.41c.39.39.9.59 1.41.59.51 0 1.02-.2 1.41-.59l7.78-7.78 2.81-2.81c.8-.78.8-2.07 0-2.86zM5.41 20L4 18.59l7.72-7.72 1.47 1.35L5.41 20z\"/>\n",
              "  </svg>\n",
              "      </button>\n",
              "      \n",
              "  <style>\n",
              "    .colab-df-container {\n",
              "      display:flex;\n",
              "      flex-wrap:wrap;\n",
              "      gap: 12px;\n",
              "    }\n",
              "\n",
              "    .colab-df-convert {\n",
              "      background-color: #E8F0FE;\n",
              "      border: none;\n",
              "      border-radius: 50%;\n",
              "      cursor: pointer;\n",
              "      display: none;\n",
              "      fill: #1967D2;\n",
              "      height: 32px;\n",
              "      padding: 0 0 0 0;\n",
              "      width: 32px;\n",
              "    }\n",
              "\n",
              "    .colab-df-convert:hover {\n",
              "      background-color: #E2EBFA;\n",
              "      box-shadow: 0px 1px 2px rgba(60, 64, 67, 0.3), 0px 1px 3px 1px rgba(60, 64, 67, 0.15);\n",
              "      fill: #174EA6;\n",
              "    }\n",
              "\n",
              "    [theme=dark] .colab-df-convert {\n",
              "      background-color: #3B4455;\n",
              "      fill: #D2E3FC;\n",
              "    }\n",
              "\n",
              "    [theme=dark] .colab-df-convert:hover {\n",
              "      background-color: #434B5C;\n",
              "      box-shadow: 0px 1px 3px 1px rgba(0, 0, 0, 0.15);\n",
              "      filter: drop-shadow(0px 1px 2px rgba(0, 0, 0, 0.3));\n",
              "      fill: #FFFFFF;\n",
              "    }\n",
              "  </style>\n",
              "\n",
              "      <script>\n",
              "        const buttonEl =\n",
              "          document.querySelector('#df-93cf29eb-0bfb-4d6a-958e-f83d4c2c84f7 button.colab-df-convert');\n",
              "        buttonEl.style.display =\n",
              "          google.colab.kernel.accessAllowed ? 'block' : 'none';\n",
              "\n",
              "        async function convertToInteractive(key) {\n",
              "          const element = document.querySelector('#df-93cf29eb-0bfb-4d6a-958e-f83d4c2c84f7');\n",
              "          const dataTable =\n",
              "            await google.colab.kernel.invokeFunction('convertToInteractive',\n",
              "                                                     [key], {});\n",
              "          if (!dataTable) return;\n",
              "\n",
              "          const docLinkHtml = 'Like what you see? Visit the ' +\n",
              "            '<a target=\"_blank\" href=https://colab.research.google.com/notebooks/data_table.ipynb>data table notebook</a>'\n",
              "            + ' to learn more about interactive tables.';\n",
              "          element.innerHTML = '';\n",
              "          dataTable['output_type'] = 'display_data';\n",
              "          await google.colab.output.renderOutput(dataTable, element);\n",
              "          const docLink = document.createElement('div');\n",
              "          docLink.innerHTML = docLinkHtml;\n",
              "          element.appendChild(docLink);\n",
              "        }\n",
              "      </script>\n",
              "    </div>\n",
              "  </div>\n",
              "  "
            ]
          },
          "metadata": {},
          "execution_count": 7
        }
      ]
    },
    {
      "cell_type": "code",
      "source": [
        "# Ham/Spam 갯수\n",
        "df.v1.value_counts()"
      ],
      "metadata": {
        "colab": {
          "base_uri": "https://localhost:8080/"
        },
        "id": "1aJN58KGKWrI",
        "outputId": "f115e8d3-2282-4a30-c1d5-e9e1e76d91a8"
      },
      "execution_count": 8,
      "outputs": [
        {
          "output_type": "execute_result",
          "data": {
            "text/plain": [
              "0    4516\n",
              "1     653\n",
              "Name: v1, dtype: int64"
            ]
          },
          "metadata": {},
          "execution_count": 8
        }
      ]
    },
    {
      "cell_type": "code",
      "source": [
        "# x, y data 분리\n",
        "x = df.v2.values\n",
        "y = df.v1.values\n",
        "x.shape, y.shape"
      ],
      "metadata": {
        "colab": {
          "base_uri": "https://localhost:8080/"
        },
        "id": "qZM3a8VKKhso",
        "outputId": "b6197388-c005-4071-b8b5-e9adf40e04c7"
      },
      "execution_count": 9,
      "outputs": [
        {
          "output_type": "execute_result",
          "data": {
            "text/plain": [
              "((5169,), (5169,))"
            ]
          },
          "metadata": {},
          "execution_count": 9
        }
      ]
    },
    {
      "cell_type": "markdown",
      "source": [
        "### 텍스트 전처리"
      ],
      "metadata": {
        "id": "6OHMXjtuK3iJ"
      }
    },
    {
      "cell_type": "code",
      "source": [
        "from tensorflow.keras.preprocessing.text import Tokenizer\n",
        "from tensorflow.keras.preprocessing.sequence import pad_sequences"
      ],
      "metadata": {
        "id": "O-o8SSB3Kw-Q"
      },
      "execution_count": 10,
      "outputs": []
    },
    {
      "cell_type": "code",
      "source": [
        "# 구둣점 제거, 소문자 변환\n",
        "import re\n",
        "\n",
        "def preprocessing(s):\n",
        "    s = s.encode('utf8').decode('ascii','ignore')   # latin1 --> ascii\n",
        "    s = re.sub('[^a-z 0-9]', '', s.lower())\n",
        "    return s"
      ],
      "metadata": {
        "id": "eTrgMpusLB1Z"
      },
      "execution_count": 15,
      "outputs": []
    },
    {
      "cell_type": "code",
      "source": [
        "print(x[2])\n",
        "X_data = [preprocessing(s) for s in x]\n",
        "print(X_data[2])"
      ],
      "metadata": {
        "colab": {
          "base_uri": "https://localhost:8080/"
        },
        "id": "5XJkLFa8MRB6",
        "outputId": "f7f350e3-1c8a-479f-8672-e3cd8ed0d5e7"
      },
      "execution_count": 17,
      "outputs": [
        {
          "output_type": "stream",
          "name": "stdout",
          "text": [
            "Free entry in 2 a wkly comp to win FA Cup final tkts 21st May 2005. Text FA to 87121 to receive entry question(std txt rate)T&C's apply 08452810075over18's\n",
            "free entry in 2 a wkly comp to win fa cup final tkts 21st may 2005 text fa to 87121 to receive entry questionstd txt ratetcs apply 08452810075over18s\n"
          ]
        }
      ]
    },
    {
      "cell_type": "code",
      "source": [
        "# 단어 집합을 만들고, 그 크기를 확인\n",
        "t = Tokenizer()         # t = Tokenizer(num_words=8000)\n",
        "t.fit_on_texts(X_data)\n",
        "vocab_size = len(t.word_index) + 1\n",
        "vocab_size"
      ],
      "metadata": {
        "colab": {
          "base_uri": "https://localhost:8080/"
        },
        "id": "4jGudWT3MftC",
        "outputId": "14818ff9-6c18-402a-a51c-284613377a23"
      },
      "execution_count": 18,
      "outputs": [
        {
          "output_type": "execute_result",
          "data": {
            "text/plain": [
              "9479"
            ]
          },
          "metadata": {},
          "execution_count": 18
        }
      ]
    },
    {
      "cell_type": "code",
      "source": [
        "sequences = t.texts_to_sequences(X_data)\n",
        "print(sequences[2])"
      ],
      "metadata": {
        "colab": {
          "base_uri": "https://localhost:8080/"
        },
        "id": "Pnvir8hHNTfB",
        "outputId": "e89e4869-a058-4fa4-f9ad-1c707217892b"
      },
      "execution_count": 20,
      "outputs": [
        {
          "output_type": "stream",
          "name": "stdout",
          "text": [
            "[54, 508, 8, 22, 4, 959, 960, 2, 217, 2566, 1291, 664, 2567, 2568, 268, 2569, 71, 2566, 2, 2570, 2, 336, 508, 3839, 84, 3840, 424, 3841]\n"
          ]
        }
      ]
    },
    {
      "cell_type": "code",
      "source": [
        "max_len = max(len(seq) for seq in sequences)\n",
        "max_len"
      ],
      "metadata": {
        "colab": {
          "base_uri": "https://localhost:8080/"
        },
        "id": "YMKEv6R-N0L4",
        "outputId": "f56c667e-44a9-4767-837c-db3d0ed31f08"
      },
      "execution_count": 21,
      "outputs": [
        {
          "output_type": "execute_result",
          "data": {
            "text/plain": [
              "171"
            ]
          },
          "metadata": {},
          "execution_count": 21
        }
      ]
    },
    {
      "cell_type": "code",
      "source": [
        "# 전체 데이터셋을 max_len 길이에 맞추고, 0 padding을 해줌\n",
        "pad_X_data = pad_sequences(sequences, maxlen=max_len)"
      ],
      "metadata": {
        "id": "iIYWTn1bOJGS"
      },
      "execution_count": 23,
      "outputs": []
    },
    {
      "cell_type": "code",
      "source": [
        "pad_X_data[2]"
      ],
      "metadata": {
        "colab": {
          "base_uri": "https://localhost:8080/"
        },
        "id": "Ec1sm0N6O7oC",
        "outputId": "951461a1-3402-44ac-e65c-65437998e717"
      },
      "execution_count": 24,
      "outputs": [
        {
          "output_type": "execute_result",
          "data": {
            "text/plain": [
              "array([   0,    0,    0,    0,    0,    0,    0,    0,    0,    0,    0,\n",
              "          0,    0,    0,    0,    0,    0,    0,    0,    0,    0,    0,\n",
              "          0,    0,    0,    0,    0,    0,    0,    0,    0,    0,    0,\n",
              "          0,    0,    0,    0,    0,    0,    0,    0,    0,    0,    0,\n",
              "          0,    0,    0,    0,    0,    0,    0,    0,    0,    0,    0,\n",
              "          0,    0,    0,    0,    0,    0,    0,    0,    0,    0,    0,\n",
              "          0,    0,    0,    0,    0,    0,    0,    0,    0,    0,    0,\n",
              "          0,    0,    0,    0,    0,    0,    0,    0,    0,    0,    0,\n",
              "          0,    0,    0,    0,    0,    0,    0,    0,    0,    0,    0,\n",
              "          0,    0,    0,    0,    0,    0,    0,    0,    0,    0,    0,\n",
              "          0,    0,    0,    0,    0,    0,    0,    0,    0,    0,    0,\n",
              "          0,    0,    0,    0,    0,    0,    0,    0,    0,    0,    0,\n",
              "          0,    0,    0,    0,    0,    0,    0,    0,    0,    0,    0,\n",
              "         54,  508,    8,   22,    4,  959,  960,    2,  217, 2566, 1291,\n",
              "        664, 2567, 2568,  268, 2569,   71, 2566,    2, 2570,    2,  336,\n",
              "        508, 3839,   84, 3840,  424, 3841], dtype=int32)"
            ]
          },
          "metadata": {},
          "execution_count": 24
        }
      ]
    },
    {
      "cell_type": "markdown",
      "source": [
        "- Train/test dataset 분리"
      ],
      "metadata": {
        "id": "CIWJoRxCOqpa"
      }
    },
    {
      "cell_type": "code",
      "source": [
        "import numpy as np\n",
        "import tensorflow as tf\n",
        "seed = 2023\n",
        "np.random.seed(seed)\n",
        "tf.random.set_seed(seed)"
      ],
      "metadata": {
        "id": "phVGsHgoPIyb"
      },
      "execution_count": 25,
      "outputs": []
    },
    {
      "cell_type": "code",
      "source": [
        "from sklearn.model_selection import train_test_split\n",
        "X_train, X_test, y_train, y_test = train_test_split(\n",
        "    pad_X_data, y, stratify=y, test_size=0.2, random_state=seed\n",
        ")\n",
        "X_train.shape, X_test.shape, y_train.shape, y_test.shape"
      ],
      "metadata": {
        "colab": {
          "base_uri": "https://localhost:8080/"
        },
        "id": "EN5bGb9EPaXr",
        "outputId": "404f38dd-2309-49ac-b702-cb8add5c8a8c"
      },
      "execution_count": 26,
      "outputs": [
        {
          "output_type": "execute_result",
          "data": {
            "text/plain": [
              "((4135, 171), (1034, 171), (4135,), (1034,))"
            ]
          },
          "metadata": {},
          "execution_count": 26
        }
      ]
    },
    {
      "cell_type": "markdown",
      "source": [
        "### 모델 정의/설정/학습"
      ],
      "metadata": {
        "id": "Ly7l4yIyP-Wz"
      }
    },
    {
      "cell_type": "code",
      "source": [
        "from tensorflow.keras.models import Sequential, load_model\n",
        "from tensorflow.keras.layers import Embedding, SimpleRNN, Dense\n",
        "from tensorflow.keras.callbacks import ModelCheckpoint, EarlyStopping"
      ],
      "metadata": {
        "id": "F4eqd4eKP4Ck"
      },
      "execution_count": 27,
      "outputs": []
    },
    {
      "cell_type": "code",
      "source": [
        "model = Sequential([\n",
        "    Embedding(vocab_size, 32, input_length=max_len),\n",
        "    SimpleRNN(32, activation='tanh'),\n",
        "    Dense(1, activation='sigmoid')\n",
        "])\n",
        "model.summary()"
      ],
      "metadata": {
        "colab": {
          "base_uri": "https://localhost:8080/"
        },
        "id": "eLBGygbQQeBM",
        "outputId": "cb3107b4-4420-460f-875e-5daaebaf3658"
      },
      "execution_count": 28,
      "outputs": [
        {
          "output_type": "stream",
          "name": "stdout",
          "text": [
            "Model: \"sequential\"\n",
            "_________________________________________________________________\n",
            " Layer (type)                Output Shape              Param #   \n",
            "=================================================================\n",
            " embedding (Embedding)       (None, 171, 32)           303328    \n",
            "                                                                 \n",
            " simple_rnn (SimpleRNN)      (None, 32)                2080      \n",
            "                                                                 \n",
            " dense (Dense)               (None, 1)                 33        \n",
            "                                                                 \n",
            "=================================================================\n",
            "Total params: 305,441\n",
            "Trainable params: 305,441\n",
            "Non-trainable params: 0\n",
            "_________________________________________________________________\n"
          ]
        }
      ]
    },
    {
      "cell_type": "code",
      "source": [
        "model.compile('adam', 'binary_crossentropy', ['accuracy'])"
      ],
      "metadata": {
        "id": "XwWy3KWiRY4N"
      },
      "execution_count": 29,
      "outputs": []
    },
    {
      "cell_type": "code",
      "source": [
        "model_path = 'best_model.h5'\n",
        "mc = ModelCheckpoint(model_path, verbose=1, save_best_only=True)\n",
        "es = EarlyStopping(patience=10)"
      ],
      "metadata": {
        "id": "gXUH5GSARugj"
      },
      "execution_count": 30,
      "outputs": []
    },
    {
      "cell_type": "code",
      "source": [
        "hist = model.fit(X_train, y_train,\n",
        "                 epochs=100, batch_size=64, validation_split=0.2,\n",
        "                 callbacks=[mc, es])"
      ],
      "metadata": {
        "colab": {
          "base_uri": "https://localhost:8080/"
        },
        "id": "aIeK05fQSIOV",
        "outputId": "457e2799-ebb8-42bc-a981-31eef2738d89"
      },
      "execution_count": 31,
      "outputs": [
        {
          "output_type": "stream",
          "name": "stdout",
          "text": [
            "Epoch 1/100\n",
            "52/52 [==============================] - ETA: 0s - loss: 0.4110 - accuracy: 0.8543\n",
            "Epoch 1: val_loss improved from inf to 0.34605, saving model to best_model.h5\n",
            "52/52 [==============================] - 4s 51ms/step - loss: 0.4110 - accuracy: 0.8543 - val_loss: 0.3461 - val_accuracy: 0.8827\n",
            "Epoch 2/100\n",
            "51/52 [============================>.] - ETA: 0s - loss: 0.3137 - accuracy: 0.8759\n",
            "Epoch 2: val_loss improved from 0.34605 to 0.21901, saving model to best_model.h5\n",
            "52/52 [==============================] - 2s 46ms/step - loss: 0.3124 - accuracy: 0.8767 - val_loss: 0.2190 - val_accuracy: 0.9323\n",
            "Epoch 3/100\n",
            "52/52 [==============================] - ETA: 0s - loss: 0.1214 - accuracy: 0.9797\n",
            "Epoch 3: val_loss improved from 0.21901 to 0.11236, saving model to best_model.h5\n",
            "52/52 [==============================] - 2s 46ms/step - loss: 0.1214 - accuracy: 0.9797 - val_loss: 0.1124 - val_accuracy: 0.9686\n",
            "Epoch 4/100\n",
            "51/52 [============================>.] - ETA: 0s - loss: 0.0532 - accuracy: 0.9893\n",
            "Epoch 4: val_loss improved from 0.11236 to 0.07534, saving model to best_model.h5\n",
            "52/52 [==============================] - 2s 48ms/step - loss: 0.0539 - accuracy: 0.9891 - val_loss: 0.0753 - val_accuracy: 0.9831\n",
            "Epoch 5/100\n",
            "52/52 [==============================] - ETA: 0s - loss: 0.0317 - accuracy: 0.9949\n",
            "Epoch 5: val_loss improved from 0.07534 to 0.06408, saving model to best_model.h5\n",
            "52/52 [==============================] - 2s 46ms/step - loss: 0.0317 - accuracy: 0.9949 - val_loss: 0.0641 - val_accuracy: 0.9807\n",
            "Epoch 6/100\n",
            "52/52 [==============================] - ETA: 0s - loss: 0.0218 - accuracy: 0.9964\n",
            "Epoch 6: val_loss improved from 0.06408 to 0.05888, saving model to best_model.h5\n",
            "52/52 [==============================] - 2s 46ms/step - loss: 0.0218 - accuracy: 0.9964 - val_loss: 0.0589 - val_accuracy: 0.9807\n",
            "Epoch 7/100\n",
            "51/52 [============================>.] - ETA: 0s - loss: 0.0136 - accuracy: 0.9982\n",
            "Epoch 7: val_loss improved from 0.05888 to 0.05388, saving model to best_model.h5\n",
            "52/52 [==============================] - 2s 45ms/step - loss: 0.0135 - accuracy: 0.9982 - val_loss: 0.0539 - val_accuracy: 0.9843\n",
            "Epoch 8/100\n",
            "51/52 [============================>.] - ETA: 0s - loss: 0.0101 - accuracy: 0.9985\n",
            "Epoch 8: val_loss improved from 0.05388 to 0.05109, saving model to best_model.h5\n",
            "52/52 [==============================] - 2s 47ms/step - loss: 0.0101 - accuracy: 0.9985 - val_loss: 0.0511 - val_accuracy: 0.9855\n",
            "Epoch 9/100\n",
            "51/52 [============================>.] - ETA: 0s - loss: 0.0078 - accuracy: 0.9988\n",
            "Epoch 9: val_loss did not improve from 0.05109\n",
            "52/52 [==============================] - 2s 46ms/step - loss: 0.0078 - accuracy: 0.9988 - val_loss: 0.0512 - val_accuracy: 0.9831\n",
            "Epoch 10/100\n",
            "52/52 [==============================] - ETA: 0s - loss: 0.4586 - accuracy: 0.8017\n",
            "Epoch 10: val_loss did not improve from 0.05109\n",
            "52/52 [==============================] - 2s 44ms/step - loss: 0.4586 - accuracy: 0.8017 - val_loss: 0.3166 - val_accuracy: 0.9033\n",
            "Epoch 11/100\n",
            "51/52 [============================>.] - ETA: 0s - loss: 0.1956 - accuracy: 0.9240\n",
            "Epoch 11: val_loss did not improve from 0.05109\n",
            "52/52 [==============================] - 2s 44ms/step - loss: 0.1953 - accuracy: 0.9247 - val_loss: 0.2910 - val_accuracy: 0.9238\n",
            "Epoch 12/100\n",
            "52/52 [==============================] - ETA: 0s - loss: 0.1166 - accuracy: 0.9683\n",
            "Epoch 12: val_loss did not improve from 0.05109\n",
            "52/52 [==============================] - 2s 43ms/step - loss: 0.1166 - accuracy: 0.9683 - val_loss: 0.2593 - val_accuracy: 0.9262\n",
            "Epoch 13/100\n",
            "52/52 [==============================] - ETA: 0s - loss: 0.0750 - accuracy: 0.9855\n",
            "Epoch 13: val_loss did not improve from 0.05109\n",
            "52/52 [==============================] - 2s 44ms/step - loss: 0.0750 - accuracy: 0.9855 - val_loss: 0.2401 - val_accuracy: 0.9274\n",
            "Epoch 14/100\n",
            "51/52 [============================>.] - ETA: 0s - loss: 0.0491 - accuracy: 0.9942\n",
            "Epoch 14: val_loss did not improve from 0.05109\n",
            "52/52 [==============================] - 2s 44ms/step - loss: 0.0487 - accuracy: 0.9943 - val_loss: 0.2334 - val_accuracy: 0.9214\n",
            "Epoch 15/100\n",
            "52/52 [==============================] - ETA: 0s - loss: 0.0352 - accuracy: 0.9964\n",
            "Epoch 15: val_loss did not improve from 0.05109\n",
            "52/52 [==============================] - 2s 45ms/step - loss: 0.0352 - accuracy: 0.9964 - val_loss: 0.2317 - val_accuracy: 0.9238\n",
            "Epoch 16/100\n",
            "51/52 [============================>.] - ETA: 0s - loss: 0.0256 - accuracy: 0.9985\n",
            "Epoch 16: val_loss did not improve from 0.05109\n",
            "52/52 [==============================] - 2s 47ms/step - loss: 0.0258 - accuracy: 0.9982 - val_loss: 0.2312 - val_accuracy: 0.9299\n",
            "Epoch 17/100\n",
            "52/52 [==============================] - ETA: 0s - loss: 0.0196 - accuracy: 0.9988\n",
            "Epoch 17: val_loss did not improve from 0.05109\n",
            "52/52 [==============================] - 2s 45ms/step - loss: 0.0196 - accuracy: 0.9988 - val_loss: 0.2336 - val_accuracy: 0.9250\n",
            "Epoch 18/100\n",
            "52/52 [==============================] - ETA: 0s - loss: 0.0153 - accuracy: 0.9994\n",
            "Epoch 18: val_loss did not improve from 0.05109\n",
            "52/52 [==============================] - 2s 45ms/step - loss: 0.0153 - accuracy: 0.9994 - val_loss: 0.2329 - val_accuracy: 0.9311\n"
          ]
        }
      ]
    },
    {
      "cell_type": "code",
      "source": [
        "best_model = load_model(model_path)\n",
        "best_model.evaluate(X_test, y_test)"
      ],
      "metadata": {
        "colab": {
          "base_uri": "https://localhost:8080/"
        },
        "id": "wc6qrLzcScc9",
        "outputId": "75507f03-feb3-4b67-968c-bf81454c659e"
      },
      "execution_count": 32,
      "outputs": [
        {
          "output_type": "stream",
          "name": "stdout",
          "text": [
            "33/33 [==============================] - 1s 11ms/step - loss: 0.0692 - accuracy: 0.9797\n"
          ]
        },
        {
          "output_type": "execute_result",
          "data": {
            "text/plain": [
              "[0.06916914880275726, 0.9796905517578125]"
            ]
          },
          "metadata": {},
          "execution_count": 32
        }
      ]
    },
    {
      "cell_type": "markdown",
      "source": [
        "- 시각화"
      ],
      "metadata": {
        "id": "eboWQICYVW_u"
      }
    },
    {
      "cell_type": "code",
      "source": [
        "import matplotlib.pyplot as plt\n",
        "y_acc = hist.history['accuracy']\n",
        "y_vloss = hist.history['val_loss']\n",
        "xs = np.arange(1, len(y_acc)+1)"
      ],
      "metadata": {
        "id": "RsEqJkxAVMoN"
      },
      "execution_count": 33,
      "outputs": []
    },
    {
      "cell_type": "code",
      "source": [
        "plt.figure(figsize=(12,8))\n",
        "plt.plot(xs, y_acc, label='train accuracy')\n",
        "plt.plot(xs, y_vloss, label='validation loss')\n",
        "plt.xlabel('Epoch')\n",
        "plt.grid(), plt.legend()\n",
        "plt.show()"
      ],
      "metadata": {
        "colab": {
          "base_uri": "https://localhost:8080/",
          "height": 497
        },
        "id": "OpEauGv2VoZd",
        "outputId": "56b9b8b6-43d5-4575-9606-de316a829d16"
      },
      "execution_count": 34,
      "outputs": [
        {
          "output_type": "display_data",
          "data": {
            "text/plain": [
              "<Figure size 864x576 with 1 Axes>"
            ],
            "image/png": "[encoded data removed]"
          },
          "metadata": {
            "needs_background": "light"
          }
        }
      ]
    },
    {
      "cell_type": "markdown",
      "source": [
        "- Model 2\n",
        "    - embedding size = 48\n",
        "    - RNN unit = 24"
      ],
      "metadata": {
        "id": "L73s1pgKWvhK"
      }
    },
    {
      "cell_type": "code",
      "source": [
        "model2 = Sequential([\n",
        "    Embedding(vocab_size, 48, input_length=max_len),\n",
        "    SimpleRNN(24, activation='tanh'),\n",
        "    Dense(1, activation='sigmoid')\n",
        "])\n",
        "model2.summary()"
      ],
      "metadata": {
        "colab": {
          "base_uri": "https://localhost:8080/"
        },
        "id": "DRELvOJMV-MV",
        "outputId": "bf51cbbf-4919-4d49-d0f9-80e4b76d8683"
      },
      "execution_count": 38,
      "outputs": [
        {
          "output_type": "stream",
          "name": "stdout",
          "text": [
            "Model: \"sequential_2\"\n",
            "_________________________________________________________________\n",
            " Layer (type)                Output Shape              Param #   \n",
            "=================================================================\n",
            " embedding_2 (Embedding)     (None, 171, 48)           454992    \n",
            "                                                                 \n",
            " simple_rnn_2 (SimpleRNN)    (None, 24)                1752      \n",
            "                                                                 \n",
            " dense_2 (Dense)             (None, 1)                 25        \n",
            "                                                                 \n",
            "=================================================================\n",
            "Total params: 456,769\n",
            "Trainable params: 456,769\n",
            "Non-trainable params: 0\n",
            "_________________________________________________________________\n"
          ]
        }
      ]
    },
    {
      "cell_type": "code",
      "source": [
        "model2.compile('adam', 'binary_crossentropy', ['accuracy'])\n",
        "model_path2 = 'best_model2.h5'\n",
        "mc2 = ModelCheckpoint(model_path2, verbose=1, save_best_only=True)\n",
        "es2 = EarlyStopping(patience=10)\n",
        "hist2 = model2.fit(X_train, y_train,\n",
        "                   epochs=100, batch_size=64, validation_split=0.2,\n",
        "                   callbacks=[mc2, es2])"
      ],
      "metadata": {
        "colab": {
          "base_uri": "https://localhost:8080/"
        },
        "id": "kGT2aFdYXNH3",
        "outputId": "1389bca0-3d02-4abe-c6b6-23aaacd62cbb"
      },
      "execution_count": 39,
      "outputs": [
        {
          "output_type": "stream",
          "name": "stdout",
          "text": [
            "Epoch 1/100\n",
            "51/52 [============================>.] - ETA: 0s - loss: 0.4064 - accuracy: 0.8698\n",
            "Epoch 1: val_loss improved from inf to 0.34118, saving model to best_model2.h5\n",
            "52/52 [==============================] - 4s 58ms/step - loss: 0.4043 - accuracy: 0.8706 - val_loss: 0.3412 - val_accuracy: 0.8827\n",
            "Epoch 2/100\n",
            "52/52 [==============================] - ETA: 0s - loss: 0.1932 - accuracy: 0.9465\n",
            "Epoch 2: val_loss improved from 0.34118 to 0.10797, saving model to best_model2.h5\n",
            "52/52 [==============================] - 3s 48ms/step - loss: 0.1932 - accuracy: 0.9465 - val_loss: 0.1080 - val_accuracy: 0.9686\n",
            "Epoch 3/100\n",
            "51/52 [============================>.] - ETA: 0s - loss: 0.0616 - accuracy: 0.9868\n",
            "Epoch 3: val_loss improved from 0.10797 to 0.07060, saving model to best_model2.h5\n",
            "52/52 [==============================] - 4s 72ms/step - loss: 0.0610 - accuracy: 0.9870 - val_loss: 0.0706 - val_accuracy: 0.9831\n",
            "Epoch 4/100\n",
            "51/52 [============================>.] - ETA: 0s - loss: 0.0317 - accuracy: 0.9948\n",
            "Epoch 4: val_loss did not improve from 0.07060\n",
            "52/52 [==============================] - 2s 47ms/step - loss: 0.0325 - accuracy: 0.9946 - val_loss: 0.0795 - val_accuracy: 0.9746\n",
            "Epoch 5/100\n",
            "52/52 [==============================] - ETA: 0s - loss: 0.0231 - accuracy: 0.9961\n",
            "Epoch 5: val_loss improved from 0.07060 to 0.06347, saving model to best_model2.h5\n",
            "52/52 [==============================] - 3s 55ms/step - loss: 0.0231 - accuracy: 0.9961 - val_loss: 0.0635 - val_accuracy: 0.9831\n",
            "Epoch 6/100\n",
            "52/52 [==============================] - ETA: 0s - loss: 0.0182 - accuracy: 0.9970\n",
            "Epoch 6: val_loss did not improve from 0.06347\n",
            "52/52 [==============================] - 2s 48ms/step - loss: 0.0182 - accuracy: 0.9970 - val_loss: 0.0905 - val_accuracy: 0.9746\n",
            "Epoch 7/100\n",
            "51/52 [============================>.] - ETA: 0s - loss: 0.0115 - accuracy: 0.9982\n",
            "Epoch 7: val_loss did not improve from 0.06347\n",
            "52/52 [==============================] - 3s 51ms/step - loss: 0.0114 - accuracy: 0.9982 - val_loss: 0.0675 - val_accuracy: 0.9807\n",
            "Epoch 8/100\n",
            "52/52 [==============================] - ETA: 0s - loss: 0.0085 - accuracy: 0.9985\n",
            "Epoch 8: val_loss did not improve from 0.06347\n",
            "52/52 [==============================] - 3s 54ms/step - loss: 0.0085 - accuracy: 0.9985 - val_loss: 0.0641 - val_accuracy: 0.9819\n",
            "Epoch 9/100\n",
            "52/52 [==============================] - ETA: 0s - loss: 0.0071 - accuracy: 0.9988\n",
            "Epoch 9: val_loss did not improve from 0.06347\n",
            "52/52 [==============================] - 3s 48ms/step - loss: 0.0071 - accuracy: 0.9988 - val_loss: 0.0767 - val_accuracy: 0.9807\n",
            "Epoch 10/100\n",
            "52/52 [==============================] - ETA: 0s - loss: 0.0053 - accuracy: 0.9991\n",
            "Epoch 10: val_loss did not improve from 0.06347\n",
            "52/52 [==============================] - 3s 50ms/step - loss: 0.0053 - accuracy: 0.9991 - val_loss: 0.0704 - val_accuracy: 0.9819\n",
            "Epoch 11/100\n",
            "52/52 [==============================] - ETA: 0s - loss: 0.0042 - accuracy: 0.9991\n",
            "Epoch 11: val_loss did not improve from 0.06347\n",
            "52/52 [==============================] - 3s 52ms/step - loss: 0.0042 - accuracy: 0.9991 - val_loss: 0.0697 - val_accuracy: 0.9819\n",
            "Epoch 12/100\n",
            "51/52 [============================>.] - ETA: 0s - loss: 0.0034 - accuracy: 0.9997\n",
            "Epoch 12: val_loss did not improve from 0.06347\n",
            "52/52 [==============================] - 3s 49ms/step - loss: 0.0033 - accuracy: 0.9997 - val_loss: 0.0688 - val_accuracy: 0.9819\n",
            "Epoch 13/100\n",
            "51/52 [============================>.] - ETA: 0s - loss: 0.0027 - accuracy: 0.9997\n",
            "Epoch 13: val_loss did not improve from 0.06347\n",
            "52/52 [==============================] - 3s 50ms/step - loss: 0.0027 - accuracy: 0.9997 - val_loss: 0.0693 - val_accuracy: 0.9831\n",
            "Epoch 14/100\n",
            "52/52 [==============================] - ETA: 0s - loss: 0.0022 - accuracy: 0.9997\n",
            "Epoch 14: val_loss did not improve from 0.06347\n",
            "52/52 [==============================] - 3s 49ms/step - loss: 0.0022 - accuracy: 0.9997 - val_loss: 0.0738 - val_accuracy: 0.9843\n",
            "Epoch 15/100\n",
            "52/52 [==============================] - ETA: 0s - loss: 0.0017 - accuracy: 1.0000\n",
            "Epoch 15: val_loss did not improve from 0.06347\n",
            "52/52 [==============================] - 3s 52ms/step - loss: 0.0017 - accuracy: 1.0000 - val_loss: 0.0742 - val_accuracy: 0.9831\n"
          ]
        }
      ]
    },
    {
      "cell_type": "code",
      "source": [
        "best_model2 = load_model(model_path2)\n",
        "best_model2.evaluate(X_test, y_test)"
      ],
      "metadata": {
        "colab": {
          "base_uri": "https://localhost:8080/"
        },
        "id": "-9mV0lQBXgfP",
        "outputId": "407d9a93-f5ba-48a1-8e03-7bb03d8701d5"
      },
      "execution_count": 40,
      "outputs": [
        {
          "output_type": "stream",
          "name": "stdout",
          "text": [
            "33/33 [==============================] - 1s 13ms/step - loss: 0.0899 - accuracy: 0.9729\n"
          ]
        },
        {
          "output_type": "execute_result",
          "data": {
            "text/plain": [
              "[0.08994169533252716, 0.9729207158088684]"
            ]
          },
          "metadata": {},
          "execution_count": 40
        }
      ]
    },
    {
      "cell_type": "markdown",
      "source": [
        "- Model 3\n",
        "    - embedding size = 24\n",
        "    - RNN unit = 48"
      ],
      "metadata": {
        "id": "eX7dhM8UYu5f"
      }
    },
    {
      "cell_type": "code",
      "source": [
        "model3 = Sequential([\n",
        "    Embedding(vocab_size, 24, input_length=max_len),\n",
        "    SimpleRNN(48, activation='tanh'),\n",
        "    Dense(1, activation='sigmoid')\n",
        "])\n",
        "model3.summary()"
      ],
      "metadata": {
        "colab": {
          "base_uri": "https://localhost:8080/"
        },
        "id": "8lJXAx7mYmXZ",
        "outputId": "29629320-552e-4e1a-dd0b-9653eae927b6"
      },
      "execution_count": 41,
      "outputs": [
        {
          "output_type": "stream",
          "name": "stdout",
          "text": [
            "Model: \"sequential_3\"\n",
            "_________________________________________________________________\n",
            " Layer (type)                Output Shape              Param #   \n",
            "=================================================================\n",
            " embedding_3 (Embedding)     (None, 171, 24)           227496    \n",
            "                                                                 \n",
            " simple_rnn_3 (SimpleRNN)    (None, 48)                3504      \n",
            "                                                                 \n",
            " dense_3 (Dense)             (None, 1)                 49        \n",
            "                                                                 \n",
            "=================================================================\n",
            "Total params: 231,049\n",
            "Trainable params: 231,049\n",
            "Non-trainable params: 0\n",
            "_________________________________________________________________\n"
          ]
        }
      ]
    },
    {
      "cell_type": "code",
      "source": [
        "model3.compile('adam', 'binary_crossentropy', ['accuracy'])\n",
        "model_path3 = 'best_model2.h5'\n",
        "mc3 = ModelCheckpoint(model_path2, verbose=1, save_best_only=True)\n",
        "es3 = EarlyStopping(patience=10)\n",
        "hist3 = model3.fit(X_train, y_train,\n",
        "                   epochs=100, batch_size=64, validation_split=0.2,\n",
        "                   callbacks=[mc3, es3])"
      ],
      "metadata": {
        "colab": {
          "base_uri": "https://localhost:8080/"
        },
        "id": "qyKBcIY1Y6BP",
        "outputId": "0a673355-7fd6-4b3c-d1fa-26663e178e90"
      },
      "execution_count": 42,
      "outputs": [
        {
          "output_type": "stream",
          "name": "stdout",
          "text": [
            "Epoch 1/100\n",
            "52/52 [==============================] - ETA: 0s - loss: 0.4013 - accuracy: 0.8564\n",
            "Epoch 1: val_loss improved from inf to 0.32809, saving model to best_model2.h5\n",
            "52/52 [==============================] - 4s 56ms/step - loss: 0.4013 - accuracy: 0.8564 - val_loss: 0.3281 - val_accuracy: 0.8827\n",
            "Epoch 2/100\n",
            "52/52 [==============================] - ETA: 0s - loss: 0.1622 - accuracy: 0.9537\n",
            "Epoch 2: val_loss improved from 0.32809 to 0.11392, saving model to best_model2.h5\n",
            "52/52 [==============================] - 3s 51ms/step - loss: 0.1622 - accuracy: 0.9537 - val_loss: 0.1139 - val_accuracy: 0.9637\n",
            "Epoch 3/100\n",
            "52/52 [==============================] - ETA: 0s - loss: 0.0572 - accuracy: 0.9849\n",
            "Epoch 3: val_loss improved from 0.11392 to 0.10663, saving model to best_model2.h5\n",
            "52/52 [==============================] - 3s 49ms/step - loss: 0.0572 - accuracy: 0.9849 - val_loss: 0.1066 - val_accuracy: 0.9661\n",
            "Epoch 4/100\n",
            "51/52 [============================>.] - ETA: 0s - loss: 0.0318 - accuracy: 0.9923\n",
            "Epoch 4: val_loss improved from 0.10663 to 0.07426, saving model to best_model2.h5\n",
            "52/52 [==============================] - 3s 50ms/step - loss: 0.0325 - accuracy: 0.9921 - val_loss: 0.0743 - val_accuracy: 0.9734\n",
            "Epoch 5/100\n",
            "52/52 [==============================] - ETA: 0s - loss: 0.0176 - accuracy: 0.9970\n",
            "Epoch 5: val_loss did not improve from 0.07426\n",
            "52/52 [==============================] - 2s 44ms/step - loss: 0.0176 - accuracy: 0.9970 - val_loss: 0.0764 - val_accuracy: 0.9782\n",
            "Epoch 6/100\n",
            "51/52 [============================>.] - ETA: 0s - loss: 0.0141 - accuracy: 0.9975\n",
            "Epoch 6: val_loss improved from 0.07426 to 0.07115, saving model to best_model2.h5\n",
            "52/52 [==============================] - 2s 45ms/step - loss: 0.0139 - accuracy: 0.9976 - val_loss: 0.0712 - val_accuracy: 0.9807\n",
            "Epoch 7/100\n",
            "52/52 [==============================] - ETA: 0s - loss: 0.0397 - accuracy: 0.9879\n",
            "Epoch 7: val_loss improved from 0.07115 to 0.06037, saving model to best_model2.h5\n",
            "52/52 [==============================] - 3s 49ms/step - loss: 0.0397 - accuracy: 0.9879 - val_loss: 0.0604 - val_accuracy: 0.9807\n",
            "Epoch 8/100\n",
            "52/52 [==============================] - ETA: 0s - loss: 0.0127 - accuracy: 0.9976\n",
            "Epoch 8: val_loss did not improve from 0.06037\n",
            "52/52 [==============================] - 2s 46ms/step - loss: 0.0127 - accuracy: 0.9976 - val_loss: 0.0624 - val_accuracy: 0.9819\n",
            "Epoch 9/100\n",
            "52/52 [==============================] - ETA: 0s - loss: 0.0083 - accuracy: 0.9988\n",
            "Epoch 9: val_loss did not improve from 0.06037\n",
            "52/52 [==============================] - 3s 50ms/step - loss: 0.0083 - accuracy: 0.9988 - val_loss: 0.0622 - val_accuracy: 0.9807\n",
            "Epoch 10/100\n",
            "51/52 [============================>.] - ETA: 0s - loss: 0.0066 - accuracy: 0.9988\n",
            "Epoch 10: val_loss did not improve from 0.06037\n",
            "52/52 [==============================] - 2s 47ms/step - loss: 0.0065 - accuracy: 0.9988 - val_loss: 0.0627 - val_accuracy: 0.9794\n",
            "Epoch 11/100\n",
            "52/52 [==============================] - ETA: 0s - loss: 0.0049 - accuracy: 0.9991\n",
            "Epoch 11: val_loss improved from 0.06037 to 0.05760, saving model to best_model2.h5\n",
            "52/52 [==============================] - 3s 49ms/step - loss: 0.0049 - accuracy: 0.9991 - val_loss: 0.0576 - val_accuracy: 0.9819\n",
            "Epoch 12/100\n",
            "52/52 [==============================] - ETA: 0s - loss: 0.0041 - accuracy: 0.9994\n",
            "Epoch 12: val_loss did not improve from 0.05760\n",
            "52/52 [==============================] - 2s 43ms/step - loss: 0.0041 - accuracy: 0.9994 - val_loss: 0.0612 - val_accuracy: 0.9807\n",
            "Epoch 13/100\n",
            "51/52 [============================>.] - ETA: 0s - loss: 0.0035 - accuracy: 0.9994\n",
            "Epoch 13: val_loss did not improve from 0.05760\n",
            "52/52 [==============================] - 2s 44ms/step - loss: 0.0035 - accuracy: 0.9994 - val_loss: 0.0596 - val_accuracy: 0.9819\n",
            "Epoch 14/100\n",
            "51/52 [============================>.] - ETA: 0s - loss: 0.0029 - accuracy: 0.9994\n",
            "Epoch 14: val_loss did not improve from 0.05760\n",
            "52/52 [==============================] - 2s 47ms/step - loss: 0.0029 - accuracy: 0.9994 - val_loss: 0.0580 - val_accuracy: 0.9843\n",
            "Epoch 15/100\n",
            "52/52 [==============================] - ETA: 0s - loss: 0.0024 - accuracy: 0.9994\n",
            "Epoch 15: val_loss did not improve from 0.05760\n",
            "52/52 [==============================] - 2s 45ms/step - loss: 0.0024 - accuracy: 0.9994 - val_loss: 0.0648 - val_accuracy: 0.9819\n",
            "Epoch 16/100\n",
            "51/52 [============================>.] - ETA: 0s - loss: 0.0021 - accuracy: 0.9994\n",
            "Epoch 16: val_loss did not improve from 0.05760\n",
            "52/52 [==============================] - 4s 72ms/step - loss: 0.0020 - accuracy: 0.9994 - val_loss: 0.0624 - val_accuracy: 0.9831\n",
            "Epoch 17/100\n",
            "52/52 [==============================] - ETA: 0s - loss: 0.0014 - accuracy: 0.9994\n",
            "Epoch 17: val_loss did not improve from 0.05760\n",
            "52/52 [==============================] - 3s 49ms/step - loss: 0.0014 - accuracy: 0.9994 - val_loss: 0.0625 - val_accuracy: 0.9819\n",
            "Epoch 18/100\n",
            "51/52 [============================>.] - ETA: 0s - loss: 0.0011 - accuracy: 0.9997\n",
            "Epoch 18: val_loss did not improve from 0.05760\n",
            "52/52 [==============================] - 2s 45ms/step - loss: 0.0011 - accuracy: 0.9997 - val_loss: 0.0632 - val_accuracy: 0.9831\n",
            "Epoch 19/100\n",
            "52/52 [==============================] - ETA: 0s - loss: 9.0558e-04 - accuracy: 1.0000\n",
            "Epoch 19: val_loss did not improve from 0.05760\n",
            "52/52 [==============================] - 2s 46ms/step - loss: 9.0558e-04 - accuracy: 1.0000 - val_loss: 0.0650 - val_accuracy: 0.9819\n",
            "Epoch 20/100\n",
            "52/52 [==============================] - ETA: 0s - loss: 7.4351e-04 - accuracy: 1.0000\n",
            "Epoch 20: val_loss did not improve from 0.05760\n",
            "52/52 [==============================] - 3s 48ms/step - loss: 7.4351e-04 - accuracy: 1.0000 - val_loss: 0.0680 - val_accuracy: 0.9819\n",
            "Epoch 21/100\n",
            "51/52 [============================>.] - ETA: 0s - loss: 6.2961e-04 - accuracy: 1.0000\n",
            "Epoch 21: val_loss did not improve from 0.05760\n",
            "52/52 [==============================] - 3s 50ms/step - loss: 6.2710e-04 - accuracy: 1.0000 - val_loss: 0.0702 - val_accuracy: 0.9819\n"
          ]
        }
      ]
    },
    {
      "cell_type": "code",
      "source": [
        "best_model3 = load_model(model_path3)\n",
        "best_model3.evaluate(X_test, y_test)"
      ],
      "metadata": {
        "colab": {
          "base_uri": "https://localhost:8080/"
        },
        "id": "8NDhlSwKY8hg",
        "outputId": "b2f81f13-b28c-4c55-bb0b-5ca435ec2560"
      },
      "execution_count": 43,
      "outputs": [
        {
          "output_type": "stream",
          "name": "stdout",
          "text": [
            "33/33 [==============================] - 1s 10ms/step - loss: 0.0932 - accuracy: 0.9739\n"
          ]
        },
        {
          "output_type": "execute_result",
          "data": {
            "text/plain": [
              "[0.0931573286652565, 0.9738878011703491]"
            ]
          },
          "metadata": {},
          "execution_count": 43
        }
      ]
    },
    {
      "cell_type": "markdown",
      "source": [
        "- Model 4\n",
        "    - Embedding size: 48\n",
        "    - RNN unit: 48"
      ],
      "metadata": {
        "id": "Lbd4UnC9ZiZB"
      }
    },
    {
      "cell_type": "code",
      "source": [
        "model4 = Sequential([\n",
        "    Embedding(vocab_size, 48, input_length=max_len),\n",
        "    SimpleRNN(48, activation='tanh'),\n",
        "    Dense(1, activation='sigmoid')\n",
        "])\n",
        "model4.summary()"
      ],
      "metadata": {
        "colab": {
          "base_uri": "https://localhost:8080/"
        },
        "id": "UKp0re_HZr-Z",
        "outputId": "69fba720-508e-4e31-d1ea-7404e465904a"
      },
      "execution_count": 44,
      "outputs": [
        {
          "output_type": "stream",
          "name": "stdout",
          "text": [
            "Model: \"sequential_4\"\n",
            "_________________________________________________________________\n",
            " Layer (type)                Output Shape              Param #   \n",
            "=================================================================\n",
            " embedding_4 (Embedding)     (None, 171, 48)           454992    \n",
            "                                                                 \n",
            " simple_rnn_4 (SimpleRNN)    (None, 48)                4656      \n",
            "                                                                 \n",
            " dense_4 (Dense)             (None, 1)                 49        \n",
            "                                                                 \n",
            "=================================================================\n",
            "Total params: 459,697\n",
            "Trainable params: 459,697\n",
            "Non-trainable params: 0\n",
            "_________________________________________________________________\n"
          ]
        }
      ]
    },
    {
      "cell_type": "code",
      "source": [
        "model4.compile('adam', 'binary_crossentropy', ['accuracy'])\n",
        "model_path4 = 'best_model2.h5'\n",
        "mc4 = ModelCheckpoint(model_path2, verbose=1, save_best_only=True)\n",
        "es4 = EarlyStopping(patience=10)\n",
        "hist4 = model4.fit(X_train, y_train,\n",
        "                   epochs=100, batch_size=64, validation_split=0.2,\n",
        "                   callbacks=[mc4, es4])"
      ],
      "metadata": {
        "colab": {
          "base_uri": "https://localhost:8080/"
        },
        "id": "ggfhbjWzZxw3",
        "outputId": "3fbfca6a-1193-4ba4-8aad-d3a92c8c7221"
      },
      "execution_count": 45,
      "outputs": [
        {
          "output_type": "stream",
          "name": "stdout",
          "text": [
            "Epoch 1/100\n",
            "52/52 [==============================] - ETA: 0s - loss: 0.4063 - accuracy: 0.8600\n",
            "Epoch 1: val_loss improved from inf to 0.35573, saving model to best_model2.h5\n",
            "52/52 [==============================] - 5s 71ms/step - loss: 0.4063 - accuracy: 0.8600 - val_loss: 0.3557 - val_accuracy: 0.8827\n",
            "Epoch 2/100\n",
            "51/52 [============================>.] - ETA: 0s - loss: 0.3438 - accuracy: 0.8716\n",
            "Epoch 2: val_loss improved from 0.35573 to 0.30133, saving model to best_model2.h5\n",
            "52/52 [==============================] - 4s 74ms/step - loss: 0.3435 - accuracy: 0.8715 - val_loss: 0.3013 - val_accuracy: 0.8827\n",
            "Epoch 3/100\n",
            "51/52 [============================>.] - ETA: 0s - loss: 0.1311 - accuracy: 0.9553\n",
            "Epoch 3: val_loss improved from 0.30133 to 0.07865, saving model to best_model2.h5\n",
            "52/52 [==============================] - 3s 56ms/step - loss: 0.1297 - accuracy: 0.9559 - val_loss: 0.0787 - val_accuracy: 0.9794\n",
            "Epoch 4/100\n",
            "52/52 [==============================] - ETA: 0s - loss: 0.0323 - accuracy: 0.9921\n",
            "Epoch 4: val_loss improved from 0.07865 to 0.06383, saving model to best_model2.h5\n",
            "52/52 [==============================] - 4s 80ms/step - loss: 0.0323 - accuracy: 0.9921 - val_loss: 0.0638 - val_accuracy: 0.9855\n",
            "Epoch 5/100\n",
            "51/52 [============================>.] - ETA: 0s - loss: 0.0154 - accuracy: 0.9969\n",
            "Epoch 5: val_loss did not improve from 0.06383\n",
            "52/52 [==============================] - 3s 54ms/step - loss: 0.0152 - accuracy: 0.9970 - val_loss: 0.0696 - val_accuracy: 0.9782\n",
            "Epoch 6/100\n",
            "52/52 [==============================] - ETA: 0s - loss: 0.0090 - accuracy: 0.9985\n",
            "Epoch 6: val_loss did not improve from 0.06383\n",
            "52/52 [==============================] - 3s 51ms/step - loss: 0.0090 - accuracy: 0.9985 - val_loss: 0.0715 - val_accuracy: 0.9794\n",
            "Epoch 7/100\n",
            "51/52 [============================>.] - ETA: 0s - loss: 0.0063 - accuracy: 0.9988\n",
            "Epoch 7: val_loss did not improve from 0.06383\n",
            "52/52 [==============================] - 3s 55ms/step - loss: 0.0062 - accuracy: 0.9988 - val_loss: 0.0647 - val_accuracy: 0.9794\n",
            "Epoch 8/100\n",
            "51/52 [============================>.] - ETA: 0s - loss: 0.0049 - accuracy: 0.9991\n",
            "Epoch 8: val_loss did not improve from 0.06383\n",
            "52/52 [==============================] - 3s 58ms/step - loss: 0.0049 - accuracy: 0.9991 - val_loss: 0.0642 - val_accuracy: 0.9782\n",
            "Epoch 9/100\n",
            "52/52 [==============================] - ETA: 0s - loss: 0.0034 - accuracy: 0.9997\n",
            "Epoch 9: val_loss did not improve from 0.06383\n",
            "52/52 [==============================] - 3s 60ms/step - loss: 0.0034 - accuracy: 0.9997 - val_loss: 0.0689 - val_accuracy: 0.9807\n",
            "Epoch 10/100\n",
            "52/52 [==============================] - ETA: 0s - loss: 0.0023 - accuracy: 0.9997\n",
            "Epoch 10: val_loss did not improve from 0.06383\n",
            "52/52 [==============================] - 3s 58ms/step - loss: 0.0023 - accuracy: 0.9997 - val_loss: 0.0679 - val_accuracy: 0.9794\n",
            "Epoch 11/100\n",
            "51/52 [============================>.] - ETA: 0s - loss: 0.0018 - accuracy: 0.9997\n",
            "Epoch 11: val_loss did not improve from 0.06383\n",
            "52/52 [==============================] - 3s 60ms/step - loss: 0.0017 - accuracy: 0.9997 - val_loss: 0.0659 - val_accuracy: 0.9807\n",
            "Epoch 12/100\n",
            "51/52 [============================>.] - ETA: 0s - loss: 0.0013 - accuracy: 1.0000\n",
            "Epoch 12: val_loss did not improve from 0.06383\n",
            "52/52 [==============================] - 3s 61ms/step - loss: 0.0013 - accuracy: 1.0000 - val_loss: 0.0812 - val_accuracy: 0.9807\n",
            "Epoch 13/100\n",
            "51/52 [============================>.] - ETA: 0s - loss: 9.6451e-04 - accuracy: 1.0000\n",
            "Epoch 13: val_loss did not improve from 0.06383\n",
            "52/52 [==============================] - 3s 56ms/step - loss: 9.6397e-04 - accuracy: 1.0000 - val_loss: 0.0782 - val_accuracy: 0.9807\n",
            "Epoch 14/100\n",
            "52/52 [==============================] - ETA: 0s - loss: 7.3936e-04 - accuracy: 1.0000\n",
            "Epoch 14: val_loss did not improve from 0.06383\n",
            "52/52 [==============================] - 3s 56ms/step - loss: 7.3936e-04 - accuracy: 1.0000 - val_loss: 0.0814 - val_accuracy: 0.9807\n"
          ]
        }
      ]
    },
    {
      "cell_type": "code",
      "source": [
        "best_model4 = load_model(model_path4)\n",
        "best_model4.evaluate(X_test, y_test)"
      ],
      "metadata": {
        "colab": {
          "base_uri": "https://localhost:8080/"
        },
        "id": "v570N3a5Z6Av",
        "outputId": "ae074e11-9b45-4860-ef23-456d836e71ce"
      },
      "execution_count": 46,
      "outputs": [
        {
          "output_type": "stream",
          "name": "stdout",
          "text": [
            "33/33 [==============================] - 1s 15ms/step - loss: 0.0719 - accuracy: 0.9778\n"
          ]
        },
        {
          "output_type": "execute_result",
          "data": {
            "text/plain": [
              "[0.07187571376562119, 0.9777562618255615]"
            ]
          },
          "metadata": {},
          "execution_count": 46
        }
      ]
    },
    {
      "cell_type": "code",
      "source": [],
      "metadata": {
        "id": "_r97mkSgaKQg"
      },
      "execution_count": null,
      "outputs": []
    }
  ]
}