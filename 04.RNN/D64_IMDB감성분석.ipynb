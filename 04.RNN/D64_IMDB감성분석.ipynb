{
  "nbformat": 4,
  "nbformat_minor": 0,
  "metadata": {
    "colab": {
      "provenance": []
    },
    "kernelspec": {
      "name": "python3",
      "display_name": "Python 3"
    },
    "language_info": {
      "name": "python"
    },
    "accelerator": "GPU",
    "gpuClass": "standard"
  },
  "cells": [
    {
      "cell_type": "markdown",
      "source": [
        "# IMDB 영화리뷰 감성분석"
      ],
      "metadata": {
        "id": "jzr1_Em19Fev"
      }
    },
    {
      "cell_type": "code",
      "execution_count": 1,
      "metadata": {
        "id": "EvMFADlf89JF"
      },
      "outputs": [],
      "source": [
        "import numpy as np\n",
        "import tensorflow as tf\n",
        "seed = 2023\n",
        "np.random.seed(seed)\n",
        "tf.random.set_seed(seed)"
      ]
    },
    {
      "cell_type": "code",
      "source": [
        "from tensorflow.keras.datasets import imdb\n",
        "(X_train, y_train), (X_test, y_test) = imdb.load_data()"
      ],
      "metadata": {
        "colab": {
          "base_uri": "https://localhost:8080/"
        },
        "id": "haGrlYEU9McH",
        "outputId": "620a58de-8d0b-4620-df51-8158adf0273e"
      },
      "execution_count": 2,
      "outputs": [
        {
          "output_type": "stream",
          "name": "stdout",
          "text": [
            "Downloading data from https://storage.googleapis.com/tensorflow/tf-keras-datasets/imdb.npz\n",
            "17464789/17464789 [==============================] - 0s 0us/step\n"
          ]
        }
      ]
    },
    {
      "cell_type": "code",
      "source": [
        "len(X_train), len(X_test)"
      ],
      "metadata": {
        "colab": {
          "base_uri": "https://localhost:8080/"
        },
        "id": "8-gUnjG_9ZZH",
        "outputId": "6009f12b-fb9d-45a1-8d31-97ea330e2263"
      },
      "execution_count": 3,
      "outputs": [
        {
          "output_type": "execute_result",
          "data": {
            "text/plain": [
              "(25000, 25000)"
            ]
          },
          "metadata": {},
          "execution_count": 3
        }
      ]
    },
    {
      "cell_type": "code",
      "source": [
        "# 등장한 단어수\n",
        "len(imdb.get_word_index())"
      ],
      "metadata": {
        "colab": {
          "base_uri": "https://localhost:8080/"
        },
        "id": "BPSo99Dt9fof",
        "outputId": "c0e0df84-0cb2-433c-8d7a-81c0f27d4974"
      },
      "execution_count": 4,
      "outputs": [
        {
          "output_type": "stream",
          "name": "stdout",
          "text": [
            "Downloading data from https://storage.googleapis.com/tensorflow/tf-keras-datasets/imdb_word_index.json\n",
            "1641221/1641221 [==============================] - 0s 0us/step\n"
          ]
        },
        {
          "output_type": "execute_result",
          "data": {
            "text/plain": [
              "88584"
            ]
          },
          "metadata": {},
          "execution_count": 4
        }
      ]
    },
    {
      "cell_type": "code",
      "source": [
        "# 리뷰 최대/평균 길이\n",
        "max(len(s) for s in X_train), sum(map(len, X_train)) / len(X_train)"
      ],
      "metadata": {
        "colab": {
          "base_uri": "https://localhost:8080/"
        },
        "id": "D2os0Q519n7u",
        "outputId": "8bb25cd4-3d71-4368-e9be-763370f63f6b"
      },
      "execution_count": 5,
      "outputs": [
        {
          "output_type": "execute_result",
          "data": {
            "text/plain": [
              "(2494, 238.71364)"
            ]
          },
          "metadata": {},
          "execution_count": 5
        }
      ]
    },
    {
      "cell_type": "markdown",
      "source": [
        "### LSTM으로 감성분석\n",
        "- 단어 빈도수: 10,000 (총 88,584)\n",
        "- 리뷰 단어수: 500\n",
        "- 데이터 갯수\n",
        "    - train: 25000, test: 15000, val: 10000개\n",
        "    - train: 20000, test: 5000, val: 20% (시간관계상 수업중)"
      ],
      "metadata": {
        "id": "KOFxyPdo-BZH"
      }
    },
    {
      "cell_type": "code",
      "source": [
        "from tensorflow.keras.models import Sequential, load_model\n",
        "from tensorflow.keras.layers import Embedding, LSTM, Dense\n",
        "from tensorflow.keras.callbacks import ModelCheckpoint, EarlyStopping\n",
        "from tensorflow.keras.preprocessing.sequence import pad_sequences\n",
        "from sklearn.model_selection import train_test_split"
      ],
      "metadata": {
        "id": "XclVHA3U95l2"
      },
      "execution_count": 6,
      "outputs": []
    },
    {
      "cell_type": "code",
      "source": [
        "num_words = 10000\n",
        "(X_train, y_train), (_, _) = imdb.load_data(num_words=num_words)"
      ],
      "metadata": {
        "id": "YnKBmx2q--r2"
      },
      "execution_count": 7,
      "outputs": []
    },
    {
      "cell_type": "code",
      "source": [
        "X_train, X_test, y_train, y_test = train_test_split(\n",
        "    X_train, y_train, stratify=y_train, test_size=0.2, random_state=seed\n",
        ")\n",
        "X_train.shape, X_test.shape, y_train.shape, y_test.shape"
      ],
      "metadata": {
        "colab": {
          "base_uri": "https://localhost:8080/"
        },
        "id": "bTi5nDVm_UG2",
        "outputId": "120838b8-17ae-4dea-8445-522f7f9ac5c0"
      },
      "execution_count": 8,
      "outputs": [
        {
          "output_type": "execute_result",
          "data": {
            "text/plain": [
              "((20000,), (5000,), (20000,), (5000,))"
            ]
          },
          "metadata": {},
          "execution_count": 8
        }
      ]
    },
    {
      "cell_type": "code",
      "source": [
        "max_len = 500\n",
        "X_train = pad_sequences(X_train, maxlen=max_len)\n",
        "X_test = pad_sequences(X_test, maxlen=max_len)\n",
        "X_train.shape, X_test.shape"
      ],
      "metadata": {
        "colab": {
          "base_uri": "https://localhost:8080/"
        },
        "id": "Of1--pMB_2Bg",
        "outputId": "44efb50c-870f-43c5-93ec-f73c6b973492"
      },
      "execution_count": 9,
      "outputs": [
        {
          "output_type": "execute_result",
          "data": {
            "text/plain": [
              "((20000, 500), (5000, 500))"
            ]
          },
          "metadata": {},
          "execution_count": 9
        }
      ]
    },
    {
      "cell_type": "markdown",
      "source": [
        "#### 모델\n",
        "- Embedding vector 차원: 100\n",
        "- LSTM unit 갯수: 128"
      ],
      "metadata": {
        "id": "k-D77BpDAb8_"
      }
    },
    {
      "cell_type": "code",
      "source": [
        "model = Sequential([ \n",
        "    Embedding(num_words, 100, input_length=max_len),\n",
        "    LSTM(128),\n",
        "    Dense(1, activation='sigmoid')\n",
        "])\n",
        "model.summary()"
      ],
      "metadata": {
        "colab": {
          "base_uri": "https://localhost:8080/"
        },
        "id": "elzuj4rXARiP",
        "outputId": "6702e8bf-b509-447e-8da1-022a38e9f39e"
      },
      "execution_count": 10,
      "outputs": [
        {
          "output_type": "stream",
          "name": "stdout",
          "text": [
            "Model: \"sequential\"\n",
            "_________________________________________________________________\n",
            " Layer (type)                Output Shape              Param #   \n",
            "=================================================================\n",
            " embedding (Embedding)       (None, 500, 100)          1000000   \n",
            "                                                                 \n",
            " lstm (LSTM)                 (None, 128)               117248    \n",
            "                                                                 \n",
            " dense (Dense)               (None, 1)                 129       \n",
            "                                                                 \n",
            "=================================================================\n",
            "Total params: 1,117,377\n",
            "Trainable params: 1,117,377\n",
            "Non-trainable params: 0\n",
            "_________________________________________________________________\n"
          ]
        }
      ]
    },
    {
      "cell_type": "code",
      "source": [
        "model.compile('adam', 'binary_crossentropy', ['accuracy'])"
      ],
      "metadata": {
        "id": "oC9TA9vBA_WY"
      },
      "execution_count": 11,
      "outputs": []
    },
    {
      "cell_type": "code",
      "source": [
        "model_path = 'best_model.h5'\n",
        "mc = ModelCheckpoint(model_path, verbose=1, save_best_only=True)\n",
        "es = EarlyStopping(patience=5)"
      ],
      "metadata": {
        "id": "R7TzWGqXBbrH"
      },
      "execution_count": 12,
      "outputs": []
    },
    {
      "cell_type": "code",
      "source": [
        "hist = model.fit(\n",
        "    X_train, y_train, validation_split=0.2,\n",
        "    epochs=30, batch_size=64, callbacks=[mc, es]\n",
        ")"
      ],
      "metadata": {
        "colab": {
          "base_uri": "https://localhost:8080/"
        },
        "id": "o06g8WPuBsyg",
        "outputId": "d4cadf05-34e0-4850-d8bb-5e95392a8db5"
      },
      "execution_count": 13,
      "outputs": [
        {
          "output_type": "stream",
          "name": "stdout",
          "text": [
            "Epoch 1/30\n",
            "249/250 [============================>.] - ETA: 0s - loss: 0.4856 - accuracy: 0.7614\n",
            "Epoch 1: val_loss improved from inf to 0.33873, saving model to best_model.h5\n",
            "250/250 [==============================] - 15s 36ms/step - loss: 0.4854 - accuracy: 0.7615 - val_loss: 0.3387 - val_accuracy: 0.8593\n",
            "Epoch 2/30\n",
            "250/250 [==============================] - ETA: 0s - loss: 0.2636 - accuracy: 0.8973\n",
            "Epoch 2: val_loss improved from 0.33873 to 0.33202, saving model to best_model.h5\n",
            "250/250 [==============================] - 8s 33ms/step - loss: 0.2636 - accuracy: 0.8973 - val_loss: 0.3320 - val_accuracy: 0.8620\n",
            "Epoch 3/30\n",
            "250/250 [==============================] - ETA: 0s - loss: 0.1708 - accuracy: 0.9386\n",
            "Epoch 3: val_loss did not improve from 0.33202\n",
            "250/250 [==============================] - 9s 35ms/step - loss: 0.1708 - accuracy: 0.9386 - val_loss: 0.3650 - val_accuracy: 0.8698\n",
            "Epoch 4/30\n",
            "249/250 [============================>.] - ETA: 0s - loss: 0.1130 - accuracy: 0.9615\n",
            "Epoch 4: val_loss did not improve from 0.33202\n",
            "250/250 [==============================] - 9s 35ms/step - loss: 0.1136 - accuracy: 0.9611 - val_loss: 0.4915 - val_accuracy: 0.8292\n",
            "Epoch 5/30\n",
            "249/250 [============================>.] - ETA: 0s - loss: 0.1153 - accuracy: 0.9578\n",
            "Epoch 5: val_loss did not improve from 0.33202\n",
            "250/250 [==============================] - 8s 32ms/step - loss: 0.1155 - accuracy: 0.9577 - val_loss: 0.4516 - val_accuracy: 0.8615\n",
            "Epoch 6/30\n",
            "249/250 [============================>.] - ETA: 0s - loss: 0.0895 - accuracy: 0.9667\n",
            "Epoch 6: val_loss did not improve from 0.33202\n",
            "250/250 [==============================] - 9s 35ms/step - loss: 0.0896 - accuracy: 0.9668 - val_loss: 0.4889 - val_accuracy: 0.8493\n",
            "Epoch 7/30\n",
            "249/250 [============================>.] - ETA: 0s - loss: 0.0686 - accuracy: 0.9779\n",
            "Epoch 7: val_loss did not improve from 0.33202\n",
            "250/250 [==============================] - 9s 35ms/step - loss: 0.0685 - accuracy: 0.9779 - val_loss: 0.5462 - val_accuracy: 0.8415\n"
          ]
        }
      ]
    },
    {
      "cell_type": "code",
      "source": [
        "best_model = load_model(model_path)\n",
        "best_model.evaluate(X_test, y_test)"
      ],
      "metadata": {
        "colab": {
          "base_uri": "https://localhost:8080/"
        },
        "id": "CVMkEkz1B_iQ",
        "outputId": "d1ba0b2f-b8dc-4f8a-8b13-0252211fb4c7"
      },
      "execution_count": 14,
      "outputs": [
        {
          "output_type": "stream",
          "name": "stdout",
          "text": [
            "157/157 [==============================] - 2s 12ms/step - loss: 0.3296 - accuracy: 0.8622\n"
          ]
        },
        {
          "output_type": "execute_result",
          "data": {
            "text/plain": [
              "[0.3295687139034271, 0.8622000217437744]"
            ]
          },
          "metadata": {},
          "execution_count": 14
        }
      ]
    },
    {
      "cell_type": "markdown",
      "source": [
        "#### Conv1D 로 학습"
      ],
      "metadata": {
        "id": "ab68H6FLC-p5"
      }
    },
    {
      "cell_type": "code",
      "source": [
        "from tensorflow.keras.layers import Conv1D, MaxPooling1D, GlobalMaxPooling1D, Dropout"
      ],
      "metadata": {
        "id": "PBDUw9wLCwqI"
      },
      "execution_count": 15,
      "outputs": []
    },
    {
      "cell_type": "code",
      "source": [
        "model2 = Sequential([ \n",
        "    Embedding(num_words, 100, input_length=max_len),\n",
        "    Dropout(0.5),\n",
        "    Conv1D(64, 7, activation='relu'),\n",
        "    MaxPooling1D(7),\n",
        "    Conv1D(64, 5, activation='relu'),\n",
        "    MaxPooling1D(5),\n",
        "    GlobalMaxPooling1D(),\n",
        "    Dense(1, 'sigmoid')\n",
        "])\n",
        "model2.summary()"
      ],
      "metadata": {
        "colab": {
          "base_uri": "https://localhost:8080/"
        },
        "id": "7KH1DMWQDiwx",
        "outputId": "55d93e52-3f60-453f-9879-fa8c173bcfed"
      },
      "execution_count": 16,
      "outputs": [
        {
          "output_type": "stream",
          "name": "stdout",
          "text": [
            "Model: \"sequential_1\"\n",
            "_________________________________________________________________\n",
            " Layer (type)                Output Shape              Param #   \n",
            "=================================================================\n",
            " embedding_1 (Embedding)     (None, 500, 100)          1000000   \n",
            "                                                                 \n",
            " dropout (Dropout)           (None, 500, 100)          0         \n",
            "                                                                 \n",
            " conv1d (Conv1D)             (None, 494, 64)           44864     \n",
            "                                                                 \n",
            " max_pooling1d (MaxPooling1D  (None, 70, 64)           0         \n",
            " )                                                               \n",
            "                                                                 \n",
            " conv1d_1 (Conv1D)           (None, 66, 64)            20544     \n",
            "                                                                 \n",
            " max_pooling1d_1 (MaxPooling  (None, 13, 64)           0         \n",
            " 1D)                                                             \n",
            "                                                                 \n",
            " global_max_pooling1d (Globa  (None, 64)               0         \n",
            " lMaxPooling1D)                                                  \n",
            "                                                                 \n",
            " dense_1 (Dense)             (None, 1)                 65        \n",
            "                                                                 \n",
            "=================================================================\n",
            "Total params: 1,065,473\n",
            "Trainable params: 1,065,473\n",
            "Non-trainable params: 0\n",
            "_________________________________________________________________\n"
          ]
        }
      ]
    },
    {
      "cell_type": "code",
      "source": [
        "model2.compile('adam', 'binary_crossentropy', ['accuracy'])\n",
        "model2_path = 'best_model2.h5'\n",
        "mc2 = ModelCheckpoint(model2_path, verbose=1, save_best_only=True)\n",
        "es2 = EarlyStopping(patience=5)"
      ],
      "metadata": {
        "id": "T8m3joDrESeS"
      },
      "execution_count": 17,
      "outputs": []
    },
    {
      "cell_type": "code",
      "source": [
        "hist2 = model2.fit(\n",
        "    X_train, y_train, validation_split=0.2,\n",
        "    epochs=30, batch_size=64, callbacks=[mc2, es2]\n",
        ")"
      ],
      "metadata": {
        "colab": {
          "base_uri": "https://localhost:8080/"
        },
        "id": "f_BpRWEcEgmp",
        "outputId": "f947c84f-4738-4b19-8e88-4582bc2f7e66"
      },
      "execution_count": 18,
      "outputs": [
        {
          "output_type": "stream",
          "name": "stdout",
          "text": [
            "Epoch 1/30\n",
            "245/250 [============================>.] - ETA: 0s - loss: 0.5558 - accuracy: 0.6777\n",
            "Epoch 1: val_loss improved from inf to 0.34284, saving model to best_model2.h5\n",
            "250/250 [==============================] - 7s 10ms/step - loss: 0.5524 - accuracy: 0.6808 - val_loss: 0.3428 - val_accuracy: 0.8495\n",
            "Epoch 2/30\n",
            "244/250 [============================>.] - ETA: 0s - loss: 0.2835 - accuracy: 0.8852\n",
            "Epoch 2: val_loss improved from 0.34284 to 0.31695, saving model to best_model2.h5\n",
            "250/250 [==============================] - 2s 9ms/step - loss: 0.2842 - accuracy: 0.8849 - val_loss: 0.3170 - val_accuracy: 0.8608\n",
            "Epoch 3/30\n",
            "248/250 [============================>.] - ETA: 0s - loss: 0.1937 - accuracy: 0.9274\n",
            "Epoch 3: val_loss did not improve from 0.31695\n",
            "250/250 [==============================] - 2s 9ms/step - loss: 0.1940 - accuracy: 0.9274 - val_loss: 0.3363 - val_accuracy: 0.8595\n",
            "Epoch 4/30\n",
            "248/250 [============================>.] - ETA: 0s - loss: 0.1310 - accuracy: 0.9544\n",
            "Epoch 4: val_loss did not improve from 0.31695\n",
            "250/250 [==============================] - 2s 10ms/step - loss: 0.1308 - accuracy: 0.9546 - val_loss: 0.3844 - val_accuracy: 0.8580\n",
            "Epoch 5/30\n",
            "249/250 [============================>.] - ETA: 0s - loss: 0.0920 - accuracy: 0.9672\n",
            "Epoch 5: val_loss did not improve from 0.31695\n",
            "250/250 [==============================] - 2s 10ms/step - loss: 0.0920 - accuracy: 0.9672 - val_loss: 0.4396 - val_accuracy: 0.8543\n",
            "Epoch 6/30\n",
            "248/250 [============================>.] - ETA: 0s - loss: 0.0613 - accuracy: 0.9789\n",
            "Epoch 6: val_loss did not improve from 0.31695\n",
            "250/250 [==============================] - 2s 9ms/step - loss: 0.0612 - accuracy: 0.9789 - val_loss: 0.5240 - val_accuracy: 0.8508\n",
            "Epoch 7/30\n",
            "247/250 [============================>.] - ETA: 0s - loss: 0.0439 - accuracy: 0.9855\n",
            "Epoch 7: val_loss did not improve from 0.31695\n",
            "250/250 [==============================] - 2s 9ms/step - loss: 0.0439 - accuracy: 0.9855 - val_loss: 0.6546 - val_accuracy: 0.8445\n"
          ]
        }
      ]
    },
    {
      "cell_type": "code",
      "source": [
        "best_model2 = load_model(model2_path)\n",
        "best_model2.evaluate(X_test, y_test)"
      ],
      "metadata": {
        "colab": {
          "base_uri": "https://localhost:8080/"
        },
        "id": "hNOfDC_zEn3J",
        "outputId": "bef9a2a0-b9b3-4f6b-8d5f-0a23807f9c83"
      },
      "execution_count": 19,
      "outputs": [
        {
          "output_type": "stream",
          "name": "stdout",
          "text": [
            "157/157 [==============================] - 1s 3ms/step - loss: 0.3136 - accuracy: 0.8654\n"
          ]
        },
        {
          "output_type": "execute_result",
          "data": {
            "text/plain": [
              "[0.31364983320236206, 0.8654000163078308]"
            ]
          },
          "metadata": {},
          "execution_count": 19
        }
      ]
    },
    {
      "cell_type": "markdown",
      "source": [
        "#### Conv1D + LSTM"
      ],
      "metadata": {
        "id": "LvXQ7QqaFGUT"
      }
    },
    {
      "cell_type": "code",
      "source": [
        "model3 = Sequential([ \n",
        "    Embedding(num_words, 100, input_length=max_len),\n",
        "    Dropout(0.5),\n",
        "    Conv1D(64, 5, activation='relu'),\n",
        "    MaxPooling1D(5),\n",
        "    LSTM(100),\n",
        "    Dense(1, 'sigmoid')\n",
        "])\n",
        "model3.summary()"
      ],
      "metadata": {
        "colab": {
          "base_uri": "https://localhost:8080/"
        },
        "id": "WIjAeCfFE7D5",
        "outputId": "b805896e-6954-4071-a980-75a314fdb7ce"
      },
      "execution_count": 20,
      "outputs": [
        {
          "output_type": "stream",
          "name": "stdout",
          "text": [
            "Model: \"sequential_2\"\n",
            "_________________________________________________________________\n",
            " Layer (type)                Output Shape              Param #   \n",
            "=================================================================\n",
            " embedding_2 (Embedding)     (None, 500, 100)          1000000   \n",
            "                                                                 \n",
            " dropout_1 (Dropout)         (None, 500, 100)          0         \n",
            "                                                                 \n",
            " conv1d_2 (Conv1D)           (None, 496, 64)           32064     \n",
            "                                                                 \n",
            " max_pooling1d_2 (MaxPooling  (None, 99, 64)           0         \n",
            " 1D)                                                             \n",
            "                                                                 \n",
            " lstm_1 (LSTM)               (None, 100)               66000     \n",
            "                                                                 \n",
            " dense_2 (Dense)             (None, 1)                 101       \n",
            "                                                                 \n",
            "=================================================================\n",
            "Total params: 1,098,165\n",
            "Trainable params: 1,098,165\n",
            "Non-trainable params: 0\n",
            "_________________________________________________________________\n"
          ]
        }
      ]
    },
    {
      "cell_type": "code",
      "source": [
        "model3.compile('adam', 'binary_crossentropy', ['accuracy'])\n",
        "model3_path = 'best_model3.h5'\n",
        "mc3 = ModelCheckpoint(model3_path, verbose=1, save_best_only=True)\n",
        "es3 = EarlyStopping(patience=5)"
      ],
      "metadata": {
        "id": "lT9-KIZIFgG5"
      },
      "execution_count": 21,
      "outputs": []
    },
    {
      "cell_type": "code",
      "source": [
        "hist3 = model3.fit(\n",
        "    X_train, y_train, validation_split=0.2,\n",
        "    epochs=30, batch_size=64, callbacks=[mc3, es3]\n",
        ")"
      ],
      "metadata": {
        "colab": {
          "base_uri": "https://localhost:8080/"
        },
        "id": "1WWrMRQCFowx",
        "outputId": "5b4bb352-1032-4102-c2c9-c994e07d5ca8"
      },
      "execution_count": 22,
      "outputs": [
        {
          "output_type": "stream",
          "name": "stdout",
          "text": [
            "Epoch 1/30\n",
            "248/250 [============================>.] - ETA: 0s - loss: 0.4719 - accuracy: 0.7597\n",
            "Epoch 1: val_loss improved from inf to 0.29699, saving model to best_model3.h5\n",
            "250/250 [==============================] - 6s 17ms/step - loss: 0.4708 - accuracy: 0.7604 - val_loss: 0.2970 - val_accuracy: 0.8788\n",
            "Epoch 2/30\n",
            "250/250 [==============================] - ETA: 0s - loss: 0.2271 - accuracy: 0.9131\n",
            "Epoch 2: val_loss improved from 0.29699 to 0.28146, saving model to best_model3.h5\n",
            "250/250 [==============================] - 3s 14ms/step - loss: 0.2271 - accuracy: 0.9131 - val_loss: 0.2815 - val_accuracy: 0.8840\n",
            "Epoch 3/30\n",
            "250/250 [==============================] - ETA: 0s - loss: 0.1601 - accuracy: 0.9429\n",
            "Epoch 3: val_loss did not improve from 0.28146\n",
            "250/250 [==============================] - 3s 13ms/step - loss: 0.1601 - accuracy: 0.9429 - val_loss: 0.3032 - val_accuracy: 0.8855\n",
            "Epoch 4/30\n",
            "248/250 [============================>.] - ETA: 0s - loss: 0.1085 - accuracy: 0.9631\n",
            "Epoch 4: val_loss did not improve from 0.28146\n",
            "250/250 [==============================] - 3s 13ms/step - loss: 0.1084 - accuracy: 0.9632 - val_loss: 0.3356 - val_accuracy: 0.8670\n",
            "Epoch 5/30\n",
            "250/250 [==============================] - ETA: 0s - loss: 0.0842 - accuracy: 0.9715\n",
            "Epoch 5: val_loss did not improve from 0.28146\n",
            "250/250 [==============================] - 4s 15ms/step - loss: 0.0842 - accuracy: 0.9715 - val_loss: 0.3857 - val_accuracy: 0.8692\n",
            "Epoch 6/30\n",
            "250/250 [==============================] - ETA: 0s - loss: 0.0570 - accuracy: 0.9819\n",
            "Epoch 6: val_loss did not improve from 0.28146\n",
            "250/250 [==============================] - 3s 13ms/step - loss: 0.0570 - accuracy: 0.9819 - val_loss: 0.4086 - val_accuracy: 0.8780\n",
            "Epoch 7/30\n",
            "250/250 [==============================] - ETA: 0s - loss: 0.0428 - accuracy: 0.9864\n",
            "Epoch 7: val_loss did not improve from 0.28146\n",
            "250/250 [==============================] - 3s 13ms/step - loss: 0.0428 - accuracy: 0.9864 - val_loss: 0.5904 - val_accuracy: 0.8583\n"
          ]
        }
      ]
    },
    {
      "cell_type": "code",
      "source": [
        "best_model3 = load_model(model3_path)\n",
        "best_model3.evaluate(X_test, y_test)"
      ],
      "metadata": {
        "colab": {
          "base_uri": "https://localhost:8080/"
        },
        "id": "-Ut1pyCKFzP7",
        "outputId": "8fde7644-4e86-4b71-985d-3e1bd2ca60f5"
      },
      "execution_count": 23,
      "outputs": [
        {
          "output_type": "stream",
          "name": "stdout",
          "text": [
            "157/157 [==============================] - 1s 5ms/step - loss: 0.2775 - accuracy: 0.8816\n"
          ]
        },
        {
          "output_type": "execute_result",
          "data": {
            "text/plain": [
              "[0.27746376395225525, 0.881600022315979]"
            ]
          },
          "metadata": {},
          "execution_count": 23
        }
      ]
    },
    {
      "cell_type": "code",
      "source": [],
      "metadata": {
        "id": "QZHB2gHfGAYJ"
      },
      "execution_count": null,
      "outputs": []
    }
  ]
}